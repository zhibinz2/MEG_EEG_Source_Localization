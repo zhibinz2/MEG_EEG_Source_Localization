{
 "cells": [
  {
   "cell_type": "code",
   "execution_count": 1,
   "metadata": {},
   "outputs": [],
   "source": [
    "from hdf5storage import loadmat, savemat \n",
    "import numpy as np \n",
    "import networkx as nx"
   ]
  },
  {
   "cell_type": "code",
   "execution_count": 31,
   "metadata": {},
   "outputs": [],
   "source": [
    "# load coh or pcoh\n",
    "# dict=loadmat('../../Cleaned_data/hilbert_datacov/Pcoh_boolean.mat')\n",
    "outdict=loadmat('../../Cleaned_data/hilbert_datacov/coh_all.mat')"
   ]
  },
  {
   "cell_type": "code",
   "execution_count": 5,
   "metadata": {},
   "outputs": [
    {
     "data": {
      "text/plain": [
       "(12, 2, 12, 5, 448, 448)"
      ]
     },
     "execution_count": 5,
     "metadata": {},
     "output_type": "execute_result"
    }
   ],
   "source": [
    "np.shape(dict['Pcoh_boolean'])"
   ]
  },
  {
   "cell_type": "code",
   "execution_count": 6,
   "metadata": {},
   "outputs": [],
   "source": [
    "Pcoh_boolean=dict['Pcoh_boolean']"
   ]
  },
  {
   "cell_type": "code",
   "execution_count": 32,
   "metadata": {},
   "outputs": [],
   "source": [
    "coh_all=dict['coh_all']"
   ]
  },
  {
   "cell_type": "code",
   "execution_count": 43,
   "metadata": {},
   "outputs": [],
   "source": [
    "dg_ctr_all=np.zeros((12,2,12,5,448))\n",
    "for ses in range(12):\n",
    "    for subj in range(2):\n",
    "        for tr in range(12):\n",
    "            for freq in range(5):\n",
    "                G= nx.from_numpy_array(Pcoh_boolean[ses][subj][tr,freq,:,:])\n",
    "                dg_ctr=nx.degree_centrality(G)\n",
    "                dg_ctr_all[ses,subj,tr,freq,:]=np.array(list(dg_ctr.values()))\n",
    "# 34 s\n"
   ]
  },
  {
   "cell_type": "code",
   "execution_count": 49,
   "metadata": {},
   "outputs": [],
   "source": [
    "outdict=dict()\n",
    "outdict['dg_ctr_all']=dg_ctr_all\n",
    "savemat('dg_ctr_all.mat',outdict)"
   ]
  }
 ],
 "metadata": {
  "kernelspec": {
   "display_name": "eeg",
   "language": "python",
   "name": "python3"
  },
  "language_info": {
   "codemirror_mode": {
    "name": "ipython",
    "version": 3
   },
   "file_extension": ".py",
   "mimetype": "text/x-python",
   "name": "python",
   "nbconvert_exporter": "python",
   "pygments_lexer": "ipython3",
   "version": "3.9.13"
  },
  "orig_nbformat": 4
 },
 "nbformat": 4,
 "nbformat_minor": 2
}
