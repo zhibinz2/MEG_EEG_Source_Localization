{
 "cells": [
  {
   "cell_type": "code",
   "execution_count": 1,
   "metadata": {},
   "outputs": [],
   "source": [
    "import numpy as np\n",
    "import mne\n",
    "\n",
    "from hdf5storage import loadmat, savemat "
   ]
  },
  {
   "cell_type": "code",
   "execution_count": 2,
   "metadata": {},
   "outputs": [
    {
     "data": {
      "text/plain": [
       "dict_keys(['__header__', '__version__', '__globals__', 'Fs', 'badchan', 'goodchan', 'mixedsig'])"
      ]
     },
     "execution_count": 2,
     "metadata": {},
     "output_type": "execute_result"
    }
   ],
   "source": [
    "outdict=loadmat('../test_scripts/EEG_processing/DAON/icadata.mat')\n",
    "outdict.keys()\n"
   ]
  },
  {
   "cell_type": "code",
   "execution_count": 3,
   "metadata": {},
   "outputs": [],
   "source": [
    "mixedsig=outdict['mixedsig']*0.000001\n",
    "Fs=outdict['Fs'][0]\n",
    "badchan=outdict['badchan'][0]-1\n",
    "goodchan=outdict['goodchan'][0]-1"
   ]
  },
  {
   "cell_type": "code",
   "execution_count": 4,
   "metadata": {},
   "outputs": [
    {
     "data": {
      "text/plain": [
       "dict_keys(['__header__', '__version__', '__globals__', 'good_labels'])"
      ]
     },
     "execution_count": 4,
     "metadata": {},
     "output_type": "execute_result"
    }
   ],
   "source": [
    "outdict=loadmat('../test_scripts/EEG_processing/DAON/good_labels.mat')\n",
    "outdict.keys()"
   ]
  },
  {
   "cell_type": "code",
   "execution_count": 5,
   "metadata": {},
   "outputs": [],
   "source": [
    "good_labels=outdict['good_labels']"
   ]
  },
  {
   "cell_type": "code",
   "execution_count": 6,
   "metadata": {},
   "outputs": [],
   "source": [
    "good_labels=good_labels[:]"
   ]
  },
  {
   "cell_type": "code",
   "execution_count": 7,
   "metadata": {},
   "outputs": [
    {
     "data": {
      "text/plain": [
       "dict_keys(['__header__', '__version__', '__globals__', 'ch_labels'])"
      ]
     },
     "execution_count": 7,
     "metadata": {},
     "output_type": "execute_result"
    }
   ],
   "source": [
    "outdict=loadmat('../test_scripts/EEG_processing/DAON/ch_labels.mat')\n",
    "outdict.keys()"
   ]
  },
  {
   "cell_type": "code",
   "execution_count": 8,
   "metadata": {},
   "outputs": [],
   "source": [
    "ch_labels=outdict['ch_labels']"
   ]
  },
  {
   "cell_type": "code",
   "execution_count": 9,
   "metadata": {},
   "outputs": [],
   "source": [
    "# n_channels = np.shape(mixedsig)[0]\n",
    "n_channels=256\n"
   ]
  },
  {
   "cell_type": "code",
   "execution_count": 10,
   "metadata": {},
   "outputs": [],
   "source": [
    "sampling_freq = Fs  # in Hertz\n"
   ]
  },
  {
   "cell_type": "code",
   "execution_count": 11,
   "metadata": {},
   "outputs": [
    {
     "name": "stdout",
     "output_type": "stream",
     "text": [
      "<Info | 7 non-empty values\n",
      " bads: []\n",
      " ch_names: 0, 1, 2, 3, 4, 5, 6, 7, 8, 9, 10, 11, 12, 13, 14, 15, 16, 17, ...\n",
      " chs: 256 misc\n",
      " custom_ref_applied: False\n",
      " highpass: 0.0 Hz\n",
      " lowpass: 500.0 Hz\n",
      " meas_date: unspecified\n",
      " nchan: 256\n",
      " projs: []\n",
      " sfreq: 1000.0 Hz\n",
      ">\n"
     ]
    }
   ],
   "source": [
    "info = mne.create_info(n_channels, sfreq=sampling_freq)\n",
    "print(info)"
   ]
  },
  {
   "cell_type": "code",
   "execution_count": 12,
   "metadata": {},
   "outputs": [],
   "source": [
    "# ch_names=list()\n",
    "# for i in range(n_channels):\n",
    "#     ch_names.append(np.array2string(ch_labels[i][0]))\n",
    "ch_names = [f\"E{n}\" for n in range(1, 257)]\n",
    "ch_types = [\"eeg\"] * n_channels"
   ]
  },
  {
   "cell_type": "code",
   "execution_count": 13,
   "metadata": {},
   "outputs": [],
   "source": [
    "# np.array2string(*good_labels[i])"
   ]
  },
  {
   "cell_type": "code",
   "execution_count": 14,
   "metadata": {},
   "outputs": [
    {
     "data": {
      "text/plain": [
       "['E1',\n",
       " 'E2',\n",
       " 'E3',\n",
       " 'E4',\n",
       " 'E5',\n",
       " 'E6',\n",
       " 'E7',\n",
       " 'E8',\n",
       " 'E9',\n",
       " 'E10',\n",
       " 'E11',\n",
       " 'E12',\n",
       " 'E13',\n",
       " 'E14',\n",
       " 'E15',\n",
       " 'E16',\n",
       " 'E17',\n",
       " 'E18',\n",
       " 'E19',\n",
       " 'E20',\n",
       " 'E21',\n",
       " 'E22',\n",
       " 'E23',\n",
       " 'E24',\n",
       " 'E25',\n",
       " 'E26',\n",
       " 'E27',\n",
       " 'E28',\n",
       " 'E29',\n",
       " 'E30',\n",
       " 'E31',\n",
       " 'E32',\n",
       " 'E33',\n",
       " 'E34',\n",
       " 'E35',\n",
       " 'E36',\n",
       " 'E37',\n",
       " 'E38',\n",
       " 'E39',\n",
       " 'E40',\n",
       " 'E41',\n",
       " 'E42',\n",
       " 'E43',\n",
       " 'E44',\n",
       " 'E45',\n",
       " 'E46',\n",
       " 'E47',\n",
       " 'E48',\n",
       " 'E49',\n",
       " 'E50',\n",
       " 'E51',\n",
       " 'E52',\n",
       " 'E53',\n",
       " 'E54',\n",
       " 'E55',\n",
       " 'E56',\n",
       " 'E57',\n",
       " 'E58',\n",
       " 'E59',\n",
       " 'E60',\n",
       " 'E61',\n",
       " 'E62',\n",
       " 'E63',\n",
       " 'E64',\n",
       " 'E65',\n",
       " 'E66',\n",
       " 'E67',\n",
       " 'E68',\n",
       " 'E69',\n",
       " 'E70',\n",
       " 'E71',\n",
       " 'E72',\n",
       " 'E73',\n",
       " 'E74',\n",
       " 'E75',\n",
       " 'E76',\n",
       " 'E77',\n",
       " 'E78',\n",
       " 'E79',\n",
       " 'E80',\n",
       " 'E81',\n",
       " 'E82',\n",
       " 'E83',\n",
       " 'E84',\n",
       " 'E85',\n",
       " 'E86',\n",
       " 'E87',\n",
       " 'E88',\n",
       " 'E89',\n",
       " 'E90',\n",
       " 'E91',\n",
       " 'E92',\n",
       " 'E93',\n",
       " 'E94',\n",
       " 'E95',\n",
       " 'E96',\n",
       " 'E97',\n",
       " 'E98',\n",
       " 'E99',\n",
       " 'E100',\n",
       " 'E101',\n",
       " 'E102',\n",
       " 'E103',\n",
       " 'E104',\n",
       " 'E105',\n",
       " 'E106',\n",
       " 'E107',\n",
       " 'E108',\n",
       " 'E109',\n",
       " 'E110',\n",
       " 'E111',\n",
       " 'E112',\n",
       " 'E113',\n",
       " 'E114',\n",
       " 'E115',\n",
       " 'E116',\n",
       " 'E117',\n",
       " 'E118',\n",
       " 'E119',\n",
       " 'E120',\n",
       " 'E121',\n",
       " 'E122',\n",
       " 'E123',\n",
       " 'E124',\n",
       " 'E125',\n",
       " 'E126',\n",
       " 'E127',\n",
       " 'E128',\n",
       " 'E129',\n",
       " 'E130',\n",
       " 'E131',\n",
       " 'E132',\n",
       " 'E133',\n",
       " 'E134',\n",
       " 'E135',\n",
       " 'E136',\n",
       " 'E137',\n",
       " 'E138',\n",
       " 'E139',\n",
       " 'E140',\n",
       " 'E141',\n",
       " 'E142',\n",
       " 'E143',\n",
       " 'E144',\n",
       " 'E145',\n",
       " 'E146',\n",
       " 'E147',\n",
       " 'E148',\n",
       " 'E149',\n",
       " 'E150',\n",
       " 'E151',\n",
       " 'E152',\n",
       " 'E153',\n",
       " 'E154',\n",
       " 'E155',\n",
       " 'E156',\n",
       " 'E157',\n",
       " 'E158',\n",
       " 'E159',\n",
       " 'E160',\n",
       " 'E161',\n",
       " 'E162',\n",
       " 'E163',\n",
       " 'E164',\n",
       " 'E165',\n",
       " 'E166',\n",
       " 'E167',\n",
       " 'E168',\n",
       " 'E169',\n",
       " 'E170',\n",
       " 'E171',\n",
       " 'E172',\n",
       " 'E173',\n",
       " 'E174',\n",
       " 'E175',\n",
       " 'E176',\n",
       " 'E177',\n",
       " 'E178',\n",
       " 'E179',\n",
       " 'E180',\n",
       " 'E181',\n",
       " 'E182',\n",
       " 'E183',\n",
       " 'E184',\n",
       " 'E185',\n",
       " 'E186',\n",
       " 'E187',\n",
       " 'E188',\n",
       " 'E189',\n",
       " 'E190',\n",
       " 'E191',\n",
       " 'E192',\n",
       " 'E193',\n",
       " 'E194',\n",
       " 'E195',\n",
       " 'E196',\n",
       " 'E197',\n",
       " 'E198',\n",
       " 'E199',\n",
       " 'E200',\n",
       " 'E201',\n",
       " 'E202',\n",
       " 'E203',\n",
       " 'E204',\n",
       " 'E205',\n",
       " 'E206',\n",
       " 'E207',\n",
       " 'E208',\n",
       " 'E209',\n",
       " 'E210',\n",
       " 'E211',\n",
       " 'E212',\n",
       " 'E213',\n",
       " 'E214',\n",
       " 'E215',\n",
       " 'E216',\n",
       " 'E217',\n",
       " 'E218',\n",
       " 'E219',\n",
       " 'E220',\n",
       " 'E221',\n",
       " 'E222',\n",
       " 'E223',\n",
       " 'E224',\n",
       " 'E225',\n",
       " 'E226',\n",
       " 'E227',\n",
       " 'E228',\n",
       " 'E229',\n",
       " 'E230',\n",
       " 'E231',\n",
       " 'E232',\n",
       " 'E233',\n",
       " 'E234',\n",
       " 'E235',\n",
       " 'E236',\n",
       " 'E237',\n",
       " 'E238',\n",
       " 'E239',\n",
       " 'E240',\n",
       " 'E241',\n",
       " 'E242',\n",
       " 'E243',\n",
       " 'E244',\n",
       " 'E245',\n",
       " 'E246',\n",
       " 'E247',\n",
       " 'E248',\n",
       " 'E249',\n",
       " 'E250',\n",
       " 'E251',\n",
       " 'E252',\n",
       " 'E253',\n",
       " 'E254',\n",
       " 'E255',\n",
       " 'E256']"
      ]
     },
     "execution_count": 14,
     "metadata": {},
     "output_type": "execute_result"
    }
   ],
   "source": [
    "ch_names"
   ]
  },
  {
   "cell_type": "code",
   "execution_count": 15,
   "metadata": {},
   "outputs": [],
   "source": [
    "# good_labels[i]"
   ]
  },
  {
   "cell_type": "code",
   "execution_count": 16,
   "metadata": {},
   "outputs": [],
   "source": [
    "info = mne.create_info(ch_names, ch_types=ch_types, sfreq=sampling_freq)\n"
   ]
  },
  {
   "cell_type": "code",
   "execution_count": 17,
   "metadata": {},
   "outputs": [
    {
     "name": "stdout",
     "output_type": "stream",
     "text": [
      "<Info | 8 non-empty values\n",
      " bads: []\n",
      " ch_names: E1, E2, E3, E4, E5, E6, E7, E8, E9, E10, E11, E12, E13, E14, ...\n",
      " chs: 256 EEG\n",
      " custom_ref_applied: False\n",
      " dig: 259 items (3 Cardinal, 256 EEG)\n",
      " highpass: 0.0 Hz\n",
      " lowpass: 500.0 Hz\n",
      " meas_date: unspecified\n",
      " nchan: 256\n",
      " projs: []\n",
      " sfreq: 1000.0 Hz\n",
      ">\n"
     ]
    }
   ],
   "source": [
    "# info.set_montage(\"GSN-HydroCel-256\",match_case=False,match_alias=False,on_missing='raise')\n",
    "info.set_montage(\"GSN-HydroCel-256\",match_case=False,match_alias=False,on_missing='raise')\n",
    "print(info)"
   ]
  },
  {
   "cell_type": "code",
   "execution_count": 18,
   "metadata": {},
   "outputs": [
    {
     "data": {
      "text/plain": [
       "[<DigPoint |        LPA : (-77.5, 0.0, 0.0) mm      : head frame>,\n",
       " <DigPoint |     Nasion : (0.0, 101.5, -0.0) mm     : head frame>,\n",
       " <DigPoint |        RPA : (77.5, 0.0, 0.0) mm       : head frame>,\n",
       " <DigPoint |     EEG #1 : (68.9, 50.7, 7.2) mm      : head frame>,\n",
       " <DigPoint |     EEG #2 : (64.2, 64.1, 25.5) mm     : head frame>,\n",
       " <DigPoint |     EEG #3 : (56.4, 75.1, 43.0) mm     : head frame>,\n",
       " <DigPoint |     EEG #4 : (47.6, 83.7, 60.3) mm     : head frame>,\n",
       " <DigPoint |     EEG #5 : (35.8, 83.9, 78.9) mm     : head frame>,\n",
       " <DigPoint |     EEG #6 : (22.3, 76.3, 94.8) mm     : head frame>,\n",
       " <DigPoint |     EEG #7 : (11.8, 66.1, 108.2) mm    : head frame>,\n",
       " <DigPoint |     EEG #8 : (0.0, 51.3, 116.9) mm     : head frame>,\n",
       " <DigPoint |     EEG #9 : (-11.4, 31.7, 124.7) mm   : head frame>,\n",
       " <DigPoint |    EEG #10 : (58.8, 71.3, 10.5) mm     : head frame>,\n",
       " <DigPoint |    EEG #11 : (50.3, 84.2, 27.6) mm     : head frame>,\n",
       " <DigPoint |    EEG #12 : (38.4, 94.1, 47.1) mm     : head frame>,\n",
       " <DigPoint |    EEG #13 : (25.8, 96.7, 65.5) mm     : head frame>,\n",
       " <DigPoint |    EEG #14 : (12.2, 91.0, 83.2) mm     : head frame>,\n",
       " <DigPoint |    EEG #15 : (0.0, 80.3, 97.3) mm      : head frame>,\n",
       " <DigPoint |    EEG #16 : (-11.8, 66.1, 108.2) mm   : head frame>,\n",
       " <DigPoint |    EEG #17 : (-22.7, 44.3, 116.2) mm   : head frame>,\n",
       " <DigPoint |    EEG #18 : (40.2, 92.1, 13.2) mm     : head frame>,\n",
       " <DigPoint |    EEG #19 : (28.4, 100.9, 29.2) mm    : head frame>,\n",
       " <DigPoint |    EEG #20 : (14.1, 104.7, 48.6) mm    : head frame>,\n",
       " <DigPoint |    EEG #21 : (0.0, 101.2, 67.4) mm     : head frame>,\n",
       " <DigPoint |    EEG #22 : (-12.2, 91.0, 83.2) mm    : head frame>,\n",
       " <DigPoint |    EEG #23 : (-22.3, 76.3, 94.8) mm    : head frame>,\n",
       " <DigPoint |    EEG #24 : (-33.1, 57.5, 105.1) mm   : head frame>,\n",
       " <DigPoint |    EEG #25 : (13.8, 104.7, 13.9) mm    : head frame>,\n",
       " <DigPoint |    EEG #26 : (0.0, 107.8, 29.6) mm     : head frame>,\n",
       " <DigPoint |    EEG #27 : (-14.1, 104.7, 48.6) mm   : head frame>,\n",
       " <DigPoint |    EEG #28 : (-25.8, 96.7, 65.5) mm    : head frame>,\n",
       " <DigPoint |    EEG #29 : (-35.8, 83.9, 78.9) mm    : head frame>,\n",
       " <DigPoint |    EEG #30 : (-44.5, 66.8, 89.6) mm    : head frame>,\n",
       " <DigPoint |    EEG #31 : (0.0, 101.5, -0.0) mm     : head frame>,\n",
       " <DigPoint |    EEG #32 : (-13.8, 104.7, 13.9) mm   : head frame>,\n",
       " <DigPoint |    EEG #33 : (-28.4, 100.9, 29.2) mm   : head frame>,\n",
       " <DigPoint |    EEG #34 : (-38.4, 94.1, 47.1) mm    : head frame>,\n",
       " <DigPoint |    EEG #35 : (-47.6, 83.7, 60.3) mm    : head frame>,\n",
       " <DigPoint |    EEG #36 : (-50.5, 72.3, 73.5) mm    : head frame>,\n",
       " <DigPoint |    EEG #37 : (-40.2, 92.1, 13.2) mm    : head frame>,\n",
       " <DigPoint |    EEG #38 : (-50.3, 84.2, 27.6) mm    : head frame>,\n",
       " <DigPoint |    EEG #39 : (-56.4, 75.1, 43.0) mm    : head frame>,\n",
       " <DigPoint |    EEG #40 : (-61.1, 66.9, 59.5) mm    : head frame>,\n",
       " <DigPoint |    EEG #41 : (-59.5, 58.0, 76.7) mm    : head frame>,\n",
       " <DigPoint |    EEG #42 : (-52.9, 49.3, 92.9) mm    : head frame>,\n",
       " <DigPoint |    EEG #43 : (-45.9, 39.3, 106.5) mm   : head frame>,\n",
       " <DigPoint |    EEG #44 : (-35.0, 26.2, 118.4) mm   : head frame>,\n",
       " <DigPoint |    EEG #45 : (-19.7, 11.2, 129.1) mm   : head frame>,\n",
       " <DigPoint |    EEG #46 : (-58.8, 71.3, 10.5) mm    : head frame>,\n",
       " <DigPoint |    EEG #47 : (-64.2, 64.1, 25.5) mm    : head frame>,\n",
       " <DigPoint |    EEG #48 : (-69.1, 56.2, 41.4) mm    : head frame>,\n",
       " <DigPoint |    EEG #49 : (-70.3, 47.9, 59.0) mm    : head frame>,\n",
       " <DigPoint |    EEG #50 : (-68.0, 40.5, 78.8) mm    : head frame>,\n",
       " <DigPoint |    EEG #51 : (-60.5, 31.0, 95.1) mm    : head frame>,\n",
       " <DigPoint |    EEG #52 : (-52.6, 20.0, 109.6) mm   : head frame>,\n",
       " <DigPoint |    EEG #53 : (-36.9, 4.8, 123.2) mm    : head frame>,\n",
       " <DigPoint |    EEG #54 : (-68.9, 50.7, 7.2) mm     : head frame>,\n",
       " <DigPoint |    EEG #55 : (-72.4, 43.4, 24.3) mm    : head frame>,\n",
       " <DigPoint |    EEG #56 : (-75.9, 35.7, 42.2) mm    : head frame>,\n",
       " <DigPoint |    EEG #57 : (-75.5, 28.9, 61.2) mm    : head frame>,\n",
       " <DigPoint |    EEG #58 : (-72.9, 22.5, 80.2) mm    : head frame>,\n",
       " <DigPoint |    EEG #59 : (-66.4, 12.7, 98.3) mm    : head frame>,\n",
       " <DigPoint |    EEG #60 : (-53.5, -1.6, 113.1) mm   : head frame>,\n",
       " <DigPoint |    EEG #61 : (-74.7, 27.4, 7.8) mm     : head frame>,\n",
       " <DigPoint |    EEG #62 : (-76.9, 20.6, 26.2) mm    : head frame>,\n",
       " <DigPoint |    EEG #63 : (-78.9, 15.2, 45.0) mm    : head frame>,\n",
       " <DigPoint |    EEG #64 : (-79.8, 10.3, 64.0) mm    : head frame>,\n",
       " <DigPoint |    EEG #65 : (-75.3, 3.8, 83.3) mm     : head frame>,\n",
       " <DigPoint |    EEG #66 : (-67.5, -7.4, 98.6) mm    : head frame>,\n",
       " <DigPoint |    EEG #67 : (-76.2, 11.9, -6.2) mm    : head frame>,\n",
       " <DigPoint |    EEG #68 : (-76.7, 8.0, 11.6) mm     : head frame>,\n",
       " <DigPoint |    EEG #69 : (-78.6, 0.9, 27.9) mm     : head frame>,\n",
       " <DigPoint |    EEG #70 : (-79.1, -4.2, 46.9) mm    : head frame>,\n",
       " <DigPoint |    EEG #71 : (-79.8, -8.3, 66.9) mm    : head frame>,\n",
       " <DigPoint |    EEG #72 : (-74.9, -13.7, 83.3) mm   : head frame>,\n",
       " <DigPoint |    EEG #73 : (-74.5, -0.9, -21.9) mm   : head frame>,\n",
       " <DigPoint |    EEG #74 : (-76.9, -17.7, 31.4) mm   : head frame>,\n",
       " <DigPoint |    EEG #75 : (-77.1, -23.1, 52.7) mm   : head frame>,\n",
       " <DigPoint |    EEG #76 : (-73.9, -27.4, 72.1) mm   : head frame>,\n",
       " <DigPoint |    EEG #77 : (-68.0, -27.2, 91.5) mm   : head frame>,\n",
       " <DigPoint |    EEG #78 : (-56.0, -25.0, 107.5) mm  : head frame>,\n",
       " <DigPoint |    EEG #79 : (-40.8, -19.7, 120.9) mm  : head frame>,\n",
       " <DigPoint |    EEG #80 : (-22.1, -12.4, 129.4) mm  : head frame>,\n",
       " <DigPoint |    EEG #81 : (0.0, -1.5, 133.0) mm     : head frame>,\n",
       " <DigPoint |    EEG #82 : (-70.6, -15.2, -33.5) mm  : head frame>,\n",
       " <DigPoint |    EEG #83 : (-73.0, -36.0, 21.9) mm   : head frame>,\n",
       " <DigPoint |    EEG #84 : (-74.5, -35.2, 38.5) mm   : head frame>,\n",
       " <DigPoint |    EEG #85 : (-70.8, -41.7, 60.0) mm   : head frame>,\n",
       " <DigPoint |    EEG #86 : (-64.2, -42.8, 79.9) mm   : head frame>,\n",
       " <DigPoint |    EEG #87 : (-54.7, -42.5, 100.2) mm  : head frame>,\n",
       " <DigPoint |    EEG #88 : (-40.0, -37.7, 114.9) mm  : head frame>,\n",
       " <DigPoint |    EEG #89 : (-22.7, -32.2, 126.2) mm  : head frame>,\n",
       " <DigPoint |    EEG #90 : (0.0, -19.8, 131.7) mm    : head frame>,\n",
       " <DigPoint |    EEG #91 : (-67.6, -30.8, -44.3) mm  : head frame>,\n",
       " <DigPoint |    EEG #92 : (-66.7, -37.2, -23.7) mm  : head frame>,\n",
       " <DigPoint |    EEG #93 : (-67.2, -45.7, -4.9) mm   : head frame>,\n",
       " <DigPoint |    EEG #94 : (-69.6, -47.5, 10.2) mm   : head frame>,\n",
       " <DigPoint |    EEG #95 : (-69.2, -50.3, 27.3) mm   : head frame>,\n",
       " <DigPoint |    EEG #96 : (-66.1, -54.0, 47.9) mm   : head frame>,\n",
       " <DigPoint |    EEG #97 : (-59.1, -58.6, 68.1) mm   : head frame>,\n",
       " <DigPoint |    EEG #98 : (-50.6, -57.6, 86.9) mm   : head frame>,\n",
       " <DigPoint |    EEG #99 : (-37.1, -54.1, 103.5) mm  : head frame>,\n",
       " <DigPoint |   EEG #100 : (-21.3, -47.9, 117.3) mm  : head frame>,\n",
       " <DigPoint |   EEG #101 : (0.0, -56.5, 117.1) mm    : head frame>,\n",
       " <DigPoint |   EEG #102 : (-63.1, -49.1, -36.3) mm  : head frame>,\n",
       " <DigPoint |   EEG #103 : (-61.8, -54.1, -18.3) mm  : head frame>,\n",
       " <DigPoint |   EEG #104 : (-60.4, -60.7, 1.0) mm    : head frame>,\n",
       " <DigPoint |   EEG #105 : (-62.5, -62.3, 15.6) mm   : head frame>,\n",
       " <DigPoint |   EEG #106 : (-59.2, -66.4, 34.9) mm   : head frame>,\n",
       " <DigPoint |   EEG #107 : (-51.8, -71.4, 54.5) mm   : head frame>,\n",
       " <DigPoint |   EEG #108 : (-42.5, -73.5, 74.1) mm   : head frame>,\n",
       " <DigPoint |   EEG #109 : (-32.1, -70.8, 92.1) mm   : head frame>,\n",
       " <DigPoint |   EEG #110 : (-17.1, -63.4, 105.6) mm  : head frame>,\n",
       " <DigPoint |   EEG #111 : (-55.8, -67.7, -28.6) mm  : head frame>,\n",
       " <DigPoint |   EEG #112 : (-53.3, -71.4, -12.1) mm  : head frame>,\n",
       " <DigPoint |   EEG #113 : (-50.3, -76.9, 7.4) mm    : head frame>,\n",
       " <DigPoint |   EEG #114 : (-52.2, -75.8, 21.7) mm   : head frame>,\n",
       " <DigPoint |   EEG #115 : (-40.9, -84.0, 41.5) mm   : head frame>,\n",
       " <DigPoint |   EEG #116 : (-31.0, -86.0, 60.5) mm   : head frame>,\n",
       " <DigPoint |   EEG #117 : (-19.3, -84.0, 78.3) mm   : head frame>,\n",
       " <DigPoint |   EEG #118 : (-10.8, -76.7, 92.3) mm   : head frame>,\n",
       " <DigPoint |   EEG #119 : (0.0, -68.4, 102.9) mm    : head frame>,\n",
       " <DigPoint |   EEG #120 : (-46.6, -81.1, -24.1) mm  : head frame>,\n",
       " <DigPoint |   EEG #121 : (-41.6, -84.1, -6.7) mm   : head frame>,\n",
       " <DigPoint |   EEG #122 : (-35.9, -88.8, 12.2) mm   : head frame>,\n",
       " <DigPoint |   EEG #123 : (-30.0, -93.7, 33.9) mm   : head frame>,\n",
       " <DigPoint |   EEG #124 : (-21.8, -94.0, 47.3) mm   : head frame>,\n",
       " <DigPoint |   EEG #125 : (-10.1, -91.5, 62.8) mm   : head frame>,\n",
       " <DigPoint |   EEG #126 : (0.0, -84.1, 77.5) mm     : head frame>,\n",
       " <DigPoint |   EEG #127 : (10.8, -76.7, 92.3) mm    : head frame>,\n",
       " <DigPoint |   EEG #128 : (17.1, -63.4, 105.6) mm   : head frame>,\n",
       " <DigPoint |   EEG #129 : (21.3, -47.9, 117.3) mm   : head frame>,\n",
       " <DigPoint |   EEG #130 : (22.7, -32.2, 126.2) mm   : head frame>,\n",
       " <DigPoint |   EEG #131 : (22.1, -12.4, 129.4) mm   : head frame>,\n",
       " <DigPoint |   EEG #132 : (19.7, 11.2, 129.1) mm    : head frame>,\n",
       " <DigPoint |   EEG #133 : (-34.2, -93.2, -15.0) mm  : head frame>,\n",
       " <DigPoint |   EEG #134 : (-26.9, -94.7, -2.0) mm   : head frame>,\n",
       " <DigPoint |   EEG #135 : (-20.1, -97.2, 19.6) mm   : head frame>,\n",
       " <DigPoint |   EEG #136 : (-9.1, -95.8, 31.8) mm    : head frame>,\n",
       " <DigPoint |   EEG #137 : (0.0, -93.2, 44.6) mm     : head frame>,\n",
       " <DigPoint |   EEG #138 : (10.1, -91.5, 62.8) mm    : head frame>,\n",
       " <DigPoint |   EEG #139 : (19.3, -84.0, 78.3) mm    : head frame>,\n",
       " <DigPoint |   EEG #140 : (32.1, -70.8, 92.1) mm    : head frame>,\n",
       " <DigPoint |   EEG #141 : (37.1, -54.1, 103.5) mm   : head frame>,\n",
       " <DigPoint |   EEG #142 : (40.0, -37.7, 114.9) mm   : head frame>,\n",
       " <DigPoint |   EEG #143 : (40.8, -19.7, 120.9) mm   : head frame>,\n",
       " <DigPoint |   EEG #144 : (36.9, 4.8, 123.2) mm     : head frame>,\n",
       " <DigPoint |   EEG #145 : (-18.7, -99.4, -13.7) mm  : head frame>,\n",
       " <DigPoint |   EEG #146 : (-10.5, -100.3, -0.0) mm  : head frame>,\n",
       " <DigPoint |   EEG #147 : (0.0, -97.1, 15.6) mm     : head frame>,\n",
       " <DigPoint |   EEG #148 : (9.1, -95.8, 31.8) mm     : head frame>,\n",
       " <DigPoint |   EEG #149 : (21.8, -94.0, 47.3) mm    : head frame>,\n",
       " <DigPoint |   EEG #150 : (31.0, -86.0, 60.5) mm    : head frame>,\n",
       " <DigPoint |   EEG #151 : (42.5, -73.5, 74.1) mm    : head frame>,\n",
       " <DigPoint |   EEG #152 : (50.6, -57.6, 86.9) mm    : head frame>,\n",
       " <DigPoint |   EEG #153 : (54.7, -42.5, 100.2) mm   : head frame>,\n",
       " <DigPoint |   EEG #154 : (56.0, -25.0, 107.5) mm   : head frame>,\n",
       " <DigPoint |   EEG #155 : (53.5, -1.6, 113.1) mm    : head frame>,\n",
       " <DigPoint |   EEG #156 : (10.5, -100.3, -0.0) mm   : head frame>,\n",
       " <DigPoint |   EEG #157 : (20.1, -97.2, 19.6) mm    : head frame>,\n",
       " <DigPoint |   EEG #158 : (30.0, -93.7, 33.9) mm    : head frame>,\n",
       " <DigPoint |   EEG #159 : (40.9, -84.0, 41.5) mm    : head frame>,\n",
       " <DigPoint |   EEG #160 : (51.8, -71.4, 54.5) mm    : head frame>,\n",
       " <DigPoint |   EEG #161 : (59.1, -58.6, 68.1) mm    : head frame>,\n",
       " <DigPoint |   EEG #162 : (64.2, -42.8, 79.9) mm    : head frame>,\n",
       " <DigPoint |   EEG #163 : (68.0, -27.2, 91.5) mm    : head frame>,\n",
       " <DigPoint |   EEG #164 : (67.5, -7.4, 98.6) mm     : head frame>,\n",
       " <DigPoint |   EEG #165 : (18.7, -99.4, -13.7) mm   : head frame>,\n",
       " <DigPoint |   EEG #166 : (26.9, -94.7, -2.0) mm    : head frame>,\n",
       " <DigPoint |   EEG #167 : (35.9, -88.8, 12.2) mm    : head frame>,\n",
       " <DigPoint |   EEG #168 : (52.2, -75.8, 21.7) mm    : head frame>,\n",
       " <DigPoint |   EEG #169 : (59.2, -66.4, 34.9) mm    : head frame>,\n",
       " <DigPoint |   EEG #170 : (66.1, -54.0, 47.9) mm    : head frame>,\n",
       " <DigPoint |   EEG #171 : (70.8, -41.7, 60.0) mm    : head frame>,\n",
       " <DigPoint |   EEG #172 : (73.9, -27.4, 72.1) mm    : head frame>,\n",
       " <DigPoint |   EEG #173 : (74.9, -13.7, 83.3) mm    : head frame>,\n",
       " <DigPoint |   EEG #174 : (34.2, -93.2, -15.0) mm   : head frame>,\n",
       " <DigPoint |   EEG #175 : (41.6, -84.1, -6.7) mm    : head frame>,\n",
       " <DigPoint |   EEG #176 : (50.3, -76.9, 7.4) mm     : head frame>,\n",
       " <DigPoint |   EEG #177 : (62.5, -62.3, 15.6) mm    : head frame>,\n",
       " <DigPoint |   EEG #178 : (69.2, -50.3, 27.3) mm    : head frame>,\n",
       " <DigPoint |   EEG #179 : (74.5, -35.2, 38.5) mm    : head frame>,\n",
       " <DigPoint |   EEG #180 : (77.1, -23.1, 52.7) mm    : head frame>,\n",
       " <DigPoint |   EEG #181 : (79.8, -8.3, 66.9) mm     : head frame>,\n",
       " <DigPoint |   EEG #182 : (75.3, 3.8, 83.3) mm      : head frame>,\n",
       " <DigPoint |   EEG #183 : (66.4, 12.7, 98.3) mm     : head frame>,\n",
       " <DigPoint |   EEG #184 : (52.6, 20.0, 109.6) mm    : head frame>,\n",
       " <DigPoint |   EEG #185 : (35.0, 26.2, 118.4) mm    : head frame>,\n",
       " <DigPoint |   EEG #186 : (11.4, 31.7, 124.7) mm    : head frame>,\n",
       " <DigPoint |   EEG #187 : (46.6, -81.1, -24.1) mm   : head frame>,\n",
       " <DigPoint |   EEG #188 : (53.3, -71.4, -12.1) mm   : head frame>,\n",
       " <DigPoint |   EEG #189 : (60.4, -60.7, 1.0) mm     : head frame>,\n",
       " <DigPoint |   EEG #190 : (69.6, -47.5, 10.2) mm    : head frame>,\n",
       " <DigPoint |   EEG #191 : (73.0, -36.0, 21.9) mm    : head frame>,\n",
       " <DigPoint |   EEG #192 : (76.9, -17.7, 31.4) mm    : head frame>,\n",
       " <DigPoint |   EEG #193 : (79.1, -4.2, 46.9) mm     : head frame>,\n",
       " <DigPoint |   EEG #194 : (79.8, 10.3, 64.0) mm     : head frame>,\n",
       " <DigPoint |   EEG #195 : (72.9, 22.5, 80.2) mm     : head frame>,\n",
       " <DigPoint |   EEG #196 : (60.5, 31.0, 95.1) mm     : head frame>,\n",
       " <DigPoint |   EEG #197 : (45.9, 39.3, 106.5) mm    : head frame>,\n",
       " <DigPoint |   EEG #198 : (22.7, 44.3, 116.2) mm    : head frame>,\n",
       " <DigPoint |   EEG #199 : (55.8, -67.7, -28.6) mm   : head frame>,\n",
       " <DigPoint |   EEG #200 : (61.8, -54.1, -18.3) mm   : head frame>,\n",
       " <DigPoint |   EEG #201 : (67.2, -45.7, -4.9) mm    : head frame>,\n",
       " <DigPoint |   EEG #202 : (78.6, 0.9, 27.9) mm      : head frame>,\n",
       " <DigPoint |   EEG #203 : (78.9, 15.2, 45.0) mm     : head frame>,\n",
       " <DigPoint |   EEG #204 : (75.5, 28.9, 61.2) mm     : head frame>,\n",
       " <DigPoint |   EEG #205 : (68.0, 40.5, 78.8) mm     : head frame>,\n",
       " <DigPoint |   EEG #206 : (52.9, 49.3, 92.9) mm     : head frame>,\n",
       " <DigPoint |   EEG #207 : (33.1, 57.5, 105.1) mm    : head frame>,\n",
       " <DigPoint |   EEG #208 : (63.1, -49.1, -36.3) mm   : head frame>,\n",
       " <DigPoint |   EEG #209 : (66.7, -37.2, -23.7) mm   : head frame>,\n",
       " <DigPoint |   EEG #210 : (76.7, 8.0, 11.6) mm      : head frame>,\n",
       " <DigPoint |   EEG #211 : (76.9, 20.6, 26.2) mm     : head frame>,\n",
       " <DigPoint |   EEG #212 : (75.9, 35.7, 42.2) mm     : head frame>,\n",
       " <DigPoint |   EEG #213 : (70.3, 47.9, 59.0) mm     : head frame>,\n",
       " <DigPoint |   EEG #214 : (59.5, 58.0, 76.7) mm     : head frame>,\n",
       " <DigPoint |   EEG #215 : (44.5, 66.8, 89.6) mm     : head frame>,\n",
       " <DigPoint |   EEG #216 : (67.6, -30.8, -44.3) mm   : head frame>,\n",
       " <DigPoint |   EEG #217 : (70.6, -15.2, -33.5) mm   : head frame>,\n",
       " <DigPoint |   EEG #218 : (74.5, -0.9, -21.9) mm    : head frame>,\n",
       " <DigPoint |   EEG #219 : (76.2, 11.9, -6.2) mm     : head frame>,\n",
       " <DigPoint |   EEG #220 : (74.7, 27.4, 7.8) mm      : head frame>,\n",
       " <DigPoint |   EEG #221 : (72.4, 43.4, 24.3) mm     : head frame>,\n",
       " <DigPoint |   EEG #222 : (69.1, 56.2, 41.4) mm     : head frame>,\n",
       " <DigPoint |   EEG #223 : (61.1, 66.9, 59.5) mm     : head frame>,\n",
       " <DigPoint |   EEG #224 : (50.5, 72.3, 73.5) mm     : head frame>,\n",
       " <DigPoint |   EEG #225 : (75.5, 26.2, -10.9) mm    : head frame>,\n",
       " <DigPoint |   EEG #226 : (71.7, 40.8, -17.0) mm    : head frame>,\n",
       " <DigPoint |   EEG #227 : (74.8, 16.1, -27.9) mm    : head frame>,\n",
       " <DigPoint |   EEG #228 : (73.1, 2.1, -41.4) mm     : head frame>,\n",
       " <DigPoint |   EEG #229 : (67.9, -14.7, -51.6) mm   : head frame>,\n",
       " <DigPoint |   EEG #230 : (66.7, 50.6, -29.4) mm    : head frame>,\n",
       " <DigPoint |   EEG #231 : (71.5, 30.9, -36.6) mm    : head frame>,\n",
       " <DigPoint |   EEG #232 : (72.4, 19.0, -50.2) mm    : head frame>,\n",
       " <DigPoint |   EEG #233 : (70.2, 1.9, -60.7) mm     : head frame>,\n",
       " <DigPoint |   EEG #234 : (58.3, 61.5, -38.4) mm    : head frame>,\n",
       " <DigPoint |   EEG #235 : (65.9, 44.2, -46.6) mm    : head frame>,\n",
       " <DigPoint |   EEG #236 : (66.8, 32.0, -58.3) mm    : head frame>,\n",
       " <DigPoint |   EEG #237 : (65.1, 17.2, -69.5) mm    : head frame>,\n",
       " <DigPoint |   EEG #238 : (46.4, 70.9, -42.3) mm    : head frame>,\n",
       " <DigPoint |   EEG #239 : (57.5, 50.2, -57.6) mm    : head frame>,\n",
       " <DigPoint |   EEG #240 : (59.8, 38.0, -67.2) mm    : head frame>,\n",
       " <DigPoint |   EEG #241 : (-46.4, 70.9, -42.3) mm   : head frame>,\n",
       " <DigPoint |   EEG #242 : (-57.5, 50.2, -57.6) mm   : head frame>,\n",
       " <DigPoint |   EEG #243 : (-59.8, 38.0, -67.2) mm   : head frame>,\n",
       " <DigPoint |   EEG #244 : (-58.3, 61.5, -38.4) mm   : head frame>,\n",
       " <DigPoint |   EEG #245 : (-65.9, 44.2, -46.6) mm   : head frame>,\n",
       " <DigPoint |   EEG #246 : (-66.8, 32.0, -58.3) mm   : head frame>,\n",
       " <DigPoint |   EEG #247 : (-65.1, 17.2, -69.5) mm   : head frame>,\n",
       " <DigPoint |   EEG #248 : (-66.7, 50.6, -29.4) mm   : head frame>,\n",
       " <DigPoint |   EEG #249 : (-71.5, 30.9, -36.6) mm   : head frame>,\n",
       " <DigPoint |   EEG #250 : (-72.4, 19.0, -50.2) mm   : head frame>,\n",
       " <DigPoint |   EEG #251 : (-70.2, 1.9, -60.7) mm    : head frame>,\n",
       " <DigPoint |   EEG #252 : (-71.7, 40.8, -17.0) mm   : head frame>,\n",
       " <DigPoint |   EEG #253 : (-75.5, 26.2, -10.9) mm   : head frame>,\n",
       " <DigPoint |   EEG #254 : (-74.8, 16.1, -27.9) mm   : head frame>,\n",
       " <DigPoint |   EEG #255 : (-73.1, 2.1, -41.4) mm    : head frame>,\n",
       " <DigPoint |   EEG #256 : (-67.9, -14.7, -51.6) mm  : head frame>]"
      ]
     },
     "execution_count": 18,
     "metadata": {},
     "output_type": "execute_result"
    }
   ],
   "source": [
    "info['dig']"
   ]
  },
  {
   "cell_type": "code",
   "execution_count": 19,
   "metadata": {},
   "outputs": [],
   "source": [
    "outdict=loadmat('../EEG_pipeline/egi_xyz.mat')\n",
    "Coordinates=outdict['Coordianates']/1000\n",
    "for ch in range(3,len(info['dig'])):\n",
    "    info['dig'][ch]['r']=Coordinates[ch-3,:]"
   ]
  },
  {
   "cell_type": "code",
   "execution_count": 20,
   "metadata": {},
   "outputs": [],
   "source": [
    "# outdict=loadmat('../EEG_pipeline/egi_xyz.mat')\n",
    "# Coordinates=outdict['Coordianates']"
   ]
  },
  {
   "cell_type": "code",
   "execution_count": 21,
   "metadata": {},
   "outputs": [],
   "source": [
    "info[\"description\"] = \"My egi dataset\""
   ]
  },
  {
   "cell_type": "code",
   "execution_count": 22,
   "metadata": {},
   "outputs": [
    {
     "data": {
      "text/plain": [
       "(49,)"
      ]
     },
     "execution_count": 22,
     "metadata": {},
     "output_type": "execute_result"
    }
   ],
   "source": [
    "outdict=loadmat('../test_scripts/EEG_processing/DAON/ch_bad.mat')\n",
    "ch_bad=outdict['ch_bad'][0]-1\n",
    "np.shape(ch_bad)"
   ]
  },
  {
   "cell_type": "code",
   "execution_count": 23,
   "metadata": {},
   "outputs": [
    {
     "data": {
      "text/plain": [
       "array([240, 241, 242, 237, 238, 239, 243, 244, 245, 246, 250, 255,  90,\n",
       "       101, 110, 119, 132, 144, 164, 173, 186, 198, 207, 215, 228, 232,\n",
       "       236, 235, 234, 233, 231, 227, 216, 208, 199, 187, 174, 165, 155,\n",
       "       145, 133, 120, 111, 102,  91,  81, 254, 249, 256], dtype=uint16)"
      ]
     },
     "execution_count": 23,
     "metadata": {},
     "output_type": "execute_result"
    }
   ],
   "source": [
    "ch_bad"
   ]
  },
  {
   "cell_type": "code",
   "execution_count": 24,
   "metadata": {},
   "outputs": [],
   "source": [
    "ch_bad=np.delete(ch_bad,48,0)"
   ]
  },
  {
   "cell_type": "code",
   "execution_count": 25,
   "metadata": {},
   "outputs": [
    {
     "data": {
      "text/plain": [
       "(48,)"
      ]
     },
     "execution_count": 25,
     "metadata": {},
     "output_type": "execute_result"
    }
   ],
   "source": [
    "np.shape(ch_bad)"
   ]
  },
  {
   "cell_type": "code",
   "execution_count": 26,
   "metadata": {},
   "outputs": [
    {
     "data": {
      "text/plain": [
       "array([240, 241, 242, 237, 238, 239, 243, 244, 245, 246, 250, 255,  90,\n",
       "       101, 110, 119, 132, 144, 164, 173, 186, 198, 207, 215, 228, 232,\n",
       "       236, 235, 234, 233, 231, 227, 216, 208, 199, 187, 174, 165, 155,\n",
       "       145, 133, 120, 111, 102,  91,  81, 254, 249], dtype=uint16)"
      ]
     },
     "execution_count": 26,
     "metadata": {},
     "output_type": "execute_result"
    }
   ],
   "source": [
    "ch_bad"
   ]
  },
  {
   "cell_type": "code",
   "execution_count": 27,
   "metadata": {},
   "outputs": [],
   "source": [
    "info['bads'] = [ch_names[k] for k in ch_bad]"
   ]
  },
  {
   "cell_type": "code",
   "execution_count": 29,
   "metadata": {},
   "outputs": [
    {
     "data": {
      "text/plain": [
       "['E241',\n",
       " 'E242',\n",
       " 'E243',\n",
       " 'E238',\n",
       " 'E239',\n",
       " 'E240',\n",
       " 'E244',\n",
       " 'E245',\n",
       " 'E246',\n",
       " 'E247',\n",
       " 'E251',\n",
       " 'E256',\n",
       " 'E91',\n",
       " 'E102',\n",
       " 'E111',\n",
       " 'E120',\n",
       " 'E133',\n",
       " 'E145',\n",
       " 'E165',\n",
       " 'E174',\n",
       " 'E187',\n",
       " 'E199',\n",
       " 'E208',\n",
       " 'E216',\n",
       " 'E229',\n",
       " 'E233',\n",
       " 'E237',\n",
       " 'E236',\n",
       " 'E235',\n",
       " 'E234',\n",
       " 'E232',\n",
       " 'E228',\n",
       " 'E217',\n",
       " 'E209',\n",
       " 'E200',\n",
       " 'E188',\n",
       " 'E175',\n",
       " 'E166',\n",
       " 'E156',\n",
       " 'E146',\n",
       " 'E134',\n",
       " 'E121',\n",
       " 'E112',\n",
       " 'E103',\n",
       " 'E92',\n",
       " 'E82',\n",
       " 'E255',\n",
       " 'E250']"
      ]
     },
     "execution_count": 29,
     "metadata": {},
     "output_type": "execute_result"
    }
   ],
   "source": [
    "info['bads']"
   ]
  },
  {
   "cell_type": "code",
   "execution_count": 30,
   "metadata": {},
   "outputs": [],
   "source": [
    "# insert ch_bad with signal of zeros\n",
    "data=np.zeros((256,np.shape(mixedsig)[1]))\n",
    "i=0\n",
    "for c in range(256):\n",
    "    if c not in ch_bad:\n",
    "        data[c,:]=mixedsig[i,:]\n",
    "        i+=1"
   ]
  },
  {
   "cell_type": "code",
   "execution_count": null,
   "metadata": {},
   "outputs": [],
   "source": [
    "# good_coordinates=np.copy(Coordinates)"
   ]
  },
  {
   "cell_type": "code",
   "execution_count": null,
   "metadata": {},
   "outputs": [],
   "source": [
    "# good_coordinates=np.delete(good_coordinates,ch_bad,0)"
   ]
  },
  {
   "cell_type": "code",
   "execution_count": null,
   "metadata": {},
   "outputs": [],
   "source": [
    "# good_coordinates[0,:]"
   ]
  },
  {
   "cell_type": "code",
   "execution_count": null,
   "metadata": {},
   "outputs": [],
   "source": [
    "# print(ch_names[i])"
   ]
  },
  {
   "cell_type": "code",
   "execution_count": 31,
   "metadata": {},
   "outputs": [
    {
     "name": "stdout",
     "output_type": "stream",
     "text": [
      "Creating RawArray with float64 data, n_channels=256, n_times=182000\n",
      "    Range : 0 ... 181999 =      0.000 ...   181.999 secs\n",
      "Ready.\n"
     ]
    },
    {
     "name": "stdout",
     "output_type": "stream",
     "text": [
      "Using qt as 2D backend.\n"
     ]
    },
    {
     "name": "stderr",
     "output_type": "stream",
     "text": [
      "qt.qpa.plugin: Could not find the Qt platform plugin \"wayland\" in \"\"\n"
     ]
    },
    {
     "data": {
      "text/plain": [
       "<mne_qt_browser._pg_figure.MNEQtBrowser at 0x7f13a03b9a20>"
      ]
     },
     "execution_count": 31,
     "metadata": {},
     "output_type": "execute_result"
    }
   ],
   "source": [
    "raw = mne.io.RawArray(data, info)\n",
    "raw.plot(show_scrollbars=False, show_scalebars=False)"
   ]
  },
  {
   "cell_type": "code",
   "execution_count": 32,
   "metadata": {},
   "outputs": [
    {
     "data": {
      "text/plain": [
       "['E241',\n",
       " 'E242',\n",
       " 'E243',\n",
       " 'E238',\n",
       " 'E239',\n",
       " 'E240',\n",
       " 'E244',\n",
       " 'E245',\n",
       " 'E246',\n",
       " 'E247',\n",
       " 'E251',\n",
       " 'E256',\n",
       " 'E91',\n",
       " 'E102',\n",
       " 'E111',\n",
       " 'E120',\n",
       " 'E133',\n",
       " 'E145',\n",
       " 'E165',\n",
       " 'E174',\n",
       " 'E187',\n",
       " 'E199',\n",
       " 'E208',\n",
       " 'E216',\n",
       " 'E229',\n",
       " 'E233',\n",
       " 'E237',\n",
       " 'E236',\n",
       " 'E235',\n",
       " 'E234',\n",
       " 'E232',\n",
       " 'E228',\n",
       " 'E217',\n",
       " 'E209',\n",
       " 'E200',\n",
       " 'E188',\n",
       " 'E175',\n",
       " 'E166',\n",
       " 'E156',\n",
       " 'E146',\n",
       " 'E134',\n",
       " 'E121',\n",
       " 'E112',\n",
       " 'E103',\n",
       " 'E92',\n",
       " 'E82',\n",
       " 'E255',\n",
       " 'E250']"
      ]
     },
     "execution_count": 32,
     "metadata": {},
     "output_type": "execute_result"
    }
   ],
   "source": [
    "raw.info['bads']"
   ]
  },
  {
   "cell_type": "code",
   "execution_count": null,
   "metadata": {},
   "outputs": [],
   "source": [
    "# for i in range(len(ch_bad)):\n",
    "#     raw.drop_channels(ch_names(ch_bad[i].astype(int)))"
   ]
  },
  {
   "cell_type": "code",
   "execution_count": 33,
   "metadata": {},
   "outputs": [
    {
     "data": {
      "text/plain": [
       "array([240, 241, 242, 237, 238, 239, 243, 244, 245, 246, 250, 255,  90,\n",
       "       101, 110, 119, 132, 144, 164, 173, 186, 198, 207, 215, 228, 232,\n",
       "       236, 235, 234, 233, 231, 227, 216, 208, 199, 187, 174, 165, 155,\n",
       "       145, 133, 120, 111, 102,  91,  81, 254, 249])"
      ]
     },
     "execution_count": 33,
     "metadata": {},
     "output_type": "execute_result"
    }
   ],
   "source": [
    "ch_bad.astype(int)"
   ]
  },
  {
   "cell_type": "code",
   "execution_count": 34,
   "metadata": {},
   "outputs": [
    {
     "name": "stdout",
     "output_type": "stream",
     "text": [
      "EEG channel type selected for re-referencing\n",
      "Adding average EEG reference projection.\n",
      "1 projection items deactivated\n",
      "Average reference projection was added, but has not been applied yet. Use the apply_proj method to apply it.\n"
     ]
    },
    {
     "data": {
      "text/html": [
       "<table class=\"table table-hover table-striped table-sm table-responsive small\">\n",
       "    <tr>\n",
       "        <th>Measurement date</th>\n",
       "        \n",
       "        <td>Unknown</td>\n",
       "        \n",
       "    </tr>\n",
       "    <tr>\n",
       "        <th>Experimenter</th>\n",
       "        \n",
       "        <td>Unknown</td>\n",
       "        \n",
       "    </tr>\n",
       "        <th>Participant</th>\n",
       "        \n",
       "        <td>Unknown</td>\n",
       "        \n",
       "    </tr>\n",
       "    <tr>\n",
       "        <th>Digitized points</th>\n",
       "        \n",
       "        <td>259 points</td>\n",
       "        \n",
       "    </tr>\n",
       "    <tr>\n",
       "        <th>Good channels</th>\n",
       "        <td>256 EEG</td>\n",
       "    </tr>\n",
       "    <tr>\n",
       "        <th>Bad channels</th>\n",
       "        <td>E241, E242, E243, E238, E239, E240, E244, E245, E246, E247, E251, E256, E91, E102, E111, E120, E133, E145, E165, E174, E187, E199, E208, E216, E229, E233, E237, E236, E235, E234, E232, E228, E217, E209, E200, E188, E175, E166, E156, E146, E134, E121, E112, E103, E92, E82, E255, E250</td>\n",
       "    </tr>\n",
       "    <tr>\n",
       "        <th>EOG channels</th>\n",
       "        <td>Not available</td>\n",
       "    </tr>\n",
       "    <tr>\n",
       "        <th>ECG channels</th>\n",
       "        <td>Not available</td>\n",
       "    \n",
       "    <tr>\n",
       "        <th>Sampling frequency</th>\n",
       "        <td>1000.00 Hz</td>\n",
       "    </tr>\n",
       "    \n",
       "    \n",
       "    <tr>\n",
       "        <th>Highpass</th>\n",
       "        <td>0.00 Hz</td>\n",
       "    </tr>\n",
       "    \n",
       "    \n",
       "    <tr>\n",
       "        <th>Lowpass</th>\n",
       "        <td>500.00 Hz</td>\n",
       "    </tr>\n",
       "    \n",
       "    \n",
       "    <tr>\n",
       "        <th>Projections</th>\n",
       "        <td>Average EEG reference : off</td>\n",
       "    </tr>\n",
       "    \n",
       "    \n",
       "    <tr>\n",
       "        <th>Duration</th>\n",
       "        <td>00:03:02 (HH:MM:SS)</td>\n",
       "    </tr>\n",
       "</table>"
      ],
      "text/plain": [
       "<RawArray | 256 x 182000 (182.0 s), ~355.8 MB, data loaded>"
      ]
     },
     "execution_count": 34,
     "metadata": {},
     "output_type": "execute_result"
    }
   ],
   "source": [
    "raw.set_eeg_reference('average', projection=True)"
   ]
  },
  {
   "cell_type": "code",
   "execution_count": null,
   "metadata": {},
   "outputs": [],
   "source": [
    "# raw = mne.io.RawArray(mixedsig, info)\n",
    "# raw.plot(show_scrollbars=False, show_scalebars=False)"
   ]
  },
  {
   "cell_type": "code",
   "execution_count": null,
   "metadata": {},
   "outputs": [],
   "source": [
    "# # https://mne.tools/dev/generated/mne.channels.make_dig_montage.html\n",
    "\n",
    "# lpa=np.array([-77.5, 0.0, 0.0])\n",
    "# nasion=np.array([0.0, 101.5, -0.0])\n",
    "# rpa=np.array([77.5, 0.0, 0.0])\n",
    "\n",
    "# ch_pos=dict() \n",
    "# for r in range(np.shape(good_coordinates)[0]):\n",
    "#     ch_pos[ch_names[r]]=good_coordinates[r,:]\n"
   ]
  },
  {
   "cell_type": "code",
   "execution_count": null,
   "metadata": {},
   "outputs": [],
   "source": [
    "# np.shape(good_coordinates)[0]"
   ]
  },
  {
   "cell_type": "code",
   "execution_count": null,
   "metadata": {},
   "outputs": [],
   "source": [
    "# EGI_208=mne.channels.make_dig_montage(ch_pos=ch_pos, nasion=nasion, lpa=lpa, rpa =rpa)"
   ]
  },
  {
   "cell_type": "code",
   "execution_count": null,
   "metadata": {},
   "outputs": [],
   "source": [
    "# mne.viz.plot_montage(EGI_208)"
   ]
  },
  {
   "cell_type": "code",
   "execution_count": null,
   "metadata": {},
   "outputs": [],
   "source": [
    "# raw.set_montage(\"EGI_208\",match_case=False,match_alias=False,on_missing='raise')"
   ]
  },
  {
   "cell_type": "code",
   "execution_count": 66,
   "metadata": {},
   "outputs": [
    {
     "data": {
      "text/plain": [
       "259"
      ]
     },
     "execution_count": 66,
     "metadata": {},
     "output_type": "execute_result"
    }
   ],
   "source": [
    "len(info['dig'])"
   ]
  },
  {
   "cell_type": "code",
   "execution_count": 35,
   "metadata": {},
   "outputs": [
    {
     "name": "stdout",
     "output_type": "stream",
     "text": [
      "Overwriting existing file.\n",
      "Writing /home/zhibinz2/Documents/GitHub/MEG_EEG_Source_Localization/goodchanEGI_pipeline/egi_raw.fif\n",
      "Closing /home/zhibinz2/Documents/GitHub/MEG_EEG_Source_Localization/goodchanEGI_pipeline/egi_raw.fif\n",
      "[done]\n"
     ]
    }
   ],
   "source": [
    "raw.save(\"egi_raw.fif\",overwrite=True)"
   ]
  },
  {
   "cell_type": "code",
   "execution_count": 3,
   "metadata": {},
   "outputs": [
    {
     "name": "stdout",
     "output_type": "stream",
     "text": [
      "Using pyvistaqt 3d backend.\n",
      "\n"
     ]
    },
    {
     "name": "stderr",
     "output_type": "stream",
     "text": [
      "qt.qpa.plugin: Could not find the Qt platform plugin \"wayland\" in \"\"\n"
     ]
    },
    {
     "name": "stdout",
     "output_type": "stream",
     "text": [
      "    Triangle neighbors and vertex normals...\n",
      "Using low resolution head model in /home/zhibinz2/mne_data/MNE-sample-data/subjects/ANTS6-0Months3T/bem/outer_skin.surf\n",
      "    Triangle neighbors and vertex normals...\n",
      "Using fiducials from: /home/zhibinz2/mne_data/MNE-sample-data/subjects/ANTS6-0Months3T/bem/ANTS6-0Months3T-fiducials.fif.\n",
      "    Triangle neighbors and vertex normals...\n",
      "Using low resolution head model in /home/zhibinz2/mne_data/MNE-sample-data/subjects/ANTS6-0Months3T/bem/outer_skin.surf\n",
      "    Triangle neighbors and vertex normals...\n",
      "Using fiducials from: /home/zhibinz2/mne_data/MNE-sample-data/subjects/ANTS6-0Months3T/bem/ANTS6-0Months3T-fiducials.fif.\n",
      "Loading MRI fiducials from /home/zhibinz2/mne_data/MNE-sample-data/subjects/ANTS6-0Months3T/bem/ANTS6-0Months3T-fiducials.fif... Done!\n",
      "Using outer_skin.surf for head surface.\n",
      "Loading MRI fiducials from /home/zhibinz2/mne_data/MNE-sample-data/subjects/ANTS6-0Months3T/bem/ANTS6-0Months3T-fiducials.fif... Done!\n",
      "Using outer_skin.surf for head surface.\n"
     ]
    },
    {
     "data": {
      "text/plain": [
       "<mne.gui._coreg.CoregistrationUI at 0x7f4f3856a8f0>"
      ]
     },
     "execution_count": 3,
     "metadata": {},
     "output_type": "execute_result"
    }
   ],
   "source": [
    "# This will open a GUI to manually create a transformation matrix file\n",
    "mne.gui.coregistration()\n",
    "# I have did this and save the file as DAON_trans.fif in this directory"
   ]
  }
 ],
 "metadata": {
  "kernelspec": {
   "display_name": "mne",
   "language": "python",
   "name": "python3"
  },
  "language_info": {
   "codemirror_mode": {
    "name": "ipython",
    "version": 3
   },
   "file_extension": ".py",
   "mimetype": "text/x-python",
   "name": "python",
   "nbconvert_exporter": "python",
   "pygments_lexer": "ipython3",
   "version": "3.10.8"
  },
  "orig_nbformat": 4
 },
 "nbformat": 4,
 "nbformat_minor": 2
}
