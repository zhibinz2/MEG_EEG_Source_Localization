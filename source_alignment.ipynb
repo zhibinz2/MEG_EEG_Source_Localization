{
 "cells": [
  {
   "cell_type": "code",
   "execution_count": 11,
   "metadata": {},
   "outputs": [
    {
     "name": "stdout",
     "output_type": "stream",
     "text": [
      "Opening raw data file /home/zhibinz2/mne_data/MNE-sample-data/MEG/sample/sample_audvis_raw.fif...\n",
      "    Read a total of 3 projection items:\n",
      "        PCA-v1 (1 x 102)  idle\n",
      "        PCA-v2 (1 x 102)  idle\n",
      "        PCA-v3 (1 x 102)  idle\n",
      "    Range : 25800 ... 192599 =     42.956 ...   320.670 secs\n",
      "Ready.\n",
      "    Reading a source space...\n",
      "    [done]\n",
      "    Reading a source space...\n",
      "    [done]\n",
      "    2 source spaces read\n"
     ]
    }
   ],
   "source": [
    "# https://mne.tools/stable/auto_tutorials/forward/20_source_alignment.html\n",
    "\n",
    "import numpy as np\n",
    "import nibabel as nib\n",
    "from scipy import linalg\n",
    "\n",
    "import mne\n",
    "from mne.io.constants import FIFF\n",
    "\n",
    "data_path = mne.datasets.sample.data_path()\n",
    "subjects_dir = data_path / \"subjects\"\n",
    "raw_fname = data_path / \"MEG\" / \"sample\" / \"sample_audvis_raw.fif\"\n",
    "trans_fname = data_path / \"MEG\" / \"sample\" / \"sample_audvis_raw-trans.fif\"\n",
    "raw = mne.io.read_raw_fif(raw_fname)\n",
    "# trans = \"fsaverage\" # mne.read_trans(trans_fname)\n",
    "trans = \"/home/zhibinz2/Documents/GitHub/MEG_EEG_Source_Localization/sample_fsaverage_trans.fif\"\n",
    "src = mne.read_source_spaces(subjects_dir / \"fsaverage\" / \"bem\" / \"fsaverage-ico-5-src.fif\")\n",
    "\n",
    "# Load the T1 file and change the header information to the correct units\n",
    "t1w = nib.load(data_path / \"subjects\" / \"fsaverage\" / \"mri\" / \"T1.mgz\")\n",
    "t1w = nib.Nifti1Image(t1w.dataobj, t1w.affine)\n",
    "t1w.header[\"xyzt_units\"] = np.array(10, dtype=\"uint8\")\n",
    "t1_mgh = nib.MGHImage(t1w.dataobj, t1w.affine)"
   ]
  },
  {
   "cell_type": "code",
   "execution_count": 12,
   "metadata": {},
   "outputs": [
    {
     "name": "stdout",
     "output_type": "stream",
     "text": [
      "Using fsaverage-head-dense.fif for head surface.\n",
      "    1 BEM surfaces found\n",
      "    Reading a surface...\n",
      "[done]\n",
      "    1 BEM surfaces read\n",
      "Channel types::\tgrad: 203, mag: 102\n",
      "Distance from head origin to MEG origin: 65.0 mm\n"
     ]
    },
    {
     "ename": "TypeError",
     "evalue": "string indices must be integers",
     "output_type": "error",
     "traceback": [
      "\u001b[0;31m---------------------------------------------------------------------------\u001b[0m",
      "\u001b[0;31mTypeError\u001b[0m                                 Traceback (most recent call last)",
      "Cell \u001b[0;32mIn[12], line 21\u001b[0m\n\u001b[1;32m     14\u001b[0m mne\u001b[39m.\u001b[39mviz\u001b[39m.\u001b[39mset_3d_view(fig, \u001b[39m45\u001b[39m, \u001b[39m90\u001b[39m, distance\u001b[39m=\u001b[39m\u001b[39m0.6\u001b[39m, focalpoint\u001b[39m=\u001b[39m(\u001b[39m0.0\u001b[39m, \u001b[39m0.0\u001b[39m, \u001b[39m0.0\u001b[39m))\n\u001b[1;32m     15\u001b[0m \u001b[39mprint\u001b[39m(\n\u001b[1;32m     16\u001b[0m     \u001b[39m\"\u001b[39m\u001b[39mDistance from head origin to MEG origin: \u001b[39m\u001b[39m%0.1f\u001b[39;00m\u001b[39m mm\u001b[39m\u001b[39m\"\u001b[39m\n\u001b[1;32m     17\u001b[0m     \u001b[39m%\u001b[39m (\u001b[39m1000\u001b[39m \u001b[39m*\u001b[39m np\u001b[39m.\u001b[39mlinalg\u001b[39m.\u001b[39mnorm(raw\u001b[39m.\u001b[39minfo[\u001b[39m\"\u001b[39m\u001b[39mdev_head_t\u001b[39m\u001b[39m\"\u001b[39m][\u001b[39m\"\u001b[39m\u001b[39mtrans\u001b[39m\u001b[39m\"\u001b[39m][:\u001b[39m3\u001b[39m, \u001b[39m3\u001b[39m]))\n\u001b[1;32m     18\u001b[0m )\n\u001b[1;32m     19\u001b[0m \u001b[39mprint\u001b[39m(\n\u001b[1;32m     20\u001b[0m     \u001b[39m\"\u001b[39m\u001b[39mDistance from head origin to MRI origin: \u001b[39m\u001b[39m%0.1f\u001b[39;00m\u001b[39m mm\u001b[39m\u001b[39m\"\u001b[39m\n\u001b[0;32m---> 21\u001b[0m     \u001b[39m%\u001b[39m (\u001b[39m1000\u001b[39m \u001b[39m*\u001b[39m np\u001b[39m.\u001b[39mlinalg\u001b[39m.\u001b[39mnorm(trans[\u001b[39m\"\u001b[39;49m\u001b[39mtrans\u001b[39;49m\u001b[39m\"\u001b[39;49m][:\u001b[39m3\u001b[39m, \u001b[39m3\u001b[39m]))\n\u001b[1;32m     22\u001b[0m )\n\u001b[1;32m     23\u001b[0m dists \u001b[39m=\u001b[39m mne\u001b[39m.\u001b[39mdig_mri_distances(raw\u001b[39m.\u001b[39minfo, trans, \u001b[39m\"\u001b[39m\u001b[39mfsaverage\u001b[39m\u001b[39m\"\u001b[39m, subjects_dir\u001b[39m=\u001b[39msubjects_dir)\n\u001b[1;32m     24\u001b[0m \u001b[39mprint\u001b[39m(\n\u001b[1;32m     25\u001b[0m     \u001b[39m\"\u001b[39m\u001b[39mDistance from \u001b[39m\u001b[39m%s\u001b[39;00m\u001b[39m digitized points to head surface: \u001b[39m\u001b[39m%0.1f\u001b[39;00m\u001b[39m mm\u001b[39m\u001b[39m\"\u001b[39m\n\u001b[1;32m     26\u001b[0m     \u001b[39m%\u001b[39m (\u001b[39mlen\u001b[39m(dists), \u001b[39m1000\u001b[39m \u001b[39m*\u001b[39m np\u001b[39m.\u001b[39mmean(dists))\n\u001b[1;32m     27\u001b[0m )\n",
      "\u001b[0;31mTypeError\u001b[0m: string indices must be integers"
     ]
    }
   ],
   "source": [
    "fig = mne.viz.plot_alignment(\n",
    "    raw.info,\n",
    "    trans=trans,\n",
    "    subject=\"fsaverage\",\n",
    "    subjects_dir=subjects_dir,\n",
    "    surfaces=\"head-dense\",\n",
    "    show_axes=True,\n",
    "    dig=True,\n",
    "    eeg=[],\n",
    "    meg=\"sensors\",\n",
    "    coord_frame=\"meg\",\n",
    "    mri_fiducials=\"estimated\",\n",
    ")\n",
    "mne.viz.set_3d_view(fig, 45, 90, distance=0.6, focalpoint=(0.0, 0.0, 0.0))\n",
    "print(\n",
    "    \"Distance from head origin to MEG origin: %0.1f mm\"\n",
    "    % (1000 * np.linalg.norm(raw.info[\"dev_head_t\"][\"trans\"][:3, 3]))\n",
    ")\n",
    "print(\n",
    "    \"Distance from head origin to MRI origin: %0.1f mm\"\n",
    "    % (1000 * np.linalg.norm(trans[\"trans\"][:3, 3]))\n",
    ")\n",
    "dists = mne.dig_mri_distances(raw.info, trans, \"fsaverage\", subjects_dir=subjects_dir)\n",
    "print(\n",
    "    \"Distance from %s digitized points to head surface: %0.1f mm\"\n",
    "    % (len(dists), 1000 * np.mean(dists))\n",
    ")"
   ]
  },
  {
   "cell_type": "code",
   "execution_count": 13,
   "metadata": {},
   "outputs": [
    {
     "name": "stdout",
     "output_type": "stream",
     "text": [
      "Using fsaverage-head-dense.fif for head surface.\n",
      "    1 BEM surfaces found\n",
      "    Reading a surface...\n",
      "[done]\n",
      "    1 BEM surfaces read\n",
      "Getting helmet for system 306m\n",
      "Channel types::\tgrad: 203, mag: 102, eeg: 59\n"
     ]
    },
    {
     "data": {
      "text/plain": [
       "<mne.viz.backends._pyvista.PyVistaFigure at 0x7f6f183e81c0>"
      ]
     },
     "execution_count": 13,
     "metadata": {},
     "output_type": "execute_result"
    }
   ],
   "source": [
    "mne.viz.plot_alignment(\n",
    "    raw.info,\n",
    "    trans=trans,\n",
    "    subject=\"fsaverage\",\n",
    "    src=src,\n",
    "    subjects_dir=subjects_dir,\n",
    "    dig=True,\n",
    "    surfaces=[\"head-dense\", \"white\"],\n",
    "    coord_frame=\"meg\",\n",
    ")"
   ]
  },
  {
   "cell_type": "code",
   "execution_count": 10,
   "metadata": {},
   "outputs": [
    {
     "ename": "TypeError",
     "evalue": "string indices must be integers",
     "output_type": "error",
     "traceback": [
      "\u001b[0;31m---------------------------------------------------------------------------\u001b[0m",
      "\u001b[0;31mTypeError\u001b[0m                                 Traceback (most recent call last)",
      "Cell \u001b[0;32mIn[10], line 9\u001b[0m\n\u001b[1;32m      3\u001b[0m seghead_rr, seghead_tri \u001b[39m=\u001b[39m mne\u001b[39m.\u001b[39mread_surface(\n\u001b[1;32m      4\u001b[0m     subjects_dir \u001b[39m/\u001b[39m \u001b[39m\"\u001b[39m\u001b[39mfsaverage\u001b[39m\u001b[39m\"\u001b[39m \u001b[39m/\u001b[39m \u001b[39m\"\u001b[39m\u001b[39msurf\u001b[39m\u001b[39m\"\u001b[39m \u001b[39m/\u001b[39m \u001b[39m\"\u001b[39m\u001b[39mlh.seghead\u001b[39m\u001b[39m\"\u001b[39m\n\u001b[1;32m      5\u001b[0m )\n\u001b[1;32m      7\u001b[0m \u001b[39m# To put the scalp in the \"head\" coordinate frame, we apply the inverse of\u001b[39;00m\n\u001b[1;32m      8\u001b[0m \u001b[39m# the precomputed `trans` (which maps head → mri)\u001b[39;00m\n\u001b[0;32m----> 9\u001b[0m mri_to_head \u001b[39m=\u001b[39m linalg\u001b[39m.\u001b[39minv(trans[\u001b[39m\"\u001b[39;49m\u001b[39mtrans\u001b[39;49m\u001b[39m\"\u001b[39;49m])\n\u001b[1;32m     10\u001b[0m scalp_pts_in_head_coord \u001b[39m=\u001b[39m mne\u001b[39m.\u001b[39mtransforms\u001b[39m.\u001b[39mapply_trans(mri_to_head, seghead_rr, move\u001b[39m=\u001b[39m\u001b[39mTrue\u001b[39;00m)\n\u001b[1;32m     12\u001b[0m \u001b[39m# To put the scalp in the \"meg\" coordinate frame, we use the inverse of\u001b[39;00m\n\u001b[1;32m     13\u001b[0m \u001b[39m# raw.info['dev_head_t']\u001b[39;00m\n",
      "\u001b[0;31mTypeError\u001b[0m: string indices must be integers"
     ]
    }
   ],
   "source": [
    "# The head surface is stored in \"mri\" coordinate frame\n",
    "# (origin at center of volume, units=mm)\n",
    "seghead_rr, seghead_tri = mne.read_surface(\n",
    "    subjects_dir / \"fsaverage\" / \"surf\" / \"lh.seghead\"\n",
    ")\n",
    "\n",
    "# To put the scalp in the \"head\" coordinate frame, we apply the inverse of\n",
    "# the precomputed `trans` (which maps head → mri)\n",
    "mri_to_head = linalg.inv(trans[\"trans\"])\n",
    "scalp_pts_in_head_coord = mne.transforms.apply_trans(mri_to_head, seghead_rr, move=True)\n",
    "\n",
    "# To put the scalp in the \"meg\" coordinate frame, we use the inverse of\n",
    "# raw.info['dev_head_t']\n",
    "head_to_meg = linalg.inv(raw.info[\"dev_head_t\"][\"trans\"])\n",
    "scalp_pts_in_meg_coord = mne.transforms.apply_trans(\n",
    "    head_to_meg, scalp_pts_in_head_coord, move=True\n",
    ")\n",
    "\n",
    "# The \"mri_voxel\"→\"mri\" transform is embedded in the header of the T1 image\n",
    "# file. We'll invert it and then apply it to the original `seghead_rr` points.\n",
    "# No unit conversion necessary: this transform expects mm and the scalp surface\n",
    "# is defined in mm.\n",
    "vox_to_mri = t1_mgh.header.get_vox2ras_tkr()\n",
    "mri_to_vox = linalg.inv(vox_to_mri)\n",
    "scalp_points_in_vox = mne.transforms.apply_trans(mri_to_vox, seghead_rr, move=True)"
   ]
  },
  {
   "cell_type": "code",
   "execution_count": 8,
   "metadata": {},
   "outputs": [],
   "source": [
    "def add_head(renderer, points, color, opacity=0.95):\n",
    "    renderer.mesh(*points.T, triangles=seghead_tri, color=color, opacity=opacity)\n",
    "\n",
    "\n",
    "renderer = mne.viz.backends.renderer.create_3d_figure(\n",
    "    size=(600, 600), bgcolor=\"w\", scene=False\n",
    ")\n",
    "add_head(renderer, seghead_rr, \"gray\")\n",
    "add_head(renderer, scalp_pts_in_meg_coord, \"blue\")\n",
    "add_head(renderer, scalp_pts_in_head_coord, \"pink\")\n",
    "add_head(renderer, scalp_points_in_vox, \"green\")\n",
    "mne.viz.set_3d_view(\n",
    "    figure=renderer.figure,\n",
    "    distance=800,\n",
    "    focalpoint=(0.0, 30.0, 30.0),\n",
    "    elevation=105,\n",
    "    azimuth=180,\n",
    ")\n",
    "renderer.show()"
   ]
  },
  {
   "cell_type": "code",
   "execution_count": 9,
   "metadata": {},
   "outputs": [],
   "source": [
    "# Get the nasion:\n",
    "nasion = [\n",
    "    p\n",
    "    for p in raw.info[\"dig\"]\n",
    "    if p[\"kind\"] == FIFF.FIFFV_POINT_CARDINAL and p[\"ident\"] == FIFF.FIFFV_POINT_NASION\n",
    "][0]\n",
    "assert nasion[\"coord_frame\"] == FIFF.FIFFV_COORD_HEAD\n",
    "nasion = nasion[\"r\"]  # get just the XYZ values\n",
    "\n",
    "# Transform it from head to MRI space (recall that `trans` is head → mri)\n",
    "nasion_mri = mne.transforms.apply_trans(trans, nasion, move=True)\n",
    "# Then transform to voxel space, after converting from meters to millimeters\n",
    "nasion_vox = mne.transforms.apply_trans(mri_to_vox, nasion_mri * 1e3, move=True)\n",
    "# Plot it to make sure the transforms worked\n",
    "renderer = mne.viz.backends.renderer.create_3d_figure(\n",
    "    size=(400, 400), bgcolor=\"w\", scene=False\n",
    ")\n",
    "add_head(renderer, scalp_points_in_vox, \"green\", opacity=1)\n",
    "renderer.sphere(center=nasion_vox, color=\"orange\", scale=10)\n",
    "mne.viz.set_3d_view(\n",
    "    figure=renderer.figure,\n",
    "    distance=600.0,\n",
    "    focalpoint=(0.0, 125.0, 250.0),\n",
    "    elevation=45,\n",
    "    azimuth=180,\n",
    ")\n",
    "renderer.show()\n"
   ]
  }
 ],
 "metadata": {
  "kernelspec": {
   "display_name": "Python 3",
   "language": "python",
   "name": "python3"
  },
  "language_info": {
   "codemirror_mode": {
    "name": "ipython",
    "version": 3
   },
   "file_extension": ".py",
   "mimetype": "text/x-python",
   "name": "python",
   "nbconvert_exporter": "python",
   "pygments_lexer": "ipython3",
   "version": "3.10.8"
  },
  "orig_nbformat": 4
 },
 "nbformat": 4,
 "nbformat_minor": 2
}
