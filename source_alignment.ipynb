{
 "cells": [
  {
   "cell_type": "code",
   "execution_count": 36,
   "metadata": {},
   "outputs": [
    {
     "name": "stdout",
     "output_type": "stream",
     "text": [
      "Opening raw data file C:\\Users\\zhouz\\mne_data\\MNE-sample-data\\MEG\\sample\\sample_audvis_raw.fif...\n",
      "    Read a total of 3 projection items:\n",
      "        PCA-v1 (1 x 102)  idle\n",
      "        PCA-v2 (1 x 102)  idle\n",
      "        PCA-v3 (1 x 102)  idle\n",
      "    Range : 25800 ... 192599 =     42.956 ...   320.670 secs\n",
      "Ready.\n",
      "    Reading a source space...\n",
      "    [done]\n",
      "    Reading a source space...\n",
      "    [done]\n",
      "    2 source spaces read\n"
     ]
    }
   ],
   "source": [
    "# https://mne.tools/stable/auto_tutorials/forward/20_source_alignment.html\n",
    "\n",
    "import numpy as np\n",
    "import nibabel as nib\n",
    "from scipy import linalg\n",
    "\n",
    "import mne\n",
    "from mne.io.constants import FIFF\n",
    "\n",
    "data_path = mne.datasets.sample.data_path()\n",
    "# subjects_dir = data_path / \"subjects\"\n",
    "subjects_dir = 'C:/Users/zhouz/mne_data/MNE-fsaverage-data'\n",
    "raw_fname = data_path / \"MEG\" / \"sample\" / \"sample_audvis_raw.fif\"\n",
    "raw = mne.io.read_raw_fif(raw_fname)\n",
    "# trans_fname = data_path / \"MEG\" / \"sample\" / \"sample_audvis_raw-trans.fif\"\n",
    "# trans_fname = \"/home/zhibinz2/Documents/GitHub/MEG_EEG_Source_Localization/sample_fsaverage_trans.fif\"\n",
    "# trans_fname = 'C:/Users/zhouz/GitHub/MEG_EEG_Source_Localization/sample_fsaverage_trans.fif'\n",
    "# trans_fname = 'C:/Users/zhouz/GitHub/MEG_EEG_Source_Localization/sample_fsaverage_manual_trans.fif'\n",
    "trans_fname = 'sample_fsaverage_manual_trans.fif'\n",
    "# trans_fname = mne.read_trans(trans_fname)\n",
    "trans = mne.read_trans(trans_fname)\n",
    "# trans = \"fsaverage\" # mne.read_trans(trans_fname)\n",
    "\n",
    "# src = mne.read_source_spaces(subjects_dir / \"fsaverage\" / \"bem\" / \"fsaverage-ico-5-src.fif\")\n",
    "src = mne.read_source_spaces('C:/Users/zhouz/mne_data/MNE-fsaverage-data/fsaverage/bem/fsaverage-ico-5-src.fif')\n",
    "\n",
    "# Load the T1 file and change the header information to the correct units\n",
    "# t1w = nib.load(data_path / \"subjects\" / \"fsaverage\" / \"mri\" / \"T1.mgz\")\n",
    "t1w = nib.load('C:/Users/zhouz/mne_data/MNE-fsaverage-data/fsaverage/mri/T1.mgz')\n",
    "t1w = nib.Nifti1Image(t1w.dataobj, t1w.affine)\n",
    "t1w.header[\"xyzt_units\"] = np.array(10, dtype=\"uint8\")\n",
    "t1_mgh = nib.MGHImage(t1w.dataobj, t1w.affine)\n",
    "\n",
    "# fiducials = 'C:/Users/zhouz/mne_data/MNE-fsaverage-data/fsaverage/bem/fsaverage-fiducials.fif'"
   ]
  },
  {
   "cell_type": "code",
   "execution_count": 30,
   "metadata": {},
   "outputs": [
    {
     "data": {
      "text/html": [
       "<table class=\"table table-hover table-striped table-sm table-responsive small\">\n",
       "    <tr>\n",
       "        <th>Measurement date</th>\n",
       "        \n",
       "        <td>December 03, 2002  19:01:10 GMT</td>\n",
       "        \n",
       "    </tr>\n",
       "    <tr>\n",
       "        <th>Experimenter</th>\n",
       "        \n",
       "        <td>MEG</td>\n",
       "        \n",
       "    </tr>\n",
       "        <th>Participant</th>\n",
       "        \n",
       "        <td>Unknown</td>\n",
       "        \n",
       "    </tr>\n",
       "    <tr>\n",
       "        <th>Digitized points</th>\n",
       "        \n",
       "        <td>146 points</td>\n",
       "        \n",
       "    </tr>\n",
       "    <tr>\n",
       "        <th>Good channels</th>\n",
       "        <td>204 Gradiometers, 102 Magnetometers, 9 Stimulus, 60 EEG, 1 EOG</td>\n",
       "    </tr>\n",
       "    <tr>\n",
       "        <th>Bad channels</th>\n",
       "        <td>MEG 2443, EEG 053</td>\n",
       "    </tr>\n",
       "    <tr>\n",
       "        <th>EOG channels</th>\n",
       "        <td>EOG 061</td>\n",
       "    </tr>\n",
       "    <tr>\n",
       "        <th>ECG channels</th>\n",
       "        <td>Not available</td>\n",
       "    \n",
       "    <tr>\n",
       "        <th>Sampling frequency</th>\n",
       "        <td>600.61 Hz</td>\n",
       "    </tr>\n",
       "    \n",
       "    \n",
       "    <tr>\n",
       "        <th>Highpass</th>\n",
       "        <td>0.10 Hz</td>\n",
       "    </tr>\n",
       "    \n",
       "    \n",
       "    <tr>\n",
       "        <th>Lowpass</th>\n",
       "        <td>172.18 Hz</td>\n",
       "    </tr>\n",
       "    \n",
       "    \n",
       "    <tr>\n",
       "        <th>Projections</th>\n",
       "        <td>PCA-v1 : off<br/>PCA-v2 : off<br/>PCA-v3 : off</td>\n",
       "    </tr>\n",
       "    \n",
       "</table>"
      ],
      "text/plain": [
       "<Info | 21 non-empty values\n",
       " acq_pars: ACQch001 110113 ACQch002 110112 ACQch003 110111 ACQch004 110122 ...\n",
       " bads: 2 items (MEG 2443, EEG 053)\n",
       " ch_names: MEG 0113, MEG 0112, MEG 0111, MEG 0122, MEG 0123, MEG 0121, MEG ...\n",
       " chs: 204 Gradiometers, 102 Magnetometers, 9 Stimulus, 60 EEG, 1 EOG\n",
       " custom_ref_applied: False\n",
       " description: acquisition (megacq) VectorView system at NMR-MGH\n",
       " dev_head_t: MEG device -> head transform\n",
       " dig: 146 items (3 Cardinal, 4 HPI, 61 EEG, 78 Extra)\n",
       " events: 1 item (list)\n",
       " experimenter: MEG\n",
       " file_id: 4 items (dict)\n",
       " highpass: 0.1 Hz\n",
       " hpi_meas: 1 item (list)\n",
       " hpi_results: 1 item (list)\n",
       " lowpass: 172.2 Hz\n",
       " meas_date: 2002-12-03 19:01:10 UTC\n",
       " meas_id: 4 items (dict)\n",
       " nchan: 376\n",
       " proj_id: 1 item (ndarray)\n",
       " proj_name: test\n",
       " projs: PCA-v1: off, PCA-v2: off, PCA-v3: off\n",
       " sfreq: 600.6 Hz\n",
       ">"
      ]
     },
     "execution_count": 30,
     "metadata": {},
     "output_type": "execute_result"
    }
   ],
   "source": [
    "raw.info"
   ]
  },
  {
   "cell_type": "code",
   "execution_count": 28,
   "metadata": {},
   "outputs": [
    {
     "data": {
      "text/plain": [
       "<Transform | MEG device->head>\n",
       "[[ 0.99141997 -0.03993636 -0.12446729 -0.00612931]\n",
       " [ 0.06066115  0.98401171  0.16745624  0.00006361]\n",
       " [ 0.11578966 -0.17356974  0.97799116  0.06474152]\n",
       " [ 0.          0.          0.          1.        ]]"
      ]
     },
     "execution_count": 28,
     "metadata": {},
     "output_type": "execute_result"
    }
   ],
   "source": [
    "# The HPI coils are shown as magenta spheres. Coregistration happens at the beginning of the recording and \n",
    "# the head↔meg transformation matrix is stored in\n",
    "raw.info['dev_head_t']"
   ]
  },
  {
   "cell_type": "code",
   "execution_count": 37,
   "metadata": {},
   "outputs": [
    {
     "name": "stdout",
     "output_type": "stream",
     "text": [
      "Using outer_skin.surf for head surface.\n",
      "Channel types::\tgrad: 203, mag: 102\n",
      "Distance from head origin to MEG origin: 65.0 mm\n",
      "Using surface from C:\\Users\\zhouz\\mne_data\\MNE-fsaverage-data\\fsaverage\\bem\\fsaverage-head-dense.fif.\n",
      "Distance from 72 digitized points to head surface: 4.8 mm\n"
     ]
    }
   ],
   "source": [
    "# Understanding coordinate frames\n",
    "fig = mne.viz.plot_alignment(\n",
    "    raw.info,\n",
    "    trans=trans,\n",
    "    subject=\"fsaverage\",\n",
    "    subjects_dir=subjects_dir,\n",
    "    surfaces=\"head\",\n",
    "    show_axes=True,\n",
    "    dig=True,\n",
    "    eeg=[],\n",
    "    meg=\"sensors\",\n",
    "    coord_frame=\"meg\",\n",
    "    mri_fiducials=\"estimated\",\n",
    ")\n",
    "# mri_fiducials= fiducials\n",
    "# mri_fiducials=\"estimated\"\n",
    "# mri_fiducials=True,\n",
    "\n",
    "mne.viz.set_3d_view(fig, 90, 90, distance=0.6, focalpoint=(0.0, 0.0, 0.0))\n",
    "print(\n",
    "    \"Distance from head origin to MEG origin: %0.1f mm\"\n",
    "    % (1000 * np.linalg.norm(raw.info[\"dev_head_t\"][\"trans\"][:3, 3]))\n",
    ")\n",
    "# print(\n",
    "#     \"Distance from head origin to MRI origin: %0.1f mm\"\n",
    "#     % (1000 * np.linalg.norm(trans[\"trans\"][:3, 3]))\n",
    "# )\n",
    "dists = mne.dig_mri_distances(raw.info, trans, \"fsaverage\", subjects_dir=subjects_dir)\n",
    "print(\n",
    "    \"Distance from %s digitized points to head surface: %0.1f mm\"\n",
    "    % (len(dists), 1000 * np.mean(dists))\n",
    ")"
   ]
  },
  {
   "cell_type": "code",
   "execution_count": 35,
   "metadata": {},
   "outputs": [
    {
     "name": "stdout",
     "output_type": "stream",
     "text": [
      "Using outer_skin.surf for head surface.\n",
      "Channel types::\tgrad: 203, mag: 102, eeg: 59\n"
     ]
    },
    {
     "data": {
      "text/plain": [
       "<mne.viz.backends._pyvista.PyVistaFigure at 0x2044e6108b0>"
      ]
     },
     "execution_count": 35,
     "metadata": {},
     "output_type": "execute_result"
    }
   ],
   "source": [
    "# good example\n",
    "mne.viz.plot_alignment(\n",
    "    raw.info,\n",
    "    trans=trans,\n",
    "    subject=\"fsaverage\",\n",
    "    src=src,\n",
    "    subjects_dir=subjects_dir,\n",
    "    dig=True,\n",
    "    surfaces=['head',\"pial\"],\n",
    "    coord_frame=\"mri\",\n",
    "    meg='sensors'\n",
    ")\n",
    "\n",
    "# surfaces=['head\",white\"]\n",
    "# surfaces=['head-dense\",white\"]\n",
    "# surfaces=['inner_skull',\"white\"]\n",
    "# surfaces=['inner_skull',\"pial\"],\n",
    "# meg='sensors','ref','helmet'"
   ]
  },
  {
   "cell_type": "code",
   "execution_count": 38,
   "metadata": {},
   "outputs": [
    {
     "ename": "TypeError",
     "evalue": "unsupported operand type(s) for /: 'str' and 'str'",
     "output_type": "error",
     "traceback": [
      "\u001b[1;31m---------------------------------------------------------------------------\u001b[0m",
      "\u001b[1;31mTypeError\u001b[0m                                 Traceback (most recent call last)",
      "Cell \u001b[1;32mIn[38], line 4\u001b[0m\n\u001b[0;32m      1\u001b[0m \u001b[39m# The head surface is stored in \"mri\" coordinate frame\u001b[39;00m\n\u001b[0;32m      2\u001b[0m \u001b[39m# (origin at center of volume, units=mm)\u001b[39;00m\n\u001b[0;32m      3\u001b[0m seghead_rr, seghead_tri \u001b[39m=\u001b[39m mne\u001b[39m.\u001b[39mread_surface(\n\u001b[1;32m----> 4\u001b[0m     subjects_dir \u001b[39m/\u001b[39;49m \u001b[39m\"\u001b[39;49m\u001b[39mfsaverage\u001b[39;49m\u001b[39m\"\u001b[39;49m \u001b[39m/\u001b[39m \u001b[39m\"\u001b[39m\u001b[39msurf\u001b[39m\u001b[39m\"\u001b[39m \u001b[39m/\u001b[39m \u001b[39m\"\u001b[39m\u001b[39mlh.seghead\u001b[39m\u001b[39m\"\u001b[39m\n\u001b[0;32m      5\u001b[0m )\n\u001b[0;32m      7\u001b[0m \u001b[39m# To put the scalp in the \"head\" coordinate frame, we apply the inverse of\u001b[39;00m\n\u001b[0;32m      8\u001b[0m \u001b[39m# the precomputed `trans` (which maps head → mri)\u001b[39;00m\n\u001b[0;32m      9\u001b[0m \u001b[39m# mri_to_head = linalg.inv(trans[\"trans\"])\u001b[39;00m\n\u001b[0;32m     10\u001b[0m mri_to_head \u001b[39m=\u001b[39m linalg\u001b[39m.\u001b[39minv(trans[\u001b[39m\"\u001b[39m\u001b[39mtrans\u001b[39m\u001b[39m\"\u001b[39m])\n",
      "\u001b[1;31mTypeError\u001b[0m: unsupported operand type(s) for /: 'str' and 'str'"
     ]
    }
   ],
   "source": [
    "# The head surface is stored in \"mri\" coordinate frame\n",
    "# (origin at center of volume, units=mm)\n",
    "seghead_rr, seghead_tri = mne.read_surface(\n",
    "    subjects_dir / \"fsaverage\" / \"surf\" / \"lh.seghead\"\n",
    ")\n",
    "\n",
    "# To put the scalp in the \"head\" coordinate frame, we apply the inverse of\n",
    "# the precomputed `trans` (which maps head → mri)\n",
    "# mri_to_head = linalg.inv(trans[\"trans\"])\n",
    "mri_to_head = linalg.inv(trans[\"trans\"])\n",
    "scalp_pts_in_head_coord = mne.transforms.apply_trans(mri_to_head, seghead_rr, move=True)\n",
    "\n",
    "# To put the scalp in the \"meg\" coordinate frame, we use the inverse of\n",
    "# raw.info['dev_head_t']\n",
    "head_to_meg = linalg.inv(raw.info[\"dev_head_t\"][\"trans\"])\n",
    "scalp_pts_in_meg_coord = mne.transforms.apply_trans(\n",
    "    head_to_meg, scalp_pts_in_head_coord, move=True\n",
    ")\n",
    "\n",
    "# The \"mri_voxel\"→\"mri\" transform is embedded in the header of the T1 image\n",
    "# file. We'll invert it and then apply it to the original `seghead_rr` points.\n",
    "# No unit conversion necessary: this transform expects mm and the scalp surface\n",
    "# is defined in mm.\n",
    "vox_to_mri = t1_mgh.header.get_vox2ras_tkr()\n",
    "mri_to_vox = linalg.inv(vox_to_mri)\n",
    "scalp_points_in_vox = mne.transforms.apply_trans(mri_to_vox, seghead_rr, move=True)"
   ]
  },
  {
   "cell_type": "code",
   "execution_count": 17,
   "metadata": {},
   "outputs": [
    {
     "ename": "NameError",
     "evalue": "name 'scalp_pts_in_meg_coord' is not defined",
     "output_type": "error",
     "traceback": [
      "\u001b[1;31m---------------------------------------------------------------------------\u001b[0m",
      "\u001b[1;31mNameError\u001b[0m                                 Traceback (most recent call last)",
      "Cell \u001b[1;32mIn[17], line 9\u001b[0m\n\u001b[0;32m      5\u001b[0m renderer \u001b[39m=\u001b[39m mne\u001b[39m.\u001b[39mviz\u001b[39m.\u001b[39mbackends\u001b[39m.\u001b[39mrenderer\u001b[39m.\u001b[39mcreate_3d_figure(\n\u001b[0;32m      6\u001b[0m     size\u001b[39m=\u001b[39m(\u001b[39m600\u001b[39m, \u001b[39m600\u001b[39m), bgcolor\u001b[39m=\u001b[39m\u001b[39m\"\u001b[39m\u001b[39mw\u001b[39m\u001b[39m\"\u001b[39m, scene\u001b[39m=\u001b[39m\u001b[39mFalse\u001b[39;00m\n\u001b[0;32m      7\u001b[0m )\n\u001b[0;32m      8\u001b[0m add_head(renderer, seghead_rr, \u001b[39m\"\u001b[39m\u001b[39mgray\u001b[39m\u001b[39m\"\u001b[39m)\n\u001b[1;32m----> 9\u001b[0m add_head(renderer, scalp_pts_in_meg_coord, \u001b[39m\"\u001b[39m\u001b[39mblue\u001b[39m\u001b[39m\"\u001b[39m)\n\u001b[0;32m     10\u001b[0m add_head(renderer, scalp_pts_in_head_coord, \u001b[39m\"\u001b[39m\u001b[39mpink\u001b[39m\u001b[39m\"\u001b[39m)\n\u001b[0;32m     11\u001b[0m add_head(renderer, scalp_points_in_vox, \u001b[39m\"\u001b[39m\u001b[39mgreen\u001b[39m\u001b[39m\"\u001b[39m)\n",
      "\u001b[1;31mNameError\u001b[0m: name 'scalp_pts_in_meg_coord' is not defined"
     ]
    }
   ],
   "source": [
    "def add_head(renderer, points, color, opacity=0.95):\n",
    "    renderer.mesh(*points.T, triangles=seghead_tri, color=color, opacity=opacity)\n",
    "\n",
    "\n",
    "renderer = mne.viz.backends.renderer.create_3d_figure(\n",
    "    size=(600, 600), bgcolor=\"w\", scene=False\n",
    ")\n",
    "add_head(renderer, seghead_rr, \"gray\")\n",
    "add_head(renderer, scalp_pts_in_meg_coord, \"blue\")\n",
    "add_head(renderer, scalp_pts_in_head_coord, \"pink\")\n",
    "add_head(renderer, scalp_points_in_vox, \"green\")\n",
    "mne.viz.set_3d_view(\n",
    "    figure=renderer.figure,\n",
    "    distance=800,\n",
    "    focalpoint=(0.0, 30.0, 30.0),\n",
    "    elevation=105,\n",
    "    azimuth=180,\n",
    ")\n",
    "renderer.show()"
   ]
  },
  {
   "cell_type": "code",
   "execution_count": 18,
   "metadata": {},
   "outputs": [
    {
     "ename": "TypeError",
     "evalue": "string indices must be integers",
     "output_type": "error",
     "traceback": [
      "\u001b[1;31m---------------------------------------------------------------------------\u001b[0m",
      "\u001b[1;31mTypeError\u001b[0m                                 Traceback (most recent call last)",
      "Cell \u001b[1;32mIn[18], line 11\u001b[0m\n\u001b[0;32m      8\u001b[0m nasion \u001b[39m=\u001b[39m nasion[\u001b[39m\"\u001b[39m\u001b[39mr\u001b[39m\u001b[39m\"\u001b[39m]  \u001b[39m# get just the XYZ values\u001b[39;00m\n\u001b[0;32m     10\u001b[0m \u001b[39m# Transform it from head to MRI space (recall that `trans` is head → mri)\u001b[39;00m\n\u001b[1;32m---> 11\u001b[0m nasion_mri \u001b[39m=\u001b[39m mne\u001b[39m.\u001b[39;49mtransforms\u001b[39m.\u001b[39;49mapply_trans(trans, nasion, move\u001b[39m=\u001b[39;49m\u001b[39mTrue\u001b[39;49;00m)\n\u001b[0;32m     12\u001b[0m \u001b[39m# Then transform to voxel space, after converting from meters to millimeters\u001b[39;00m\n\u001b[0;32m     13\u001b[0m nasion_vox \u001b[39m=\u001b[39m mne\u001b[39m.\u001b[39mtransforms\u001b[39m.\u001b[39mapply_trans(mri_to_vox, nasion_mri \u001b[39m*\u001b[39m \u001b[39m1e3\u001b[39m, move\u001b[39m=\u001b[39m\u001b[39mTrue\u001b[39;00m)\n",
      "File \u001b[1;32mc:\\Users\\zhouz\\mne-python\\1.3.1_0\\envs\\mne\\lib\\site-packages\\mne\\transforms.py:267\u001b[0m, in \u001b[0;36mapply_trans\u001b[1;34m(trans, pts, move)\u001b[0m\n\u001b[0;32m    264\u001b[0m     \u001b[39mreturn\u001b[39;00m pts\u001b[39m.\u001b[39mcopy()\n\u001b[0;32m    266\u001b[0m \u001b[39m# apply rotation & scale\u001b[39;00m\n\u001b[1;32m--> 267\u001b[0m out_pts \u001b[39m=\u001b[39m np\u001b[39m.\u001b[39mdot(pts, trans[:\u001b[39m3\u001b[39;49m, :\u001b[39m3\u001b[39;49m]\u001b[39m.\u001b[39mT)\n\u001b[0;32m    268\u001b[0m \u001b[39m# apply translation\u001b[39;00m\n\u001b[0;32m    269\u001b[0m \u001b[39mif\u001b[39;00m move:\n",
      "\u001b[1;31mTypeError\u001b[0m: string indices must be integers"
     ]
    }
   ],
   "source": [
    "# Get the nasion:\n",
    "nasion = [\n",
    "    p\n",
    "    for p in raw.info[\"dig\"]\n",
    "    if p[\"kind\"] == FIFF.FIFFV_POINT_CARDINAL and p[\"ident\"] == FIFF.FIFFV_POINT_NASION\n",
    "][0]\n",
    "assert nasion[\"coord_frame\"] == FIFF.FIFFV_COORD_HEAD\n",
    "nasion = nasion[\"r\"]  # get just the XYZ values\n",
    "\n",
    "# Transform it from head to MRI space (recall that `trans` is head → mri)\n",
    "nasion_mri = mne.transforms.apply_trans(trans, nasion, move=True)\n",
    "# Then transform to voxel space, after converting from meters to millimeters\n",
    "nasion_vox = mne.transforms.apply_trans(mri_to_vox, nasion_mri * 1e3, move=True)\n",
    "# Plot it to make sure the transforms worked\n",
    "renderer = mne.viz.backends.renderer.create_3d_figure(\n",
    "    size=(400, 400), bgcolor=\"w\", scene=False\n",
    ")\n",
    "add_head(renderer, scalp_points_in_vox, \"green\", opacity=1)\n",
    "renderer.sphere(center=nasion_vox, color=\"orange\", scale=10)\n",
    "mne.viz.set_3d_view(\n",
    "    figure=renderer.figure,\n",
    "    distance=600.0,\n",
    "    focalpoint=(0.0, 125.0, 250.0),\n",
    "    elevation=45,\n",
    "    azimuth=180,\n",
    ")\n",
    "renderer.show()\n"
   ]
  }
 ],
 "metadata": {
  "kernelspec": {
   "display_name": "Python 3",
   "language": "python",
   "name": "python3"
  },
  "language_info": {
   "codemirror_mode": {
    "name": "ipython",
    "version": 3
   },
   "file_extension": ".py",
   "mimetype": "text/x-python",
   "name": "python",
   "nbconvert_exporter": "python",
   "pygments_lexer": "ipython3",
   "version": "3.10.11"
  },
  "orig_nbformat": 4
 },
 "nbformat": 4,
 "nbformat_minor": 2
}
