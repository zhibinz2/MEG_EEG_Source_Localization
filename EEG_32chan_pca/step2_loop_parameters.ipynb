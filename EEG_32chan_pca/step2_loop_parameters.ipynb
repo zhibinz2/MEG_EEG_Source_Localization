{
 "cells": [
  {
   "cell_type": "code",
   "execution_count": 1,
   "metadata": {},
   "outputs": [],
   "source": [
    "from hdf5storage import loadmat, savemat "
   ]
  },
  {
   "cell_type": "code",
   "execution_count": 2,
   "metadata": {},
   "outputs": [],
   "source": [
    "# scales=[0.01, 0.05, 0.1, 0.3, 0.5]\n",
    "# # scale=0.05\n",
    "# # depths=[0.8, 1, 2, 4]\n",
    "# depth=0.8\n",
    "# # spacings=['ico2' 'ico3','ico4','ico5'] # correspond to 162x2 642x2 2562x2 10242x2 sources\n",
    "# # icos=[2, 3, 4, 5]\n",
    "# ico=4\n",
    "# # icos=[4]\n",
    "\n",
    "# # methods = ['MNE','dSPM','sLORETA','eLORETA'] # **********************************************\n",
    "# methods = ['MNE','sLORETA','eLORETA']"
   ]
  },
  {
   "cell_type": "code",
   "execution_count": 3,
   "metadata": {},
   "outputs": [],
   "source": [
    "# # delete all variables\n",
    "# for v in dir():\n",
    "#     exec('del '+ v)\n",
    "#     del v"
   ]
  },
  {
   "cell_type": "code",
   "execution_count": 4,
   "metadata": {},
   "outputs": [],
   "source": [
    "# ico=icos[2]\n",
    "# %run Import_fwd_inv_correlation.ipynb\n",
    "# # save outputs all in one mat file. \n",
    "# outdict=dict()\n",
    "# outdict['leadfield']=leadfield # leadfield matrix\n",
    "# outdict['invmat']=invmat #  inverse matrix\n",
    "# outdict['source_rr']=source_rr # the source location AND labels (matlab)\n",
    "# outdict['sim_cov_mat']=sim_cov_mat # noise covariance\n",
    "# outdict['scale']=scale # scale\n",
    "# outdict['depth']=depth # depth\n",
    "# outdict['conductivity']=conductivity # 3 layrs conductivity\n",
    "# outdict['ch_bad']=ch_bad #  inverse matrix\n",
    "# outdict['ch_dubious']=ch_dubious # \n",
    "# outdict['ch_names']=ch_names #  \n",
    "# outdict['Coordinates']=Coordinates #  \n",
    "# outdict['corrcoef_diag']=corrcoef_diag #  \n",
    "# outdict['subject_ID']=subject_ID #  \n",
    "# savemat(subject_ID+'_ico_'+str(ico)+'_scale_'+str(scale)+'_depth_'+str(depth),outdict)\n",
    "# # %reset -f\n",
    "# # for ico5, it breaks after 40"
   ]
  },
  {
   "cell_type": "code",
   "execution_count": 9,
   "metadata": {},
   "outputs": [
    {
     "name": "stdout",
     "output_type": "stream",
     "text": [
      "<Info | 9 non-empty values\n",
      " bads: []\n",
      " ch_names: E1, E2, E3, E4, E5, E6, E7, E8, E9, E10, E11, E12, E13, E14, ...\n",
      " chs: 32 EEG\n",
      " custom_ref_applied: False\n",
      " description: 20220713\n",
      " dig: 35 items (3 Cardinal, 32 EEG)\n",
      " highpass: 0.0 Hz\n",
      " lowpass: 1000.0 Hz\n",
      " meas_date: unspecified\n",
      " nchan: 32\n",
      " projs: []\n",
      " sfreq: 2000.0 Hz\n",
      ">\n",
      "Creating RawArray with float64 data, n_channels=32, n_times=258122\n",
      "    Range : 0 ... 258121 =      0.000 ...   129.060 secs\n",
      "Ready.\n",
      "EEG channel type selected for re-referencing\n",
      "Adding average EEG reference projection.\n",
      "1 projection items deactivated\n",
      "Average reference projection was added, but has not been applied yet. Use the apply_proj method to apply it.\n",
      "Overwriting existing file.\n",
      "Writing /home/zhibinz2/Documents/GitHub/MEG_EEG_Source_Localization/EEG_spacing_32chan/raw.fif\n",
      "Closing /home/zhibinz2/Documents/GitHub/MEG_EEG_Source_Localization/EEG_spacing_32chan/raw.fif\n",
      "[done]\n",
      "Setting up the source space with the following parameters:\n",
      "\n",
      "SUBJECTS_DIR = /home/zhibinz2/Documents/GitHub/MEG_EEG_Source_Localization/EEG_spacing_32chan/../../archive/subjects\n",
      "Subject      = fsaverage\n",
      "Surface      = white\n",
      "Icosahedron subdivision grade 4\n",
      "\n",
      ">>> 1. Creating the source space...\n",
      "\n",
      "Doing the icosahedral vertex picking...\n",
      "Loading /home/zhibinz2/Documents/GitHub/MEG_EEG_Source_Localization/EEG_spacing_32chan/../../archive/subjects/fsaverage/surf/lh.white...\n",
      "Mapping lh fsaverage -> ico (4) ...\n",
      "    Warning: zero size triangles: [3 4]\n",
      "    Triangle neighbors and vertex normals...\n",
      "Loading geometry from /home/zhibinz2/Documents/GitHub/MEG_EEG_Source_Localization/EEG_spacing_32chan/../../archive/subjects/fsaverage/surf/lh.sphere...\n",
      "Setting up the triangulation for the decimated surface...\n",
      "loaded lh.white 2562/163842 selected to source space (ico = 4)\n",
      "\n",
      "Loading /home/zhibinz2/Documents/GitHub/MEG_EEG_Source_Localization/EEG_spacing_32chan/../../archive/subjects/fsaverage/surf/rh.white...\n",
      "Mapping rh fsaverage -> ico (4) ...\n",
      "    Warning: zero size triangles: [3 4]\n",
      "    Triangle neighbors and vertex normals...\n",
      "Loading geometry from /home/zhibinz2/Documents/GitHub/MEG_EEG_Source_Localization/EEG_spacing_32chan/../../archive/subjects/fsaverage/surf/rh.sphere...\n",
      "Setting up the triangulation for the decimated surface...\n",
      "loaded rh.white 2562/163842 selected to source space (ico = 4)\n",
      "\n",
      "Calculating patch information (limit=0.0 mm)...\n",
      "    Computing patch statistics...\n",
      "    Patch information added...\n",
      "    Computing patch statistics...\n",
      "    Patch information added...\n",
      "You are now one step closer to computing the gain matrix\n",
      "Creating the BEM geometry...\n",
      "Going from 5th to 4th subdivision of an icosahedron (n_tri: 20480 -> 5120)\n",
      "Going from 5th to 4th subdivision of an icosahedron (n_tri: 20480 -> 5120)\n",
      "Going from 5th to 4th subdivision of an icosahedron (n_tri: 20480 -> 5120)\n",
      "outer skin  CM is  -0.21 -19.38  -0.23 mm\n",
      "outer skull CM is  -0.19 -19.34  -0.49 mm\n",
      "inner skull CM is  -0.53 -21.10   6.21 mm\n",
      "Checking that surface outer skull is inside surface outer skin  ...\n",
      "Checking that surface inner skull is inside surface outer skull ...\n",
      "Checking distance between outer skin  and outer skull surfaces...\n",
      "Minimum distance between the outer skin  and outer skull surfaces is approximately    1.6 mm\n",
      "Checking distance between outer skull and inner skull surfaces...\n",
      "Minimum distance between the outer skull and inner skull surfaces is approximately    5.4 mm\n",
      "Surfaces passed the basic topology checks.\n",
      "Complete.\n",
      "\n",
      "Three-layer model surfaces loaded.\n",
      "Computing the linear collocation solution...\n",
      "    Matrix coefficients...\n",
      "        outer skin  (2562) -> outer skin  (2562) ...\n",
      "        outer skin  (2562) -> outer skull (2562) ...\n",
      "        outer skin  (2562) -> inner skull (2562) ...\n",
      "        outer skull (2562) -> outer skin  (2562) ...\n",
      "        outer skull (2562) -> outer skull (2562) ...\n",
      "        outer skull (2562) -> inner skull (2562) ...\n",
      "        inner skull (2562) -> outer skin  (2562) ...\n",
      "        inner skull (2562) -> outer skull (2562) ...\n",
      "        inner skull (2562) -> inner skull (2562) ...\n",
      "    Inverting the coefficient matrix...\n",
      "IP approach required...\n",
      "    Matrix coefficients (homog)...\n",
      "        inner skull (2562) -> inner skull (2562) ...\n",
      "    Inverting the coefficient matrix (homog)...\n",
      "    Modify the original solution to incorporate IP approach...\n",
      "        Combining...\n",
      "        Scaling...\n",
      "Solution ready.\n",
      "BEM geometry computations complete.\n",
      "Source space          : <SourceSpaces: [<surface (lh), n_vertices=163842, n_used=2562>, <surface (rh), n_vertices=163842, n_used=2562>] MRI (surface RAS) coords, subject 'fsaverage', ~30.8 MB>\n",
      "MRI -> head transform : ./tmsi_trans.fif\n",
      "Measurement data      : raw.fif\n",
      "Conductor model   : instance of ConductorModel\n",
      "Accurate field computations\n",
      "Do computations in head coordinates\n",
      "Free source orientations\n",
      "\n",
      "Read 2 source spaces a total of 5124 active source locations\n",
      "\n",
      "Coordinate transformation: MRI (surface RAS) -> head\n",
      "     0.999231 -0.035340  0.017012      -2.10 mm\n",
      "     0.036517  0.996533 -0.074755      12.96 mm\n",
      "    -0.014311  0.075319  0.997057      -2.61 mm\n",
      "     0.000000  0.000000  0.000000       1.00\n",
      "\n",
      "Read  32 EEG channels from info\n",
      "Head coordinate coil definitions created.\n",
      "Source spaces are now in head coordinates.\n",
      "\n",
      "Employing the head->MRI coordinate transform with the BEM model.\n",
      "BEM model instance of ConductorModel is now set up\n",
      "\n",
      "Source spaces are in head coordinates.\n",
      "Checking that the sources are inside the surface and at least    5.0 mm away (will take a few...)\n",
      "Checking surface interior status for 2562 points...\n",
      "    Found  609/2562 points inside  an interior sphere of radius   47.7 mm\n",
      "    Found    0/2562 points outside an exterior sphere of radius   98.3 mm\n",
      "    Found    0/1953 points outside using surface Qhull\n"
     ]
    },
    {
     "name": "stderr",
     "output_type": "stream",
     "text": [
      "[Parallel(n_jobs=2)]: Using backend LokyBackend with 2 concurrent workers.\n"
     ]
    },
    {
     "name": "stdout",
     "output_type": "stream",
     "text": [
      "    Found    0/1953 points outside using solid angles\n",
      "    Total 2562/2562 points inside the surface\n",
      "Interior check completed in 6644.2 ms\n",
      "Checking surface interior status for 2562 points...\n",
      "    Found  561/2562 points inside  an interior sphere of radius   47.7 mm\n",
      "    Found    0/2562 points outside an exterior sphere of radius   98.3 mm\n",
      "    Found    0/2001 points outside using surface Qhull\n"
     ]
    },
    {
     "name": "stderr",
     "output_type": "stream",
     "text": [
      "[Parallel(n_jobs=2)]: Done   2 out of   2 | elapsed:    6.6s remaining:    0.0s\n",
      "[Parallel(n_jobs=2)]: Done   2 out of   2 | elapsed:    6.6s finished\n",
      "[Parallel(n_jobs=2)]: Using backend LokyBackend with 2 concurrent workers.\n"
     ]
    },
    {
     "name": "stdout",
     "output_type": "stream",
     "text": [
      "    Found    0/2001 points outside using solid angles\n",
      "    Total 2562/2562 points inside the surface\n",
      "Interior check completed in 493.3 ms\n",
      "\n",
      "Setting up for EEG...\n"
     ]
    },
    {
     "name": "stderr",
     "output_type": "stream",
     "text": [
      "[Parallel(n_jobs=2)]: Done   2 out of   2 | elapsed:    0.5s remaining:    0.0s\n",
      "[Parallel(n_jobs=2)]: Done   2 out of   2 | elapsed:    0.5s finished\n"
     ]
    },
    {
     "name": "stdout",
     "output_type": "stream",
     "text": [
      "Computing EEG at 5124 source locations (free orientations)...\n"
     ]
    },
    {
     "name": "stderr",
     "output_type": "stream",
     "text": [
      "[Parallel(n_jobs=2)]: Using backend LokyBackend with 2 concurrent workers.\n"
     ]
    },
    {
     "name": "stdout",
     "output_type": "stream",
     "text": [
      "\n",
      "Finished.\n",
      "<Forward | MEG channels: 0 | EEG channels: 32 | Source space: Surface with 5124 vertices | Source orientation: Free>\n",
      "    Average patch normals will be employed in the rotation to the local surface coordinates....\n",
      "    Converting to surface-based source orientations...\n",
      "    [done]\n",
      "Leadfield size : 32 sensors x 5124 dipoles\n",
      "Overwriting existing file.\n"
     ]
    },
    {
     "name": "stderr",
     "output_type": "stream",
     "text": [
      "[Parallel(n_jobs=2)]: Done   2 out of   2 | elapsed:    1.9s remaining:    0.0s\n",
      "[Parallel(n_jobs=2)]: Done   2 out of   2 | elapsed:    1.9s finished\n",
      "/tmp/ipykernel_496028/1225453021.py:1: RuntimeWarning: This filename (fwd.fif) does not conform to MNE naming conventions. All forward files should end with -fwd.fif, -fwd.fif.gz, _fwd.fif or _fwd.fif.gz\n",
      "  mne.write_forward_solution('fwd.fif', fwd_fixed, overwrite=True, verbose=None)\n"
     ]
    },
    {
     "name": "stdout",
     "output_type": "stream",
     "text": [
      "    Write a source space...\n",
      "    [done]\n",
      "    Write a source space...\n",
      "    [done]\n",
      "    2 source spaces written\n",
      "Using up to 645 segments\n",
      "Number of samples used : 258000\n",
      "[done]\n",
      "    Average patch normals will be employed in the rotation to the local surface coordinates....\n",
      "    Converting to surface-based source orientations...\n"
     ]
    },
    {
     "name": "stderr",
     "output_type": "stream",
     "text": [
      "/tmp/ipykernel_496028/1225453021.py:1: RuntimeWarning: This forward solution is based on a forward solution with free orientation. The original forward solution is stored on disk in X/Y/Z RAS coordinates. Any transformation (surface orientation or fixed orientation) will be reverted. To reapply any transformation to the forward operator please apply convert_forward_solution after reading the forward solution with read_forward_solution.\n",
      "  mne.write_forward_solution('fwd.fif', fwd_fixed, overwrite=True, verbose=None)\n"
     ]
    },
    {
     "name": "stdout",
     "output_type": "stream",
     "text": [
      "    [done]\n",
      "Computing inverse operator with 32 channels.\n",
      "    32 out of 32 channels remain after picking\n",
      "Selected 32 channels\n",
      "Creating the depth weighting matrix...\n",
      "    32 EEG channels\n",
      "    limit = 5125/5124 = 3.100642\n",
      "    scale = 58980.7 exp = 0.8\n",
      "    Picked elements from a free-orientation depth-weighting prior into the fixed-orientation one\n",
      "    Average patch normals will be employed in the rotation to the local surface coordinates....\n",
      "    Converting to surface-based source orientations...\n",
      "    [done]\n",
      "Whitening the forward solution.\n",
      "    Created an SSP operator (subspace dimension = 1)\n",
      "Computing rank from covariance with rank=None\n",
      "    Using tolerance 4.3e-10 (2.2e-16 eps * 32 dim * 6e+04  max singular value)\n",
      "    Estimated rank (eeg): 31\n",
      "    EEG: rank 31 computed from 32 data channels with 1 projector\n",
      "    Setting small EEG eigenvalues to zero (without PCA)\n",
      "Creating the source covariance matrix\n",
      "Adjusting source covariance matrix.\n",
      "Computing SVD of whitened and weighted lead field matrix.\n",
      "    largest singular value = 3.39972\n",
      "    scaling factor to adjust the trace = 4.01007e+13 (nchan = 32 nzero = 1)\n",
      "Preparing the inverse operator for use...\n",
      "    Scaled noise and source covariance from nave = 1 to nave = 1\n",
      "    Created the regularized inverter\n",
      "    Created an SSP operator (subspace dimension = 1)\n",
      "    Created the whitener using a noise covariance matrix with rank 31 (1 small eigenvalues omitted)\n",
      "Applying inverse operator to \"\"...\n",
      "    Picked 32 channels from the data\n",
      "    Computing inverse...\n",
      "    Eigenleads need to be weighted ...\n",
      "    Computing residual...\n",
      "    Explained  60.3% variance\n",
      "[done]\n",
      "Dimension of Inverse Matrix: (5124, 32)\n"
     ]
    },
    {
     "name": "stderr",
     "output_type": "stream",
     "text": [
      "/tmp/ipykernel_496028/1154960953.py:2: DeprecationWarning: The truth value of an empty array is ambiguous. Returning False, but in future this will result in an error. Use `array.size > 0` to check that an array is not empty.\n",
      "  if ch_info_bads:\n",
      "/tmp/ipykernel_496028/2141909429.py:2: DeprecationWarning: The truth value of an empty array is ambiguous. Returning False, but in future this will result in an error. Use `array.size > 0` to check that an array is not empty.\n",
      "  if ch_info_bads:\n"
     ]
    }
   ],
   "source": [
    "methods = ['MNE']\n",
    "scales=[0.01,0.99]\n",
    "for m in range(len(methods)):\n",
    "    for i in range(1,len(scales)):\n",
    "        methods = ['MNE','sLORETA','eLORETA']\n",
    "        scales=[0.01, 0.99]\n",
    "        depth=0.8\n",
    "        ico=4\n",
    "        \n",
    "        method=methods[m]\n",
    "        scale=scales[i]\n",
    "        %run Import_fwd_inv_correlation.ipynb\n",
    "\n",
    "        # save outputs all in one mat file. \n",
    "        outdict=dict()\n",
    "        outdict['leadfield']=leadfield # leadfield matrix\n",
    "        outdict['invmat']=invmat #  inverse matrix\n",
    "        outdict['source_rr']=source_rr # the source location AND labels (matlab)\n",
    "        outdict['sim_cov_mat']=sim_cov_mat # noise covariance\n",
    "        outdict['scale']=scale # scale\n",
    "        outdict['depth']=depth # depth\n",
    "        outdict['conductivity']=conductivity # 3 layrs conductivity\n",
    "\n",
    "\n",
    "        outdict['ch_bad']=ch_bad #  inverse matrix\n",
    "        outdict['ch_dubious']=ch_dubious # \n",
    "        outdict['ch_names']=ch_names #  \n",
    "        outdict['Coordinates']=Coordinates #  \n",
    "        outdict['corrcoef_diag']=corrcoef_diag #  \n",
    "        outdict['subject_ID']=subject_ID #  \n",
    "\n",
    "        savemat(subject_ID +'_method_' + methods[m]+'_ico_'+str(ico)+'_scale_'+str(scale)+'_depth_'+str(depth),outdict)\n",
    "\n",
    "        # %reset -f\n",
    "        # for ico5, it takes"
   ]
  }
 ],
 "metadata": {
  "kernelspec": {
   "display_name": "mne",
   "language": "python",
   "name": "python3"
  },
  "language_info": {
   "codemirror_mode": {
    "name": "ipython",
    "version": 3
   },
   "file_extension": ".py",
   "mimetype": "text/x-python",
   "name": "python",
   "nbconvert_exporter": "python",
   "pygments_lexer": "ipython3",
   "version": "3.10.8"
  },
  "orig_nbformat": 4
 },
 "nbformat": 4,
 "nbformat_minor": 2
}
