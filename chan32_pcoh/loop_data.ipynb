{
 "cells": [
  {
   "cell_type": "code",
   "execution_count": null,
   "metadata": {},
   "outputs": [],
   "source": [
    "import sys\n",
    "sys.path.append('../../')\n",
    "\n",
    "from os import listdir\n",
    "\n",
    "from hdf5storage import loadmat, savemat \n",
    "import numpy as np \n",
    "from matplotlib import pyplot as plt\n",
    "\n",
    "from scipy import signal \n",
    "from hnlpy.timeop import makefiltersos\n",
    "from hnlpy.timeop import narrowfilter \n",
    "from scipy.signal import sosfiltfilt\n",
    "from scipy.signal import hilbert\n",
    "from scipy.signal import savgol_filter\n",
    "from scipy.fftpack import fft\n",
    "from scipy import stats # for zscoring\n",
    "\n",
    "from sklearn.covariance import GraphicalLassoCV\n",
    "\n",
    "from numpy.polynomial.polynomial import polyfit, polyval\n",
    "\n",
    "import matplotlib.pyplot as plt"
   ]
  },
  {
   "cell_type": "code",
   "execution_count": null,
   "metadata": {},
   "outputs": [],
   "source": [
    "# load data\n",
    "def loaddata(filename):\n",
    "    data = loadmat(filename)\n",
    "    bpchan = int(data['bpchan'][0][0])\n",
    "    channels = data['channels'][0]\n",
    "    conditionNames = data['conditionNames'][0]\n",
    "    conditions = data['conditions'][0]\n",
    "    eeg = dict()\n",
    "    eeg[0] = data['dataL'][0]\n",
    "    eeg[1] = data['dataR'][0]\n",
    "    intervals = data['intervals'][0]\n",
    "    labels = data['labels'][0]\n",
    "    samples = data['samples'][0]\n",
    "    session = int(data['session'][0])\n",
    "    sessionTypes = data['sessionTypes'][0]\n",
    "    sr = int(data['sr'][0])\n",
    "    #Labels and condition names doesnt come over cleanly from matlab \n",
    "    chan_labels = list()\n",
    "    condition_Names = list()\n",
    "    #pythonify condition index\n",
    "    condition_index = list()\n",
    "    for j in range(len(labels)):\n",
    "        chan_labels.append(labels[j][0])\n",
    "    for j in range(len(conditionNames)):\n",
    "        condition_Names.append(conditionNames[j][0])\n",
    "    for j in range(12):\n",
    "        condition_index.append(int(conditions[j]-1))\n",
    "    return eeg, intervals, samples, condition_index, session, sr, bpchan, condition_Names, channels, chan_labels, sessionTypes   \n"
   ]
  },
  {
   "cell_type": "code",
   "execution_count": null,
   "metadata": {},
   "outputs": [],
   "source": [
    "def avref(datax):\n",
    "\tref = np.mean(datax,axis = 1)\n",
    "\trefmat = np.tile(ref,(np.shape(datax)[1],1))\n",
    "\tdatax = datax - np.transpose(refmat)\n",
    "\treturn datax"
   ]
  },
  {
   "cell_type": "code",
   "execution_count": null,
   "metadata": {},
   "outputs": [],
   "source": [
    "# build the narrow band filters\n",
    "srnew = 200 \n",
    "downsample = 10 \n",
    "# passbands = [[1,3],[3.5,6.5],[7,10],[10.5,13.5],[14 ,20],[21,29],[30,49.5]]\n",
    "# stopbands = [[0.75,3.25],[3.25,6.75],[6.75,10.25],[10.25,13.75],[13.75,20.5],[20.5,29.5],[29.5,50]]\n",
    "# bandlabels = ['Delta','Theta','Alpha','Mu','Beta1','Beta2','Gamma']\n",
    "passbands = [[3.5,6.5],[7,10],[10.5,13.5],[14 ,20],[21,29]]\n",
    "stopbands = [[3.25,6.75],[6.75,10.25],[10.25,13.75],[13.75,20.5],[20.5,29.5]]\n",
    "bandlabels = ['Theta','Alpha','Mu','Beta1','Beta2']\n",
    "esos = dict()\n",
    "for j in range(len(passbands)):\n",
    "    esos[j],w,h = narrowfilter(passbands[j],stopbands[j],samplingrate = srnew)\n",
    "    plt.plot(w[1:500],20*np.log10(np.abs(h[1:500])))\n",
    "\n",
    "plt.title('band pass filters')\n",
    "plt.xlabel('frequency (Hz)')"
   ]
  },
  {
   "cell_type": "code",
   "execution_count": null,
   "metadata": {},
   "outputs": [],
   "source": [
    "# make a low pass filter @ 50 Hz \n",
    "sr=2000\n",
    "sos_low, w,h = makefiltersos(sr,50,55)"
   ]
  },
  {
   "cell_type": "code",
   "execution_count": null,
   "metadata": {},
   "outputs": [],
   "source": [
    "ncv = 5\n",
    "pc_lasso = GraphicalLassoCV(cv=ncv, n_jobs=-10)"
   ]
  },
  {
   "cell_type": "code",
   "execution_count": null,
   "metadata": {},
   "outputs": [],
   "source": [
    "# organize file in time sequence\n",
    "filedir=\"../../\"\n",
    "pathname = 'Cleaned_data/'\n",
    "filedates=[20220713,20220721,20220804,20220808,20220810,20220811,20220815,20220816,20221003,2022100401,2022100402,20221005]\n",
    "numSes=len(filedates)"
   ]
  },
  {
   "cell_type": "code",
   "execution_count": null,
   "metadata": {},
   "outputs": [],
   "source": [
    "# This will take a long time, you don't want to run it again\n",
    "# script here just as a record\n",
    "chan_prec_all=np.zeros((12,2,12,5,64,64))\n",
    "for ses in range(12):\n",
    "\tfilename='clean_'+str(filedates[ses])+'.mat'\n",
    "\t[eeg, intervals, samples, condition_index, session, sr, bpchan, \n",
    "\t\t\t\tcondition_Names, channels, chan_labels, sessionTypes] \\\n",
    "\t\t\t\t\t= loaddata(filedir+pathname+filename)\n",
    "\tfor trial in range(12):\n",
    "\t\tnsamp1 = np.shape(eeg[0][trial])[0]\n",
    "\t\tnsamp2 = np.shape(eeg[1][trial])[0]\n",
    "\t\tnsamp = np.min((nsamp1,nsamp2))\n",
    "\t\tfor subj in range(2): \n",
    "\t\t\ttrialdata = avref(eeg[subj][trial][0:nsamp,0:32]) \n",
    "\t\t\ttrialdata = sosfiltfilt(sos_low,trialdata,axis=0)\n",
    "\t\t\ttrialdatanew = trialdata[range(0,nsamp,downsample),:]\n",
    "\t\t\tfor frequency in range(5):\n",
    "\t\t\t\tfiltdata = sosfiltfilt(esos[frequency],trialdatanew,axis = 0,padtype ='odd')\n",
    "\t\t\t\thilbertdata = hilbert(filtdata,axis = 0)\n",
    "\t\t\t\t# Combine real and imaginary parts\n",
    "\t\t\t\tchanDataReal = np.concatenate((np.real(hilbertdata), np.imag(hilbertdata)), axis=1)\n",
    "\t\t\t\t# Normalize data\n",
    "\t\t\t\tchanDataReal = chanDataReal * (1 / np.mean(np.abs(chanDataReal)))\n",
    "\t\t\t\tpc_lasso.fit(chanDataReal)\n",
    "\t\t\t\tprecision = pc_lasso.precision_\n",
    "\t\t\t\ty = np.diag(precision)\n",
    "\t\t\t\tyy = np.outer(y,y)\n",
    "\t\t\t\tyy = np.sqrt(yy)\n",
    "\t\t\t\tchan_prec_all[ses,subj,trial,frequency,:,:] = precision/yy\n",
    "# 12s x 5 x 144 /3600 = 5 h"
   ]
  },
  {
   "cell_type": "code",
   "execution_count": null,
   "metadata": {},
   "outputs": [],
   "source": [
    "outdict = dict()\n",
    "outdict['chan_prec_all'] = chan_prec_all\n",
    "savemat(\"chan_prec_all.mat\",outdict,store_python_metadata = True) "
   ]
  }
 ],
 "metadata": {
  "kernelspec": {
   "display_name": "eeg",
   "language": "python",
   "name": "python3"
  },
  "language_info": {
   "codemirror_mode": {
    "name": "ipython",
    "version": 3
   },
   "file_extension": ".py",
   "mimetype": "text/x-python",
   "name": "python",
   "nbconvert_exporter": "python",
   "pygments_lexer": "ipython3",
   "version": "3.9.13"
  },
  "orig_nbformat": 4
 },
 "nbformat": 4,
 "nbformat_minor": 2
}
