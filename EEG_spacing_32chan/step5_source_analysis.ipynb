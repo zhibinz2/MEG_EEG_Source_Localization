{
 "cells": [
  {
   "cell_type": "code",
   "execution_count": 1,
   "metadata": {},
   "outputs": [],
   "source": [
    "from mne.beamformer import make_lcmv, apply_lcmv, apply_lcmv_raw\n",
    "import mne\n",
    "import numpy as np\n",
    "from hdf5storage import loadmat, savemat \n",
    "from matplotlib import pyplot as plt"
   ]
  },
  {
   "cell_type": "code",
   "execution_count": 2,
   "metadata": {},
   "outputs": [
    {
     "name": "stdout",
     "output_type": "stream",
     "text": [
      "Opening raw data file ./raw.fif...\n",
      "    Read a total of 1 projection items:\n",
      "        Average EEG reference (1 x 32)  idle\n",
      "    Range : 0 ... 258121 =      0.000 ...   129.060 secs\n",
      "Ready.\n",
      "Reading forward solution from /home/zhibinz2/Documents/GitHub/MEG_EEG_Source_Localization/EEG_spacing_32chan/fwd.fif...\n",
      "    Reading a source space...\n",
      "    Computing patch statistics...\n",
      "    Patch information added...\n",
      "    [done]\n",
      "    Reading a source space...\n",
      "    Computing patch statistics...\n",
      "    Patch information added...\n",
      "    [done]\n",
      "    2 source spaces read\n",
      "    Desired named matrix (kind = 3523) not available\n",
      "    Read EEG forward solution (5124 sources, 32 channels, free orientations)\n",
      "    Source spaces transformed to the forward solution coordinate frame\n"
     ]
    },
    {
     "name": "stderr",
     "output_type": "stream",
     "text": [
      "/tmp/ipykernel_540096/3020075004.py:3: RuntimeWarning: This filename (fwd.fif) does not conform to MNE naming conventions. All forward files should end with -fwd.fif, -fwd.fif.gz, _fwd.fif or _fwd.fif.gz\n",
      "  fwd = mne.read_forward_solution('fwd.fif')\n"
     ]
    }
   ],
   "source": [
    "raw_fname = './raw.fif'\n",
    "raw=mne.io.read_raw_fif(raw_fname)\n",
    "fwd = mne.read_forward_solution('fwd.fif')"
   ]
  },
  {
   "cell_type": "code",
   "execution_count": 3,
   "metadata": {},
   "outputs": [],
   "source": [
    "# data_cov=mne.compute_raw_covariance(raw)"
   ]
  },
  {
   "cell_type": "code",
   "execution_count": 4,
   "metadata": {},
   "outputs": [
    {
     "name": "stdout",
     "output_type": "stream",
     "text": [
      "    32 x 32 full covariance (kind = 1) found.\n",
      "    Read a total of 1 projection items:\n",
      "        Average EEG reference (1 x 32)  idle\n"
     ]
    }
   ],
   "source": [
    "# noise_cov = mne.read_cov('noise_cov.fif')\n",
    "data_cov=mne.read_cov('sim_cov.fif')"
   ]
  },
  {
   "cell_type": "code",
   "execution_count": 5,
   "metadata": {},
   "outputs": [
    {
     "name": "stdout",
     "output_type": "stream",
     "text": [
      "Computing rank from covariance with rank=None\n",
      "    Using tolerance 2.2e-11 (2.2e-16 eps * 32 dim * 3e+03  max singular value)\n",
      "    Estimated rank (eeg): 31\n",
      "    EEG: rank 31 computed from 32 data channels with 1 projector\n",
      "Computing rank from covariance with rank=None\n",
      "    EEG: rank 31 computed from 32 data channels with 1 projector\n",
      "Making LCMV beamformer with rank {'eeg': 31}\n",
      "Computing inverse operator with 32 channels.\n",
      "    32 out of 32 channels remain after picking\n",
      "Selected 32 channels\n",
      "Whitening the forward solution.\n",
      "    Created an SSP operator (subspace dimension = 1)\n",
      "Computing rank from covariance with rank={'eeg': 31}\n",
      "    Setting small EEG eigenvalues to zero (without PCA)\n",
      "Creating the source covariance matrix\n",
      "Adjusting source covariance matrix.\n",
      "Computing beamformer filters for 5124 sources\n"
     ]
    },
    {
     "name": "stdout",
     "output_type": "stream",
     "text": [
      "Filter computation complete\n"
     ]
    }
   ],
   "source": [
    "filters = make_lcmv(\n",
    "    raw.info,\n",
    "    fwd,\n",
    "    data_cov,\n",
    "    reg=0.05,\n",
    "    noise_cov=None,\n",
    "    pick_ori=\"max-power\",\n",
    "    weight_norm=\"unit-noise-gain\",\n",
    "    rank=None,\n",
    ")\n",
    "\n",
    "# You can save the filter for later use with:\n",
    "# filters.save('filters-lcmv.h5')\n",
    "\n",
    "# stc = apply_lcmv(evoked, filters)\n",
    "stc = apply_lcmv_raw(raw,filters) \n",
    "#"
   ]
  },
  {
   "cell_type": "code",
   "execution_count": 6,
   "metadata": {},
   "outputs": [],
   "source": [
    "stc_data=stc.data"
   ]
  },
  {
   "cell_type": "code",
   "execution_count": 7,
   "metadata": {},
   "outputs": [
    {
     "data": {
      "text/plain": [
       "dict_keys(['Coordinates', 'ch_bad', 'ch_dubious', 'ch_names', 'conductivity', 'corrcoef_diag', 'depth', 'invmat', 'leadfield', 'scale', 'sim_cov_mat', 'source_rr', 'subject_ID'])"
      ]
     },
     "execution_count": 7,
     "metadata": {},
     "output_type": "execute_result"
    }
   ],
   "source": [
    "outdict=loadmat('20220713_method_MNE_ico_4_scale_0.01_depth_0.8.mat')\n",
    "outdict.keys()"
   ]
  },
  {
   "cell_type": "code",
   "execution_count": 8,
   "metadata": {},
   "outputs": [],
   "source": [
    "leadfield=outdict['leadfield']\n",
    "invmat=outdict['invmat']"
   ]
  },
  {
   "cell_type": "code",
   "execution_count": 9,
   "metadata": {},
   "outputs": [
    {
     "data": {
      "text/plain": [
       "dict_keys(['__header__', '__version__', '__globals__', 'Fs', 'ch_bad', 'ch_dubious', 'ch_labels', 'chanlocs', 'preprocessed_eeg', 'subject_ID'])"
      ]
     },
     "execution_count": 9,
     "metadata": {},
     "output_type": "execute_result"
    }
   ],
   "source": [
    "outdict=loadmat('preprocessed_eeg.mat')\n",
    "outdict.keys()"
   ]
  },
  {
   "cell_type": "code",
   "execution_count": 10,
   "metadata": {},
   "outputs": [],
   "source": [
    "preprocessed_eeg=outdict['preprocessed_eeg']"
   ]
  },
  {
   "cell_type": "code",
   "execution_count": 11,
   "metadata": {},
   "outputs": [],
   "source": [
    "outdict=loadmat('Lausanne2008_fsaverageDSsurf_60_125_250.mat')"
   ]
  },
  {
   "cell_type": "code",
   "execution_count": 12,
   "metadata": {},
   "outputs": [
    {
     "data": {
      "text/plain": [
       "dict_keys(['__header__', '__version__', '__globals__', 'Brain', 'roiNames_125', 'roiNames_250', 'roiNames_60', 'scale125_Labels', 'scale125_subcortROIs', 'scale250_Labels', 'scale250_subcortROIs', 'scale60_Labels', 'scale60_subcortROIs'])"
      ]
     },
     "execution_count": 12,
     "metadata": {},
     "output_type": "execute_result"
    }
   ],
   "source": [
    "outdict.keys()"
   ]
  },
  {
   "cell_type": "code",
   "execution_count": 13,
   "metadata": {},
   "outputs": [],
   "source": [
    "Brain = outdict['Brain'][0][0]\n",
    "Vertex = outdict['Brain'][0][0][0]\n",
    "Face = outdict['Brain'][0][0][1]\n",
    "roiNames_60 =outdict['roiNames_60'][0]\n",
    "roiNames_125=outdict['roiNames_125'][0]\n",
    "roiNames_250=outdict['roiNames_250'][0]\n",
    "scale60_Labels=outdict['scale60_Labels'][0]\n",
    "scale125_Labels=outdict['scale125_Labels'][0]\n",
    "scale250_Labels=outdict['scale250_Labels'][0]\n",
    "scale60_subcortROIs=outdict['scale60_subcortROIs'][0]\n",
    "scale125_subcortROIs=outdict['scale125_subcortROIs'][0]\n",
    "scale250_subcortROIs=outdict['scale250_subcortROIs'][0]"
   ]
  },
  {
   "cell_type": "code",
   "execution_count": 14,
   "metadata": {},
   "outputs": [
    {
     "name": "stderr",
     "output_type": "stream",
     "text": [
      "/tmp/ipykernel_540096/3702677249.py:6: ComplexWarning: Casting complex values to real discards the imaginary part\n",
      "  corrcoef_diag_lcmv[i]=corr[i,np.shape(recon_eeg)[0]+i]\n"
     ]
    }
   ],
   "source": [
    "recon_eeg=np.matmul(leadfield,stc_data)\n",
    "# compute correlation\n",
    "corr = np.corrcoef(recon_eeg, preprocessed_eeg, rowvar=True)\n",
    "corrcoef_diag_lcmv=np.zeros((np.shape(recon_eeg)[0]))\n",
    "for i in range(np.shape(recon_eeg)[0]):\n",
    "    corrcoef_diag_lcmv[i]=corr[i,np.shape(recon_eeg)[0]+i]"
   ]
  },
  {
   "cell_type": "code",
   "execution_count": 15,
   "metadata": {},
   "outputs": [],
   "source": [
    "source_data=np.matmul(invmat,preprocessed_eeg)\n",
    "EEG_recon=np.matmul(leadfield,source_data)\n",
    "# compute correlation\n",
    "corr = np.corrcoef(EEG_recon, preprocessed_eeg, rowvar=True)\n",
    "corrcoef_diag=np.zeros((np.shape(EEG_recon)[0]))\n",
    "for i in range(np.shape(EEG_recon)[0]):\n",
    "    corrcoef_diag[i]=corr[i,np.shape(EEG_recon)[0]+i]"
   ]
  },
  {
   "cell_type": "code",
   "execution_count": 18,
   "metadata": {},
   "outputs": [
    {
     "data": {
      "text/plain": [
       "Text(0.5, 1.0, 'red: source-data = inverse mat x original eeg\\nblue: source-data = leadfield mat x source data from mne.beamformer.make_lcmv')"
      ]
     },
     "execution_count": 18,
     "metadata": {},
     "output_type": "execute_result"
    },
    {
     "data": {
      "image/png": "[encoded data removed]",
      "text/plain": [
       "<Figure size 640x480 with 1 Axes>"
      ]
     },
     "metadata": {},
     "output_type": "display_data"
    },
    {
     "ename": "",
     "evalue": "",
     "output_type": "error",
     "traceback": [
      "\u001b[1;31mThe Kernel crashed while executing code in the the current cell or a previous cell. Please review the code in the cell(s) to identify a possible cause of the failure. Click <a href='https://aka.ms/vscodeJupyterKernelCrash'>here</a> for more info. View Jupyter <a href='command:jupyter.viewOutput'>log</a> for further details."
     ]
    }
   ],
   "source": [
    "plt.plot(np.arange(0, np.shape(EEG_recon)[0],1) ,corrcoef_diag, 'r.',label='inverse solution')\n",
    "plt.plot(np.arange(0, np.shape(EEG_recon)[0],1) ,corrcoef_diag_lcmv, 'b.',label='beamformer')\n",
    "plt.legend()\n",
    "plt.xlabel('good channels')\n",
    "plt.ylabel('corrcoef')\n",
    "plt.title('red: source-data = inverse mat x original eeg\\nblue: source-data = leadfield mat x source data from mne.beamformer.make_lcmv')"
   ]
  }
 ],
 "metadata": {
  "kernelspec": {
   "display_name": "Python 3",
   "language": "python",
   "name": "python3"
  },
  "language_info": {
   "codemirror_mode": {
    "name": "ipython",
    "version": 3
   },
   "file_extension": ".py",
   "mimetype": "text/x-python",
   "name": "python",
   "nbconvert_exporter": "python",
   "pygments_lexer": "ipython3",
   "version": "3.10.8"
  },
  "orig_nbformat": 4
 },
 "nbformat": 4,
 "nbformat_minor": 2
}
