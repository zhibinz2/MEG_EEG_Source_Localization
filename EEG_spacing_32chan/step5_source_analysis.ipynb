{
 "cells": [
  {
   "cell_type": "code",
   "execution_count": 1,
   "metadata": {},
   "outputs": [],
   "source": [
    "from mne.beamformer import make_lcmv, apply_lcmv, apply_lcmv_raw\n",
    "import mne"
   ]
  },
  {
   "cell_type": "code",
   "execution_count": 2,
   "metadata": {},
   "outputs": [
    {
     "name": "stdout",
     "output_type": "stream",
     "text": [
      "Opening raw data file ./raw.fif...\n",
      "    Read a total of 1 projection items:\n",
      "        Average EEG reference (1 x 32)  idle\n",
      "    Range : 0 ... 258121 =      0.000 ...   129.060 secs\n",
      "Ready.\n",
      "Reading forward solution from /home/zhibinz2/Documents/GitHub/MEG_EEG_Source_Localization/EEG_spacing_32chan/fwd.fif...\n",
      "    Reading a source space...\n",
      "    Computing patch statistics...\n",
      "    Patch information added...\n",
      "    [done]\n",
      "    Reading a source space...\n",
      "    Computing patch statistics...\n",
      "    Patch information added...\n",
      "    [done]\n",
      "    2 source spaces read\n",
      "    Desired named matrix (kind = 3523) not available\n",
      "    Read EEG forward solution (5124 sources, 32 channels, free orientations)\n",
      "    Source spaces transformed to the forward solution coordinate frame\n"
     ]
    },
    {
     "name": "stderr",
     "output_type": "stream",
     "text": [
      "/tmp/ipykernel_522857/3020075004.py:3: RuntimeWarning: This filename (fwd.fif) does not conform to MNE naming conventions. All forward files should end with -fwd.fif, -fwd.fif.gz, _fwd.fif or _fwd.fif.gz\n",
      "  fwd = mne.read_forward_solution('fwd.fif')\n"
     ]
    }
   ],
   "source": [
    "raw_fname = './raw.fif'\n",
    "raw=mne.io.read_raw_fif(raw_fname)\n",
    "fwd = mne.read_forward_solution('fwd.fif')"
   ]
  },
  {
   "cell_type": "code",
   "execution_count": 3,
   "metadata": {},
   "outputs": [
    {
     "name": "stdout",
     "output_type": "stream",
     "text": [
      "Using up to 645 segments\n",
      "Number of samples used : 258000\n",
      "[done]\n"
     ]
    }
   ],
   "source": [
    "data_cov=mne.compute_raw_covariance(raw)"
   ]
  },
  {
   "cell_type": "code",
   "execution_count": 4,
   "metadata": {},
   "outputs": [],
   "source": [
    "# noise_cov = mne.read_cov('noise_cov.fif')\n",
    "# sim_cov=mne.read_cov('sim_cov.fif')"
   ]
  },
  {
   "cell_type": "code",
   "execution_count": 5,
   "metadata": {},
   "outputs": [
    {
     "name": "stdout",
     "output_type": "stream",
     "text": [
      "Computing rank from covariance with rank=None\n",
      "    Using tolerance 2.4e-14 (2.2e-16 eps * 32 dim * 3.3  max singular value)\n",
      "    Estimated rank (eeg): 27\n",
      "    EEG: rank 27 computed from 32 data channels with 1 projector\n",
      "Computing rank from covariance with rank=None\n",
      "    EEG: rank 31 computed from 32 data channels with 1 projector\n",
      "Making LCMV beamformer with rank {'eeg': 27}\n",
      "Computing inverse operator with 32 channels.\n",
      "    32 out of 32 channels remain after picking\n",
      "Selected 32 channels\n",
      "Whitening the forward solution.\n",
      "    Created an SSP operator (subspace dimension = 1)\n",
      "Computing rank from covariance with rank={'eeg': 27}\n",
      "    Setting small EEG eigenvalues to zero (without PCA)\n",
      "Creating the source covariance matrix\n",
      "Adjusting source covariance matrix.\n",
      "Computing beamformer filters for 5124 sources\n",
      "Filter computation complete\n"
     ]
    }
   ],
   "source": [
    "filters = make_lcmv(\n",
    "    raw.info,\n",
    "    fwd,\n",
    "    data_cov,\n",
    "    reg=0.05,\n",
    "    noise_cov=None,\n",
    "    pick_ori=\"max-power\",\n",
    "    weight_norm=\"unit-noise-gain\",\n",
    "    rank=None,\n",
    ")\n",
    "\n",
    "# You can save the filter for later use with:\n",
    "# filters.save('filters-lcmv.h5')\n",
    "\n",
    "# stc = apply_lcmv(evoked, filters)\n",
    "stc = apply_lcmv_raw(raw,filters) \n",
    "# 24 s"
   ]
  },
  {
   "cell_type": "code",
   "execution_count": 6,
   "metadata": {},
   "outputs": [],
   "source": [
    "stc_data=stc.data"
   ]
  },
  {
   "cell_type": "code",
   "execution_count": 7,
   "metadata": {},
   "outputs": [],
   "source": [
    "from hdf5storage import loadmat, savemat "
   ]
  },
  {
   "cell_type": "code",
   "execution_count": 8,
   "metadata": {},
   "outputs": [],
   "source": [
    "outdict=loadmat('Lausanne2008_fsaverageDSsurf_60_125_250.mat')"
   ]
  },
  {
   "cell_type": "code",
   "execution_count": 9,
   "metadata": {},
   "outputs": [
    {
     "data": {
      "text/plain": [
       "dict_keys(['__header__', '__version__', '__globals__', 'Brain', 'roiNames_125', 'roiNames_250', 'roiNames_60', 'scale125_Labels', 'scale125_subcortROIs', 'scale250_Labels', 'scale250_subcortROIs', 'scale60_Labels', 'scale60_subcortROIs'])"
      ]
     },
     "execution_count": 9,
     "metadata": {},
     "output_type": "execute_result"
    }
   ],
   "source": [
    "outdict.keys()"
   ]
  },
  {
   "cell_type": "code",
   "execution_count": 10,
   "metadata": {},
   "outputs": [],
   "source": [
    "Brain = outdict['Brain'][0][0]\n",
    "Vertex = outdict['Brain'][0][0][0]\n",
    "Face = outdict['Brain'][0][0][1]\n",
    "roiNames_60 =outdict['roiNames_60'][0]\n",
    "roiNames_125=outdict['roiNames_125'][0]\n",
    "roiNames_250=outdict['roiNames_250'][0]\n",
    "scale60_Labels=outdict['scale60_Labels'][0]\n",
    "scale125_Labels=outdict['scale125_Labels'][0]\n",
    "scale250_Labels=outdict['scale250_Labels'][0]\n",
    "scale60_subcortROIs=outdict['scale60_subcortROIs'][0]\n",
    "scale125_subcortROIs=outdict['scale125_subcortROIs'][0]\n",
    "scale250_subcortROIs=outdict['scale250_subcortROIs'][0]"
   ]
  },
  {
   "cell_type": "code",
   "execution_count": null,
   "metadata": {},
   "outputs": [],
   "source": []
  }
 ],
 "metadata": {
  "kernelspec": {
   "display_name": "Python 3",
   "language": "python",
   "name": "python3"
  },
  "language_info": {
   "codemirror_mode": {
    "name": "ipython",
    "version": 3
   },
   "file_extension": ".py",
   "mimetype": "text/x-python",
   "name": "python",
   "nbconvert_exporter": "python",
   "pygments_lexer": "ipython3",
   "version": "3.10.8"
  },
  "orig_nbformat": 4
 },
 "nbformat": 4,
 "nbformat_minor": 2
}
