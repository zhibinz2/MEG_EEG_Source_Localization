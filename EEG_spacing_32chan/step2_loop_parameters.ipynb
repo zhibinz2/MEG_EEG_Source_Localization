{
 "cells": [
  {
   "cell_type": "code",
   "execution_count": 1,
   "metadata": {},
   "outputs": [],
   "source": [
    "from hdf5storage import loadmat, savemat "
   ]
  },
  {
   "cell_type": "code",
   "execution_count": 2,
   "metadata": {},
   "outputs": [],
   "source": [
    "# scales=[0.01, 0.05, 0.1, 0.3, 0.5]\n",
    "scale=0.05\n",
    "# depths=[0.8, 1, 2, 4]\n",
    "depth=0.8\n",
    "# spacings=['ico2' 'ico3','ico4','ico5'] # correspond to 162x2 642x2 2562x2 10242x2 sources\n",
    "icos=[2, 3, 4, 5]"
   ]
  },
  {
   "cell_type": "code",
   "execution_count": null,
   "metadata": {},
   "outputs": [],
   "source": [
    "# ico=icos[2]\n",
    "# %run Import_fwd_inv_correlation.ipynb\n",
    "# # save outputs all in one mat file. \n",
    "# outdict=dict()\n",
    "# outdict['leadfield']=leadfield # leadfield matrix\n",
    "# outdict['invmat']=invmat #  inverse matrix\n",
    "# outdict['source_rr']=source_rr # the source location AND labels (matlab)\n",
    "# outdict['sim_cov_mat']=sim_cov_mat # noise covariance\n",
    "# outdict['scale']=scale # scale\n",
    "# outdict['depth']=depth # depth\n",
    "# outdict['conductivity']=conductivity # 3 layrs conductivity\n",
    "# outdict['ch_bad']=ch_bad #  inverse matrix\n",
    "# outdict['ch_dubious']=ch_dubious # \n",
    "# outdict['ch_names']=ch_names #  \n",
    "# outdict['Coordinates']=Coordinates #  \n",
    "# outdict['corrcoef_diag']=corrcoef_diag #  \n",
    "# outdict['subject_ID']=subject_ID #  \n",
    "# savemat(subject_ID+'_ico_'+str(ico)+'_scale_'+str(scale)+'_depth_'+str(depth),outdict)\n",
    "# # %reset -f\n",
    "# # for ico5, it breaks after 40"
   ]
  },
  {
   "cell_type": "code",
   "execution_count": null,
   "metadata": {},
   "outputs": [],
   "source": [
    "for i in range(len(icos)):\n",
    "    ico=icos[i]\n",
    "    %run Import_fwd_inv_correlation.ipynb\n",
    "\n",
    "    # save outputs all in one mat file. \n",
    "    outdict=dict()\n",
    "    outdict['leadfield']=leadfield # leadfield matrix\n",
    "    outdict['invmat']=invmat #  inverse matrix\n",
    "    outdict['source_rr']=source_rr # the source location AND labels (matlab)\n",
    "    outdict['sim_cov_mat']=sim_cov_mat # noise covariance\n",
    "    outdict['scale']=scale # scale\n",
    "    outdict['depth']=depth # depth\n",
    "    outdict['conductivity']=conductivity # 3 layrs conductivity\n",
    "\n",
    "\n",
    "    outdict['ch_bad']=ch_bad #  inverse matrix\n",
    "    outdict['ch_dubious']=ch_dubious # \n",
    "    outdict['ch_names']=ch_names #  \n",
    "    outdict['Coordinates']=Coordinates #  \n",
    "    outdict['corrcoef_diag']=corrcoef_diag #  \n",
    "    outdict['subject_ID']=subject_ID #  \n",
    "\n",
    "    savemat(subject_ID+'_ico_'+str(ico)+'_scale_'+str(scale)+'_depth_'+str(depth),outdict)\n",
    "\n",
    "    # %reset -f\n",
    "    # for ico5, it takes"
   ]
  }
 ],
 "metadata": {
  "kernelspec": {
   "display_name": "mne",
   "language": "python",
   "name": "python3"
  },
  "language_info": {
   "codemirror_mode": {
    "name": "ipython",
    "version": 3
   },
   "file_extension": ".py",
   "mimetype": "text/x-python",
   "name": "python",
   "nbconvert_exporter": "python",
   "pygments_lexer": "ipython3",
   "version": "3.10.8"
  },
  "orig_nbformat": 4
 },
 "nbformat": 4,
 "nbformat_minor": 2
}
