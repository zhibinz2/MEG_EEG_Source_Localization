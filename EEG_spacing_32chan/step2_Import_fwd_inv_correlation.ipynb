{
 "cells": [
  {
   "cell_type": "code",
   "execution_count": 1,
   "metadata": {},
   "outputs": [],
   "source": [
    "import numpy as np\n",
    "import mne\n",
    "\n",
    "from hdf5storage import loadmat, savemat \n",
    "from mne.minimum_norm import make_inverse_operator, apply_inverse, compute_source_psd_epochs, write_inverse_operator\n",
    "\n",
    "from matplotlib import pyplot as plt\n"
   ]
  },
  {
   "cell_type": "code",
   "execution_count": 2,
   "metadata": {},
   "outputs": [
    {
     "data": {
      "text/plain": [
       "dict_keys(['__header__', '__version__', '__globals__', 'Fs', 'ch_bad', 'ch_dubious', 'ch_labels', 'chanlocs', 'preprocessed_eeg', 'subject_ID'])"
      ]
     },
     "execution_count": 2,
     "metadata": {},
     "output_type": "execute_result"
    }
   ],
   "source": [
    "outdict=loadmat('preprocessed_eeg.mat')\n",
    "outdict.keys()"
   ]
  },
  {
   "cell_type": "code",
   "execution_count": 3,
   "metadata": {},
   "outputs": [],
   "source": [
    "preprocessed_eeg=outdict['preprocessed_eeg']*0.000001 # reduce the amplitube to be shown on MNE's plot\n",
    "sampling_freq=outdict['Fs'][0]\n"
   ]
  },
  {
   "cell_type": "code",
   "execution_count": 4,
   "metadata": {},
   "outputs": [],
   "source": [
    "ch_bad=[] # ch_bad=outdict['ch_bad'][0]-1\n",
    "ch_dubious=[] # ch_dubious=outdict['ch_dubious'][0]-1"
   ]
  },
  {
   "cell_type": "code",
   "execution_count": 5,
   "metadata": {},
   "outputs": [],
   "source": [
    "\n",
    "subject_ID=outdict['subject_ID'][0]\n",
    "\n",
    "n_channels=np.shape(preprocessed_eeg)[0]\n",
    "ch_info_bads=np.concatenate((ch_bad, ch_dubious), axis=0)\n",
    "ch_info_bads=np.unique(ch_info_bads)\n"
   ]
  },
  {
   "cell_type": "code",
   "execution_count": 6,
   "metadata": {},
   "outputs": [],
   "source": [
    "ch_labels=outdict['ch_labels'].tolist()"
   ]
  },
  {
   "cell_type": "code",
   "execution_count": 7,
   "metadata": {},
   "outputs": [],
   "source": [
    "ch_labels_names=list()\n",
    "for i in range(32):\n",
    "    ch_labels_names.append(ch_labels[i][0][0])"
   ]
  },
  {
   "cell_type": "code",
   "execution_count": 8,
   "metadata": {},
   "outputs": [],
   "source": [
    "ch_names = [f\"E{n}\" for n in range(1, 33)]\n"
   ]
  },
  {
   "cell_type": "code",
   "execution_count": 9,
   "metadata": {},
   "outputs": [
    {
     "name": "stdout",
     "output_type": "stream",
     "text": [
      "<Info | 9 non-empty values\n",
      " bads: []\n",
      " ch_names: E1, E2, E3, E4, E5, E6, E7, E8, E9, E10, E11, E12, E13, E14, ...\n",
      " chs: 32 EEG\n",
      " custom_ref_applied: False\n",
      " description: 20220713\n",
      " dig: 35 items (3 Cardinal, 32 EEG)\n",
      " highpass: 0.0 Hz\n",
      " lowpass: 1000.0 Hz\n",
      " meas_date: unspecified\n",
      " nchan: 32\n",
      " projs: []\n",
      " sfreq: 2000.0 Hz\n",
      ">\n"
     ]
    }
   ],
   "source": [
    "ch_types = [\"eeg\"] * n_channels\n",
    "info = mne.create_info(ch_names, ch_types=ch_types, sfreq=sampling_freq)\n",
    "info.set_montage(\"GSN-HydroCel-32\",match_case=False,match_alias=False,on_missing='raise', verbose=None)\n",
    "info[\"description\"] = subject_ID\n",
    "print(info)"
   ]
  },
  {
   "cell_type": "code",
   "execution_count": 10,
   "metadata": {},
   "outputs": [
    {
     "data": {
      "text/plain": [
       "dict_keys(['acq_pars', 'acq_stim', 'ctf_head_t', 'description', 'dev_ctf_t', 'dig', 'experimenter', 'utc_offset', 'device_info', 'file_id', 'highpass', 'hpi_subsystem', 'kit_system_id', 'helium_info', 'line_freq', 'lowpass', 'meas_date', 'meas_id', 'proj_id', 'proj_name', 'subject_info', 'xplotter_layout', 'gantry_angle', 'bads', 'chs', 'comps', 'events', 'hpi_meas', 'hpi_results', 'projs', 'proc_history', 'custom_ref_applied', 'sfreq', 'dev_head_t', 'ch_names', 'nchan'])"
      ]
     },
     "execution_count": 10,
     "metadata": {},
     "output_type": "execute_result"
    }
   ],
   "source": [
    "info.keys()"
   ]
  },
  {
   "cell_type": "code",
   "execution_count": 11,
   "metadata": {},
   "outputs": [
    {
     "data": {
      "text/plain": [
       "[{'loc': array([-0.02911661,  0.09968484,  0.03726501,  0.        ,  0.        ,\n",
       "          0.        ,         nan,         nan,         nan,         nan,\n",
       "                 nan,         nan]),\n",
       "  'unit_mul': 0 (FIFF_UNITM_NONE),\n",
       "  'range': 1.0,\n",
       "  'cal': 1.0,\n",
       "  'kind': 2 (FIFFV_EEG_CH),\n",
       "  'coil_type': 1 (FIFFV_COIL_EEG),\n",
       "  'unit': 107 (FIFF_UNIT_V),\n",
       "  'coord_frame': 4 (FIFFV_COORD_HEAD),\n",
       "  'ch_name': 'E1',\n",
       "  'scanno': 1,\n",
       "  'logno': 1},\n",
       " {'loc': array([0.02911661, 0.09968484, 0.03726501, 0.        , 0.        ,\n",
       "         0.        ,        nan,        nan,        nan,        nan,\n",
       "                nan,        nan]),\n",
       "  'unit_mul': 0 (FIFF_UNITM_NONE),\n",
       "  'range': 1.0,\n",
       "  'cal': 1.0,\n",
       "  'kind': 2 (FIFFV_EEG_CH),\n",
       "  'coil_type': 1 (FIFFV_COIL_EEG),\n",
       "  'unit': 107 (FIFF_UNIT_V),\n",
       "  'coord_frame': 4 (FIFFV_COORD_HEAD),\n",
       "  'ch_name': 'E2',\n",
       "  'scanno': 2,\n",
       "  'logno': 2},\n",
       " {'loc': array([-0.04817168,  0.07237926,  0.07553299,  0.        ,  0.        ,\n",
       "          0.        ,         nan,         nan,         nan,         nan,\n",
       "                 nan,         nan]),\n",
       "  'unit_mul': 0 (FIFF_UNITM_NONE),\n",
       "  'range': 1.0,\n",
       "  'cal': 1.0,\n",
       "  'kind': 2 (FIFFV_EEG_CH),\n",
       "  'coil_type': 1 (FIFFV_COIL_EEG),\n",
       "  'unit': 107 (FIFF_UNIT_V),\n",
       "  'coord_frame': 4 (FIFFV_COORD_HEAD),\n",
       "  'ch_name': 'E3',\n",
       "  'scanno': 3,\n",
       "  'logno': 3},\n",
       " {'loc': array([0.04817168, 0.07237926, 0.07553299, 0.        , 0.        ,\n",
       "         0.        ,        nan,        nan,        nan,        nan,\n",
       "                nan,        nan]),\n",
       "  'unit_mul': 0 (FIFF_UNITM_NONE),\n",
       "  'range': 1.0,\n",
       "  'cal': 1.0,\n",
       "  'kind': 2 (FIFFV_EEG_CH),\n",
       "  'coil_type': 1 (FIFFV_COIL_EEG),\n",
       "  'unit': 107 (FIFF_UNIT_V),\n",
       "  'coord_frame': 4 (FIFFV_COORD_HEAD),\n",
       "  'ch_name': 'E4',\n",
       "  'scanno': 4,\n",
       "  'logno': 4},\n",
       " {'loc': array([-0.05918726,  0.01285716,  0.10331606,  0.        ,  0.        ,\n",
       "          0.        ,         nan,         nan,         nan,         nan,\n",
       "                 nan,         nan]),\n",
       "  'unit_mul': 0 (FIFF_UNITM_NONE),\n",
       "  'range': 1.0,\n",
       "  'cal': 1.0,\n",
       "  'kind': 2 (FIFFV_EEG_CH),\n",
       "  'coil_type': 1 (FIFFV_COIL_EEG),\n",
       "  'unit': 107 (FIFF_UNIT_V),\n",
       "  'coord_frame': 4 (FIFFV_COORD_HEAD),\n",
       "  'ch_name': 'E5',\n",
       "  'scanno': 5,\n",
       "  'logno': 5},\n",
       " {'loc': array([0.05918726, 0.01285716, 0.10331606, 0.        , 0.        ,\n",
       "         0.        ,        nan,        nan,        nan,        nan,\n",
       "                nan,        nan]),\n",
       "  'unit_mul': 0 (FIFF_UNITM_NONE),\n",
       "  'range': 1.0,\n",
       "  'cal': 1.0,\n",
       "  'kind': 2 (FIFFV_EEG_CH),\n",
       "  'coil_type': 1 (FIFFV_COIL_EEG),\n",
       "  'unit': 107 (FIFF_UNIT_V),\n",
       "  'coord_frame': 4 (FIFFV_COORD_HEAD),\n",
       "  'ch_name': 'E6',\n",
       "  'scanno': 6,\n",
       "  'logno': 6},\n",
       " {'loc': array([-0.06299088, -0.04004139,  0.09303938,  0.        ,  0.        ,\n",
       "          0.        ,         nan,         nan,         nan,         nan,\n",
       "                 nan,         nan]),\n",
       "  'unit_mul': 0 (FIFF_UNITM_NONE),\n",
       "  'range': 1.0,\n",
       "  'cal': 1.0,\n",
       "  'kind': 2 (FIFFV_EEG_CH),\n",
       "  'coil_type': 1 (FIFFV_COIL_EEG),\n",
       "  'unit': 107 (FIFF_UNIT_V),\n",
       "  'coord_frame': 4 (FIFFV_COORD_HEAD),\n",
       "  'ch_name': 'E7',\n",
       "  'scanno': 7,\n",
       "  'logno': 7},\n",
       " {'loc': array([ 0.06299088, -0.04004139,  0.09303938,  0.        ,  0.        ,\n",
       "          0.        ,         nan,         nan,         nan,         nan,\n",
       "                 nan,         nan]),\n",
       "  'unit_mul': 0 (FIFF_UNITM_NONE),\n",
       "  'range': 1.0,\n",
       "  'cal': 1.0,\n",
       "  'kind': 2 (FIFFV_EEG_CH),\n",
       "  'coil_type': 1 (FIFFV_COIL_EEG),\n",
       "  'unit': 107 (FIFF_UNIT_V),\n",
       "  'coord_frame': 4 (FIFFV_COORD_HEAD),\n",
       "  'ch_name': 'E8',\n",
       "  'scanno': 8,\n",
       "  'logno': 8},\n",
       " {'loc': array([-0.02958578, -0.08926419,  0.04670895,  0.        ,  0.        ,\n",
       "          0.        ,         nan,         nan,         nan,         nan,\n",
       "                 nan,         nan]),\n",
       "  'unit_mul': 0 (FIFF_UNITM_NONE),\n",
       "  'range': 1.0,\n",
       "  'cal': 1.0,\n",
       "  'kind': 2 (FIFFV_EEG_CH),\n",
       "  'coil_type': 1 (FIFFV_COIL_EEG),\n",
       "  'unit': 107 (FIFF_UNIT_V),\n",
       "  'coord_frame': 4 (FIFFV_COORD_HEAD),\n",
       "  'ch_name': 'E9',\n",
       "  'scanno': 9,\n",
       "  'logno': 9},\n",
       " {'loc': array([ 0.02958578, -0.08926419,  0.04670895,  0.        ,  0.        ,\n",
       "          0.        ,         nan,         nan,         nan,         nan,\n",
       "                 nan,         nan]),\n",
       "  'unit_mul': 0 (FIFF_UNITM_NONE),\n",
       "  'range': 1.0,\n",
       "  'cal': 1.0,\n",
       "  'kind': 2 (FIFFV_EEG_CH),\n",
       "  'coil_type': 1 (FIFFV_COIL_EEG),\n",
       "  'unit': 107 (FIFF_UNIT_V),\n",
       "  'coord_frame': 4 (FIFFV_COORD_HEAD),\n",
       "  'ch_name': 'E10',\n",
       "  'scanno': 10,\n",
       "  'logno': 10},\n",
       " {'loc': array([-0.06912492,  0.04700669,  0.02678007,  0.        ,  0.        ,\n",
       "          0.        ,         nan,         nan,         nan,         nan,\n",
       "                 nan,         nan]),\n",
       "  'unit_mul': 0 (FIFF_UNITM_NONE),\n",
       "  'range': 1.0,\n",
       "  'cal': 1.0,\n",
       "  'kind': 2 (FIFFV_EEG_CH),\n",
       "  'coil_type': 1 (FIFFV_COIL_EEG),\n",
       "  'unit': 107 (FIFF_UNIT_V),\n",
       "  'coord_frame': 4 (FIFFV_COORD_HEAD),\n",
       "  'ch_name': 'E11',\n",
       "  'scanno': 11,\n",
       "  'logno': 11},\n",
       " {'loc': array([0.06912492, 0.04700669, 0.02678007, 0.        , 0.        ,\n",
       "         0.        ,        nan,        nan,        nan,        nan,\n",
       "                nan,        nan]),\n",
       "  'unit_mul': 0 (FIFF_UNITM_NONE),\n",
       "  'range': 1.0,\n",
       "  'cal': 1.0,\n",
       "  'kind': 2 (FIFFV_EEG_CH),\n",
       "  'coil_type': 1 (FIFFV_COIL_EEG),\n",
       "  'unit': 107 (FIFF_UNIT_V),\n",
       "  'coord_frame': 4 (FIFFV_COORD_HEAD),\n",
       "  'ch_name': 'E12',\n",
       "  'scanno': 12,\n",
       "  'logno': 12},\n",
       " {'loc': array([-0.07890683, -0.01771251,  0.03021511,  0.        ,  0.        ,\n",
       "          0.        ,         nan,         nan,         nan,         nan,\n",
       "                 nan,         nan]),\n",
       "  'unit_mul': 0 (FIFF_UNITM_NONE),\n",
       "  'range': 1.0,\n",
       "  'cal': 1.0,\n",
       "  'kind': 2 (FIFFV_EEG_CH),\n",
       "  'coil_type': 1 (FIFFV_COIL_EEG),\n",
       "  'unit': 107 (FIFF_UNIT_V),\n",
       "  'coord_frame': 4 (FIFFV_COORD_HEAD),\n",
       "  'ch_name': 'E13',\n",
       "  'scanno': 13,\n",
       "  'logno': 13},\n",
       " {'loc': array([ 0.07890683, -0.01771251,  0.03021511,  0.        ,  0.        ,\n",
       "          0.        ,         nan,         nan,         nan,         nan,\n",
       "                 nan,         nan]),\n",
       "  'unit_mul': 0 (FIFF_UNITM_NONE),\n",
       "  'range': 1.0,\n",
       "  'cal': 1.0,\n",
       "  'kind': 2 (FIFFV_EEG_CH),\n",
       "  'coil_type': 1 (FIFFV_COIL_EEG),\n",
       "  'unit': 107 (FIFF_UNIT_V),\n",
       "  'coord_frame': 4 (FIFFV_COORD_HEAD),\n",
       "  'ch_name': 'E14',\n",
       "  'scanno': 14,\n",
       "  'logno': 14},\n",
       " {'loc': array([-0.06518921, -0.05880222,  0.04166522,  0.        ,  0.        ,\n",
       "          0.        ,         nan,         nan,         nan,         nan,\n",
       "                 nan,         nan]),\n",
       "  'unit_mul': 0 (FIFF_UNITM_NONE),\n",
       "  'range': 1.0,\n",
       "  'cal': 1.0,\n",
       "  'kind': 2 (FIFFV_EEG_CH),\n",
       "  'coil_type': 1 (FIFFV_COIL_EEG),\n",
       "  'unit': 107 (FIFF_UNIT_V),\n",
       "  'coord_frame': 4 (FIFFV_COORD_HEAD),\n",
       "  'ch_name': 'E15',\n",
       "  'scanno': 15,\n",
       "  'logno': 15},\n",
       " {'loc': array([ 0.06518921, -0.05880222,  0.04166522,  0.        ,  0.        ,\n",
       "          0.        ,         nan,         nan,         nan,         nan,\n",
       "                 nan,         nan]),\n",
       "  'unit_mul': 0 (FIFF_UNITM_NONE),\n",
       "  'range': 1.0,\n",
       "  'cal': 1.0,\n",
       "  'kind': 2 (FIFFV_EEG_CH),\n",
       "  'coil_type': 1 (FIFFV_COIL_EEG),\n",
       "  'unit': 107 (FIFF_UNIT_V),\n",
       "  'coord_frame': 4 (FIFFV_COORD_HEAD),\n",
       "  'ch_name': 'E16',\n",
       "  'scanno': 16,\n",
       "  'logno': 16},\n",
       " {'loc': array([0.        , 0.09397152, 0.08077546, 0.        , 0.        ,\n",
       "         0.        ,        nan,        nan,        nan,        nan,\n",
       "                nan,        nan]),\n",
       "  'unit_mul': 0 (FIFF_UNITM_NONE),\n",
       "  'range': 1.0,\n",
       "  'cal': 1.0,\n",
       "  'kind': 2 (FIFFV_EEG_CH),\n",
       "  'coil_type': 1 (FIFFV_COIL_EEG),\n",
       "  'unit': 107 (FIFF_UNIT_V),\n",
       "  'coord_frame': 4 (FIFFV_COORD_HEAD),\n",
       "  'ch_name': 'E17',\n",
       "  'scanno': 17,\n",
       "  'logno': 17},\n",
       " {'loc': array([0.        , 0.10033475, 0.00138172, 0.        , 0.        ,\n",
       "         0.        ,        nan,        nan,        nan,        nan,\n",
       "                nan,        nan]),\n",
       "  'unit_mul': 0 (FIFF_UNITM_NONE),\n",
       "  'range': 1.0,\n",
       "  'cal': 1.0,\n",
       "  'kind': 2 (FIFFV_EEG_CH),\n",
       "  'coil_type': 1 (FIFFV_COIL_EEG),\n",
       "  'unit': 107 (FIFF_UNIT_V),\n",
       "  'coord_frame': 4 (FIFFV_COORD_HEAD),\n",
       "  'ch_name': 'E18',\n",
       "  'scanno': 18,\n",
       "  'logno': 18},\n",
       " {'loc': array([ 0.        , -0.06189371,  0.11158665,  0.        ,  0.        ,\n",
       "          0.        ,         nan,         nan,         nan,         nan,\n",
       "                 nan,         nan]),\n",
       "  'unit_mul': 0 (FIFF_UNITM_NONE),\n",
       "  'range': 1.0,\n",
       "  'cal': 1.0,\n",
       "  'kind': 2 (FIFFV_EEG_CH),\n",
       "  'coil_type': 1 (FIFFV_COIL_EEG),\n",
       "  'unit': 107 (FIFF_UNIT_V),\n",
       "  'coord_frame': 4 (FIFFV_COORD_HEAD),\n",
       "  'ch_name': 'E19',\n",
       "  'scanno': 19,\n",
       "  'logno': 19},\n",
       " {'loc': array([ 0.        , -0.09317905,  0.04979389,  0.        ,  0.        ,\n",
       "          0.        ,         nan,         nan,         nan,         nan,\n",
       "                 nan,         nan]),\n",
       "  'unit_mul': 0 (FIFF_UNITM_NONE),\n",
       "  'range': 1.0,\n",
       "  'cal': 1.0,\n",
       "  'kind': 2 (FIFFV_EEG_CH),\n",
       "  'coil_type': 1 (FIFFV_COIL_EEG),\n",
       "  'unit': 107 (FIFF_UNIT_V),\n",
       "  'coord_frame': 4 (FIFFV_COORD_HEAD),\n",
       "  'ch_name': 'E20',\n",
       "  'scanno': 20,\n",
       "  'logno': 20},\n",
       " {'loc': array([-0.07042021,  0.02342636, -0.02404521,  0.        ,  0.        ,\n",
       "          0.        ,         nan,         nan,         nan,         nan,\n",
       "                 nan,         nan]),\n",
       "  'unit_mul': 0 (FIFF_UNITM_NONE),\n",
       "  'range': 1.0,\n",
       "  'cal': 1.0,\n",
       "  'kind': 2 (FIFFV_EEG_CH),\n",
       "  'coil_type': 1 (FIFFV_COIL_EEG),\n",
       "  'unit': 107 (FIFF_UNIT_V),\n",
       "  'coord_frame': 4 (FIFFV_COORD_HEAD),\n",
       "  'ch_name': 'E21',\n",
       "  'scanno': 21,\n",
       "  'logno': 21},\n",
       " {'loc': array([ 0.07042021,  0.02342636, -0.02404521,  0.        ,  0.        ,\n",
       "          0.        ,         nan,         nan,         nan,         nan,\n",
       "                 nan,         nan]),\n",
       "  'unit_mul': 0 (FIFF_UNITM_NONE),\n",
       "  'range': 1.0,\n",
       "  'cal': 1.0,\n",
       "  'kind': 2 (FIFFV_EEG_CH),\n",
       "  'coil_type': 1 (FIFFV_COIL_EEG),\n",
       "  'unit': 107 (FIFF_UNIT_V),\n",
       "  'coord_frame': 4 (FIFFV_COORD_HEAD),\n",
       "  'ch_name': 'E22',\n",
       "  'scanno': 22,\n",
       "  'logno': 22},\n",
       " {'loc': array([-0.06670393, -0.02939208, -0.02299478,  0.        ,  0.        ,\n",
       "          0.        ,         nan,         nan,         nan,         nan,\n",
       "                 nan,         nan]),\n",
       "  'unit_mul': 0 (FIFF_UNITM_NONE),\n",
       "  'range': 1.0,\n",
       "  'cal': 1.0,\n",
       "  'kind': 2 (FIFFV_EEG_CH),\n",
       "  'coil_type': 1 (FIFFV_COIL_EEG),\n",
       "  'unit': 107 (FIFF_UNIT_V),\n",
       "  'coord_frame': 4 (FIFFV_COORD_HEAD),\n",
       "  'ch_name': 'E23',\n",
       "  'scanno': 23,\n",
       "  'logno': 23},\n",
       " {'loc': array([ 0.06670393, -0.02939208, -0.02299478,  0.        ,  0.        ,\n",
       "          0.        ,         nan,         nan,         nan,         nan,\n",
       "                 nan,         nan]),\n",
       "  'unit_mul': 0 (FIFF_UNITM_NONE),\n",
       "  'range': 1.0,\n",
       "  'cal': 1.0,\n",
       "  'kind': 2 (FIFFV_EEG_CH),\n",
       "  'coil_type': 1 (FIFFV_COIL_EEG),\n",
       "  'unit': 107 (FIFF_UNIT_V),\n",
       "  'coord_frame': 4 (FIFFV_COORD_HEAD),\n",
       "  'ch_name': 'E24',\n",
       "  'scanno': 24,\n",
       "  'logno': 24},\n",
       " {'loc': array([-0.04088657, -0.07137749, -0.01475267,  0.        ,  0.        ,\n",
       "          0.        ,         nan,         nan,         nan,         nan,\n",
       "                 nan,         nan]),\n",
       "  'unit_mul': 0 (FIFF_UNITM_NONE),\n",
       "  'range': 1.0,\n",
       "  'cal': 1.0,\n",
       "  'kind': 2 (FIFFV_EEG_CH),\n",
       "  'coil_type': 1 (FIFFV_COIL_EEG),\n",
       "  'unit': 107 (FIFF_UNIT_V),\n",
       "  'coord_frame': 4 (FIFFV_COORD_HEAD),\n",
       "  'ch_name': 'E25',\n",
       "  'scanno': 25,\n",
       "  'logno': 25},\n",
       " {'loc': array([ 0.04088657, -0.07137749, -0.01475267,  0.        ,  0.        ,\n",
       "          0.        ,         nan,         nan,         nan,         nan,\n",
       "                 nan,         nan]),\n",
       "  'unit_mul': 0 (FIFF_UNITM_NONE),\n",
       "  'range': 1.0,\n",
       "  'cal': 1.0,\n",
       "  'kind': 2 (FIFFV_EEG_CH),\n",
       "  'coil_type': 1 (FIFFV_COIL_EEG),\n",
       "  'unit': 107 (FIFF_UNIT_V),\n",
       "  'coord_frame': 4 (FIFFV_COORD_HEAD),\n",
       "  'ch_name': 'E26',\n",
       "  'scanno': 26,\n",
       "  'logno': 26},\n",
       " {'loc': array([0.        , 0.10212314, 0.03968406, 0.        , 0.        ,\n",
       "         0.        ,        nan,        nan,        nan,        nan,\n",
       "                nan,        nan]),\n",
       "  'unit_mul': 0 (FIFF_UNITM_NONE),\n",
       "  'range': 1.0,\n",
       "  'cal': 1.0,\n",
       "  'kind': 2 (FIFFV_EEG_CH),\n",
       "  'coil_type': 1 (FIFFV_COIL_EEG),\n",
       "  'unit': 107 (FIFF_UNIT_V),\n",
       "  'coord_frame': 4 (FIFFV_COORD_HEAD),\n",
       "  'ch_name': 'E27',\n",
       "  'scanno': 27,\n",
       "  'logno': 27},\n",
       " {'loc': array([0.        , 0.05231766, 0.11578814, 0.        , 0.        ,\n",
       "         0.        ,        nan,        nan,        nan,        nan,\n",
       "                nan,        nan]),\n",
       "  'unit_mul': 0 (FIFF_UNITM_NONE),\n",
       "  'range': 1.0,\n",
       "  'cal': 1.0,\n",
       "  'kind': 2 (FIFFV_EEG_CH),\n",
       "  'coil_type': 1 (FIFFV_COIL_EEG),\n",
       "  'unit': 107 (FIFF_UNIT_V),\n",
       "  'coord_frame': 4 (FIFFV_COORD_HEAD),\n",
       "  'ch_name': 'E28',\n",
       "  'scanno': 28,\n",
       "  'logno': 28},\n",
       " {'loc': array([-0.0404385 ,  0.0675642 , -0.04226128,  0.        ,  0.        ,\n",
       "          0.        ,         nan,         nan,         nan,         nan,\n",
       "                 nan,         nan]),\n",
       "  'unit_mul': 0 (FIFF_UNITM_NONE),\n",
       "  'range': 1.0,\n",
       "  'cal': 1.0,\n",
       "  'kind': 2 (FIFFV_EEG_CH),\n",
       "  'coil_type': 1 (FIFFV_COIL_EEG),\n",
       "  'unit': 107 (FIFF_UNIT_V),\n",
       "  'coord_frame': 4 (FIFFV_COORD_HEAD),\n",
       "  'ch_name': 'E29',\n",
       "  'scanno': 29,\n",
       "  'logno': 29},\n",
       " {'loc': array([ 0.0404385 ,  0.0675642 , -0.04226128,  0.        ,  0.        ,\n",
       "          0.        ,         nan,         nan,         nan,         nan,\n",
       "                 nan,         nan]),\n",
       "  'unit_mul': 0 (FIFF_UNITM_NONE),\n",
       "  'range': 1.0,\n",
       "  'cal': 1.0,\n",
       "  'kind': 2 (FIFFV_EEG_CH),\n",
       "  'coil_type': 1 (FIFFV_COIL_EEG),\n",
       "  'unit': 107 (FIFF_UNIT_V),\n",
       "  'coord_frame': 4 (FIFFV_COORD_HEAD),\n",
       "  'ch_name': 'E30',\n",
       "  'scanno': 30,\n",
       "  'logno': 30},\n",
       " {'loc': array([-0.06609348,  0.0469685 , -0.01720353,  0.        ,  0.        ,\n",
       "          0.        ,         nan,         nan,         nan,         nan,\n",
       "                 nan,         nan]),\n",
       "  'unit_mul': 0 (FIFF_UNITM_NONE),\n",
       "  'range': 1.0,\n",
       "  'cal': 1.0,\n",
       "  'kind': 2 (FIFFV_EEG_CH),\n",
       "  'coil_type': 1 (FIFFV_COIL_EEG),\n",
       "  'unit': 107 (FIFF_UNIT_V),\n",
       "  'coord_frame': 4 (FIFFV_COORD_HEAD),\n",
       "  'ch_name': 'E31',\n",
       "  'scanno': 31,\n",
       "  'logno': 31},\n",
       " {'loc': array([ 0.06609348,  0.0469685 , -0.01720353,  0.        ,  0.        ,\n",
       "          0.        ,         nan,         nan,         nan,         nan,\n",
       "                 nan,         nan]),\n",
       "  'unit_mul': 0 (FIFF_UNITM_NONE),\n",
       "  'range': 1.0,\n",
       "  'cal': 1.0,\n",
       "  'kind': 2 (FIFFV_EEG_CH),\n",
       "  'coil_type': 1 (FIFFV_COIL_EEG),\n",
       "  'unit': 107 (FIFF_UNIT_V),\n",
       "  'coord_frame': 4 (FIFFV_COORD_HEAD),\n",
       "  'ch_name': 'E32',\n",
       "  'scanno': 32,\n",
       "  'logno': 32}]"
      ]
     },
     "execution_count": 11,
     "metadata": {},
     "output_type": "execute_result"
    }
   ],
   "source": [
    "info['chs']"
   ]
  },
  {
   "cell_type": "code",
   "execution_count": 12,
   "metadata": {},
   "outputs": [],
   "source": [
    "# alternative method \n",
    "# raw=mne.io.read_raw_fif('./TMSi32chan_loc_small_example.fif') # (this fif file is imported from original Poly5 to EDF to MNE)\n",
    "# missing dig in the info"
   ]
  },
  {
   "cell_type": "code",
   "execution_count": 13,
   "metadata": {},
   "outputs": [
    {
     "data": {
      "text/plain": [
       "35"
      ]
     },
     "execution_count": 13,
     "metadata": {},
     "output_type": "execute_result"
    }
   ],
   "source": [
    "len(info['dig'])"
   ]
  },
  {
   "cell_type": "code",
   "execution_count": 14,
   "metadata": {},
   "outputs": [],
   "source": [
    "outdict=loadmat('./xyzlabels.mat') # (this xyzlabels.mat has coordinates from original Poly to EDF to MNE)\n",
    "x=outdict['x']\n",
    "y=outdict['y']\n",
    "z=outdict['z']\n",
    "# this set of xyz does not look right to work as digitaization points for coregistartion, but works for topoplot\n",
    "for ch in range(3,len(info['dig'])):\n",
    "    info['dig'][ch]['r'][0]=x[ch-3]\n",
    "    info['dig'][ch]['r'][1]=y[ch-3]\n",
    "    info['dig'][ch]['r'][2]=z[ch-3]"
   ]
  },
  {
   "cell_type": "code",
   "execution_count": 15,
   "metadata": {},
   "outputs": [
    {
     "data": {
      "text/plain": [
       "[<DigPoint |        LPA : (-72.5, 0.0, 0.0) mm      : head frame>,\n",
       " <DigPoint |     Nasion : (0.0, 98.0, -0.0) mm      : head frame>,\n",
       " <DigPoint |        RPA : (72.5, 0.0, 0.0) mm       : head frame>,\n",
       " <DigPoint |     EEG #1 : (-29.3, 90.2, 6.3) mm     : head frame>,\n",
       " <DigPoint |     EEG #2 : (0.0, 94.6, 8.6) mm       : head frame>,\n",
       " <DigPoint |     EEG #3 : (29.3, 90.2, 6.3) mm      : head frame>,\n",
       " <DigPoint |     EEG #4 : (-76.8, 55.8, 2.7) mm     : head frame>,\n",
       " <DigPoint |     EEG #5 : (-50.3, 62.1, 51.4) mm    : head frame>,\n",
       " <DigPoint |     EEG #6 : (0.0, 63.7, 70.5) mm      : head frame>,\n",
       " <DigPoint |     EEG #7 : (50.3, 62.1, 51.4) mm     : head frame>,\n",
       " <DigPoint |     EEG #8 : (76.8, 55.8, 2.7) mm      : head frame>,\n",
       " <DigPoint |     EEG #9 : (-82.7, 31.7, 34.4) mm    : head frame>,\n",
       " <DigPoint |    EEG #10 : (-33.6, 33.6, 82.2) mm    : head frame>,\n",
       " <DigPoint |    EEG #11 : (33.6, 33.6, 82.2) mm     : head frame>,\n",
       " <DigPoint |    EEG #12 : (82.7, 31.7, 34.4) mm     : head frame>,\n",
       " <DigPoint |    EEG #13 : (-93.6, -16.5, 0.0) mm    : head frame>,\n",
       " <DigPoint |    EEG #14 : (-95.0, 0.0, 0.0) mm      : head frame>,\n",
       " <DigPoint |    EEG #15 : (-66.5, 0.0, 67.8) mm     : head frame>,\n",
       " <DigPoint |    EEG #16 : (0.0, 0.0, 95.0) mm       : head frame>,\n",
       " <DigPoint |    EEG #17 : (66.5, 0.0, 67.8) mm      : head frame>,\n",
       " <DigPoint |    EEG #18 : (95.0, 0.0, 0.0) mm       : head frame>,\n",
       " <DigPoint |    EEG #19 : (93.6, -16.5, 0.0) mm     : head frame>,\n",
       " <DigPoint |    EEG #20 : (-82.7, -31.7, 34.4) mm   : head frame>,\n",
       " <DigPoint |    EEG #21 : (-33.2, -34.4, 82.1) mm   : head frame>,\n",
       " <DigPoint |    EEG #22 : (33.2, -34.4, 82.1) mm    : head frame>,\n",
       " <DigPoint |    EEG #23 : (82.7, -31.7, 34.4) mm    : head frame>,\n",
       " <DigPoint |    EEG #24 : (-76.8, -55.8, 2.7) mm    : head frame>,\n",
       " <DigPoint |    EEG #25 : (-50.6, -62.5, 50.7) mm   : head frame>,\n",
       " <DigPoint |    EEG #26 : (0.0, -64.8, 69.5) mm     : head frame>,\n",
       " <DigPoint |    EEG #27 : (50.6, -62.5, 50.7) mm    : head frame>,\n",
       " <DigPoint |    EEG #28 : (76.8, -55.8, 2.7) mm     : head frame>,\n",
       " <DigPoint |    EEG #29 : (0.0, -84.6, 43.1) mm     : head frame>,\n",
       " <DigPoint |    EEG #30 : (-18.1, -93.1, 5.4) mm    : head frame>,\n",
       " <DigPoint |    EEG #31 : (0.0, -94.6, 8.3) mm      : head frame>,\n",
       " <DigPoint |    EEG #32 : (18.1, -93.1, 5.4) mm     : head frame>]"
      ]
     },
     "execution_count": 15,
     "metadata": {},
     "output_type": "execute_result"
    }
   ],
   "source": [
    "info['dig']"
   ]
  },
  {
   "cell_type": "code",
   "execution_count": 16,
   "metadata": {},
   "outputs": [
    {
     "data": {
      "text/plain": [
       "{'loc': array([-0.02911661,  0.09968484,  0.03726501,  0.        ,  0.        ,\n",
       "         0.        ,         nan,         nan,         nan,         nan,\n",
       "                nan,         nan]),\n",
       " 'unit_mul': 0 (FIFF_UNITM_NONE),\n",
       " 'range': 1.0,\n",
       " 'cal': 1.0,\n",
       " 'kind': 2 (FIFFV_EEG_CH),\n",
       " 'coil_type': 1 (FIFFV_COIL_EEG),\n",
       " 'unit': 107 (FIFF_UNIT_V),\n",
       " 'coord_frame': 4 (FIFFV_COORD_HEAD),\n",
       " 'ch_name': 'E1',\n",
       " 'scanno': 1,\n",
       " 'logno': 1}"
      ]
     },
     "execution_count": 16,
     "metadata": {},
     "output_type": "execute_result"
    }
   ],
   "source": [
    "info['chs'][0]"
   ]
  },
  {
   "cell_type": "code",
   "execution_count": 17,
   "metadata": {},
   "outputs": [],
   "source": [
    "for ch in range(32):\n",
    "    info['chs'][ch]['loc'][0]=x[ch]\n",
    "    info['chs'][ch]['loc'][1]=y[ch]\n",
    "    info['chs'][ch]['loc'][2]=z[ch]"
   ]
  },
  {
   "cell_type": "code",
   "execution_count": 18,
   "metadata": {},
   "outputs": [
    {
     "data": {
      "text/plain": [
       "{'loc': array([-0.02929275,  0.09015381,  0.00626293,  0.        ,  0.        ,\n",
       "         0.        ,         nan,         nan,         nan,         nan,\n",
       "                nan,         nan]),\n",
       " 'unit_mul': 0 (FIFF_UNITM_NONE),\n",
       " 'range': 1.0,\n",
       " 'cal': 1.0,\n",
       " 'kind': 2 (FIFFV_EEG_CH),\n",
       " 'coil_type': 1 (FIFFV_COIL_EEG),\n",
       " 'unit': 107 (FIFF_UNIT_V),\n",
       " 'coord_frame': 4 (FIFFV_COORD_HEAD),\n",
       " 'ch_name': 'E1',\n",
       " 'scanno': 1,\n",
       " 'logno': 1}"
      ]
     },
     "execution_count": 18,
     "metadata": {},
     "output_type": "execute_result"
    }
   ],
   "source": [
    "info['chs'][0]"
   ]
  },
  {
   "cell_type": "code",
   "execution_count": 58,
   "metadata": {},
   "outputs": [],
   "source": [
    "outdict=loadmat('./xyzlabels.mat') # (this xyzlabels.mat has coordinates from original Poly to EDF to MNE)\n",
    "Coordinates=np.zeros((32,3))\n",
    "Coordinates[:,0]=outdict['x']\n",
    "Coordinates[:,1]=outdict['y']\n",
    "Coordinates[:,2]=outdict['z']"
   ]
  },
  {
   "cell_type": "code",
   "execution_count": 19,
   "metadata": {},
   "outputs": [],
   "source": [
    "# Coordinates=outdict['Coordianates']/1000\n",
    "# for ch in range(3,len(info['dig'])):\n",
    "#     info['dig'][ch]['r']=Coordinates[ch-3,:]"
   ]
  },
  {
   "cell_type": "code",
   "execution_count": 20,
   "metadata": {},
   "outputs": [],
   "source": [
    "# mark the bad channels\n",
    "ch_labels_info_bads=list()\n",
    "for k in range(len(ch_info_bads)):\n",
    "    ch_labels_info_bads.append(ch_names[ch_info_bads[k]])\n",
    "\n",
    "info['bads'] = ch_labels_info_bads"
   ]
  },
  {
   "cell_type": "code",
   "execution_count": 21,
   "metadata": {},
   "outputs": [
    {
     "name": "stdout",
     "output_type": "stream",
     "text": [
      "Creating RawArray with float64 data, n_channels=32, n_times=258122\n",
      "    Range : 0 ... 258121 =      0.000 ...   129.060 secs\n",
      "Ready.\n",
      "EEG channel type selected for re-referencing\n",
      "Adding average EEG reference projection.\n",
      "1 projection items deactivated\n",
      "Average reference projection was added, but has not been applied yet. Use the apply_proj method to apply it.\n"
     ]
    },
    {
     "data": {
      "text/html": [
       "<table class=\"table table-hover table-striped table-sm table-responsive small\">\n",
       "    <tr>\n",
       "        <th>Measurement date</th>\n",
       "        \n",
       "        <td>Unknown</td>\n",
       "        \n",
       "    </tr>\n",
       "    <tr>\n",
       "        <th>Experimenter</th>\n",
       "        \n",
       "        <td>Unknown</td>\n",
       "        \n",
       "    </tr>\n",
       "        <th>Participant</th>\n",
       "        \n",
       "        <td>Unknown</td>\n",
       "        \n",
       "    </tr>\n",
       "    <tr>\n",
       "        <th>Digitized points</th>\n",
       "        \n",
       "        <td>35 points</td>\n",
       "        \n",
       "    </tr>\n",
       "    <tr>\n",
       "        <th>Good channels</th>\n",
       "        <td>32 EEG</td>\n",
       "    </tr>\n",
       "    <tr>\n",
       "        <th>Bad channels</th>\n",
       "        <td>None</td>\n",
       "    </tr>\n",
       "    <tr>\n",
       "        <th>EOG channels</th>\n",
       "        <td>Not available</td>\n",
       "    </tr>\n",
       "    <tr>\n",
       "        <th>ECG channels</th>\n",
       "        <td>Not available</td>\n",
       "    \n",
       "    <tr>\n",
       "        <th>Sampling frequency</th>\n",
       "        <td>2000.00 Hz</td>\n",
       "    </tr>\n",
       "    \n",
       "    \n",
       "    <tr>\n",
       "        <th>Highpass</th>\n",
       "        <td>0.00 Hz</td>\n",
       "    </tr>\n",
       "    \n",
       "    \n",
       "    <tr>\n",
       "        <th>Lowpass</th>\n",
       "        <td>1000.00 Hz</td>\n",
       "    </tr>\n",
       "    \n",
       "    \n",
       "    <tr>\n",
       "        <th>Projections</th>\n",
       "        <td>Average EEG reference : off</td>\n",
       "    </tr>\n",
       "    \n",
       "    \n",
       "    <tr>\n",
       "        <th>Duration</th>\n",
       "        <td>00:02:10 (HH:MM:SS)</td>\n",
       "    </tr>\n",
       "</table>"
      ],
      "text/plain": [
       "<RawArray | 32 x 258122 (129.1 s), ~63.1 MB, data loaded>"
      ]
     },
     "execution_count": 21,
     "metadata": {},
     "output_type": "execute_result"
    }
   ],
   "source": [
    "raw = mne.io.RawArray(preprocessed_eeg, info)\n",
    "raw.set_eeg_reference('average', projection=True)\n",
    "# raw.plot(show_scrollbars=False, show_scalebars=False)"
   ]
  },
  {
   "cell_type": "code",
   "execution_count": 22,
   "metadata": {},
   "outputs": [
    {
     "name": "stdout",
     "output_type": "stream",
     "text": [
      "Overwriting existing file.\n",
      "Writing /home/zhibinz2/Documents/GitHub/MEG_EEG_Source_Localization/EEG_spacing_32chan/raw.fif\n",
      "Closing /home/zhibinz2/Documents/GitHub/MEG_EEG_Source_Localization/EEG_spacing_32chan/raw.fif\n",
      "[done]\n"
     ]
    }
   ],
   "source": [
    "raw.save(\"raw.fif\",overwrite=True)"
   ]
  },
  {
   "cell_type": "code",
   "execution_count": 23,
   "metadata": {},
   "outputs": [],
   "source": [
    "# fig = mne.viz.plot_alignment(\n",
    "#     raw.info)\n",
    "# mne.viz.set_3d_view(fig)"
   ]
  },
  {
   "cell_type": "code",
   "execution_count": 24,
   "metadata": {},
   "outputs": [
    {
     "data": {
      "image/png": "[encoded data removed]",
      "text/plain": [
       "<Figure size 640x480 with 1 Axes>"
      ]
     },
     "metadata": {},
     "output_type": "display_data"
    },
    {
     "data": {
      "text/plain": [
       "(<matplotlib.image.AxesImage at 0x7f2f159bc460>,\n",
       " <matplotlib.contour.QuadContourSet at 0x7f2f159bc700>)"
      ]
     },
     "execution_count": 24,
     "metadata": {},
     "output_type": "execute_result"
    }
   ],
   "source": [
    "# topoplot\n",
    "import numpy as np\n",
    "x=np.random.rand(32)\n",
    "x=list(x*100)\n",
    "# x=list(range(1,33,1))\n",
    "import matplotlib.pyplot as plt\n",
    "fig, ax = plt.subplots(1)\n",
    "mne.viz.plot_topomap(x, \\\n",
    "    raw.info, vlim=(None, None), axes=ax,\\\n",
    "        sensors=True, names=ch_labels_names, cmap='seismic')"
   ]
  },
  {
   "attachments": {},
   "cell_type": "markdown",
   "metadata": {},
   "source": [
    "coregistration"
   ]
  },
  {
   "cell_type": "code",
   "execution_count": 25,
   "metadata": {},
   "outputs": [],
   "source": [
    "# mne.gui.coregistration()"
   ]
  },
  {
   "attachments": {},
   "cell_type": "markdown",
   "metadata": {},
   "source": [
    "forward solution"
   ]
  },
  {
   "cell_type": "code",
   "execution_count": 26,
   "metadata": {},
   "outputs": [
    {
     "name": "stdout",
     "output_type": "stream",
     "text": [
      "Setting up the source space with the following parameters:\n",
      "\n",
      "SUBJECTS_DIR = /home/zhibinz2/Documents/GitHub/MEG_EEG_Source_Localization/EEG_spacing_32chan/../../archive/subjects\n",
      "Subject      = fsaverage\n",
      "Surface      = white\n",
      "Icosahedron subdivision grade 4\n",
      "\n",
      ">>> 1. Creating the source space...\n",
      "\n",
      "Doing the icosahedral vertex picking...\n",
      "Loading /home/zhibinz2/Documents/GitHub/MEG_EEG_Source_Localization/EEG_spacing_32chan/../../archive/subjects/fsaverage/surf/lh.white...\n",
      "Mapping lh fsaverage -> ico (4) ...\n",
      "    Warning: zero size triangles: [3 4]\n",
      "    Triangle neighbors and vertex normals...\n",
      "Loading geometry from /home/zhibinz2/Documents/GitHub/MEG_EEG_Source_Localization/EEG_spacing_32chan/../../archive/subjects/fsaverage/surf/lh.sphere...\n",
      "Setting up the triangulation for the decimated surface...\n",
      "loaded lh.white 2562/163842 selected to source space (ico = 4)\n",
      "\n",
      "Loading /home/zhibinz2/Documents/GitHub/MEG_EEG_Source_Localization/EEG_spacing_32chan/../../archive/subjects/fsaverage/surf/rh.white...\n",
      "Mapping rh fsaverage -> ico (4) ...\n",
      "    Warning: zero size triangles: [3 4]\n",
      "    Triangle neighbors and vertex normals...\n",
      "Loading geometry from /home/zhibinz2/Documents/GitHub/MEG_EEG_Source_Localization/EEG_spacing_32chan/../../archive/subjects/fsaverage/surf/rh.sphere...\n",
      "Setting up the triangulation for the decimated surface...\n",
      "loaded rh.white 2562/163842 selected to source space (ico = 4)\n",
      "\n",
      "Calculating patch information (limit=0.0 mm)...\n",
      "    Computing patch statistics...\n",
      "    Patch information added...\n",
      "    Computing patch statistics...\n",
      "    Patch information added...\n",
      "You are now one step closer to computing the gain matrix\n",
      "Creating the BEM geometry...\n",
      "Going from 5th to 4th subdivision of an icosahedron (n_tri: 20480 -> 5120)\n",
      "Going from 5th to 4th subdivision of an icosahedron (n_tri: 20480 -> 5120)\n",
      "Going from 5th to 4th subdivision of an icosahedron (n_tri: 20480 -> 5120)\n",
      "outer skin  CM is  -0.21 -19.38  -0.23 mm\n",
      "outer skull CM is  -0.19 -19.34  -0.49 mm\n",
      "inner skull CM is  -0.53 -21.10   6.21 mm\n",
      "Checking that surface outer skull is inside surface outer skin  ...\n",
      "Checking that surface inner skull is inside surface outer skull ...\n",
      "Checking distance between outer skin  and outer skull surfaces...\n",
      "Minimum distance between the outer skin  and outer skull surfaces is approximately    1.6 mm\n",
      "Checking distance between outer skull and inner skull surfaces...\n",
      "Minimum distance between the outer skull and inner skull surfaces is approximately    5.4 mm\n",
      "Surfaces passed the basic topology checks.\n",
      "Complete.\n",
      "\n",
      "Three-layer model surfaces loaded.\n",
      "Computing the linear collocation solution...\n",
      "    Matrix coefficients...\n",
      "        outer skin  (2562) -> outer skin  (2562) ...\n",
      "        outer skin  (2562) -> outer skull (2562) ...\n",
      "        outer skin  (2562) -> inner skull (2562) ...\n",
      "        outer skull (2562) -> outer skin  (2562) ...\n",
      "        outer skull (2562) -> outer skull (2562) ...\n",
      "        outer skull (2562) -> inner skull (2562) ...\n",
      "        inner skull (2562) -> outer skin  (2562) ...\n",
      "        inner skull (2562) -> outer skull (2562) ...\n",
      "        inner skull (2562) -> inner skull (2562) ...\n",
      "    Inverting the coefficient matrix...\n",
      "IP approach required...\n",
      "    Matrix coefficients (homog)...\n",
      "        inner skull (2562) -> inner skull (2562) ...\n",
      "    Inverting the coefficient matrix (homog)...\n",
      "    Modify the original solution to incorporate IP approach...\n",
      "        Combining...\n",
      "        Scaling...\n",
      "Solution ready.\n",
      "BEM geometry computations complete.\n",
      "Source space          : <SourceSpaces: [<surface (lh), n_vertices=163842, n_used=2562>, <surface (rh), n_vertices=163842, n_used=2562>] MRI (surface RAS) coords, subject 'fsaverage', ~30.8 MB>\n",
      "MRI -> head transform : ./egi_trans.fif\n",
      "Measurement data      : raw.fif\n",
      "Conductor model   : instance of ConductorModel\n",
      "Accurate field computations\n",
      "Do computations in head coordinates\n",
      "Free source orientations\n",
      "\n",
      "Read 2 source spaces a total of 5124 active source locations\n",
      "\n",
      "Coordinate transformation: MRI (surface RAS) -> head\n",
      "     0.998668 -0.032688 -0.039923      -2.10 mm\n",
      "     0.037528  0.991165  0.127213      12.97 mm\n",
      "     0.035412 -0.128542  0.991072       9.84 mm\n",
      "     0.000000  0.000000  0.000000       1.00\n",
      "\n",
      "Read  32 EEG channels from info\n",
      "Head coordinate coil definitions created.\n",
      "Source spaces are now in head coordinates.\n",
      "\n",
      "Employing the head->MRI coordinate transform with the BEM model.\n",
      "BEM model instance of ConductorModel is now set up\n",
      "\n",
      "Source spaces are in head coordinates.\n",
      "Checking that the sources are inside the surface and at least    5.0 mm away (will take a few...)\n",
      "Checking surface interior status for 2562 points...\n",
      "    Found  609/2562 points inside  an interior sphere of radius   47.7 mm\n",
      "    Found    0/2562 points outside an exterior sphere of radius   98.3 mm\n",
      "    Found    0/1953 points outside using surface Qhull\n"
     ]
    },
    {
     "name": "stderr",
     "output_type": "stream",
     "text": [
      "[Parallel(n_jobs=2)]: Using backend LokyBackend with 2 concurrent workers.\n"
     ]
    },
    {
     "name": "stdout",
     "output_type": "stream",
     "text": [
      "    Found    0/1953 points outside using solid angles\n",
      "    Total 2562/2562 points inside the surface\n",
      "Interior check completed in 6322.1 ms\n",
      "Checking surface interior status for 2562 points...\n",
      "    Found  561/2562 points inside  an interior sphere of radius   47.7 mm\n",
      "    Found    0/2562 points outside an exterior sphere of radius   98.3 mm\n",
      "    Found    0/2001 points outside using surface Qhull\n"
     ]
    },
    {
     "name": "stderr",
     "output_type": "stream",
     "text": [
      "[Parallel(n_jobs=2)]: Done   2 out of   2 | elapsed:    6.3s remaining:    0.0s\n",
      "[Parallel(n_jobs=2)]: Done   2 out of   2 | elapsed:    6.3s finished\n",
      "[Parallel(n_jobs=2)]: Using backend LokyBackend with 2 concurrent workers.\n"
     ]
    },
    {
     "name": "stdout",
     "output_type": "stream",
     "text": [
      "    Found    0/2001 points outside using solid angles\n",
      "    Total 2562/2562 points inside the surface\n",
      "Interior check completed in 507.1 ms\n",
      "\n"
     ]
    },
    {
     "name": "stderr",
     "output_type": "stream",
     "text": [
      "[Parallel(n_jobs=2)]: Done   2 out of   2 | elapsed:    0.5s remaining:    0.0s\n",
      "[Parallel(n_jobs=2)]: Done   2 out of   2 | elapsed:    0.5s finished\n"
     ]
    },
    {
     "name": "stdout",
     "output_type": "stream",
     "text": [
      "Setting up for EEG...\n",
      "Computing EEG at 5124 source locations (free orientations)...\n"
     ]
    },
    {
     "name": "stderr",
     "output_type": "stream",
     "text": [
      "[Parallel(n_jobs=2)]: Using backend LokyBackend with 2 concurrent workers.\n"
     ]
    },
    {
     "name": "stdout",
     "output_type": "stream",
     "text": [
      "\n",
      "Finished.\n",
      "<Forward | MEG channels: 0 | EEG channels: 32 | Source space: Surface with 5124 vertices | Source orientation: Free>\n"
     ]
    },
    {
     "name": "stderr",
     "output_type": "stream",
     "text": [
      "[Parallel(n_jobs=2)]: Done   2 out of   2 | elapsed:    2.1s remaining:    0.0s\n",
      "[Parallel(n_jobs=2)]: Done   2 out of   2 | elapsed:    2.1s finished\n"
     ]
    }
   ],
   "source": [
    "# the raw file containing the channel location + types\n",
    "raw_fname = './raw.fif'\n",
    "\n",
    "# The paths to Freesurfer reconstructions\n",
    "subjects_dir ='../../archive/subjects/'\n",
    "subject = 'fsaverage' # change it to use freesurfer's bem\n",
    "\n",
    "# Compute Source Space (surface)\n",
    "ico = 4 #**************************************************************\n",
    "spacing='ico'+str(ico) \n",
    "src = mne.setup_source_space(subject, spacing=spacing, add_dist='patch',\n",
    "                             subjects_dir=subjects_dir)\n",
    "\n",
    "conductivity = (0.3, 0.0075, 0.3)  #  three layers for EEG (MNE default  (0.3 0.006 0.3) )\n",
    "model = mne.make_bem_model(subject=subject, ico=ico,\n",
    "                           conductivity=conductivity,\n",
    "                           subjects_dir=subjects_dir)\n",
    "bem = mne.make_bem_solution(model)\n",
    "\n",
    "trans = './tmsi_trans.fif'\n",
    "\n",
    "fwd = mne.make_forward_solution(raw_fname, trans=trans, src=src, bem=bem,\n",
    "                                meg=False, eeg=True, mindist=5.0, n_jobs=2,\n",
    "                                verbose=True)\n",
    "print(fwd)\n",
    "\n",
    "# 1m 40s\n"
   ]
  },
  {
   "cell_type": "code",
   "execution_count": 27,
   "metadata": {},
   "outputs": [
    {
     "data": {
      "text/plain": [
       "<SourceSpaces: [<surface (lh), n_vertices=163842, n_used=2562>, <surface (rh), n_vertices=163842, n_used=2562>] MRI (surface RAS) coords, subject 'fsaverage', ~30.8 MB>"
      ]
     },
     "execution_count": 27,
     "metadata": {},
     "output_type": "execute_result"
    }
   ],
   "source": [
    "src"
   ]
  },
  {
   "cell_type": "code",
   "execution_count": 28,
   "metadata": {},
   "outputs": [
    {
     "name": "stdout",
     "output_type": "stream",
     "text": [
      "    Average patch normals will be employed in the rotation to the local surface coordinates....\n",
      "    Converting to surface-based source orientations...\n"
     ]
    },
    {
     "name": "stdout",
     "output_type": "stream",
     "text": [
      "    [done]\n",
      "Leadfield size : 32 sensors x 5124 dipoles\n"
     ]
    }
   ],
   "source": [
    "fwd_fixed = mne.convert_forward_solution(fwd, surf_ori=True, force_fixed=True,\n",
    "                                         use_cps=True)\n",
    "leadfield = fwd_fixed['sol']['data']\n",
    "source_rr=fwd_fixed['source_rr']\n",
    "print(\"Leadfield size : %d sensors x %d dipoles\" % leadfield.shape)"
   ]
  },
  {
   "cell_type": "code",
   "execution_count": 29,
   "metadata": {},
   "outputs": [
    {
     "name": "stdout",
     "output_type": "stream",
     "text": [
      "Overwriting existing file.\n",
      "    Write a source space...\n",
      "    [done]\n",
      "    Write a source space...\n",
      "    [done]\n",
      "    2 source spaces written\n"
     ]
    },
    {
     "name": "stderr",
     "output_type": "stream",
     "text": [
      "/tmp/ipykernel_3820841/1225453021.py:1: RuntimeWarning: This filename (fwd.fif) does not conform to MNE naming conventions. All forward files should end with -fwd.fif, -fwd.fif.gz, _fwd.fif or _fwd.fif.gz\n",
      "  mne.write_forward_solution('fwd.fif', fwd_fixed, overwrite=True, verbose=None)\n",
      "/tmp/ipykernel_3820841/1225453021.py:1: RuntimeWarning: This forward solution is based on a forward solution with free orientation. The original forward solution is stored on disk in X/Y/Z RAS coordinates. Any transformation (surface orientation or fixed orientation) will be reverted. To reapply any transformation to the forward operator please apply convert_forward_solution after reading the forward solution with read_forward_solution.\n",
      "  mne.write_forward_solution('fwd.fif', fwd_fixed, overwrite=True, verbose=None)\n"
     ]
    }
   ],
   "source": [
    "mne.write_forward_solution('fwd.fif', fwd_fixed, overwrite=True, verbose=None)"
   ]
  },
  {
   "attachments": {},
   "cell_type": "markdown",
   "metadata": {},
   "source": [
    "inv"
   ]
  },
  {
   "cell_type": "code",
   "execution_count": 30,
   "metadata": {},
   "outputs": [
    {
     "name": "stdout",
     "output_type": "stream",
     "text": [
      "Using up to 645 segments\n",
      "Number of samples used : 258000\n",
      "[done]\n"
     ]
    }
   ],
   "source": [
    "# use the entire data as empty room noise\n",
    "noise_cov = mne.compute_raw_covariance(raw)\n",
    "noise_cov_mat=noise_cov['data']# it only included the good chans\n",
    "# compute the average of the diagonal\n",
    "# construct the scale of the noise cov\n",
    "scale=0.05 # 1% 5% 10% 30% 50% *******************************************************************************\n",
    "scale_ave=np.mean(noise_cov_mat.diagonal())*scale\n",
    "sim_cov_mat=np.zeros((np.shape(noise_cov_mat)))\n",
    "for i in range(np.shape(sim_cov_mat)[0]):\n",
    "       sim_cov_mat[i,i]=scale_ave\n"
   ]
  },
  {
   "cell_type": "code",
   "execution_count": 31,
   "metadata": {},
   "outputs": [],
   "source": [
    "# plt.imshow(noise_cov_mat,vmin=-1.5e-10, vmax=1.5e-10, cmap='jet')\n",
    "# plt.colorbar()\n",
    "# np.mean(noise_cov_mat.diagonal())"
   ]
  },
  {
   "cell_type": "code",
   "execution_count": 32,
   "metadata": {},
   "outputs": [],
   "source": [
    "sim_cov=noise_cov.copy()\n",
    "sim_cov['data']=sim_cov_mat\n",
    "# mne.write_cov('sim_cov.fif', sim_cov, overwrite=True, verbose=None)"
   ]
  },
  {
   "cell_type": "code",
   "execution_count": 33,
   "metadata": {},
   "outputs": [],
   "source": [
    "nepochs=int(np.floor(np.shape(preprocessed_eeg)[1]/sampling_freq))\n",
    "epochs_mat = np.column_stack(\n",
    "    (\n",
    "        np.arange(0, np.shape(preprocessed_eeg)[1]-sampling_freq, sampling_freq),\n",
    "        np.zeros(nepochs, dtype=int),\n",
    "        np.array([1]*nepochs),\n",
    "    )\n",
    ")\n"
   ]
  },
  {
   "cell_type": "code",
   "execution_count": 34,
   "metadata": {},
   "outputs": [
    {
     "name": "stdout",
     "output_type": "stream",
     "text": [
      "Not setting metadata\n",
      "129 matching events found\n",
      "Setting baseline interval to [0.0, 0.999] sec\n",
      "Applying baseline correction (mode: mean)\n",
      "Created an SSP operator (subspace dimension = 1)\n",
      "1 projection items activated\n",
      "Using data from preloaded Raw for 129 events and 1999 original time points ...\n",
      "0 bad epochs dropped\n",
      "Overwriting existing file.\n",
      "Reading /home/zhibinz2/Documents/GitHub/MEG_EEG_Source_Localization/EEG_spacing_32chan/resting_ave.fif ...\n",
      "    Read a total of 1 projection items:\n",
      "        Average EEG reference (1 x 32) active\n",
      "    Found the data of interest:\n",
      "        t =       0.00 ...     999.00 ms (resting)\n",
      "        0 CTF compensation matrices available\n",
      "        nave = 129 - aspect type = 100\n",
      "Projections have already been applied. Setting proj attribute to True.\n",
      "Loaded Evoked data is baseline-corrected (baseline: [0, 0.999] sec)\n"
     ]
    }
   ],
   "source": [
    "\n",
    "epoch_dict = dict(resting=1)\n",
    "epochs = mne.Epochs(raw, epochs_mat, tmin=0, tmax=0.999, event_id=epoch_dict, preload=True, baseline=(None, None))\n",
    "\n",
    "evoked = epochs[\"resting\"].average()\n",
    "mne.write_evokeds('resting_ave.fif', evoked, on_mismatch='raise', overwrite=True, verbose=None)\n",
    "evokeds = mne.read_evokeds('./resting_ave.fif')\n",
    "resting = evokeds[0]"
   ]
  },
  {
   "cell_type": "code",
   "execution_count": 35,
   "metadata": {},
   "outputs": [
    {
     "name": "stdout",
     "output_type": "stream",
     "text": [
      "    Average patch normals will be employed in the rotation to the local surface coordinates....\n",
      "    Converting to surface-based source orientations...\n",
      "    [done]\n"
     ]
    },
    {
     "data": {
      "text/html": [
       "<table class=\"table table-hover table-striped table-sm table-responsive small\">\n",
       "    <tr>\n",
       "        <th>Good channels</th>\n",
       "        <td>32 EEG</td>\n",
       "    </tr>\n",
       "    <tr>\n",
       "        <th>Bad channels</th>\n",
       "        <td>None</td>\n",
       "    </tr>\n",
       "    <tr>\n",
       "        <th>Source space</th>\n",
       "        <td>Surface with 5124 vertices</td>\n",
       "    </tr>\n",
       "    <tr>\n",
       "        <th>Source orientation</th>\n",
       "        <td>Free</td>\n",
       "    </tr>\n",
       "</table>"
      ],
      "text/plain": [
       "<Forward | MEG channels: 0 | EEG channels: 32 | Source space: Surface with 5124 vertices | Source orientation: Free>"
      ]
     },
     "execution_count": 35,
     "metadata": {},
     "output_type": "execute_result"
    }
   ],
   "source": [
    "# fwd = mne.read_forward_solution('fwd.fif')\n",
    "mne.convert_forward_solution(fwd, surf_ori=True, copy=False)"
   ]
  },
  {
   "cell_type": "code",
   "execution_count": 36,
   "metadata": {},
   "outputs": [
    {
     "name": "stdout",
     "output_type": "stream",
     "text": [
      "Computing inverse operator with 32 channels.\n",
      "    32 out of 32 channels remain after picking\n",
      "Selected 32 channels\n",
      "Creating the depth weighting matrix...\n",
      "    32 EEG channels\n"
     ]
    },
    {
     "name": "stdout",
     "output_type": "stream",
     "text": [
      "    limit = 5125/5124 = 2.677342\n",
      "    scale = 80662.2 exp = 0.8\n",
      "    Picked elements from a free-orientation depth-weighting prior into the fixed-orientation one\n",
      "    Average patch normals will be employed in the rotation to the local surface coordinates....\n",
      "    Converting to surface-based source orientations...\n",
      "    [done]\n",
      "Whitening the forward solution.\n",
      "    Created an SSP operator (subspace dimension = 1)\n",
      "Computing rank from covariance with rank=None\n",
      "    Using tolerance 1.3e-16 (2.2e-16 eps * 32 dim * 0.018  max singular value)\n",
      "    Estimated rank (eeg): 31\n",
      "    EEG: rank 31 computed from 32 data channels with 1 projector\n",
      "    Setting small EEG eigenvalues to zero (without PCA)\n",
      "Creating the source covariance matrix\n",
      "Adjusting source covariance matrix.\n",
      "Computing SVD of whitened and weighted lead field matrix.\n",
      "    largest singular value = 3.30523\n",
      "    scaling factor to adjust the trace = 1.76601e+20 (nchan = 32 nzero = 1)\n"
     ]
    }
   ],
   "source": [
    "# Compute the source estimate (Fixed dipole orientations)\n",
    "depth=0.8 # 0.8 1 2 4 ***************************************************************************************\n",
    "inverse_operator = make_inverse_operator(resting.info, fwd, sim_cov, depth=depth, fixed=True)\n",
    "# save the inverse operator and the inverse matrix\n",
    "# write_inverse_operator('inv.fif', inverse_operator,overwrite=True)"
   ]
  },
  {
   "cell_type": "code",
   "execution_count": 37,
   "metadata": {},
   "outputs": [],
   "source": [
    "%run extract_invmat.ipynb # run this script to load the functions needed to extract inverse matrix"
   ]
  },
  {
   "cell_type": "code",
   "execution_count": 38,
   "metadata": {},
   "outputs": [
    {
     "name": "stdout",
     "output_type": "stream",
     "text": [
      "Preparing the inverse operator for use...\n",
      "    Scaled noise and source covariance from nave = 1 to nave = 1\n",
      "    Created the regularized inverter\n",
      "    Created an SSP operator (subspace dimension = 1)\n",
      "    Created the whitener using a noise covariance matrix with rank 31 (1 small eigenvalues omitted)\n",
      "Applying inverse operator to \"\"...\n",
      "    Picked 32 channels from the data\n",
      "    Computing inverse...\n",
      "    Eigenleads need to be weighted ...\n",
      "    Computing residual...\n",
      "    Explained  63.0% variance\n",
      "[done]\n",
      "Dimension of Inverse Matrix: (5124, 32)\n"
     ]
    },
    {
     "data": {
      "text/plain": [
       "(5124, 32)"
      ]
     },
     "execution_count": 38,
     "metadata": {},
     "output_type": "execute_result"
    }
   ],
   "source": [
    "method = \"MNE\"  # (could also be dSPM or sLORETA)\n",
    "invmat=_get_matrix_from_inverse_operator(inverse_operator,fwd,method=method,lambda2=1.0/9.0)\n",
    "np.shape(invmat)"
   ]
  },
  {
   "attachments": {},
   "cell_type": "markdown",
   "metadata": {},
   "source": [
    "Correlation"
   ]
  },
  {
   "cell_type": "code",
   "execution_count": 39,
   "metadata": {},
   "outputs": [
    {
     "name": "stderr",
     "output_type": "stream",
     "text": [
      "/tmp/ipykernel_3820841/1938110253.py:1: DeprecationWarning: The truth value of an empty array is ambiguous. Returning False, but in future this will result in an error. Use `array.size > 0` to check that an array is not empty.\n",
      "  not ch_info_bads\n"
     ]
    },
    {
     "data": {
      "text/plain": [
       "True"
      ]
     },
     "execution_count": 39,
     "metadata": {},
     "output_type": "execute_result"
    }
   ],
   "source": [
    "not ch_info_bads"
   ]
  },
  {
   "cell_type": "code",
   "execution_count": 40,
   "metadata": {},
   "outputs": [
    {
     "name": "stderr",
     "output_type": "stream",
     "text": [
      "/tmp/ipykernel_3820841/1154960953.py:2: DeprecationWarning: The truth value of an empty array is ambiguous. Returning False, but in future this will result in an error. Use `array.size > 0` to check that an array is not empty.\n",
      "  if ch_info_bads:\n"
     ]
    }
   ],
   "source": [
    "# remove bad channels from the original eeg\n",
    "if ch_info_bads:\n",
    "    original_eeg=np.delete(preprocessed_eeg,ch_info_bads,0)\n",
    "else:\n",
    "    original_eeg=preprocessed_eeg"
   ]
  },
  {
   "cell_type": "code",
   "execution_count": 41,
   "metadata": {},
   "outputs": [],
   "source": [
    "# reconstruct eeg using invmat and leadfield matrix\n",
    "source_data=np.matmul(invmat,original_eeg)\n",
    "EEG_recon=np.matmul(leadfield,source_data)\n",
    "# 11s"
   ]
  },
  {
   "cell_type": "code",
   "execution_count": 42,
   "metadata": {},
   "outputs": [
    {
     "name": "stderr",
     "output_type": "stream",
     "text": [
      "/tmp/ipykernel_3820841/2141909429.py:2: DeprecationWarning: The truth value of an empty array is ambiguous. Returning False, but in future this will result in an error. Use `array.size > 0` to check that an array is not empty.\n",
      "  if ch_info_bads:\n"
     ]
    }
   ],
   "source": [
    "# remove bad channels from the reconstructed eeg\n",
    "if ch_info_bads:\n",
    "    EEG_recon=np.delete(EEG_recon,ch_info_bads,0)\n"
   ]
  },
  {
   "cell_type": "code",
   "execution_count": 43,
   "metadata": {},
   "outputs": [],
   "source": [
    "# plt.plot(np.arange(0,np.shape(EEG_recon)[1],1),EEG_recon.transpose())\n",
    "# plt.title('reconstructed EEG - all chan')\n",
    "# plt.ylim([-2e-5,2e-5])\n",
    "# # 16 s"
   ]
  },
  {
   "cell_type": "code",
   "execution_count": 44,
   "metadata": {},
   "outputs": [],
   "source": [
    "# plt.plot(np.arange(0,np.shape(EEG_recon)[1],1),EEG_recon[ch_dubious,:].transpose())\n",
    "# plt.title('reconstructed EEG - dubious chan')\n",
    "# plt.ylim([-2e-5,2e-5])"
   ]
  },
  {
   "cell_type": "code",
   "execution_count": 45,
   "metadata": {},
   "outputs": [],
   "source": [
    "# plt.plot(np.arange(0,np.shape(EEG_recon)[1],1),EEG_recon[ch_bad,:].transpose())\n",
    "# plt.title('reconstructed EEG - bad chan')\n",
    "# plt.ylim([-2e-5,2e-5])"
   ]
  },
  {
   "cell_type": "code",
   "execution_count": 46,
   "metadata": {},
   "outputs": [],
   "source": [
    "# compute correlation\n",
    "corr = np.corrcoef(EEG_recon, original_eeg, rowvar=True)"
   ]
  },
  {
   "cell_type": "code",
   "execution_count": 47,
   "metadata": {},
   "outputs": [
    {
     "data": {
      "text/plain": [
       "array([[ 1.        ,  0.84123016,  0.24278113, ..., -0.19757465,\n",
       "        -0.05232162, -0.21648618],\n",
       "       [ 0.84123016,  1.        ,  0.59878814, ..., -0.26825585,\n",
       "        -0.08555275, -0.31685772],\n",
       "       [ 0.24278113,  0.59878814,  1.        , ..., -0.34634035,\n",
       "        -0.25214078, -0.38813629],\n",
       "       ...,\n",
       "       [-0.19757465, -0.26825585, -0.34634035, ...,  1.        ,\n",
       "        -0.06846417,  0.63088703],\n",
       "       [-0.05232162, -0.08555275, -0.25214078, ..., -0.06846417,\n",
       "         1.        , -0.11383257],\n",
       "       [-0.21648618, -0.31685772, -0.38813629, ...,  0.63088703,\n",
       "        -0.11383257,  1.        ]])"
      ]
     },
     "execution_count": 47,
     "metadata": {},
     "output_type": "execute_result"
    }
   ],
   "source": [
    "corr"
   ]
  },
  {
   "cell_type": "code",
   "execution_count": 48,
   "metadata": {},
   "outputs": [],
   "source": [
    "# np.arange(0,np.shape(EEG_recon)[0],1)+194"
   ]
  },
  {
   "cell_type": "code",
   "execution_count": 49,
   "metadata": {},
   "outputs": [],
   "source": [
    "# corr=corr[np.arange(0,np.shape(EEG_recon)[0],1)]"
   ]
  },
  {
   "cell_type": "code",
   "execution_count": 50,
   "metadata": {},
   "outputs": [],
   "source": [
    "# np.shape(corr)"
   ]
  },
  {
   "cell_type": "code",
   "execution_count": 51,
   "metadata": {},
   "outputs": [],
   "source": [
    "# corr=corr[:,np.arange(194,388,1)]"
   ]
  },
  {
   "cell_type": "code",
   "execution_count": 52,
   "metadata": {},
   "outputs": [],
   "source": [
    "# plt.imshow(corr,cmap='jet',vmin=-1,vmax=1)\n",
    "# plt.ylabel('reconstructed EEG (194 good channels)')\n",
    "# plt.xlabel('original EEG (194 good channels)')\n",
    "# plt.title('correlation')\n",
    "# plt.colorbar()"
   ]
  },
  {
   "cell_type": "code",
   "execution_count": 53,
   "metadata": {},
   "outputs": [
    {
     "data": {
      "text/plain": [
       "Text(0.5, 1.0, 'corrceof: ico4 scale 0.05 depth 0.8')"
      ]
     },
     "execution_count": 53,
     "metadata": {},
     "output_type": "execute_result"
    },
    {
     "data": {
      "image/png": "[encoded data removed]",
      "text/plain": [
       "<Figure size 640x480 with 2 Axes>"
      ]
     },
     "metadata": {},
     "output_type": "display_data"
    }
   ],
   "source": [
    "plt.imshow(corr,cmap='jet',vmin=-1,vmax=1)\n",
    "plt.colorbar()\n",
    "plt.title('corrceof: ico' + str(ico) + ' scale ' +str(scale) +' depth '+ str(depth))"
   ]
  },
  {
   "cell_type": "code",
   "execution_count": 54,
   "metadata": {},
   "outputs": [
    {
     "data": {
      "text/plain": [
       "Text(0, 0.5, 'corrcoef')"
      ]
     },
     "execution_count": 54,
     "metadata": {},
     "output_type": "execute_result"
    },
    {
     "data": {
      "image/png": "[encoded data removed]",
      "text/plain": [
       "<Figure size 640x480 with 1 Axes>"
      ]
     },
     "metadata": {},
     "output_type": "display_data"
    }
   ],
   "source": [
    "corrcoef_diag=np.zeros((np.shape(EEG_recon)[0]))\n",
    "for i in range(np.shape(EEG_recon)[0]):\n",
    "    corrcoef_diag[i]=corr[i,np.shape(EEG_recon)[0]+i]\n",
    "plt.plot(np.arange(0, np.shape(EEG_recon)[0],1) ,corrcoef_diag, 'r.')\n",
    "plt.title('corrceof: ico' + str(ico) + ' scale ' +str(scale) +' depth '+ str(depth))\n",
    "plt.xlabel('good channels')\n",
    "plt.ylabel('corrcoef')"
   ]
  },
  {
   "cell_type": "code",
   "execution_count": 55,
   "metadata": {},
   "outputs": [],
   "source": [
    "# # save outputs all in one mat file. \n",
    "# outdict=dict()\n",
    "# outdict['leadfield']=leadfield # leadfield matrix\n",
    "# outdict['invmat']=invmat #  inverse matrix\n",
    "# outdict['source_rr']=source_rr # the source location AND labels (matlab)\n",
    "# outdict['sim_cov_mat']=sim_cov_mat # noise covariance\n",
    "# outdict['scale']=scale # scale\n",
    "# outdict['depth']=depth # depth\n",
    "# outdict['conductivity']=conductivity # 3 layrs conductivity\n",
    "\n",
    "\n",
    "# outdict['ch_bad']=ch_bad #  inverse matrix\n",
    "# outdict['ch_dubious']=ch_dubious # \n",
    "# outdict['ch_names']=ch_names #  \n",
    "# outdict['Coordinates']=Coordinates #  \n",
    "# outdict['corrcoef_diag']=corrcoef_diag #  \n",
    "# outdict['subject_ID']=subject_ID #  \n",
    "\n",
    "# savemat(subject_ID+'_scale_'+str(scale)+'_depth_'+str(depth),outdict)"
   ]
  },
  {
   "cell_type": "code",
   "execution_count": 59,
   "metadata": {},
   "outputs": [],
   "source": [
    "outdict=dict()\n",
    "outdict['leadfield']=leadfield # leadfield matrix\n",
    "outdict['invmat']=invmat #  inverse matrix\n",
    "outdict['source_rr']=source_rr # the source location AND labels (matlab)\n",
    "outdict['sim_cov_mat']=sim_cov_mat # noise covariance\n",
    "outdict['scale']=scale # scale\n",
    "outdict['depth']=depth # depth\n",
    "outdict['conductivity']=conductivity # 3 layrs conductivity\n",
    "outdict['ch_bad']=ch_bad #  inverse matrix\n",
    "outdict['ch_dubious']=ch_dubious # \n",
    "outdict['ch_names']=ch_names #  \n",
    "outdict['Coordinates']=Coordinates #  \n",
    "outdict['corrcoef_diag']=corrcoef_diag #  \n",
    "outdict['subject_ID']=subject_ID #  \n",
    "savemat(subject_ID+'_ico_'+str(ico)+'_scale_'+str(scale)+'_depth_'+str(depth),outdict)\n"
   ]
  }
 ],
 "metadata": {
  "kernelspec": {
   "display_name": "mne",
   "language": "python",
   "name": "python3"
  },
  "language_info": {
   "codemirror_mode": {
    "name": "ipython",
    "version": 3
   },
   "file_extension": ".py",
   "mimetype": "text/x-python",
   "name": "python",
   "nbconvert_exporter": "python",
   "pygments_lexer": "ipython3",
   "version": "3.10.8"
  },
  "orig_nbformat": 4
 },
 "nbformat": 4,
 "nbformat_minor": 2
}
