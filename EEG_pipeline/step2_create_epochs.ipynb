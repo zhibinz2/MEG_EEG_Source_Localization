{
 "cells": [
  {
   "cell_type": "code",
   "execution_count": 2,
   "metadata": {},
   "outputs": [],
   "source": [
    "import mne\n",
    "\n",
    "import numpy as np"
   ]
  },
  {
   "cell_type": "code",
   "execution_count": 3,
   "metadata": {},
   "outputs": [
    {
     "name": "stdout",
     "output_type": "stream",
     "text": [
      "Opening raw data file ./egi_raw.fif...\n",
      "    Read a total of 1 projection items:\n",
      "        Average EEG reference (1 x 256)  idle\n",
      "    Range : 0 ... 4999 =      0.000 ...     4.999 secs\n",
      "Ready.\n",
      "Reading 0 ... 4999  =      0.000 ...     4.999 secs...\n"
     ]
    },
    {
     "data": {
      "text/html": [
       "<table class=\"table table-hover table-striped table-sm table-responsive small\">\n",
       "    <tr>\n",
       "        <th>Measurement date</th>\n",
       "        \n",
       "        <td>Unknown</td>\n",
       "        \n",
       "    </tr>\n",
       "    <tr>\n",
       "        <th>Experimenter</th>\n",
       "        \n",
       "        <td>Unknown</td>\n",
       "        \n",
       "    </tr>\n",
       "        <th>Participant</th>\n",
       "        \n",
       "        <td>Unknown</td>\n",
       "        \n",
       "    </tr>\n",
       "    <tr>\n",
       "        <th>Digitized points</th>\n",
       "        \n",
       "        <td>259 points</td>\n",
       "        \n",
       "    </tr>\n",
       "    <tr>\n",
       "        <th>Good channels</th>\n",
       "        <td>256 EEG</td>\n",
       "    </tr>\n",
       "    <tr>\n",
       "        <th>Bad channels</th>\n",
       "        <td>None</td>\n",
       "    </tr>\n",
       "    <tr>\n",
       "        <th>EOG channels</th>\n",
       "        <td>Not available</td>\n",
       "    </tr>\n",
       "    <tr>\n",
       "        <th>ECG channels</th>\n",
       "        <td>Not available</td>\n",
       "    \n",
       "    <tr>\n",
       "        <th>Sampling frequency</th>\n",
       "        <td>1000.00 Hz</td>\n",
       "    </tr>\n",
       "    \n",
       "    \n",
       "    <tr>\n",
       "        <th>Highpass</th>\n",
       "        <td>0.00 Hz</td>\n",
       "    </tr>\n",
       "    \n",
       "    \n",
       "    <tr>\n",
       "        <th>Lowpass</th>\n",
       "        <td>500.00 Hz</td>\n",
       "    </tr>\n",
       "    \n",
       "    \n",
       "    <tr>\n",
       "        <th>Projections</th>\n",
       "        <td>Average EEG reference : off</td>\n",
       "    </tr>\n",
       "    \n",
       "    \n",
       "    <tr>\n",
       "        <th>Filenames</th>\n",
       "        <td>egi_raw.fif</td>\n",
       "    </tr>\n",
       "    \n",
       "    <tr>\n",
       "        <th>Duration</th>\n",
       "        <td>00:00:05 (HH:MM:SS)</td>\n",
       "    </tr>\n",
       "</table>"
      ],
      "text/plain": [
       "<Raw | egi_raw.fif, 256 x 5000 (5.0 s), ~10.1 MB, data loaded>"
      ]
     },
     "execution_count": 3,
     "metadata": {},
     "output_type": "execute_result"
    }
   ],
   "source": [
    "sample_data_raw_file=\"./egi_raw.fif\"\n",
    "raw = mne.io.read_raw_fif(sample_data_raw_file)\n",
    "raw.load_data()"
   ]
  },
  {
   "cell_type": "code",
   "execution_count": 6,
   "metadata": {},
   "outputs": [],
   "source": [
    "# Will use this matrix to organize data into epochs marked with condition\n",
    "epochs_mat=np.array([[  0,   0,   1],\n",
    "       [ 1000,   0,   1],\n",
    "       [ 2000,   0,   1],\n",
    "       [ 3000,   0,   1],\n",
    "       [ 4000,   0,   1]])"
   ]
  },
  {
   "cell_type": "code",
   "execution_count": 5,
   "metadata": {},
   "outputs": [],
   "source": [
    "epoch_dict = dict(resting=1)"
   ]
  },
  {
   "cell_type": "code",
   "execution_count": 12,
   "metadata": {},
   "outputs": [
    {
     "name": "stdout",
     "output_type": "stream",
     "text": [
      "Not setting metadata\n",
      "5 matching events found\n"
     ]
    },
    {
     "ename": "ValueError",
     "evalue": "Baseline min (0.1) must be less than baseline max (0.0)",
     "output_type": "error",
     "traceback": [
      "\u001b[0;31m---------------------------------------------------------------------------\u001b[0m",
      "\u001b[0;31mValueError\u001b[0m                                Traceback (most recent call last)",
      "Cell \u001b[0;32mIn[12], line 1\u001b[0m\n\u001b[0;32m----> 1\u001b[0m epochs \u001b[39m=\u001b[39m mne\u001b[39m.\u001b[39;49mEpochs(raw, epochs_mat, tmin\u001b[39m=\u001b[39;49m\u001b[39m0.1\u001b[39;49m, tmax\u001b[39m=\u001b[39;49m\u001b[39m1\u001b[39;49m, event_id\u001b[39m=\u001b[39;49mepoch_dict, preload\u001b[39m=\u001b[39;49m\u001b[39mTrue\u001b[39;49;00m)\n",
      "File \u001b[0;32m<decorator-gen-288>:12\u001b[0m, in \u001b[0;36m__init__\u001b[0;34m(self, raw, events, event_id, tmin, tmax, baseline, picks, preload, reject, flat, proj, decim, reject_tmin, reject_tmax, detrend, on_missing, reject_by_annotation, metadata, event_repeated, verbose)\u001b[0m\n",
      "File \u001b[0;32m~/anaconda3/envs/mne/lib/python3.11/site-packages/mne/epochs.py:3084\u001b[0m, in \u001b[0;36mEpochs.__init__\u001b[0;34m(self, raw, events, event_id, tmin, tmax, baseline, picks, preload, reject, flat, proj, decim, reject_tmin, reject_tmax, detrend, on_missing, reject_by_annotation, metadata, event_repeated, verbose)\u001b[0m\n\u001b[1;32m   3081\u001b[0m raw_sfreq \u001b[39m=\u001b[39m raw\u001b[39m.\u001b[39minfo[\u001b[39m\"\u001b[39m\u001b[39msfreq\u001b[39m\u001b[39m\"\u001b[39m]\n\u001b[1;32m   3083\u001b[0m \u001b[39m# call BaseEpochs constructor\u001b[39;00m\n\u001b[0;32m-> 3084\u001b[0m \u001b[39msuper\u001b[39;49m(Epochs, \u001b[39mself\u001b[39;49m)\u001b[39m.\u001b[39;49m\u001b[39m__init__\u001b[39;49m(\n\u001b[1;32m   3085\u001b[0m     info,\n\u001b[1;32m   3086\u001b[0m     \u001b[39mNone\u001b[39;49;00m,\n\u001b[1;32m   3087\u001b[0m     events,\n\u001b[1;32m   3088\u001b[0m     event_id,\n\u001b[1;32m   3089\u001b[0m     tmin,\n\u001b[1;32m   3090\u001b[0m     tmax,\n\u001b[1;32m   3091\u001b[0m     metadata\u001b[39m=\u001b[39;49mmetadata,\n\u001b[1;32m   3092\u001b[0m     baseline\u001b[39m=\u001b[39;49mbaseline,\n\u001b[1;32m   3093\u001b[0m     raw\u001b[39m=\u001b[39;49mraw,\n\u001b[1;32m   3094\u001b[0m     picks\u001b[39m=\u001b[39;49mpicks,\n\u001b[1;32m   3095\u001b[0m     reject\u001b[39m=\u001b[39;49mreject,\n\u001b[1;32m   3096\u001b[0m     flat\u001b[39m=\u001b[39;49mflat,\n\u001b[1;32m   3097\u001b[0m     decim\u001b[39m=\u001b[39;49mdecim,\n\u001b[1;32m   3098\u001b[0m     reject_tmin\u001b[39m=\u001b[39;49mreject_tmin,\n\u001b[1;32m   3099\u001b[0m     reject_tmax\u001b[39m=\u001b[39;49mreject_tmax,\n\u001b[1;32m   3100\u001b[0m     detrend\u001b[39m=\u001b[39;49mdetrend,\n\u001b[1;32m   3101\u001b[0m     proj\u001b[39m=\u001b[39;49mproj,\n\u001b[1;32m   3102\u001b[0m     on_missing\u001b[39m=\u001b[39;49mon_missing,\n\u001b[1;32m   3103\u001b[0m     preload_at_end\u001b[39m=\u001b[39;49mpreload,\n\u001b[1;32m   3104\u001b[0m     event_repeated\u001b[39m=\u001b[39;49mevent_repeated,\n\u001b[1;32m   3105\u001b[0m     verbose\u001b[39m=\u001b[39;49mverbose,\n\u001b[1;32m   3106\u001b[0m     raw_sfreq\u001b[39m=\u001b[39;49mraw_sfreq,\n\u001b[1;32m   3107\u001b[0m     annotations\u001b[39m=\u001b[39;49mraw\u001b[39m.\u001b[39;49mannotations,\n\u001b[1;32m   3108\u001b[0m )\n",
      "File \u001b[0;32m<decorator-gen-274>:12\u001b[0m, in \u001b[0;36m__init__\u001b[0;34m(self, info, data, events, event_id, tmin, tmax, baseline, raw, picks, reject, flat, decim, reject_tmin, reject_tmax, detrend, proj, on_missing, preload_at_end, selection, drop_log, filename, metadata, event_repeated, raw_sfreq, annotations, verbose)\u001b[0m\n",
      "File \u001b[0;32m~/anaconda3/envs/mne/lib/python3.11/site-packages/mne/epochs.py:654\u001b[0m, in \u001b[0;36mBaseEpochs.__init__\u001b[0;34m(***failed resolving arguments***)\u001b[0m\n\u001b[1;32m    651\u001b[0m \u001b[39mself\u001b[39m\u001b[39m.\u001b[39mdecimate(decim)\n\u001b[1;32m    653\u001b[0m \u001b[39m# baseline correction: replace `None` tuple elements  with actual times\u001b[39;00m\n\u001b[0;32m--> 654\u001b[0m \u001b[39mself\u001b[39m\u001b[39m.\u001b[39mbaseline \u001b[39m=\u001b[39m _check_baseline(\n\u001b[1;32m    655\u001b[0m     baseline, times\u001b[39m=\u001b[39;49m\u001b[39mself\u001b[39;49m\u001b[39m.\u001b[39;49mtimes, sfreq\u001b[39m=\u001b[39;49m\u001b[39mself\u001b[39;49m\u001b[39m.\u001b[39;49minfo[\u001b[39m\"\u001b[39;49m\u001b[39msfreq\u001b[39;49m\u001b[39m\"\u001b[39;49m]\n\u001b[1;32m    656\u001b[0m )\n\u001b[1;32m    657\u001b[0m \u001b[39mif\u001b[39;00m \u001b[39mself\u001b[39m\u001b[39m.\u001b[39mbaseline \u001b[39mis\u001b[39;00m \u001b[39mnot\u001b[39;00m \u001b[39mNone\u001b[39;00m \u001b[39mand\u001b[39;00m \u001b[39mself\u001b[39m\u001b[39m.\u001b[39mbaseline \u001b[39m!=\u001b[39m baseline:\n\u001b[1;32m    658\u001b[0m     logger\u001b[39m.\u001b[39minfo(\n\u001b[1;32m    659\u001b[0m         \u001b[39mf\u001b[39m\u001b[39m\"\u001b[39m\u001b[39mSetting baseline interval to \u001b[39m\u001b[39m\"\u001b[39m\n\u001b[1;32m    660\u001b[0m         \u001b[39mf\u001b[39m\u001b[39m\"\u001b[39m\u001b[39m[\u001b[39m\u001b[39m{\u001b[39;00m\u001b[39mself\u001b[39m\u001b[39m.\u001b[39mbaseline[\u001b[39m0\u001b[39m]\u001b[39m}\u001b[39;00m\u001b[39m, \u001b[39m\u001b[39m{\u001b[39;00m\u001b[39mself\u001b[39m\u001b[39m.\u001b[39mbaseline[\u001b[39m1\u001b[39m]\u001b[39m}\u001b[39;00m\u001b[39m] s\u001b[39m\u001b[39m\"\u001b[39m\n\u001b[1;32m    661\u001b[0m     )\n",
      "File \u001b[0;32m~/anaconda3/envs/mne/lib/python3.11/site-packages/mne/baseline.py:205\u001b[0m, in \u001b[0;36m_check_baseline\u001b[0;34m(baseline, times, sfreq, on_baseline_outside_data)\u001b[0m\n\u001b[1;32m    202\u001b[0m baseline_tmax \u001b[39m=\u001b[39m \u001b[39mfloat\u001b[39m(baseline_tmax)\n\u001b[1;32m    204\u001b[0m \u001b[39mif\u001b[39;00m baseline_tmin \u001b[39m>\u001b[39m baseline_tmax:\n\u001b[0;32m--> 205\u001b[0m     \u001b[39mraise\u001b[39;00m \u001b[39mValueError\u001b[39;00m(\n\u001b[1;32m    206\u001b[0m         \u001b[39m\"\u001b[39m\u001b[39mBaseline min (\u001b[39m\u001b[39m%s\u001b[39;00m\u001b[39m) must be less than baseline max (\u001b[39m\u001b[39m%s\u001b[39;00m\u001b[39m)\u001b[39m\u001b[39m\"\u001b[39m\n\u001b[1;32m    207\u001b[0m         \u001b[39m%\u001b[39m (baseline_tmin, baseline_tmax)\n\u001b[1;32m    208\u001b[0m     )\n\u001b[1;32m    210\u001b[0m \u001b[39mif\u001b[39;00m (baseline_tmin \u001b[39m<\u001b[39m tmin \u001b[39m-\u001b[39m tstep) \u001b[39mor\u001b[39;00m (baseline_tmax \u001b[39m>\u001b[39m tmax \u001b[39m+\u001b[39m tstep):\n\u001b[1;32m    211\u001b[0m     msg \u001b[39m=\u001b[39m (\n\u001b[1;32m    212\u001b[0m         \u001b[39mf\u001b[39m\u001b[39m\"\u001b[39m\u001b[39mBaseline interval [\u001b[39m\u001b[39m{\u001b[39;00mbaseline_tmin\u001b[39m}\u001b[39;00m\u001b[39m, \u001b[39m\u001b[39m{\u001b[39;00mbaseline_tmax\u001b[39m}\u001b[39;00m\u001b[39m] s \u001b[39m\u001b[39m\"\u001b[39m\n\u001b[1;32m    213\u001b[0m         \u001b[39mf\u001b[39m\u001b[39m\"\u001b[39m\u001b[39mis outside of epochs data [\u001b[39m\u001b[39m{\u001b[39;00mtmin\u001b[39m}\u001b[39;00m\u001b[39m, \u001b[39m\u001b[39m{\u001b[39;00mtmax\u001b[39m}\u001b[39;00m\u001b[39m] s. Epochs were \u001b[39m\u001b[39m\"\u001b[39m\n\u001b[1;32m    214\u001b[0m         \u001b[39mf\u001b[39m\u001b[39m\"\u001b[39m\u001b[39mprobably cropped.\u001b[39m\u001b[39m\"\u001b[39m\n\u001b[1;32m    215\u001b[0m     )\n",
      "\u001b[0;31mValueError\u001b[0m: Baseline min (0.1) must be less than baseline max (0.0)"
     ]
    }
   ],
   "source": [
    "epochs = mne.Epochs(raw, epochs_mat, tmin=0.1, tmax=1, event_id=epoch_dict, preload=True)\n"
   ]
  },
  {
   "cell_type": "code",
   "execution_count": 10,
   "metadata": {},
   "outputs": [
    {
     "name": "stdout",
     "output_type": "stream",
     "text": [
      "NOTE: pick_channels() is a legacy function. New code should use inst.pick(...).\n"
     ]
    }
   ],
   "source": [
    "evoked = epochs[\"resting\"].average()"
   ]
  }
 ],
 "metadata": {
  "kernelspec": {
   "display_name": "mne",
   "language": "python",
   "name": "python3"
  },
  "language_info": {
   "codemirror_mode": {
    "name": "ipython",
    "version": 3
   },
   "file_extension": ".py",
   "mimetype": "text/x-python",
   "name": "python",
   "nbconvert_exporter": "python",
   "pygments_lexer": "ipython3",
   "version": "3.11.4"
  },
  "orig_nbformat": 4
 },
 "nbformat": 4,
 "nbformat_minor": 2
}
