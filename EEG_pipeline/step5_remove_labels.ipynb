{
 "cells": [
  {
   "cell_type": "code",
   "execution_count": 1,
   "metadata": {},
   "outputs": [],
   "source": [
    "import numpy as np\n",
    "from hdf5storage import loadmat, savemat "
   ]
  },
  {
   "cell_type": "code",
   "execution_count": 3,
   "metadata": {},
   "outputs": [],
   "source": [
    "outdict=loadmat('labeled_brain_source')\n",
    "Labeled_brain_source=outdict['lowDimVert_labels']"
   ]
  },
  {
   "cell_type": "code",
   "execution_count": 4,
   "metadata": {},
   "outputs": [],
   "source": [
    "outdict=loadmat('parcels')\n",
    "parcels=outdict['parcels']"
   ]
  },
  {
   "cell_type": "code",
   "execution_count": 5,
   "metadata": {},
   "outputs": [],
   "source": [
    "# remove empty labels for 3-d plotting.\n",
    "parcel_cordinates = []\n",
    "parcel_labels = []\n",
    "\n",
    "for x in range(parcels.shape[0]):\n",
    "    for y in range(parcels.shape[1]):\n",
    "        for z in range(parcels.shape[2]):\n",
    "            if parcels[x, y, z] != 0:\n",
    "                parcel_cordinates.append([x, y, z])\n",
    "                parcel_labels.append(parcels[x, y, z])\n",
    "\n",
    "parcel_cordinates = np.array(parcel_cordinates)\n",
    "parcel_labels = np.array(parcel_labels)\n",
    "# This will take forever to complete in matlab\n",
    "# Only took 30 s in python"
   ]
  }
 ],
 "metadata": {
  "kernelspec": {
   "display_name": "Python 3",
   "language": "python",
   "name": "python3"
  },
  "language_info": {
   "codemirror_mode": {
    "name": "ipython",
    "version": 3
   },
   "file_extension": ".py",
   "mimetype": "text/x-python",
   "name": "python",
   "nbconvert_exporter": "python",
   "pygments_lexer": "ipython3",
   "version": "3.10.11"
  },
  "orig_nbformat": 4
 },
 "nbformat": 4,
 "nbformat_minor": 2
}
