{
 "cells": [
  {
   "cell_type": "code",
   "execution_count": 1,
   "metadata": {},
   "outputs": [],
   "source": [
    "import mne\n",
    "from mne.datasets import sample\n",
    "import numpy as np\n",
    "from hdf5storage import loadmat, savemat "
   ]
  },
  {
   "cell_type": "code",
   "execution_count": 2,
   "metadata": {},
   "outputs": [],
   "source": [
    "# the raw file containing the channel location + types\n",
    "raw_fname = './egi_raw.fif'\n",
    "# The paths to Freesurfer reconstructions\n",
    "subjects_dir ='../../archieve/subjects/'\n",
    "subject = 'fsaverage' # change it to use freesurfer's bem"
   ]
  },
  {
   "cell_type": "code",
   "execution_count": 3,
   "metadata": {},
   "outputs": [],
   "source": [
    "trans = './egi_trans.fif'"
   ]
  },
  {
   "cell_type": "code",
   "execution_count": 4,
   "metadata": {},
   "outputs": [
    {
     "name": "stdout",
     "output_type": "stream",
     "text": [
      "Setting up the source space with the following parameters:\n",
      "\n",
      "SUBJECTS_DIR = c:\\Users\\zhouz\\GitHub\\MEG_EEG_Source_Localization\\EEG_pipeline\\..\\..\\archieve\\subjects\n",
      "Subject      = fsaverage\n",
      "Surface      = white\n",
      "Include all vertices\n",
      "\n",
      ">>> 1. Creating the source space...\n",
      "\n",
      "Loading c:\\Users\\zhouz\\GitHub\\MEG_EEG_Source_Localization\\EEG_pipeline\\..\\..\\archieve\\subjects\\fsaverage\\surf\\lh.white...\n",
      "    Warning: zero size triangles: [3 4]\n",
      "    Triangle neighbors and vertex normals...\n",
      "loaded lh.white 163842/163842 selected to source space (all)\n",
      "\n",
      "Loading c:\\Users\\zhouz\\GitHub\\MEG_EEG_Source_Localization\\EEG_pipeline\\..\\..\\archieve\\subjects\\fsaverage\\surf\\rh.white...\n",
      "    Warning: zero size triangles: [3 4]\n",
      "    Triangle neighbors and vertex normals...\n",
      "loaded rh.white 163842/163842 selected to source space (all)\n",
      "\n",
      "Calculating patch information (limit=0.0 mm)...\n",
      "    Computing patch statistics...\n",
      "    Patch information added...\n",
      "    Computing patch statistics...\n",
      "    Patch information added...\n",
      "You are now one step closer to computing the gain matrix\n"
     ]
    }
   ],
   "source": [
    "# Compute Source Space (surface)\n",
    "src = mne.setup_source_space(subject, spacing='all', add_dist='patch',\n",
    "                             subjects_dir=subjects_dir)"
   ]
  },
  {
   "cell_type": "code",
   "execution_count": 5,
   "metadata": {},
   "outputs": [
    {
     "name": "stdout",
     "output_type": "stream",
     "text": [
      "Creating the BEM geometry...\n",
      "Going from 5th to 3th subdivision of an icosahedron (n_tri: 20480 -> 1280)\n",
      "Going from 5th to 3th subdivision of an icosahedron (n_tri: 20480 -> 1280)\n",
      "Going from 5th to 3th subdivision of an icosahedron (n_tri: 20480 -> 1280)\n",
      "outer skin  CM is  -0.21 -19.38  -0.22 mm\n",
      "outer skull CM is  -0.19 -19.35  -0.49 mm\n",
      "inner skull CM is  -0.53 -21.10   6.21 mm\n",
      "Checking that surface outer skull is inside surface outer skin  ...\n",
      "Checking that surface inner skull is inside surface outer skull ...\n",
      "Checking distance between outer skin  and outer skull surfaces...\n",
      "Minimum distance between the outer skin  and outer skull surfaces is approximately    1.6 mm\n",
      "Checking distance between outer skull and inner skull surfaces...\n",
      "Minimum distance between the outer skull and inner skull surfaces is approximately    5.5 mm\n",
      "Surfaces passed the basic topology checks.\n",
      "Complete.\n",
      "\n",
      "Three-layer model surfaces loaded.\n",
      "Computing the linear collocation solution...\n",
      "    Matrix coefficients...\n",
      "        outer skin  (642) -> outer skin  (642) ...\n",
      "        outer skin  (642) -> outer skull (642) ...\n",
      "        outer skin  (642) -> inner skull (642) ...\n",
      "        outer skull (642) -> outer skin  (642) ...\n",
      "        outer skull (642) -> outer skull (642) ...\n",
      "        outer skull (642) -> inner skull (642) ...\n",
      "        inner skull (642) -> outer skin  (642) ...\n",
      "        inner skull (642) -> outer skull (642) ...\n",
      "        inner skull (642) -> inner skull (642) ...\n",
      "    Inverting the coefficient matrix...\n",
      "IP approach required...\n",
      "    Matrix coefficients (homog)...\n",
      "        inner skull (642) -> inner skull (642) ...\n",
      "    Inverting the coefficient matrix (homog)...\n",
      "    Modify the original solution to incorporate IP approach...\n",
      "        Combining...\n",
      "        Scaling...\n",
      "Solution ready.\n",
      "BEM geometry computations complete.\n"
     ]
    }
   ],
   "source": [
    "conductivity = (0.3, 0.006, 0.3)  #  three layers for EEG\n",
    "model = mne.make_bem_model(subject='fsaverage', ico=3,\n",
    "                           conductivity=conductivity,\n",
    "                           subjects_dir=subjects_dir)\n",
    "bem = mne.make_bem_solution(model)"
   ]
  },
  {
   "cell_type": "code",
   "execution_count": 6,
   "metadata": {},
   "outputs": [
    {
     "name": "stdout",
     "output_type": "stream",
     "text": [
      "Source space          : <SourceSpaces: [<surface (lh), n_vertices=163842, n_used=163842>, <surface (rh), n_vertices=163842, n_used=163842>] MRI (surface RAS) coords, subject 'fsaverage', ~71.5 MB>\n",
      "MRI -> head transform : egi_trans.fif\n",
      "Measurement data      : egi_raw.fif\n",
      "Conductor model   : instance of ConductorModel\n",
      "Accurate field computations\n",
      "Do computations in head coordinates\n",
      "Free source orientations\n",
      "\n",
      "Read 2 source spaces a total of 327684 active source locations\n",
      "\n",
      "Coordinate transformation: MRI (surface RAS) -> head\n",
      "     0.999060 -0.029951 -0.031346      -0.53 mm\n",
      "     0.027960  0.997677 -0.062124      21.78 mm\n",
      "     0.033134  0.061189  0.997576      23.40 mm\n",
      "     0.000000  0.000000  0.000000       1.00\n",
      "\n",
      "Read 256 EEG channels from info\n",
      "Head coordinate coil definitions created.\n",
      "Source spaces are now in head coordinates.\n",
      "\n",
      "Employing the head->MRI coordinate transform with the BEM model.\n",
      "BEM model instance of ConductorModel is now set up\n",
      "\n",
      "Source spaces are in head coordinates.\n",
      "Checking that the sources are inside the surface and at least    5.0 mm away (will take a few...)\n",
      "Checking surface interior status for 163842 points...\n",
      "    Found  40768/163842 points inside  an interior sphere of radius   48.4 mm\n",
      "    Found      0/163842 points outside an exterior sphere of radius   97.8 mm\n",
      "    Found      0/123074 points outside using surface Qhull\n"
     ]
    },
    {
     "name": "stderr",
     "output_type": "stream",
     "text": [
      "[Parallel(n_jobs=2)]: Using backend LokyBackend with 2 concurrent workers.\n"
     ]
    },
    {
     "name": "stdout",
     "output_type": "stream",
     "text": [
      "    Found      0/123074 points outside using solid angles\n",
      "    Total 163842/163842 points inside the surface\n",
      "Interior check completed in 31612.1 ms\n",
      "Checking surface interior status for 163842 points...\n",
      "    Found  37548/163842 points inside  an interior sphere of radius   48.4 mm\n"
     ]
    },
    {
     "name": "stderr",
     "output_type": "stream",
     "text": [
      "[Parallel(n_jobs=2)]: Done   2 out of   2 | elapsed:   31.4s remaining:    0.0s\n",
      "[Parallel(n_jobs=2)]: Done   2 out of   2 | elapsed:   31.4s finished\n"
     ]
    },
    {
     "name": "stdout",
     "output_type": "stream",
     "text": [
      "    Found      0/163842 points outside an exterior sphere of radius   97.8 mm\n",
      "    Found      0/126294 points outside using surface Qhull\n"
     ]
    },
    {
     "name": "stderr",
     "output_type": "stream",
     "text": [
      "[Parallel(n_jobs=2)]: Using backend LokyBackend with 2 concurrent workers.\n"
     ]
    },
    {
     "name": "stdout",
     "output_type": "stream",
     "text": [
      "    Found      0/126294 points outside using solid angles\n",
      "    Total 163842/163842 points inside the surface\n",
      "Interior check completed in 25367.9 ms\n",
      "\n",
      "Setting up for EEG...\n"
     ]
    },
    {
     "name": "stderr",
     "output_type": "stream",
     "text": [
      "[Parallel(n_jobs=2)]: Done   2 out of   2 | elapsed:   25.2s remaining:    0.0s\n",
      "[Parallel(n_jobs=2)]: Done   2 out of   2 | elapsed:   25.2s finished\n"
     ]
    },
    {
     "name": "stdout",
     "output_type": "stream",
     "text": [
      "Computing EEG at 327684 source locations (free orientations)...\n"
     ]
    },
    {
     "name": "stderr",
     "output_type": "stream",
     "text": [
      "[Parallel(n_jobs=2)]: Using backend LokyBackend with 2 concurrent workers.\n",
      "[Parallel(n_jobs=2)]: Done   2 out of   2 | elapsed:   30.9s remaining:    0.0s\n",
      "[Parallel(n_jobs=2)]: Done   2 out of   2 | elapsed:   30.9s finished\n"
     ]
    },
    {
     "name": "stdout",
     "output_type": "stream",
     "text": [
      "\n",
      "Finished.\n",
      "<Forward | MEG channels: 0 | EEG channels: 256 | Source space: Surface with 327684 vertices | Source orientation: Free>\n"
     ]
    }
   ],
   "source": [
    "fwd = mne.make_forward_solution(raw_fname, trans=trans, src=src, bem=bem,\n",
    "                                meg=False, eeg=True, mindist=5.0, n_jobs=2,\n",
    "                                verbose=True)\n",
    "print(fwd)\n",
    "# It takes 1m27s"
   ]
  },
  {
   "cell_type": "code",
   "execution_count": 7,
   "metadata": {},
   "outputs": [
    {
     "name": "stdout",
     "output_type": "stream",
     "text": [
      "Before: <SourceSpaces: [<surface (lh), n_vertices=163842, n_used=163842>, <surface (rh), n_vertices=163842, n_used=163842>] MRI (surface RAS) coords, subject 'fsaverage', ~71.5 MB>\n",
      "After:  <SourceSpaces: [<surface (lh), n_vertices=163842, n_used=163842>, <surface (rh), n_vertices=163842, n_used=163842>] head coords, subject 'fsaverage', ~71.5 MB>\n"
     ]
    }
   ],
   "source": [
    "print(f'Before: {src}')\n",
    "print(f'After:  {fwd[\"src\"]}')"
   ]
  },
  {
   "cell_type": "code",
   "execution_count": 8,
   "metadata": {},
   "outputs": [
    {
     "name": "stdout",
     "output_type": "stream",
     "text": [
      "    Average patch normals will be employed in the rotation to the local surface coordinates....\n",
      "    Converting to surface-based source orientations...\n",
      "    [done]\n",
      "Leadfield size : 256 sensors x 327684 dipoles\n"
     ]
    }
   ],
   "source": [
    "fwd_fixed = mne.convert_forward_solution(fwd, surf_ori=True, force_fixed=True,\n",
    "                                         use_cps=True)\n",
    "leadfield = fwd_fixed['sol']['data']\n",
    "print(\"Leadfield size : %d sensors x %d dipoles\" % leadfield.shape)"
   ]
  },
  {
   "cell_type": "code",
   "execution_count": 9,
   "metadata": {},
   "outputs": [
    {
     "data": {
      "text/plain": [
       "(256, 327684)"
      ]
     },
     "execution_count": 9,
     "metadata": {},
     "output_type": "execute_result"
    }
   ],
   "source": [
    "np.shape(leadfield)"
   ]
  },
  {
   "cell_type": "code",
   "execution_count": 10,
   "metadata": {},
   "outputs": [],
   "source": [
    "outdict=dict()\n",
    "outdict['leadfield']=leadfield\n",
    "outdict['source_nn']=fwd_fixed['source_nn']\n",
    "outdict['source_rr']=fwd_fixed['source_rr']\n",
    "savemat('leadfield_nn_rr',outdict)"
   ]
  },
  {
   "cell_type": "code",
   "execution_count": 11,
   "metadata": {},
   "outputs": [
    {
     "name": "stdout",
     "output_type": "stream",
     "text": [
      "Overwriting existing file.\n",
      "    Write a source space...\n",
      "    [done]\n",
      "    Write a source space...\n",
      "    [done]\n",
      "    2 source spaces written\n"
     ]
    },
    {
     "name": "stderr",
     "output_type": "stream",
     "text": [
      "C:\\Users\\zhouz\\AppData\\Local\\Temp\\ipykernel_10480\\2403303488.py:1: RuntimeWarning: This forward solution is based on a forward solution with free orientation. The original forward solution is stored on disk in X/Y/Z RAS coordinates. Any transformation (surface orientation or fixed orientation) will be reverted. To reapply any transformation to the forward operator please apply convert_forward_solution after reading the forward solution with read_forward_solution.\n",
      "  mne.write_forward_solution('surface_egi_fsaverage_fixed_fwd.fif', fwd_fixed, overwrite=True, verbose=None)\n"
     ]
    }
   ],
   "source": [
    "mne.write_forward_solution('surface_egi_fsaverage_fixed_fwd.fif', fwd_fixed, overwrite=True, verbose=None)"
   ]
  }
 ],
 "metadata": {
  "kernelspec": {
   "display_name": "mne",
   "language": "python",
   "name": "python3"
  },
  "language_info": {
   "codemirror_mode": {
    "name": "ipython",
    "version": 3
   },
   "file_extension": ".py",
   "mimetype": "text/x-python",
   "name": "python",
   "nbconvert_exporter": "python",
   "pygments_lexer": "ipython3",
   "version": "3.10.11"
  },
  "orig_nbformat": 4
 },
 "nbformat": 4,
 "nbformat_minor": 2
}
