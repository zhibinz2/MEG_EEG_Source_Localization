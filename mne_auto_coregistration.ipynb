{
 "cells": [
  {
   "cell_type": "code",
   "execution_count": 1,
   "metadata": {},
   "outputs": [
    {
     "name": "stdout",
     "output_type": "stream",
     "text": [
      "    Read a total of 3 projection items:\n",
      "        PCA-v1 (1 x 102)  idle\n",
      "        PCA-v2 (1 x 102)  idle\n",
      "        PCA-v3 (1 x 102)  idle\n"
     ]
    }
   ],
   "source": [
    "# https://mne.tools/stable/auto_tutorials/forward/25_automated_coreg.html\n",
    "\n",
    "\n",
    "import numpy as np\n",
    "\n",
    "import mne\n",
    "from mne.coreg import Coregistration\n",
    "from mne.io import read_info\n",
    "\n",
    "data_path = mne.datasets.sample.data_path()\n",
    "# data_path and all paths built from it are pathlib.Path objects\n",
    "subjects_dir = data_path / \"subjects\"\n",
    "subject = \"fsaverage\"\n",
    "\n",
    "fname_raw = data_path / \"MEG\" / 'sample' / \"sample_audvis_raw.fif\"\n",
    "info = read_info(fname_raw)\n",
    "plot_kwargs = dict(\n",
    "    subject=subject,\n",
    "    subjects_dir=subjects_dir,\n",
    "    surfaces=\"head-dense\",\n",
    "    dig=True,\n",
    "    eeg=[],\n",
    "    meg=\"sensors\",\n",
    "    show_axes=True,\n",
    "    coord_frame=\"meg\",\n",
    ")\n",
    "view_kwargs = dict(azimuth=45, elevation=90, distance=0.6, focalpoint=(0.0, 0.0, 0.0))\n"
   ]
  },
  {
   "cell_type": "code",
   "execution_count": 5,
   "metadata": {},
   "outputs": [
    {
     "data": {
      "text/plain": [
       "list"
      ]
     },
     "execution_count": 5,
     "metadata": {},
     "output_type": "execute_result"
    }
   ],
   "source": [
    "info['dig']"
   ]
  },
  {
   "cell_type": "code",
   "execution_count": 2,
   "metadata": {},
   "outputs": [
    {
     "name": "stdout",
     "output_type": "stream",
     "text": [
      "Using high resolution head model in C:\\Users\\zhouz\\mne_data\\MNE-sample-data\\subjects\\fsaverage\\bem\\fsaverage-head-dense.fif\n",
      "    Triangle neighbors and vertex normals...\n",
      "Estimating fiducials from fsaverage.\n",
      "Using pyvistaqt 3d backend.\n",
      "\n",
      "Using fsaverage-head-dense.fif for head surface.\n",
      "    1 BEM surfaces found\n",
      "    Reading a surface...\n",
      "[done]\n",
      "    1 BEM surfaces read\n",
      "Channel types::\tgrad: 203, mag: 102\n"
     ]
    }
   ],
   "source": [
    "fiducials = \"estimated\"  # get fiducials from fsaverage\n",
    "coreg = Coregistration(info, subject, subjects_dir, fiducials=fiducials)\n",
    "fig = mne.viz.plot_alignment(info, trans=coreg.trans, **plot_kwargs)"
   ]
  },
  {
   "cell_type": "code",
   "execution_count": 7,
   "metadata": {},
   "outputs": [
    {
     "name": "stdout",
     "output_type": "stream",
     "text": [
      "Aligning using fiducials\n",
      "Start median distance:  25.31 mm\n",
      "End   median distance:   4.57 mm\n",
      "Using fsaverage-head-dense.fif for head surface.\n",
      "    1 BEM surfaces found\n",
      "    Reading a surface...\n",
      "[done]\n",
      "    1 BEM surfaces read\n",
      "Channel types::\tgrad: 203, mag: 102\n"
     ]
    }
   ],
   "source": [
    "coreg.fit_fiducials(verbose=True)\n",
    "fig = mne.viz.plot_alignment(info, trans=coreg.trans, **plot_kwargs)"
   ]
  },
  {
   "cell_type": "code",
   "execution_count": 8,
   "metadata": {},
   "outputs": [
    {
     "name": "stdout",
     "output_type": "stream",
     "text": [
      "Aligning using ICP\n",
      "Start     median distance:   4.57 mm\n",
      "  ICP  1  median distance:   2.65 mm\n",
      "  ICP  2  median distance:   2.35 mm\n",
      "  ICP  3  median distance:   2.34 mm\n",
      "  ICP  4  median distance:   2.49 mm\n",
      "  ICP  5  median distance:   2.67 mm\n",
      "  ICP  6  median distance:   2.61 mm\n",
      "End       median distance:   2.61 mm\n",
      "Using fsaverage-head-dense.fif for head surface.\n",
      "    1 BEM surfaces found\n",
      "    Reading a surface...\n",
      "[done]\n",
      "    1 BEM surfaces read\n",
      "Channel types::\tgrad: 203, mag: 102\n"
     ]
    }
   ],
   "source": [
    "coreg.fit_icp(n_iterations=6, nasion_weight=2.0, verbose=True)\n",
    "fig = mne.viz.plot_alignment(info, trans=coreg.trans, **plot_kwargs)"
   ]
  },
  {
   "cell_type": "code",
   "execution_count": 9,
   "metadata": {},
   "outputs": [
    {
     "name": "stdout",
     "output_type": "stream",
     "text": [
      "Coregistration: Excluding 21 head shape points with distance >= 0.005 m.\n"
     ]
    },
    {
     "data": {
      "text/plain": [
       "<mne.coreg.Coregistration at 0x7f648e3a7190>"
      ]
     },
     "execution_count": 9,
     "metadata": {},
     "output_type": "execute_result"
    }
   ],
   "source": [
    "coreg.omit_head_shape_points(distance=5.0 / 1000)  # distance is in meters"
   ]
  },
  {
   "cell_type": "code",
   "execution_count": 10,
   "metadata": {},
   "outputs": [
    {
     "name": "stdout",
     "output_type": "stream",
     "text": [
      "Aligning using ICP\n",
      "Start     median distance:   2.27 mm\n",
      "  ICP  1  median distance:   2.08 mm\n",
      "  ICP  2  median distance:   1.89 mm\n",
      "  ICP  3  median distance:   1.94 mm\n",
      "  ICP  4  median distance:   1.94 mm\n",
      "  ICP  5  median distance:   1.88 mm\n",
      "  ICP  6  median distance:   1.86 mm\n",
      "  ICP  7  median distance:   1.82 mm\n",
      "  ICP  8  median distance:   1.82 mm\n",
      "  ICP  9  median distance:   1.81 mm\n",
      "End       median distance:   1.81 mm\n",
      "Using fsaverage-head-dense.fif for head surface.\n",
      "    1 BEM surfaces found\n",
      "    Reading a surface...\n",
      "[done]\n",
      "    1 BEM surfaces read\n",
      "Channel types::\tgrad: 203, mag: 102\n",
      "Distance between HSP and MRI (mean/min/max):\n",
      "2.37 mm / 0.20 mm / 14.35 mm\n"
     ]
    }
   ],
   "source": [
    "coreg.fit_icp(n_iterations=20, nasion_weight=10.0, verbose=True)\n",
    "fig = mne.viz.plot_alignment(info, trans=coreg.trans, **plot_kwargs)\n",
    "mne.viz.set_3d_view(fig, **view_kwargs)\n",
    "\n",
    "dists = coreg.compute_dig_mri_distances() * 1e3  # in mm\n",
    "print(\n",
    "    f\"Distance between HSP and MRI (mean/min/max):\\n{np.mean(dists):.2f} mm \"\n",
    "    f\"/ {np.min(dists):.2f} mm / {np.max(dists):.2f} mm\"\n",
    ")"
   ]
  },
  {
   "cell_type": "code",
   "execution_count": 1,
   "metadata": {},
   "outputs": [
    {
     "ename": "NameError",
     "evalue": "name 'mne' is not defined",
     "output_type": "error",
     "traceback": [
      "\u001b[0;31m---------------------------------------------------------------------------\u001b[0m",
      "\u001b[0;31mNameError\u001b[0m                                 Traceback (most recent call last)",
      "Cell \u001b[0;32mIn[1], line 1\u001b[0m\n\u001b[0;32m----> 1\u001b[0m mne\u001b[39m.\u001b[39mwrite_trans(\u001b[39m'\u001b[39m\u001b[39msample_fsaverage_trans.fif\u001b[39m\u001b[39m'\u001b[39m, coreg\u001b[39m.\u001b[39mtrans)\n",
      "\u001b[0;31mNameError\u001b[0m: name 'mne' is not defined"
     ]
    }
   ],
   "source": [
    "mne.write_trans('sample_fsaverage_trans.fif', coreg.trans)"
   ]
  },
  {
   "cell_type": "code",
   "execution_count": 2,
   "metadata": {},
   "outputs": [
    {
     "name": "stdout",
     "output_type": "stream",
     "text": [
      "Using pyvistaqt 3d backend.\n",
      "\n",
      "Using high resolution head model in C:\\Users\\zhouz\\mne_data\\MNE-sample-data\\subjects\\fsaverage\\bem\\fsaverage-head-dense.fif\n",
      "    Triangle neighbors and vertex normals...\n",
      "Using fiducials from: C:\\Users\\zhouz\\mne_data\\MNE-sample-data\\subjects\\fsaverage\\bem\\fsaverage-fiducials.fif.\n",
      "Using high resolution head model in C:\\Users\\zhouz\\mne_data\\MNE-sample-data\\subjects\\fsaverage\\bem\\fsaverage-head-dense.fif\n",
      "    Triangle neighbors and vertex normals...\n",
      "Using fiducials from: C:\\Users\\zhouz\\mne_data\\MNE-sample-data\\subjects\\fsaverage\\bem\\fsaverage-fiducials.fif.\n",
      "Loading MRI fiducials from C:\\Users\\zhouz\\mne_data\\MNE-sample-data\\subjects\\fsaverage\\bem\\fsaverage-fiducials.fif... Done!\n",
      "Using fsaverage-head-dense.fif for head surface.\n",
      "    1 BEM surfaces found\n",
      "    Reading a surface...\n",
      "[done]\n",
      "    1 BEM surfaces read\n",
      "Loading MRI fiducials from C:\\Users\\zhouz\\mne_data\\MNE-sample-data\\subjects\\fsaverage\\bem\\fsaverage-fiducials.fif... Done!\n",
      "Using fsaverage-head-dense.fif for head surface.\n",
      "    1 BEM surfaces found\n",
      "    Reading a surface...\n",
      "[done]\n",
      "    1 BEM surfaces read\n"
     ]
    },
    {
     "data": {
      "text/plain": [
       "<mne.gui._coreg.CoregistrationUI at 0x26fcac6a080>"
      ]
     },
     "execution_count": 2,
     "metadata": {},
     "output_type": "execute_result"
    },
    {
     "ename": "",
     "evalue": "",
     "output_type": "error",
     "traceback": [
      "\u001b[1;31mThe Kernel crashed while executing code in the the current cell or a previous cell. Please review the code in the cell(s) to identify a possible cause of the failure. Click <a href='https://aka.ms/vscodeJupyterKernelCrash'>here</a> for more info. View Jupyter <a href='command:jupyter.viewOutput'>log</a> for further details."
     ]
    }
   ],
   "source": [
    "mne.gui.coregistration(subject='fsaverage', subjects_dir=subjects_dir)"
   ]
  }
 ],
 "metadata": {
  "kernelspec": {
   "display_name": "Python 3",
   "language": "python",
   "name": "python3"
  },
  "language_info": {
   "codemirror_mode": {
    "name": "ipython",
    "version": 3
   },
   "file_extension": ".py",
   "mimetype": "text/x-python",
   "name": "python",
   "nbconvert_exporter": "python",
   "pygments_lexer": "ipython3",
   "version": "3.10.11"
  },
  "orig_nbformat": 4
 },
 "nbformat": 4,
 "nbformat_minor": 2
}
