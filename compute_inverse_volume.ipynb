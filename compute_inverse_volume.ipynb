{
 "cells": [
  {
   "cell_type": "code",
   "execution_count": 1,
   "metadata": {},
   "outputs": [],
   "source": [
    "# https://mne.tools/stable/auto_examples/inverse/compute_mne_inverse_volume.html"
   ]
  },
  {
   "cell_type": "code",
   "execution_count": 2,
   "metadata": {},
   "outputs": [],
   "source": [
    "from nilearn.plotting import plot_stat_map\n",
    "from nilearn.image import index_img\n",
    "\n",
    "from mne.datasets import sample\n",
    "from mne import read_evokeds\n",
    "from mne.minimum_norm import apply_inverse, read_inverse_operator"
   ]
  },
  {
   "cell_type": "code",
   "execution_count": 3,
   "metadata": {},
   "outputs": [
    {
     "name": "stdout",
     "output_type": "stream",
     "text": [
      "Automatically created module for IPython interactive environment\n"
     ]
    }
   ],
   "source": [
    "print(__doc__)\n"
   ]
  },
  {
   "cell_type": "code",
   "execution_count": 4,
   "metadata": {},
   "outputs": [
    {
     "name": "stdout",
     "output_type": "stream",
     "text": [
      "Reading /home/zhibinz2/Documents/GitHub/MEG_EEG_Source_Localization/test_scripts/evoked-ave.fif ...\n",
      "    Read a total of 8 projection items:\n",
      "        mag_ssp_upright.fif : PCA-mags-v1 (1 x 306) active\n",
      "        mag_ssp_upright.fif : PCA-mags-v2 (1 x 306) active\n",
      "        mag_ssp_upright.fif : PCA-mags-v3 (1 x 306) active\n",
      "        mag_ssp_upright.fif : PCA-mags-v4 (1 x 306) active\n",
      "        mag_ssp_upright.fif : PCA-mags-v5 (1 x 306) active\n",
      "        grad_ssp_upright.fif : PCA-grad-v1 (1 x 306) active\n",
      "        grad_ssp_upright.fif : PCA-grad-v2 (1 x 306) active\n",
      "        grad_ssp_upright.fif : PCA-grad-v3 (1 x 306) active\n",
      "    Found the data of interest:\n",
      "        t =    -300.00 ...     700.00 ms (auditory/left)\n",
      "        0 CTF compensation matrices available\n",
      "        nave = 7 - aspect type = 100\n",
      "Projections have already been applied. Setting proj attribute to True.\n",
      "Applying baseline correction (mode: mean)\n",
      "Reading inverse operator decomposition from /home/zhibinz2/Documents/GitHub/MEG_EEG_Source_Localization/CAMCAN_inv.fif...\n",
      "    Reading inverse operator info...\n",
      "    [done]\n",
      "    Reading inverse operator decomposition...\n",
      "    [done]\n",
      "    306 x 306 full covariance (kind = 1) found.\n",
      "    Read a total of 8 projection items:\n",
      "        mag_ssp_upright.fif : PCA-mags-v1 (1 x 306)  idle\n",
      "        mag_ssp_upright.fif : PCA-mags-v2 (1 x 306)  idle\n",
      "        mag_ssp_upright.fif : PCA-mags-v3 (1 x 306)  idle\n",
      "        mag_ssp_upright.fif : PCA-mags-v4 (1 x 306)  idle\n",
      "        mag_ssp_upright.fif : PCA-mags-v5 (1 x 306)  idle\n",
      "        grad_ssp_upright.fif : PCA-grad-v1 (1 x 306)  idle\n",
      "        grad_ssp_upright.fif : PCA-grad-v2 (1 x 306)  idle\n",
      "        grad_ssp_upright.fif : PCA-grad-v3 (1 x 306)  idle\n",
      "    Noise covariance matrix read.\n",
      "    43887 x 43887 diagonal covariance (kind = 2) found.\n",
      "    Source covariance matrix read.\n",
      "    43887 x 43887 diagonal covariance (kind = 6) found.\n",
      "    Orientation priors read.\n",
      "    43887 x 43887 diagonal covariance (kind = 5) found.\n",
      "    Depth priors read.\n",
      "    Did not find the desired covariance matrix (kind = 3)\n",
      "    Reading a source space...\n",
      "    [done]\n",
      "    1 source spaces read\n",
      "    Read a total of 8 projection items:\n",
      "        mag_ssp_upright.fif : PCA-mags-v1 (1 x 306) active\n",
      "        mag_ssp_upright.fif : PCA-mags-v2 (1 x 306) active\n",
      "        mag_ssp_upright.fif : PCA-mags-v3 (1 x 306) active\n",
      "        mag_ssp_upright.fif : PCA-mags-v4 (1 x 306) active\n",
      "        mag_ssp_upright.fif : PCA-mags-v5 (1 x 306) active\n",
      "        grad_ssp_upright.fif : PCA-grad-v1 (1 x 306) active\n",
      "        grad_ssp_upright.fif : PCA-grad-v2 (1 x 306) active\n",
      "        grad_ssp_upright.fif : PCA-grad-v3 (1 x 306) active\n",
      "    Source spaces transformed to the inverse solution coordinate frame\n",
      "Preparing the inverse operator for use...\n",
      "    Scaled noise and source covariance from nave = 1 to nave = 7\n",
      "    Created the regularized inverter\n",
      "    Created an SSP operator (subspace dimension = 8)\n",
      "    Created the whitener using a noise covariance matrix with rank 298 (8 small eigenvalues omitted)\n",
      "Applying inverse operator to \"auditory/left\"...\n",
      "    Picked 306 channels from the data\n",
      "    Computing inverse...\n",
      "    Eigenleads need to be weighted ...\n",
      "    Computing residual...\n",
      "    Explained  41.0% variance\n",
      "    Combining the current components...\n",
      "[done]\n"
     ]
    }
   ],
   "source": [
    "fname_inv = \"./CAMCAN_inv.fif\"\n",
    "fname_evoked = \"./test_scripts/evoked-ave.fif\"\n",
    "\n",
    "snr = 3.0\n",
    "lambda2 = 1.0 / snr**2\n",
    "method = \"MNE\"  # use dSPM method (could also be dSPM, MNE or sLORETA)\n",
    "\n",
    "# Load data\n",
    "evoked = read_evokeds(fname_evoked, condition=0, baseline=(None, 0))\n",
    "inverse_operator = read_inverse_operator(fname_inv)\n",
    "src = inverse_operator[\"src\"]\n",
    "\n",
    "# Compute inverse solution\n",
    "stc = apply_inverse(evoked, inverse_operator, lambda2, method)\n",
    "stc.crop(0.0, 0.2)\n",
    "\n",
    "# Export result as a 4D nifti object\n",
    "img = stc.as_volume(src, mri_resolution=False)  # set True for full MRI resolution \n",
    "# 'SourceEstimate' object has no attribute 'as_volume' \n",
    "# Becasue src is surface source\n"
   ]
  },
  {
   "cell_type": "code",
   "execution_count": 14,
   "metadata": {},
   "outputs": [
    {
     "data": {
      "text/plain": [
       "(14629, 201)"
      ]
     },
     "execution_count": 14,
     "metadata": {},
     "output_type": "execute_result"
    }
   ],
   "source": [
    "import numpy as np\n",
    "np.shape(stc.data)"
   ]
  },
  {
   "cell_type": "code",
   "execution_count": 13,
   "metadata": {},
   "outputs": [],
   "source": [
    "# Save it as a nifti file\n",
    "import nibabel as nib\n",
    "nib.save(img, 'CAMCAN_inverse.nii.gz')"
   ]
  }
 ],
 "metadata": {
  "kernelspec": {
   "display_name": "Python 3",
   "language": "python",
   "name": "python3"
  },
  "language_info": {
   "codemirror_mode": {
    "name": "ipython",
    "version": 3
   },
   "file_extension": ".py",
   "mimetype": "text/x-python",
   "name": "python",
   "nbconvert_exporter": "python",
   "pygments_lexer": "ipython3",
   "version": "3.10.8"
  },
  "orig_nbformat": 4
 },
 "nbformat": 4,
 "nbformat_minor": 2
}
