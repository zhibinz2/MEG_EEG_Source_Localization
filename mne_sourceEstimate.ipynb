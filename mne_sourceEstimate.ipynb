{
 "cells": [
  {
   "cell_type": "code",
   "execution_count": 1,
   "metadata": {},
   "outputs": [
    {
     "name": "stdout",
     "output_type": "stream",
     "text": [
      "Automatically created module for IPython interactive environment\n"
     ]
    }
   ],
   "source": [
    "# https://mne.tools/stable/auto_tutorials/inverse/10_stc_class.html\n",
    "from mne import read_source_estimate\n",
    "from mne.datasets import sample\n",
    "\n",
    "print(__doc__)\n",
    "\n",
    "# Paths to example data\n",
    "sample_dir_raw = sample.data_path()\n",
    "sample_dir = sample_dir_raw / \"MEG\" / \"sample\"\n",
    "subjects_dir = sample_dir_raw / \"subjects\"\n",
    "\n",
    "fname_stc = sample_dir / \"sample_audvis-meg\""
   ]
  },
  {
   "cell_type": "code",
   "execution_count": 2,
   "metadata": {},
   "outputs": [
    {
     "name": "stdout",
     "output_type": "stream",
     "text": [
      "Using pyvistaqt 3d backend.\n",
      "\n"
     ]
    },
    {
     "name": "stderr",
     "output_type": "stream",
     "text": [
      "qt.qpa.plugin: Could not find the Qt platform plugin \"wayland\" in \"\"\n"
     ]
    }
   ],
   "source": [
    "stc = read_source_estimate(fname_stc, subject=\"fsaverage\")\n",
    "\n",
    "# Define plotting parameters\n",
    "surfer_kwargs = dict(\n",
    "    hemi=\"lh\",\n",
    "    subjects_dir=subjects_dir,\n",
    "    clim=dict(kind=\"value\", lims=[8, 12, 15]),\n",
    "    views=\"lateral\",\n",
    "    initial_time=0.09,\n",
    "    time_unit=\"s\",\n",
    "    size=(800, 800),\n",
    "    smoothing_steps=5,\n",
    ")\n",
    "\n",
    "# Plot surface\n",
    "brain = stc.plot(**surfer_kwargs)\n",
    "\n",
    "# Add title\n",
    "brain.add_text(0.1, 0.9, \"SourceEstimate\", \"title\", font_size=16)"
   ]
  }
 ],
 "metadata": {
  "kernelspec": {
   "display_name": "Python 3",
   "language": "python",
   "name": "python3"
  },
  "language_info": {
   "codemirror_mode": {
    "name": "ipython",
    "version": 3
   },
   "file_extension": ".py",
   "mimetype": "text/x-python",
   "name": "python",
   "nbconvert_exporter": "python",
   "pygments_lexer": "ipython3",
   "version": "3.10.11"
  },
  "orig_nbformat": 4
 },
 "nbformat": 4,
 "nbformat_minor": 2
}
