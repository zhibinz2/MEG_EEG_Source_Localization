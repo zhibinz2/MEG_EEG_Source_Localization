{
 "cells": [
  {
   "cell_type": "code",
   "execution_count": 1,
   "metadata": {},
   "outputs": [],
   "source": [
    "# https://mne.tools/stable/auto_tutorials/forward/30_forward.html\n",
    "\n",
    "import mne\n",
    "from mne.datasets import sample\n",
    "data_path = sample.data_path()\n",
    "\n",
    "# the raw file containing the channel location + types\n",
    "sample_dir = data_path / 'MEG' / 'sample'\n",
    "raw_fname = sample_dir / 'sample_audvis_raw.fif'\n",
    "# The paths to Freesurfer reconstructions\n",
    "subjects_dir = data_path / 'subjects'\n",
    "subject = 'fsaverage' # change it to use freesurfer's bem"
   ]
  },
  {
   "cell_type": "code",
   "execution_count": 2,
   "metadata": {},
   "outputs": [
    {
     "name": "stdout",
     "output_type": "stream",
     "text": [
      "    Read a total of 3 projection items:\n",
      "        PCA-v1 (1 x 102)  idle\n",
      "        PCA-v2 (1 x 102)  idle\n",
      "        PCA-v3 (1 x 102)  idle\n"
     ]
    }
   ],
   "source": [
    "trans = 'sample_fsaverage_manual_trans.fif'\n",
    "info = mne.io.read_info(raw_fname)"
   ]
  },
  {
   "cell_type": "code",
   "execution_count": 3,
   "metadata": {},
   "outputs": [
    {
     "name": "stdout",
     "output_type": "stream",
     "text": [
      "Setting up the source space with the following parameters:\n",
      "\n",
      "SUBJECTS_DIR = /home/zhibinz2/mne_data/MNE-sample-data/subjects\n",
      "Subject      = fsaverage\n",
      "Surface      = white\n",
      "Octahedron subdivision grade 4\n",
      "\n",
      ">>> 1. Creating the source space...\n",
      "\n",
      "Doing the octahedral vertex picking...\n",
      "Loading /home/zhibinz2/mne_data/MNE-sample-data/subjects/fsaverage/surf/lh.white...\n",
      "Mapping lh fsaverage -> oct (4) ...\n",
      "    Warning: zero size triangles: [3 4]\n",
      "    Triangle neighbors and vertex normals...\n",
      "Loading geometry from /home/zhibinz2/mne_data/MNE-sample-data/subjects/fsaverage/surf/lh.sphere...\n",
      "Setting up the triangulation for the decimated surface...\n",
      "loaded lh.white 258/163842 selected to source space (oct = 4)\n",
      "\n",
      "Loading /home/zhibinz2/mne_data/MNE-sample-data/subjects/fsaverage/surf/rh.white...\n",
      "Mapping rh fsaverage -> oct (4) ...\n",
      "    Warning: zero size triangles: [3 4]\n",
      "    Triangle neighbors and vertex normals...\n",
      "Loading geometry from /home/zhibinz2/mne_data/MNE-sample-data/subjects/fsaverage/surf/rh.sphere...\n",
      "Setting up the triangulation for the decimated surface...\n",
      "loaded rh.white 258/163842 selected to source space (oct = 4)\n",
      "\n",
      "Calculating patch information (limit=0.0 mm)...\n",
      "    Computing patch statistics...\n",
      "    Patch information added...\n",
      "    Computing patch statistics...\n",
      "    Patch information added...\n",
      "You are now one step closer to computing the gain matrix\n"
     ]
    }
   ],
   "source": [
    "# Compute Source Space\n",
    "# https://mne.tools/0.19/generated/mne.setup_source_space.html\n",
    "# The spacing to use. Can be 'ico#' for a recursively subdivided icosahedron, \n",
    "# 'oct#' for a recursively subdivided octahedron, \n",
    "# 'all' for all points, or an integer to use appoximate distance-based spacing (in mm).\n",
    "src = mne.setup_source_space(subject, spacing='oct4', add_dist='patch',\n",
    "                             subjects_dir=subjects_dir)"
   ]
  },
  {
   "cell_type": "code",
   "execution_count": 4,
   "metadata": {},
   "outputs": [
    {
     "name": "stdout",
     "output_type": "stream",
     "text": [
      "Creating the BEM geometry...\n",
      "Going from 5th to 4th subdivision of an icosahedron (n_tri: 20480 -> 5120)\n",
      "inner skull CM is  -0.53 -21.10   6.21 mm\n",
      "Surfaces passed the basic topology checks.\n",
      "Complete.\n",
      "\n",
      "Homogeneous model surface loaded.\n",
      "Computing the linear collocation solution...\n",
      "    Matrix coefficients...\n",
      "        inner skull (2562) -> inner skull (2562) ...\n",
      "    Inverting the coefficient matrix...\n",
      "Solution ready.\n",
      "BEM geometry computations complete.\n"
     ]
    }
   ],
   "source": [
    "# compute forward solution\n",
    "conductivity = (0.3,)  # for single layer\n",
    "# conductivity = (0.3, 0.006, 0.3)  # for three layers\n",
    "model = mne.make_bem_model(subject='fsaverage', ico=4,\n",
    "                           conductivity=conductivity,\n",
    "                           subjects_dir=subjects_dir)\n",
    "bem = mne.make_bem_solution(model)"
   ]
  },
  {
   "cell_type": "code",
   "execution_count": 5,
   "metadata": {},
   "outputs": [
    {
     "name": "stdout",
     "output_type": "stream",
     "text": [
      "Source space          : <SourceSpaces: [<surface (lh), n_vertices=163842, n_used=258>, <surface (rh), n_vertices=163842, n_used=258>] MRI (surface RAS) coords, subject 'fsaverage', ~30.1 MB>\n",
      "MRI -> head transform : sample_fsaverage_manual_trans.fif\n",
      "Measurement data      : sample_audvis_raw.fif\n",
      "Conductor model   : instance of ConductorModel\n",
      "Accurate field computations\n",
      "Do computations in head coordinates\n",
      "Free source orientations\n",
      "\n",
      "Read 2 source spaces a total of 516 active source locations\n",
      "\n",
      "Coordinate transformation: MRI (surface RAS) -> head\n",
      "     0.989670 -0.078683 -0.119839      -3.12 mm\n",
      "     0.088848  0.992665  0.081983      21.34 mm\n",
      "     0.112510 -0.091784  0.989403      38.50 mm\n",
      "     0.000000  0.000000  0.000000       1.00\n",
      "\n"
     ]
    },
    {
     "name": "stdout",
     "output_type": "stream",
     "text": [
      "Read 306 MEG channels from info\n",
      "105 coil definitions read\n",
      "Coordinate transformation: MEG device -> head\n",
      "     0.991420 -0.039936 -0.124467      -6.13 mm\n",
      "     0.060661  0.984012  0.167456       0.06 mm\n",
      "     0.115790 -0.173570  0.977991      64.74 mm\n",
      "     0.000000  0.000000  0.000000       1.00\n",
      "MEG coil definitions created in head coordinates.\n",
      "Source spaces are now in head coordinates.\n",
      "\n",
      "Employing the head->MRI coordinate transform with the BEM model.\n",
      "BEM model instance of ConductorModel is now set up\n",
      "\n",
      "Source spaces are in head coordinates.\n",
      "Checking that the sources are inside the surface and at least    5.0 mm away (will take a few...)\n",
      "Checking surface interior status for 258 points...\n",
      "    Found  64/258 points inside  an interior sphere of radius   47.7 mm\n",
      "    Found   0/258 points outside an exterior sphere of radius   98.3 mm\n",
      "    Found   0/194 points outside using surface Qhull\n",
      "    Found   0/194 points outside using solid angles\n",
      "    Total 258/258 points inside the surface\n",
      "Interior check completed in 115.2 ms\n",
      "Checking surface interior status for 258 points...\n",
      "    Found  58/258 points inside  an interior sphere of radius   47.7 mm\n",
      "    Found   0/258 points outside an exterior sphere of radius   98.3 mm\n",
      "    Found   0/200 points outside using surface Qhull\n"
     ]
    },
    {
     "name": "stderr",
     "output_type": "stream",
     "text": [
      "[Parallel(n_jobs=1)]: Using backend SequentialBackend with 1 concurrent workers.\n",
      "[Parallel(n_jobs=1)]: Done   1 out of   1 | elapsed:    0.1s remaining:    0.0s\n",
      "[Parallel(n_jobs=1)]: Done   1 out of   1 | elapsed:    0.1s finished\n",
      "[Parallel(n_jobs=1)]: Using backend SequentialBackend with 1 concurrent workers.\n"
     ]
    },
    {
     "name": "stdout",
     "output_type": "stream",
     "text": [
      "    Found   0/200 points outside using solid angles\n",
      "    Total 258/258 points inside the surface\n",
      "Interior check completed in 115.5 ms\n",
      "\n",
      "Checking surface interior status for 306 points...\n",
      "    Found   0/306 points inside  an interior sphere of radius   47.7 mm\n",
      "    Found 306/306 points outside an exterior sphere of radius   98.3 mm\n",
      "    Found   0/  0 points outside using surface Qhull\n",
      "    Found   0/  0 points outside using solid angles\n",
      "    Total 0/306 points inside the surface\n",
      "Interior check completed in 43.2 ms\n",
      "\n",
      "Composing the field computation matrix...\n"
     ]
    },
    {
     "name": "stderr",
     "output_type": "stream",
     "text": [
      "[Parallel(n_jobs=1)]: Done   1 out of   1 | elapsed:    0.1s remaining:    0.0s\n",
      "[Parallel(n_jobs=1)]: Done   1 out of   1 | elapsed:    0.1s finished\n",
      "[Parallel(n_jobs=1)]: Using backend SequentialBackend with 1 concurrent workers.\n",
      "[Parallel(n_jobs=1)]: Done   1 out of   1 | elapsed:    0.0s remaining:    0.0s\n",
      "[Parallel(n_jobs=1)]: Done   1 out of   1 | elapsed:    0.0s finished\n",
      "[Parallel(n_jobs=1)]: Using backend SequentialBackend with 1 concurrent workers.\n",
      "[Parallel(n_jobs=1)]: Done   1 out of   1 | elapsed:    5.6s remaining:    0.0s\n",
      "[Parallel(n_jobs=1)]: Done   1 out of   1 | elapsed:    5.6s finished\n",
      "[Parallel(n_jobs=1)]: Using backend SequentialBackend with 1 concurrent workers.\n",
      "[Parallel(n_jobs=1)]: Done   1 out of   1 | elapsed:    1.1s remaining:    0.0s\n",
      "[Parallel(n_jobs=1)]: Done   1 out of   1 | elapsed:    1.1s finished\n",
      "[Parallel(n_jobs=1)]: Using backend SequentialBackend with 1 concurrent workers.\n",
      "[Parallel(n_jobs=1)]: Done   1 out of   1 | elapsed:    1.0s remaining:    0.0s\n",
      "[Parallel(n_jobs=1)]: Done   1 out of   1 | elapsed:    1.1s finished\n",
      "[Parallel(n_jobs=1)]: Using backend SequentialBackend with 1 concurrent workers.\n",
      "[Parallel(n_jobs=1)]: Done   1 out of   1 | elapsed:    0.1s remaining:    0.0s\n",
      "[Parallel(n_jobs=1)]: Done   1 out of   1 | elapsed:    0.1s finished\n"
     ]
    },
    {
     "name": "stdout",
     "output_type": "stream",
     "text": [
      "Computing MEG at 516 source locations (free orientations)...\n"
     ]
    },
    {
     "name": "stderr",
     "output_type": "stream",
     "text": [
      "[Parallel(n_jobs=1)]: Using backend SequentialBackend with 1 concurrent workers.\n",
      "[Parallel(n_jobs=1)]: Done   1 out of   1 | elapsed:    1.4s remaining:    0.0s\n",
      "[Parallel(n_jobs=1)]: Done   1 out of   1 | elapsed:    1.4s finished\n"
     ]
    },
    {
     "name": "stdout",
     "output_type": "stream",
     "text": [
      "\n",
      "Finished.\n",
      "<Forward | MEG channels: 306 | EEG channels: 0 | Source space: Surface with 516 vertices | Source orientation: Free>\n"
     ]
    }
   ],
   "source": [
    "fwd = mne.make_forward_solution(raw_fname, trans=trans, src=src, bem=bem,\n",
    "                                meg=True, eeg=False, mindist=5.0, n_jobs=None,\n",
    "                                verbose=True)\n",
    "print(fwd)"
   ]
  },
  {
   "cell_type": "code",
   "execution_count": 6,
   "metadata": {},
   "outputs": [
    {
     "name": "stdout",
     "output_type": "stream",
     "text": [
      "Before: <SourceSpaces: [<surface (lh), n_vertices=163842, n_used=258>, <surface (rh), n_vertices=163842, n_used=258>] MRI (surface RAS) coords, subject 'fsaverage', ~30.1 MB>\n",
      "After:  <SourceSpaces: [<surface (lh), n_vertices=163842, n_used=258>, <surface (rh), n_vertices=163842, n_used=258>] head coords, subject 'fsaverage', ~30.1 MB>\n"
     ]
    }
   ],
   "source": [
    "print(f'Before: {src}')\n",
    "print(f'After:  {fwd[\"src\"]}')"
   ]
  },
  {
   "cell_type": "code",
   "execution_count": 7,
   "metadata": {},
   "outputs": [],
   "source": [
    "# leadfield = fwd['sol']['data']\n",
    "# print(\"Leadfield size : %d sensors x %d dipoles\" % leadfield.shape)"
   ]
  },
  {
   "cell_type": "code",
   "execution_count": 8,
   "metadata": {},
   "outputs": [
    {
     "name": "stdout",
     "output_type": "stream",
     "text": [
      "    Average patch normals will be employed in the rotation to the local surface coordinates....\n",
      "    Converting to surface-based source orientations...\n",
      "    [done]\n",
      "Leadfield size : 306 sensors x 516 dipoles\n"
     ]
    }
   ],
   "source": [
    "fwd_fixed = mne.convert_forward_solution(fwd, surf_ori=True, force_fixed=True,\n",
    "                                         use_cps=True)\n",
    "leadfield = fwd_fixed['sol']['data']\n",
    "print(\"Leadfield size : %d sensors x %d dipoles\" % leadfield.shape)"
   ]
  },
  {
   "cell_type": "code",
   "execution_count": 9,
   "metadata": {},
   "outputs": [],
   "source": [
    "from hdf5storage import loadmat, savemat \n",
    "outdict=dict()\n",
    "outdict['leadfield']=leadfield\n",
    "outdict['source_nn']=fwd_fixed['source_nn']\n",
    "outdict['source_rr']=fwd_fixed['source_rr']\n",
    "savemat('leadfield_nn_rr',outdict,store_python_metadata=True)"
   ]
  },
  {
   "cell_type": "code",
   "execution_count": 18,
   "metadata": {},
   "outputs": [
    {
     "name": "stdout",
     "output_type": "stream",
     "text": [
      "    Write a source space...\n",
      "    [done]\n",
      "    Write a source space...\n",
      "    [done]\n",
      "    2 source spaces written\n"
     ]
    }
   ],
   "source": [
    "mne.write_forward_solution('simple_fsaverage_fixed_fwd.fif', fwd, overwrite=False, verbose=None)"
   ]
  },
  {
   "cell_type": "code",
   "execution_count": 19,
   "metadata": {},
   "outputs": [
    {
     "name": "stdout",
     "output_type": "stream",
     "text": [
      "Reading forward solution from /home/zhibinz2/Documents/GitHub/MEG_EEG_Source_Localization/simple_fsaverage_fwd.fif...\n",
      "    Reading a source space...\n",
      "    Computing patch statistics...\n",
      "    Patch information added...\n",
      "    [done]\n",
      "    Reading a source space...\n",
      "    Computing patch statistics...\n",
      "    Patch information added...\n",
      "    [done]\n",
      "    2 source spaces read\n",
      "    Desired named matrix (kind = 3523) not available\n",
      "    Read MEG forward solution (516 sources, 306 channels, free orientations)\n",
      "    Source spaces transformed to the forward solution coordinate frame\n"
     ]
    }
   ],
   "source": [
    "# forward = mne.read_forward_solution('simple_fsaverage_fixed_fwd.fif',verbose=None)"
   ]
  }
 ],
 "metadata": {
  "kernelspec": {
   "display_name": "Python 3",
   "language": "python",
   "name": "python3"
  },
  "language_info": {
   "codemirror_mode": {
    "name": "ipython",
    "version": 3
   },
   "file_extension": ".py",
   "mimetype": "text/x-python",
   "name": "python",
   "nbconvert_exporter": "python",
   "pygments_lexer": "ipython3",
   "version": "3.10.8"
  },
  "orig_nbformat": 4
 },
 "nbformat": 4,
 "nbformat_minor": 2
}
