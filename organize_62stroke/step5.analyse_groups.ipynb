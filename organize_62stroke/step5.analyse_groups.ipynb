{
 "cells": [
  {
   "cell_type": "code",
   "execution_count": 1,
   "metadata": {},
   "outputs": [],
   "source": [
    "from hdf5storage import loadmat, savemat \n",
    "import numpy as np \n",
    "import networkx as nx\n",
    "from matplotlib import pyplot as plt "
   ]
  },
  {
   "cell_type": "code",
   "execution_count": 3,
   "metadata": {},
   "outputs": [],
   "source": [
    "demographics=loadmat('demographics.mat')"
   ]
  },
  {
   "cell_type": "code",
   "execution_count": 4,
   "metadata": {},
   "outputs": [
    {
     "data": {
      "text/plain": [
       "dict_keys(['__header__', '__version__', '__globals__', 'FM_scores', 'ages', 'cor_ind', 'days_poststroke', 'lesion_sizes', 'matfile_names', 'subc_ind'])"
      ]
     },
     "execution_count": 4,
     "metadata": {},
     "output_type": "execute_result"
    }
   ],
   "source": [
    "demographics.keys()"
   ]
  },
  {
   "cell_type": "code",
   "execution_count": 5,
   "metadata": {},
   "outputs": [],
   "source": [
    "matfile_names=demographics['matfile_names']\n",
    "FM_scores=demographics['FM_scores']\n",
    "ages=demographics['ages']\n",
    "days_poststroke=demographics['days_poststroke']\n",
    "lesion_sizes=demographics['lesion_sizes']\n",
    "cor_ind=demographics['cor_ind']\n",
    "subc_ind=demographics['subc_ind']\n"
   ]
  },
  {
   "cell_type": "code",
   "execution_count": 6,
   "metadata": {},
   "outputs": [],
   "source": [
    "import os\n",
    "import numpy as np\n",
    "import time\n"
   ]
  },
  {
   "cell_type": "code",
   "execution_count": 8,
   "metadata": {},
   "outputs": [],
   "source": [
    "# Set the directory path\n",
    "directory_path = '/home/zhibinz2/Documents/GitHub/archive/EEE_stroke_61_coh'"
   ]
  },
  {
   "cell_type": "code",
   "execution_count": 9,
   "metadata": {},
   "outputs": [],
   "source": [
    "os.chdir(directory_path)"
   ]
  },
  {
   "cell_type": "code",
   "execution_count": 155,
   "metadata": {},
   "outputs": [
    {
     "data": {
      "text/plain": [
       "'/home/zhibinz2/Documents/GitHub/archive/EEE_stroke_61_coh'"
      ]
     },
     "execution_count": 155,
     "metadata": {},
     "output_type": "execute_result"
    }
   ],
   "source": [
    "pwd"
   ]
  },
  {
   "cell_type": "code",
   "execution_count": 13,
   "metadata": {},
   "outputs": [
    {
     "data": {
      "text/plain": [
       "'0.mat'"
      ]
     },
     "execution_count": 13,
     "metadata": {},
     "output_type": "execute_result"
    }
   ],
   "source": [
    "file_name"
   ]
  },
  {
   "cell_type": "code",
   "execution_count": 15,
   "metadata": {},
   "outputs": [
    {
     "name": "stdout",
     "output_type": "stream",
     "text": [
      "Time elapsed for file 0.mat: 0.0732 seconds\n"
     ]
    }
   ],
   "source": [
    "tic = time.time()\n",
    "# Load data from the .mat file\n",
    "file_name = str(matfile_names[0][0]) + '.mat'\n",
    "data = loadmat(file_name)\n",
    "# Extract data from the loaded file\n",
    "stroke_coh = data['stroke_coh']\n",
    "stroke_Pcoh = data['stroke_Pcoh']\n",
    "penalizationIn_op=data['penalizationIn_op']\n",
    "penalizationOut_op=data['penalizationOut_op']\n",
    "minDev_op=data['minDev_op']\n",
    "subject_ID = data['subject_ID']\n",
    "chanlocs = data['chanlocs']\n",
    "ch_labels = data['ch_labels']\n",
    "ch_dubious = data['ch_dubious']\n",
    "ch_peripheral = data['ch_peripheral']\n",
    "Fs = data['Fs']\n",
    "toc = time.time()\n",
    "print(f\"Time elapsed for file {file_name}: {toc - tic:.4f} seconds\")"
   ]
  },
  {
   "cell_type": "code",
   "execution_count": null,
   "metadata": {},
   "outputs": [],
   "source": [
    "np.shape(stroke_Pcoh[0][4])"
   ]
  },
  {
   "cell_type": "code",
   "execution_count": 18,
   "metadata": {},
   "outputs": [],
   "source": [
    "G= nx.from_numpy_array(stroke_Pcoh[0][4])"
   ]
  },
  {
   "cell_type": "code",
   "execution_count": 20,
   "metadata": {},
   "outputs": [],
   "source": [
    "edges=nx.edges(G)\n",
    "nodes=nx.nodes(G)"
   ]
  },
  {
   "cell_type": "code",
   "execution_count": 23,
   "metadata": {},
   "outputs": [],
   "source": [
    "dg_hist=nx.degree_histogram(G)"
   ]
  },
  {
   "cell_type": "code",
   "execution_count": 37,
   "metadata": {},
   "outputs": [],
   "source": [
    "data = loadmat('/home/zhibinz2/Documents/GitHub/archive/EEE_stroke_61_coh/'+file_name, variable_names='stroke_Pcoh')"
   ]
  },
  {
   "cell_type": "code",
   "execution_count": 39,
   "metadata": {},
   "outputs": [
    {
     "data": {
      "text/plain": [
       "dict_keys(['__header__', '__version__', '__globals__', 'stroke_Pcoh'])"
      ]
     },
     "execution_count": 39,
     "metadata": {},
     "output_type": "execute_result"
    }
   ],
   "source": [
    "data.keys()"
   ]
  },
  {
   "cell_type": "code",
   "execution_count": 46,
   "metadata": {},
   "outputs": [
    {
     "data": {
      "text/plain": [
       "'0.mat'"
      ]
     },
     "execution_count": 46,
     "metadata": {},
     "output_type": "execute_result"
    }
   ],
   "source": [
    "file_name"
   ]
  },
  {
   "cell_type": "code",
   "execution_count": null,
   "metadata": {},
   "outputs": [],
   "source": [
    "# didn't work\n",
    "dg_hist_5 = [[] for _ in range(5)]\n",
    "dg_hist_61 = [dg_hist_5 for _ in range(61)]\n",
    "for f in range(61):\n",
    "    data = loadmat('/home/zhibinz2/Documents/GitHub/archive/EEE_stroke_61_coh/'+str(matfile_names[f][0]) + '.mat', variable_names='stroke_Pcoh')\n",
    "    for freq in range(5):\n",
    "        G= nx.from_numpy_array(data['stroke_Pcoh'][0][freq])\n",
    "        dg_hist=nx.degree_histogram(G)\n",
    "        dg_hist_61[f][freq]=dg_hist.copy()\n",
    "\n",
    "# Failed: some how every all 61 data set in each freq look the same\n",
    "\n",
    "# 28 s"
   ]
  },
  {
   "cell_type": "code",
   "execution_count": 98,
   "metadata": {},
   "outputs": [
    {
     "data": {
      "text/plain": [
       "5"
      ]
     },
     "execution_count": 98,
     "metadata": {},
     "output_type": "execute_result"
    }
   ],
   "source": [
    "len(dg_hist_61[5])"
   ]
  },
  {
   "cell_type": "code",
   "execution_count": 140,
   "metadata": {},
   "outputs": [
    {
     "data": {
      "text/plain": [
       "[0,\n",
       " 0,\n",
       " 175,\n",
       " 15,\n",
       " 15,\n",
       " 6,\n",
       " 4,\n",
       " 8,\n",
       " 4,\n",
       " 5,\n",
       " 8,\n",
       " 4,\n",
       " 3,\n",
       " 3,\n",
       " 3,\n",
       " 1,\n",
       " 3,\n",
       " 3,\n",
       " 1,\n",
       " 3,\n",
       " 0,\n",
       " 1,\n",
       " 3,\n",
       " 0,\n",
       " 1,\n",
       " 0,\n",
       " 1,\n",
       " 0,\n",
       " 3,\n",
       " 2,\n",
       " 1,\n",
       " 0,\n",
       " 2,\n",
       " 1,\n",
       " 1,\n",
       " 1,\n",
       " 1,\n",
       " 1,\n",
       " 0,\n",
       " 0,\n",
       " 1,\n",
       " 0,\n",
       " 1,\n",
       " 3,\n",
       " 2,\n",
       " 0,\n",
       " 1,\n",
       " 1,\n",
       " 1,\n",
       " 0,\n",
       " 2,\n",
       " 5,\n",
       " 3,\n",
       " 0,\n",
       " 0,\n",
       " 1,\n",
       " 1,\n",
       " 2,\n",
       " 0,\n",
       " 1,\n",
       " 2,\n",
       " 1,\n",
       " 1,\n",
       " 1,\n",
       " 0,\n",
       " 0,\n",
       " 1,\n",
       " 2,\n",
       " 3,\n",
       " 1,\n",
       " 1,\n",
       " 0,\n",
       " 0,\n",
       " 1,\n",
       " 0,\n",
       " 0,\n",
       " 0,\n",
       " 0,\n",
       " 0,\n",
       " 3,\n",
       " 2,\n",
       " 0,\n",
       " 0,\n",
       " 1,\n",
       " 1,\n",
       " 1,\n",
       " 0,\n",
       " 3,\n",
       " 0,\n",
       " 0,\n",
       " 1,\n",
       " 1,\n",
       " 1,\n",
       " 0,\n",
       " 2,\n",
       " 3,\n",
       " 3,\n",
       " 1,\n",
       " 1,\n",
       " 1,\n",
       " 0,\n",
       " 3,\n",
       " 2,\n",
       " 0,\n",
       " 0,\n",
       " 1,\n",
       " 1,\n",
       " 2,\n",
       " 0,\n",
       " 1,\n",
       " 1,\n",
       " 0,\n",
       " 2,\n",
       " 0,\n",
       " 0,\n",
       " 1,\n",
       " 1,\n",
       " 1,\n",
       " 0,\n",
       " 2,\n",
       " 0,\n",
       " 1,\n",
       " 0,\n",
       " 2,\n",
       " 2,\n",
       " 1,\n",
       " 0,\n",
       " 2,\n",
       " 1,\n",
       " 1,\n",
       " 2,\n",
       " 3,\n",
       " 1,\n",
       " 1,\n",
       " 1,\n",
       " 0,\n",
       " 0,\n",
       " 3,\n",
       " 2,\n",
       " 2,\n",
       " 0,\n",
       " 1,\n",
       " 2,\n",
       " 0,\n",
       " 2,\n",
       " 2,\n",
       " 1,\n",
       " 2,\n",
       " 0,\n",
       " 0,\n",
       " 1,\n",
       " 0,\n",
       " 1,\n",
       " 1,\n",
       " 1,\n",
       " 0,\n",
       " 0,\n",
       " 1,\n",
       " 0,\n",
       " 0,\n",
       " 1,\n",
       " 0,\n",
       " 2,\n",
       " 4,\n",
       " 0,\n",
       " 0,\n",
       " 0,\n",
       " 1,\n",
       " 1,\n",
       " 2,\n",
       " 0,\n",
       " 0,\n",
       " 1,\n",
       " 1,\n",
       " 2,\n",
       " 1,\n",
       " 1,\n",
       " 1,\n",
       " 0,\n",
       " 0,\n",
       " 0,\n",
       " 1,\n",
       " 0,\n",
       " 3,\n",
       " 0,\n",
       " 0,\n",
       " 2,\n",
       " 0,\n",
       " 0,\n",
       " 1,\n",
       " 0,\n",
       " 0,\n",
       " 1,\n",
       " 0,\n",
       " 0,\n",
       " 1,\n",
       " 0,\n",
       " 2,\n",
       " 0,\n",
       " 1,\n",
       " 1,\n",
       " 1,\n",
       " 2,\n",
       " 0,\n",
       " 0,\n",
       " 0,\n",
       " 1,\n",
       " 0,\n",
       " 0,\n",
       " 1,\n",
       " 0,\n",
       " 0,\n",
       " 1,\n",
       " 0,\n",
       " 1,\n",
       " 1,\n",
       " 0,\n",
       " 0,\n",
       " 0,\n",
       " 0,\n",
       " 1,\n",
       " 0,\n",
       " 0,\n",
       " 0,\n",
       " 0,\n",
       " 0,\n",
       " 1,\n",
       " 0,\n",
       " 0,\n",
       " 1,\n",
       " 0,\n",
       " 0,\n",
       " 0,\n",
       " 0,\n",
       " 0,\n",
       " 0,\n",
       " 0,\n",
       " 0,\n",
       " 0,\n",
       " 0,\n",
       " 0,\n",
       " 0,\n",
       " 0,\n",
       " 0,\n",
       " 0,\n",
       " 0,\n",
       " 1]"
      ]
     },
     "execution_count": 140,
     "metadata": {},
     "output_type": "execute_result"
    }
   ],
   "source": [
    "dg_hist_61[22][4]"
   ]
  },
  {
   "cell_type": "code",
   "execution_count": 145,
   "metadata": {},
   "outputs": [],
   "source": [
    "# This works\n",
    "dg_hist_61 = np.empty((61, 5), dtype=object)\n",
    "for f in range(61):\n",
    "    file_name = str(matfile_names[f][0]) + '.mat'\n",
    "    data = loadmat('/home/zhibinz2/Documents/GitHub/archive/EEE_stroke_61_coh/'+file_name, variable_names='stroke_Pcoh')\n",
    "    stroke_Pcoh = data['stroke_Pcoh']\n",
    "    for freq in range(5):\n",
    "        G= nx.from_numpy_array(stroke_Pcoh[0][freq])\n",
    "        dg_hist=nx.degree_histogram(G)\n",
    "        dg_hist_61[f,freq]=dg_hist.copy()"
   ]
  },
  {
   "cell_type": "code",
   "execution_count": 193,
   "metadata": {},
   "outputs": [],
   "source": [
    "f=33\n",
    "file_name = str(matfile_names[f][0]) + '.mat'\n",
    "data = loadmat('/home/zhibinz2/Documents/GitHub/archive/EEE_stroke_61_coh/'+file_name, variable_names='stroke_Pcoh')\n",
    "stroke_Pcoh = data['stroke_Pcoh']\n",
    "freq=0\n",
    "G= nx.from_numpy_array(stroke_Pcoh[0][freq])\n",
    "dg_hist=nx.degree_histogram(G)"
   ]
  },
  {
   "cell_type": "code",
   "execution_count": 200,
   "metadata": {},
   "outputs": [
    {
     "data": {
      "text/plain": [
       "100576"
      ]
     },
     "execution_count": 200,
     "metadata": {},
     "output_type": "execute_result"
    }
   ],
   "source": [
    "len(nx.edges(G))"
   ]
  },
  {
   "cell_type": "code",
   "execution_count": 170,
   "metadata": {},
   "outputs": [
    {
     "data": {
      "text/plain": [
       "(448, 448)"
      ]
     },
     "execution_count": 170,
     "metadata": {},
     "output_type": "execute_result"
    }
   ],
   "source": [
    "np.shape(stroke_Pcoh[0][freq])"
   ]
  },
  {
   "cell_type": "code",
   "execution_count": 146,
   "metadata": {},
   "outputs": [
    {
     "data": {
      "text/plain": [
       "list"
      ]
     },
     "execution_count": 146,
     "metadata": {},
     "output_type": "execute_result"
    }
   ],
   "source": [
    "type(dg_hist_61[59,1])"
   ]
  },
  {
   "cell_type": "code",
   "execution_count": null,
   "metadata": {},
   "outputs": [],
   "source": [
    "dg_hist_61[59,1]"
   ]
  },
  {
   "cell_type": "code",
   "execution_count": 159,
   "metadata": {},
   "outputs": [],
   "source": [
    "os.chdir('/home/zhibinz2/Documents/GitHub/MEG_EEG_Source_Localization/organize_62stroke')"
   ]
  },
  {
   "cell_type": "code",
   "execution_count": 162,
   "metadata": {},
   "outputs": [],
   "source": [
    "import pickle"
   ]
  },
  {
   "cell_type": "code",
   "execution_count": 163,
   "metadata": {},
   "outputs": [],
   "source": [
    "# Save dg_hist_61 as a pickle file\n",
    "with open('dg_hist_61.pkl', 'wb') as file:\n",
    "    pickle.dump(dg_hist_61, file)"
   ]
  },
  {
   "cell_type": "code",
   "execution_count": 164,
   "metadata": {},
   "outputs": [],
   "source": [
    "# Load the saved data back into a variable\n",
    "with open('dg_hist_61.pkl', 'rb') as file:\n",
    "    loaded_dg_hist_61 = pickle.load(file)"
   ]
  },
  {
   "cell_type": "code",
   "execution_count": null,
   "metadata": {},
   "outputs": [],
   "source": [
    "loaded_dg_hist_61[60,4]"
   ]
  },
  {
   "cell_type": "code",
   "execution_count": 181,
   "metadata": {},
   "outputs": [
    {
     "data": {
      "text/plain": [
       "(247,)"
      ]
     },
     "execution_count": 181,
     "metadata": {},
     "output_type": "execute_result"
    }
   ],
   "source": [
    "np.shape(np.array(dg_hist_61[60,4]))"
   ]
  },
  {
   "cell_type": "code",
   "execution_count": 184,
   "metadata": {},
   "outputs": [
    {
     "data": {
      "text/plain": [
       "2"
      ]
     },
     "execution_count": 184,
     "metadata": {},
     "output_type": "execute_result"
    }
   ],
   "source": [
    "np.argmax(dg_hist_61[60,4], axis=0)"
   ]
  },
  {
   "cell_type": "code",
   "execution_count": 183,
   "metadata": {},
   "outputs": [
    {
     "data": {
      "text/plain": [
       "2"
      ]
     },
     "execution_count": 183,
     "metadata": {},
     "output_type": "execute_result"
    }
   ],
   "source": [
    "np.argmax(np.array(dg_hist_61[60,4]), axis=0)"
   ]
  },
  {
   "cell_type": "code",
   "execution_count": 192,
   "metadata": {},
   "outputs": [],
   "source": [
    "ans=dg_hist_61[33,0]"
   ]
  },
  {
   "cell_type": "code",
   "execution_count": 168,
   "metadata": {},
   "outputs": [
    {
     "data": {
      "text/plain": [
       "448"
      ]
     },
     "execution_count": 168,
     "metadata": {},
     "output_type": "execute_result"
    }
   ],
   "source": [
    "np.sum(dg_hist_61[60,4])"
   ]
  },
  {
   "cell_type": "code",
   "execution_count": 201,
   "metadata": {},
   "outputs": [],
   "source": [
    "# identify the highest dreegree frequency \n",
    "max_dg_freq=np.zeros((61,5))\n",
    "for f in range(61):\n",
    "    for freq in range(5):\n",
    "        max_dg_freq[f,freq]=max(dg_hist_61[f,freq])*np.argmax(dg_hist_61[f,freq], axis=0)\n",
    "        # max_dg_freq[f,freq]=np.argmax(dg_hist_61[f,freq], axis=0)\n"
   ]
  },
  {
   "cell_type": "code",
   "execution_count": 202,
   "metadata": {},
   "outputs": [
    {
     "data": {
      "text/plain": [
       "array([[1.72000e+02, 2.20000e+02, 2.40000e+02, 2.72000e+02, 2.74000e+02],\n",
       "       [1.12000e+02, 1.54000e+02, 1.20000e+02, 1.38000e+02, 1.58000e+02],\n",
       "       [4.10000e+02, 5.80000e+02, 5.94000e+02, 4.14000e+02, 4.08000e+02],\n",
       "       [6.30000e+02, 3.52000e+02, 3.62000e+02, 3.44000e+02, 3.98000e+02],\n",
       "       [1.40000e+02, 1.44000e+02, 1.44000e+02, 1.44000e+02, 1.44000e+02],\n",
       "       [5.00000e+02, 3.32000e+02, 3.14000e+02, 3.16000e+02, 3.48000e+02],\n",
       "       [2.32000e+02, 2.86000e+02, 3.08000e+02, 3.14000e+02, 3.52000e+02],\n",
       "       [2.58000e+02, 2.78000e+02, 2.72000e+02, 2.90000e+02, 3.54000e+02],\n",
       "       [3.48000e+02, 3.64000e+02, 3.56000e+02, 3.82000e+02, 3.82000e+02],\n",
       "       [2.90000e+02, 2.68000e+02, 2.70000e+02, 2.70000e+02, 3.16000e+02],\n",
       "       [2.48000e+02, 2.36000e+02, 2.40000e+02, 2.28000e+02, 2.30000e+02],\n",
       "       [7.64000e+02, 3.80000e+02, 3.78000e+02, 3.78000e+02, 2.01152e+05],\n",
       "       [2.76000e+02, 2.84000e+02, 2.66000e+02, 2.12000e+02, 2.02000e+02],\n",
       "       [3.84000e+02, 3.78000e+02, 3.76000e+02, 2.01152e+05, 2.01152e+05],\n",
       "       [3.34000e+02, 3.22000e+02, 3.36000e+02, 3.50000e+02, 3.64000e+02],\n",
       "       [2.86000e+02, 2.74000e+02, 2.42000e+02, 2.28000e+02, 2.40000e+02],\n",
       "       [2.14000e+02, 3.02000e+02, 2.76000e+02, 3.06000e+02, 3.62000e+02],\n",
       "       [1.94000e+02, 1.88000e+02, 1.94000e+02, 1.96000e+02, 2.06000e+02],\n",
       "       [6.33000e+02, 4.50000e+02, 5.50000e+02, 5.14000e+02, 2.01152e+05],\n",
       "       [2.86000e+02, 2.86000e+02, 3.14000e+02, 2.98000e+02, 3.24000e+02],\n",
       "       [2.86000e+02, 2.74000e+02, 2.80000e+02, 2.78000e+02, 2.64000e+02],\n",
       "       [4.40000e+02, 4.34000e+02, 4.12000e+02, 4.24000e+02, 4.20000e+02],\n",
       "       [2.84000e+02, 2.60000e+02, 2.54000e+02, 2.68000e+02, 3.90000e+02],\n",
       "       [2.18000e+02, 2.10000e+02, 2.28000e+02, 2.20000e+02, 2.76000e+02],\n",
       "       [3.64000e+02, 3.36000e+02, 3.58000e+02, 3.64000e+02, 4.12000e+02],\n",
       "       [3.22000e+02, 2.62000e+02, 2.86000e+02, 2.90000e+02, 2.56000e+02],\n",
       "       [3.18000e+02, 3.28000e+02, 2.82000e+02, 2.92000e+02, 2.82000e+02],\n",
       "       [6.96000e+02, 3.06000e+02, 5.40000e+02, 5.19000e+02, 2.70000e+02],\n",
       "       [3.72000e+02, 3.28000e+02, 2.76000e+02, 2.60000e+02, 3.06000e+02],\n",
       "       [4.58000e+02, 4.34000e+02, 4.56000e+02, 4.64000e+02, 4.66000e+02],\n",
       "       [2.70000e+02, 2.66000e+02, 2.90000e+02, 2.90000e+02, 4.30000e+02],\n",
       "       [2.70000e+02, 3.02000e+02, 3.14000e+02, 4.08000e+02, 3.52000e+02],\n",
       "       [1.66000e+02, 1.42000e+02, 1.98000e+02, 2.08000e+02, 1.80000e+02],\n",
       "       [2.01152e+05, 1.36000e+02, 2.01152e+05, 1.32000e+02, 2.01152e+05],\n",
       "       [3.24000e+02, 3.42000e+02, 3.36000e+02, 3.16000e+02, 3.68000e+02],\n",
       "       [1.70000e+02, 1.68000e+02, 1.76000e+02, 1.76000e+02, 1.76000e+02],\n",
       "       [4.90000e+02, 5.54000e+02, 5.74000e+02, 4.48000e+02, 4.40000e+02],\n",
       "       [2.84000e+02, 2.80000e+02, 2.92000e+02, 2.88000e+02, 2.90000e+02],\n",
       "       [2.56000e+02, 2.58000e+02, 2.52000e+02, 2.76000e+02, 2.64000e+02],\n",
       "       [3.26000e+02, 3.12000e+02, 3.04000e+02, 3.22000e+02, 3.74000e+02],\n",
       "       [1.96000e+02, 1.90000e+02, 1.86000e+02, 1.68000e+02, 1.78000e+02],\n",
       "       [3.12000e+02, 2.82000e+02, 3.18000e+02, 3.68000e+02, 3.84000e+02],\n",
       "       [3.38000e+02, 2.02000e+02, 2.22000e+02, 3.06000e+02, 3.56000e+02],\n",
       "       [3.96000e+02, 3.94000e+02, 4.10000e+02, 4.12000e+02, 4.14000e+02],\n",
       "       [3.54000e+02, 2.66000e+02, 2.70000e+02, 2.84000e+02, 2.90000e+02],\n",
       "       [2.96000e+02, 2.98000e+02, 3.00000e+02, 2.96000e+02, 2.86000e+02],\n",
       "       [3.48000e+02, 3.52000e+02, 3.56000e+02, 3.50000e+02, 2.96000e+02],\n",
       "       [3.58000e+02, 3.66000e+02, 3.60000e+02, 3.58000e+02, 3.58000e+02],\n",
       "       [2.98000e+02, 2.96000e+02, 2.96000e+02, 2.94000e+02, 3.14000e+02],\n",
       "       [4.42000e+02, 3.38000e+02, 3.32000e+02, 4.10000e+02, 3.90000e+02],\n",
       "       [1.96000e+02, 3.10000e+02, 2.98000e+02, 3.22000e+02, 3.30000e+02],\n",
       "       [2.58000e+02, 2.68000e+02, 2.78000e+02, 2.92000e+02, 3.34000e+02],\n",
       "       [2.44000e+02, 2.94000e+02, 2.86000e+02, 3.24000e+02, 4.02000e+02],\n",
       "       [2.90000e+02, 3.26000e+02, 3.64000e+02, 3.48000e+02, 3.30000e+02],\n",
       "       [2.72000e+02, 3.28000e+02, 3.38000e+02, 3.52000e+02, 3.42000e+02],\n",
       "       [7.66000e+02, 4.50000e+02, 3.06000e+02, 3.30000e+02, 3.28000e+02],\n",
       "       [2.01152e+05, 2.01152e+05, 3.90000e+02, 3.92000e+02, 3.96000e+02],\n",
       "       [3.54000e+02, 3.40000e+02, 3.46000e+02, 3.50000e+02, 3.46000e+02],\n",
       "       [2.84000e+02, 3.00000e+02, 3.04000e+02, 3.22000e+02, 2.86000e+02],\n",
       "       [3.08000e+02, 3.14000e+02, 3.08000e+02, 3.06000e+02, 3.10000e+02],\n",
       "       [2.72000e+02, 3.26000e+02, 3.40000e+02, 3.40000e+02, 3.50000e+02]])"
      ]
     },
     "execution_count": 202,
     "metadata": {},
     "output_type": "execute_result"
    }
   ],
   "source": [
    "max_dg_freq"
   ]
  },
  {
   "cell_type": "code",
   "execution_count": null,
   "metadata": {},
   "outputs": [],
   "source": [
    "max_dg_freq"
   ]
  },
  {
   "cell_type": "code",
   "execution_count": 216,
   "metadata": {},
   "outputs": [
    {
     "data": {
      "text/plain": [
       "(100.0, 2000.0)"
      ]
     },
     "execution_count": 216,
     "metadata": {},
     "output_type": "execute_result"
    },
    {
     "data": {
      "image/png": "[encoded data removed]",
      "text/plain": [
       "<Figure size 640x480 with 1 Axes>"
      ]
     },
     "metadata": {},
     "output_type": "display_data"
    }
   ],
   "source": [
    "plt.plot(range(61),max_dg_freq[:,4])\n",
    "plt.ylim([100,2000])"
   ]
  },
  {
   "cell_type": "code",
   "execution_count": 231,
   "metadata": {},
   "outputs": [
    {
     "data": {
      "text/plain": [
       "(0.0, 500.0)"
      ]
     },
     "execution_count": 231,
     "metadata": {},
     "output_type": "execute_result"
    },
    {
     "data": {
      "image/png": "[encoded data removed]",
      "text/plain": [
       "<Figure size 640x480 with 1 Axes>"
      ]
     },
     "metadata": {},
     "output_type": "display_data"
    }
   ],
   "source": [
    "plt.plot(lesion_sizes,max_dg_freq[:,0],'r.')\n",
    "plt.xlabel('lesion size')\n",
    "plt.ylabel('num edges')\n",
    "plt.ylim([0,500])"
   ]
  },
  {
   "cell_type": "code",
   "execution_count": null,
   "metadata": {},
   "outputs": [],
   "source": [
    "plt.subplot(1,2,1)\n",
    "plt.plot()"
   ]
  },
  {
   "cell_type": "code",
   "execution_count": 245,
   "metadata": {},
   "outputs": [],
   "source": [
    "cor_test=cor_ind.tolist()"
   ]
  },
  {
   "cell_type": "code",
   "execution_count": 273,
   "metadata": {},
   "outputs": [],
   "source": [
    "bool_cor=np.squeeze(cor_ind ==1)\n",
    "bool_subc=np.squeeze(subc_ind==1)"
   ]
  },
  {
   "cell_type": "code",
   "execution_count": 280,
   "metadata": {},
   "outputs": [
    {
     "data": {
      "text/plain": [
       "array([27], dtype=uint8)"
      ]
     },
     "execution_count": 280,
     "metadata": {},
     "output_type": "execute_result"
    }
   ],
   "source": [
    "sum(cor_ind)"
   ]
  },
  {
   "cell_type": "code",
   "execution_count": 281,
   "metadata": {},
   "outputs": [],
   "source": [
    "cor_ed=np.zeros((int(sum(cor_ind)),5))\n",
    "subc_ed=np.zeros((int(sum(subc_ind)),5))\n",
    "for freq in range(5):\n",
    "    cor_ed[:,freq]=max_dg_freq[:,freq][bool_cor]\n",
    "    subc_ed[:,freq]=max_dg_freq[:,freq][bool_subc]\n"
   ]
  },
  {
   "cell_type": "code",
   "execution_count": 295,
   "metadata": {},
   "outputs": [],
   "source": [
    "freq=0\n",
    "AA=np.concatenate((cor_ed[:,freq],subc_ed[:,freq]),axis=0)"
   ]
  },
  {
   "cell_type": "code",
   "execution_count": 296,
   "metadata": {},
   "outputs": [
    {
     "data": {
      "text/plain": [
       "(61,)"
      ]
     },
     "execution_count": 296,
     "metadata": {},
     "output_type": "execute_result"
    }
   ],
   "source": [
    "np.shape(AA)"
   ]
  },
  {
   "cell_type": "code",
   "execution_count": 275,
   "metadata": {},
   "outputs": [
    {
     "data": {
      "text/plain": [
       "array([1.58000e+02, 1.44000e+02, 3.52000e+02, 3.82000e+02, 2.30000e+02,\n",
       "       4.20000e+02, 3.90000e+02, 2.82000e+02, 4.30000e+02, 2.01152e+05,\n",
       "       3.68000e+02, 4.40000e+02, 2.90000e+02, 3.84000e+02, 4.14000e+02,\n",
       "       2.86000e+02, 2.96000e+02, 3.58000e+02, 3.14000e+02, 3.90000e+02,\n",
       "       3.30000e+02, 3.34000e+02, 4.02000e+02, 3.42000e+02, 3.46000e+02,\n",
       "       3.10000e+02, 3.50000e+02])"
      ]
     },
     "execution_count": 275,
     "metadata": {},
     "output_type": "execute_result"
    }
   ],
   "source": [
    "A[bool_cor]"
   ]
  },
  {
   "cell_type": "code",
   "execution_count": 301,
   "metadata": {},
   "outputs": [
    {
     "data": {
      "text/plain": [
       "(0.0, 1000.0)"
      ]
     },
     "execution_count": 301,
     "metadata": {},
     "output_type": "execute_result"
    },
    {
     "data": {
      "image/png": "[encoded data removed]",
      "text/plain": [
       "<Figure size 640x480 with 1 Axes>"
      ]
     },
     "metadata": {},
     "output_type": "display_data"
    }
   ],
   "source": [
    "# cortical vs subc\n",
    "freq=0\n",
    "plt.plot(range(27),cor_ed[:,freq],'g.')\n",
    "plt.plot(range(27,61),subc_ed[:,freq],\"r.\")\n",
    "plt.ylim([0,1000])\n",
    "\n"
   ]
  },
  {
   "cell_type": "code",
   "execution_count": null,
   "metadata": {},
   "outputs": [],
   "source": []
  }
 ],
 "metadata": {
  "kernelspec": {
   "display_name": "eeg",
   "language": "python",
   "name": "python3"
  },
  "language_info": {
   "codemirror_mode": {
    "name": "ipython",
    "version": 3
   },
   "file_extension": ".py",
   "mimetype": "text/x-python",
   "name": "python",
   "nbconvert_exporter": "python",
   "pygments_lexer": "ipython3",
   "version": "3.9.13"
  },
  "orig_nbformat": 4
 },
 "nbformat": 4,
 "nbformat_minor": 2
}
