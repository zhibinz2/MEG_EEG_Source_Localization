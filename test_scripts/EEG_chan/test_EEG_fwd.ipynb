{
 "cells": [
  {
   "cell_type": "code",
   "execution_count": 12,
   "metadata": {},
   "outputs": [],
   "source": [
    "# https://mne.tools/stable/auto_tutorials/forward/30_forward.html\n",
    "# use anaconda 3 mne enviroment\n",
    "\n",
    "import mne\n",
    "from mne.datasets import sample\n",
    "data_path = sample.data_path()\n",
    "\n",
    "# the raw file containing the channel location + types\n",
    "raw_fname = './egi_raw.fif'\n",
    "# The paths to Freesurfer reconstructions\n",
    "subjects_dir = data_path / 'subjects'\n",
    "subject = 'fsaverage' # change it to use freesurfer's bem"
   ]
  },
  {
   "cell_type": "code",
   "execution_count": 13,
   "metadata": {},
   "outputs": [],
   "source": [
    "trans = './egi_tran.fif'"
   ]
  },
  {
   "cell_type": "code",
   "execution_count": 14,
   "metadata": {},
   "outputs": [
    {
     "name": "stdout",
     "output_type": "stream",
     "text": [
      "    Read a total of 1 projection items:\n",
      "        Average EEG reference (1 x 256)  idle\n"
     ]
    }
   ],
   "source": [
    "info = mne.io.read_info(raw_fname)"
   ]
  },
  {
   "cell_type": "code",
   "execution_count": 15,
   "metadata": {},
   "outputs": [
    {
     "data": {
      "text/plain": [
       "dict_keys(['file_id', 'events', 'hpi_results', 'hpi_meas', 'subject_info', 'device_info', 'helium_info', 'hpi_subsystem', 'proc_history', 'meas_id', 'experimenter', 'description', 'proj_id', 'proj_name', 'meas_date', 'utc_offset', 'sfreq', 'highpass', 'lowpass', 'line_freq', 'gantry_angle', 'chs', 'dev_head_t', 'ctf_head_t', 'dev_ctf_t', 'dig', 'bads', 'ch_names', 'nchan', 'projs', 'comps', 'acq_pars', 'acq_stim', 'custom_ref_applied', 'xplotter_layout', 'kit_system_id'])"
      ]
     },
     "execution_count": 15,
     "metadata": {},
     "output_type": "execute_result"
    }
   ],
   "source": [
    "info.keys()"
   ]
  },
  {
   "cell_type": "code",
   "execution_count": 16,
   "metadata": {},
   "outputs": [
    {
     "name": "stdout",
     "output_type": "stream",
     "text": [
      "Setting up the source space with the following parameters:\n",
      "\n",
      "SUBJECTS_DIR = /home/zhibinz2/mne_data/MNE-sample-data/subjects\n",
      "Subject      = fsaverage\n",
      "Surface      = white\n",
      "Icosahedron subdivision grade 3\n",
      "\n",
      ">>> 1. Creating the source space...\n",
      "\n",
      "Doing the icosahedral vertex picking...\n",
      "Loading /home/zhibinz2/mne_data/MNE-sample-data/subjects/fsaverage/surf/lh.white...\n",
      "Mapping lh fsaverage -> ico (3) ...\n",
      "    Warning: zero size triangles: [3 4]\n",
      "    Triangle neighbors and vertex normals...\n",
      "Loading geometry from /home/zhibinz2/mne_data/MNE-sample-data/subjects/fsaverage/surf/lh.sphere...\n",
      "Setting up the triangulation for the decimated surface...\n",
      "loaded lh.white 642/163842 selected to source space (ico = 3)\n",
      "\n",
      "Loading /home/zhibinz2/mne_data/MNE-sample-data/subjects/fsaverage/surf/rh.white...\n",
      "Mapping rh fsaverage -> ico (3) ...\n",
      "    Warning: zero size triangles: [3 4]\n",
      "    Triangle neighbors and vertex normals...\n",
      "Loading geometry from /home/zhibinz2/mne_data/MNE-sample-data/subjects/fsaverage/surf/rh.sphere...\n",
      "Setting up the triangulation for the decimated surface...\n",
      "loaded rh.white 642/163842 selected to source space (ico = 3)\n",
      "\n",
      "Calculating patch information (limit=0.0 mm)...\n",
      "    Computing patch statistics...\n",
      "    Patch information added...\n",
      "    Computing patch statistics...\n",
      "    Patch information added...\n",
      "You are now one step closer to computing the gain matrix\n"
     ]
    }
   ],
   "source": [
    "# Compute Source Space (surface)\n",
    "# https://mne.tools/0.19/generated/mne.setup_source_space.html\n",
    "# The spacing to use. Can be 'ico#' for a recursively subdivided icosahedron, \n",
    "# 'oct#' for a recursively subdivided octahedron, \n",
    "# 'all' for all points, or an integer to use appoximate distance-based spacing (in mm).\n",
    "src = mne.setup_source_space(subject, spacing='ico3', add_dist='patch',\n",
    "                             subjects_dir=subjects_dir)\n",
    "# oct8 takes 2.5 min produces 65538 source\n",
    "# ico7 = 'all'\n"
   ]
  },
  {
   "cell_type": "code",
   "execution_count": 17,
   "metadata": {},
   "outputs": [
    {
     "name": "stdout",
     "output_type": "stream",
     "text": [
      "Creating the BEM geometry...\n",
      "Going from 5th to 3th subdivision of an icosahedron (n_tri: 20480 -> 1280)\n",
      "Going from 5th to 3th subdivision of an icosahedron (n_tri: 20480 -> 1280)\n",
      "Going from 5th to 3th subdivision of an icosahedron (n_tri: 20480 -> 1280)\n",
      "outer skin  CM is  -0.21 -19.38  -0.22 mm\n",
      "outer skull CM is  -0.19 -19.35  -0.49 mm\n",
      "inner skull CM is  -0.53 -21.10   6.21 mm\n",
      "Checking that surface outer skull is inside surface outer skin  ...\n",
      "Checking that surface inner skull is inside surface outer skull ...\n",
      "Checking distance between outer skin  and outer skull surfaces...\n",
      "Minimum distance between the outer skin  and outer skull surfaces is approximately    1.6 mm\n",
      "Checking distance between outer skull and inner skull surfaces...\n",
      "Minimum distance between the outer skull and inner skull surfaces is approximately    5.5 mm\n",
      "Surfaces passed the basic topology checks.\n",
      "Complete.\n",
      "\n",
      "Three-layer model surfaces loaded.\n",
      "Computing the linear collocation solution...\n",
      "    Matrix coefficients...\n",
      "        outer skin  (642) -> outer skin  (642) ...\n",
      "        outer skin  (642) -> outer skull (642) ...\n",
      "        outer skin  (642) -> inner skull (642) ...\n",
      "        outer skull (642) -> outer skin  (642) ...\n",
      "        outer skull (642) -> outer skull (642) ...\n",
      "        outer skull (642) -> inner skull (642) ...\n",
      "        inner skull (642) -> outer skin  (642) ...\n",
      "        inner skull (642) -> outer skull (642) ...\n",
      "        inner skull (642) -> inner skull (642) ...\n",
      "    Inverting the coefficient matrix...\n",
      "IP approach required...\n",
      "    Matrix coefficients (homog)...\n",
      "        inner skull (642) -> inner skull (642) ...\n",
      "    Inverting the coefficient matrix (homog)...\n",
      "    Modify the original solution to incorporate IP approach...\n",
      "        Combining...\n",
      "        Scaling...\n",
      "Solution ready.\n",
      "BEM geometry computations complete.\n"
     ]
    }
   ],
   "source": [
    "# compute forward solution\n",
    "# conductivity = (0.3,)  # for single layer\n",
    "conductivity = (0.3, 0.006, 0.3)  # for three layers\n",
    "model = mne.make_bem_model(subject='fsaverage', ico=3,\n",
    "                           conductivity=conductivity,\n",
    "                           subjects_dir=subjects_dir)\n",
    "bem = mne.make_bem_solution(model)"
   ]
  },
  {
   "cell_type": "code",
   "execution_count": 18,
   "metadata": {},
   "outputs": [
    {
     "name": "stdout",
     "output_type": "stream",
     "text": [
      "Source space          : <SourceSpaces: [<surface (lh), n_vertices=163842, n_used=642>, <surface (rh), n_vertices=163842, n_used=642>] MRI (surface RAS) coords, subject 'fsaverage', ~30.2 MB>\n",
      "MRI -> head transform : ./egi_tran.fif\n",
      "Measurement data      : egi_raw.fif\n",
      "Conductor model   : instance of ConductorModel\n",
      "Accurate field computations\n",
      "Do computations in head coordinates\n",
      "Free source orientations\n",
      "\n"
     ]
    },
    {
     "name": "stdout",
     "output_type": "stream",
     "text": [
      "Read 2 source spaces a total of 1284 active source locations\n",
      "\n",
      "Coordinate transformation: MRI (surface RAS) -> head\n",
      "     0.999060 -0.029951 -0.031346      -0.53 mm\n",
      "     0.027960  0.997677 -0.062124      21.78 mm\n",
      "     0.033134  0.061189  0.997576      23.40 mm\n",
      "     0.000000  0.000000  0.000000       1.00\n",
      "\n",
      "Read 256 EEG channels from info\n",
      "Head coordinate coil definitions created.\n",
      "Source spaces are now in head coordinates.\n",
      "\n",
      "Employing the head->MRI coordinate transform with the BEM model.\n",
      "BEM model instance of ConductorModel is now set up\n",
      "\n",
      "Source spaces are in head coordinates.\n",
      "Checking that the sources are inside the surface and at least    5.0 mm away (will take a few...)\n",
      "Checking surface interior status for 642 points...\n",
      "    Found 157/642 points inside  an interior sphere of radius   48.4 mm\n",
      "    Found   0/642 points outside an exterior sphere of radius   97.8 mm\n",
      "    Found   0/485 points outside using surface Qhull\n"
     ]
    },
    {
     "name": "stderr",
     "output_type": "stream",
     "text": [
      "[Parallel(n_jobs=2)]: Using backend LokyBackend with 2 concurrent workers.\n"
     ]
    },
    {
     "name": "stdout",
     "output_type": "stream",
     "text": [
      "    Found   0/485 points outside using solid angles\n",
      "    Total 642/642 points inside the surface\n",
      "Interior check completed in 5572.3 ms\n",
      "Checking surface interior status for 642 points...\n",
      "    Found 147/642 points inside  an interior sphere of radius   48.4 mm\n",
      "    Found   0/642 points outside an exterior sphere of radius   97.8 mm\n",
      "    Found   0/495 points outside using surface Qhull\n",
      "    Found   0/495 points outside using solid angles\n",
      "    Total 642/642 points inside the surface\n",
      "Interior check completed in 134.3 ms\n",
      "\n",
      "Setting up for EEG...\n"
     ]
    },
    {
     "name": "stderr",
     "output_type": "stream",
     "text": [
      "[Parallel(n_jobs=2)]: Done   2 out of   2 | elapsed:    5.6s remaining:    0.0s\n",
      "[Parallel(n_jobs=2)]: Done   2 out of   2 | elapsed:    5.6s finished\n",
      "[Parallel(n_jobs=2)]: Using backend LokyBackend with 2 concurrent workers.\n",
      "[Parallel(n_jobs=2)]: Done   2 out of   2 | elapsed:    0.1s remaining:    0.0s\n",
      "[Parallel(n_jobs=2)]: Done   2 out of   2 | elapsed:    0.1s finished\n"
     ]
    },
    {
     "name": "stdout",
     "output_type": "stream",
     "text": [
      "Computing EEG at 1284 source locations (free orientations)...\n"
     ]
    },
    {
     "name": "stderr",
     "output_type": "stream",
     "text": [
      "[Parallel(n_jobs=2)]: Using backend LokyBackend with 2 concurrent workers.\n"
     ]
    },
    {
     "name": "stdout",
     "output_type": "stream",
     "text": [
      "\n",
      "Finished.\n",
      "<Forward | MEG channels: 0 | EEG channels: 256 | Source space: Surface with 1284 vertices | Source orientation: Free>\n"
     ]
    },
    {
     "name": "stderr",
     "output_type": "stream",
     "text": [
      "[Parallel(n_jobs=2)]: Done   2 out of   2 | elapsed:    0.3s remaining:    0.0s\n",
      "[Parallel(n_jobs=2)]: Done   2 out of   2 | elapsed:    0.3s finished\n"
     ]
    }
   ],
   "source": [
    "fwd = mne.make_forward_solution(raw_fname, trans=trans, src=src, bem=bem,\n",
    "                                meg=False, eeg=True, mindist=5.0, n_jobs=2,\n",
    "                                verbose=True)\n",
    "print(fwd)"
   ]
  },
  {
   "cell_type": "code",
   "execution_count": 19,
   "metadata": {},
   "outputs": [
    {
     "name": "stdout",
     "output_type": "stream",
     "text": [
      "Before: <SourceSpaces: [<surface (lh), n_vertices=163842, n_used=642>, <surface (rh), n_vertices=163842, n_used=642>] MRI (surface RAS) coords, subject 'fsaverage', ~30.2 MB>\n",
      "After:  <SourceSpaces: [<surface (lh), n_vertices=163842, n_used=642>, <surface (rh), n_vertices=163842, n_used=642>] head coords, subject 'fsaverage', ~30.2 MB>\n"
     ]
    }
   ],
   "source": [
    "print(f'Before: {src}')\n",
    "print(f'After:  {fwd[\"src\"]}')"
   ]
  },
  {
   "cell_type": "code",
   "execution_count": 20,
   "metadata": {},
   "outputs": [
    {
     "name": "stdout",
     "output_type": "stream",
     "text": [
      "    Average patch normals will be employed in the rotation to the local surface coordinates....\n",
      "    Converting to surface-based source orientations...\n"
     ]
    },
    {
     "name": "stdout",
     "output_type": "stream",
     "text": [
      "    [done]\n",
      "Leadfield size : 256 sensors x 1284 dipoles\n"
     ]
    }
   ],
   "source": [
    "fwd_fixed = mne.convert_forward_solution(fwd, surf_ori=True, force_fixed=True,\n",
    "                                         use_cps=True)\n",
    "leadfield = fwd_fixed['sol']['data']\n",
    "print(\"Leadfield size : %d sensors x %d dipoles\" % leadfield.shape)"
   ]
  },
  {
   "cell_type": "code",
   "execution_count": 21,
   "metadata": {},
   "outputs": [],
   "source": [
    "from hdf5storage import loadmat, savemat \n",
    "outdict=dict()\n",
    "outdict['leadfield']=leadfield\n",
    "outdict['source_nn']=fwd_fixed['source_nn']\n",
    "outdict['source_rr']=fwd_fixed['source_rr']\n",
    "savemat('leadfield_nn_rr',outdict)"
   ]
  },
  {
   "cell_type": "code",
   "execution_count": 22,
   "metadata": {},
   "outputs": [
    {
     "name": "stdout",
     "output_type": "stream",
     "text": [
      "Overwriting existing file.\n",
      "    Write a source space...\n",
      "    [done]\n",
      "    Write a source space...\n",
      "    [done]\n",
      "    2 source spaces written\n"
     ]
    },
    {
     "name": "stderr",
     "output_type": "stream",
     "text": [
      "/tmp/ipykernel_1553364/2403303488.py:1: RuntimeWarning: This forward solution is based on a forward solution with free orientation. The original forward solution is stored on disk in X/Y/Z RAS coordinates. Any transformation (surface orientation or fixed orientation) will be reverted. To reapply any transformation to the forward operator please apply convert_forward_solution after reading the forward solution with read_forward_solution.\n",
      "  mne.write_forward_solution('surface_egi_fsaverage_fixed_fwd.fif', fwd_fixed, overwrite=True, verbose=None)\n"
     ]
    }
   ],
   "source": [
    "mne.write_forward_solution('surface_egi_fsaverage_fixed_fwd.fif', fwd_fixed, overwrite=True, verbose=None)"
   ]
  }
 ],
 "metadata": {
  "kernelspec": {
   "display_name": "mne",
   "language": "python",
   "name": "python3"
  },
  "language_info": {
   "codemirror_mode": {
    "name": "ipython",
    "version": 3
   },
   "file_extension": ".py",
   "mimetype": "text/x-python",
   "name": "python",
   "nbconvert_exporter": "python",
   "pygments_lexer": "ipython3",
   "version": "3.10.8"
  },
  "orig_nbformat": 4
 },
 "nbformat": 4,
 "nbformat_minor": 2
}
