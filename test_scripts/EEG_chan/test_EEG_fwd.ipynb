{
 "cells": [
  {
   "cell_type": "code",
   "execution_count": null,
   "metadata": {},
   "outputs": [],
   "source": [
    "# https://mne.tools/stable/auto_tutorials/inverse/35_dipole_orientations.html\n",
    "\n",
    "import mne\n",
    "import numpy as np\n",
    "from mne.datasets import sample\n",
    "from mne.minimum_norm import make_inverse_operator, apply_inverse\n",
    "\n",
    "data_path = sample.data_path()\n",
    "meg_path = data_path / \"MEG\" / \"sample\"\n",
    "# evokeds = mne.read_evokeds(meg_path / \"sample_audvis-ave.fif\")\n",
    "# evokeds = mne.read_evokeds('/home/zhibinz2/Documents/GitHub/CAMCAN_MEG_100/CC120319/rest/rest_raw.fif')\n",
    "evokeds = mne.read_evokeds('./test_scripts/evoked-ave.fif')\n",
    "left_auditory = evokeds[0].apply_baseline()\n",
    "fwd = mne.read_forward_solution('surface_simple_CAM_fsaverage_fixed_fwd.fif')\n",
    "mne.convert_forward_solution(fwd, surf_ori=True, copy=False)\n",
    "# noise_cov = mne.read_cov(meg_path / \"sample_audvis-cov.fif\")\n",
    "# noise_cov = mne.read_cov('/home/zhibinz2/Documents/GitHub/CAMCAN_MEG_100/CC120319/rest/rest_raw.fif')\n",
    "noise_cov = mne.read_cov('./test_scripts/CAMCAN-cov.fif')\n",
    "subject = \"fsaverage\"\n",
    "subjects_dir = data_path / \"subjects\"\n",
    "# trans_fname = 'sample_fsaverage_manual_trans.fif'\n",
    "trans_fname = './test_scripts/CAMCAN_fsaverage_trans.fif'\n"
   ]
  }
 ],
 "metadata": {
  "language_info": {
   "name": "python"
  },
  "orig_nbformat": 4
 },
 "nbformat": 4,
 "nbformat_minor": 2
}
