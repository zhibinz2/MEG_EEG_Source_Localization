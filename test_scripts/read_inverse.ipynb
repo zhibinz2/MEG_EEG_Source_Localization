{
 "cells": [
  {
   "cell_type": "code",
   "execution_count": 1,
   "metadata": {},
   "outputs": [
    {
     "name": "stdout",
     "output_type": "stream",
     "text": [
      "Automatically created module for IPython interactive environment\n",
      "Reading inverse operator decomposition from C:\\Users\\zhouz\\mne_data\\MNE-sample-data\\MEG\\sample\\sample_audvis-meg-oct-6-meg-inv.fif...\n",
      "    Reading inverse operator info...\n",
      "    [done]\n",
      "    Reading inverse operator decomposition...\n",
      "    [done]\n",
      "    305 x 305 full covariance (kind = 1) found.\n",
      "    Read a total of 4 projection items:\n",
      "        PCA-v1 (1 x 102) active\n",
      "        PCA-v2 (1 x 102) active\n",
      "        PCA-v3 (1 x 102) active\n",
      "        Average EEG reference (1 x 60) active\n",
      "    Noise covariance matrix read.\n",
      "    22494 x 22494 diagonal covariance (kind = 2) found.\n",
      "    Source covariance matrix read.\n",
      "    22494 x 22494 diagonal covariance (kind = 6) found.\n",
      "    Orientation priors read.\n",
      "    22494 x 22494 diagonal covariance (kind = 5) found.\n",
      "    Depth priors read.\n",
      "    Did not find the desired covariance matrix (kind = 3)\n",
      "    Reading a source space...\n",
      "    Computing patch statistics...\n",
      "    Patch information added...\n",
      "    Distance information added...\n",
      "    [done]\n",
      "    Reading a source space...\n",
      "    Computing patch statistics...\n",
      "    Patch information added...\n",
      "    Distance information added...\n",
      "    [done]\n",
      "    2 source spaces read\n",
      "    Read a total of 4 projection items:\n",
      "        PCA-v1 (1 x 102) active\n",
      "        PCA-v2 (1 x 102) active\n",
      "        PCA-v3 (1 x 102) active\n",
      "        Average EEG reference (1 x 60) active\n",
      "    Source spaces transformed to the inverse solution coordinate frame\n",
      "Method: 1\n",
      "fMRI prior: None\n",
      "Number of sources: 7498\n",
      "Number of channels: 305\n",
      "Number of vertices on the left hemisphere: 155407\n",
      "Number of triangles on left hemisphere: 8192\n",
      "Number of vertices on the right hemisphere: 156866\n",
      "Number of triangles on right hemisphere: 8192\n"
     ]
    }
   ],
   "source": [
    "# https://mne.tools/stable/auto_examples/inverse/read_inverse.html\n",
    "\n",
    "import mne\n",
    "from mne.datasets import sample\n",
    "from mne.minimum_norm import read_inverse_operator\n",
    "from mne.viz import set_3d_view\n",
    "\n",
    "print(__doc__)\n",
    "\n",
    "data_path = sample.data_path()\n",
    "subjects_dir = data_path / \"subjects\"\n",
    "meg_path = data_path / \"MEG\" / \"sample\"\n",
    "fname_trans = meg_path / \"sample_audvis_raw-trans.fif\"\n",
    "inv_fname = meg_path / \"sample_audvis-meg-oct-6-meg-inv.fif\"\n",
    "\n",
    "inv = read_inverse_operator(inv_fname)\n",
    "\n",
    "print(\"Method: %s\" % inv[\"methods\"])\n",
    "print(\"fMRI prior: %s\" % inv[\"fmri_prior\"])\n",
    "print(\"Number of sources: %s\" % inv[\"nsource\"])\n",
    "print(\"Number of channels: %s\" % inv[\"nchan\"])\n",
    "\n",
    "src = inv[\"src\"]  # get the source space\n",
    "\n",
    "# Get access to the triangulation of the cortex\n",
    "\n",
    "print(\"Number of vertices on the left hemisphere: %d\" % len(src[0][\"rr\"]))\n",
    "print(\"Number of triangles on left hemisphere: %d\" % len(src[0][\"use_tris\"]))\n",
    "print(\"Number of vertices on the right hemisphere: %d\" % len(src[1][\"rr\"]))\n",
    "print(\"Number of triangles on right hemisphere: %d\" % len(src[1][\"use_tris\"]))"
   ]
  }
 ],
 "metadata": {
  "kernelspec": {
   "display_name": "Python 3",
   "language": "python",
   "name": "python3"
  },
  "language_info": {
   "codemirror_mode": {
    "name": "ipython",
    "version": 3
   },
   "file_extension": ".py",
   "mimetype": "text/x-python",
   "name": "python",
   "nbconvert_exporter": "python",
   "pygments_lexer": "ipython3",
   "version": "3.10.11"
  },
  "orig_nbformat": 4
 },
 "nbformat": 4,
 "nbformat_minor": 2
}
