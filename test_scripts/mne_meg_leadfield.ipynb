{
 "cells": [
  {
   "cell_type": "code",
   "execution_count": 1,
   "metadata": {},
   "outputs": [
    {
     "name": "stdout",
     "output_type": "stream",
     "text": [
      "Automatically created module for IPython interactive environment\n",
      "Reading forward solution from /home/zhibinz2/mne_data/MNE-sample-data/MEG/sample/sample_audvis-meg-eeg-oct-6-fwd.fif...\n",
      "    Reading a source space...\n",
      "    Computing patch statistics...\n",
      "    Patch information added...\n",
      "    Distance information added...\n",
      "    [done]\n",
      "    Reading a source space...\n",
      "    Computing patch statistics...\n",
      "    Patch information added...\n",
      "    Distance information added...\n",
      "    [done]\n",
      "    2 source spaces read\n",
      "    Desired named matrix (kind = 3523) not available\n",
      "    Read MEG forward solution (7498 sources, 306 channels, free orientations)\n",
      "    Desired named matrix (kind = 3523) not available\n",
      "    Read EEG forward solution (7498 sources, 60 channels, free orientations)\n",
      "    Forward solutions combined: MEG, EEG\n",
      "    Source spaces transformed to the forward solution coordinate frame\n",
      "    Average patch normals will be employed in the rotation to the local surface coordinates....\n",
      "    Converting to surface-based source orientations...\n",
      "    [done]\n",
      "Leadfield size : 366 x 22494\n"
     ]
    }
   ],
   "source": [
    "# https://mne.tools/stable/auto_examples/forward/forward_sensitivity_maps.html#\n",
    "import numpy as np\n",
    "import mne\n",
    "from mne.datasets import sample\n",
    "from mne.source_space import compute_distance_to_sensors\n",
    "from mne.source_estimate import SourceEstimate\n",
    "import matplotlib.pyplot as plt\n",
    "\n",
    "print(__doc__)\n",
    "\n",
    "data_path = sample.data_path()\n",
    "meg_path = data_path / \"MEG\" / \"sample\"\n",
    "fwd_fname = meg_path / \"sample_audvis-meg-eeg-oct-6-fwd.fif\"\n",
    "subjects_dir = data_path / \"subjects\"\n",
    "\n",
    "# Read the forward solutions with surface orientation\n",
    "fwd = mne.read_forward_solution(fwd_fname)\n",
    "mne.convert_forward_solution(fwd, surf_ori=True, copy=False)\n",
    "leadfield = fwd[\"sol\"][\"data\"]\n",
    "print(\"Leadfield size : %d x %d\" % leadfield.shape)"
   ]
  }
 ],
 "metadata": {
  "kernelspec": {
   "display_name": "Python 3",
   "language": "python",
   "name": "python3"
  },
  "language_info": {
   "codemirror_mode": {
    "name": "ipython",
    "version": 3
   },
   "file_extension": ".py",
   "mimetype": "text/x-python",
   "name": "python",
   "nbconvert_exporter": "python",
   "pygments_lexer": "ipython3",
   "version": "3.10.8"
  },
  "orig_nbformat": 4
 },
 "nbformat": 4,
 "nbformat_minor": 2
}
