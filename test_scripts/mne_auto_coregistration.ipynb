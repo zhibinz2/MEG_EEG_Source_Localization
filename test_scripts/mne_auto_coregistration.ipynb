{
 "cells": [
  {
   "cell_type": "code",
   "execution_count": 17,
   "metadata": {},
   "outputs": [
    {
     "name": "stdout",
     "output_type": "stream",
     "text": [
      "    Read a total of 8 projection items:\n",
      "        mag_ssp_upright.fif : PCA-mags-v1 (1 x 306)  idle\n",
      "        mag_ssp_upright.fif : PCA-mags-v2 (1 x 306)  idle\n",
      "        mag_ssp_upright.fif : PCA-mags-v3 (1 x 306)  idle\n"
     ]
    },
    {
     "name": "stdout",
     "output_type": "stream",
     "text": [
      "        mag_ssp_upright.fif : PCA-mags-v4 (1 x 306)  idle\n",
      "        mag_ssp_upright.fif : PCA-mags-v5 (1 x 306)  idle\n",
      "        grad_ssp_upright.fif : PCA-grad-v1 (1 x 306)  idle\n",
      "        grad_ssp_upright.fif : PCA-grad-v2 (1 x 306)  idle\n",
      "        grad_ssp_upright.fif : PCA-grad-v3 (1 x 306)  idle\n"
     ]
    }
   ],
   "source": [
    "# https://mne.tools/stable/auto_tutorials/forward/25_automated_coreg.html\n",
    "\n",
    "\n",
    "import numpy as np\n",
    "\n",
    "import mne\n",
    "from mne.coreg import Coregistration\n",
    "from mne.io import read_info\n",
    "\n",
    "data_path = mne.datasets.sample.data_path()\n",
    "# data_path and all paths built from it are pathlib.Path objects\n",
    "subjects_dir = data_path / \"subjects\"\n",
    "subject = \"fsaverage\"\n",
    "\n",
    "fname_raw = data_path / \"MEG\" / 'sample' / \"sample_audvis_raw.fif\"\n",
    "fname_raw = 'C:/Users/zhouz\\Downloads/CC110033/rest/rest_raw.fif'\n",
    "info = read_info(fname_raw)\n",
    "fiducials = mne.io.read_fiducials(fname_raw)\n",
    "plot_kwargs = dict(\n",
    "    subject=subject,\n",
    "    subjects_dir=subjects_dir,\n",
    "    surfaces=\"head\",\n",
    "    dig=True,\n",
    "    eeg=[],\n",
    "    meg=\"sensors\",\n",
    "    show_axes=True,\n",
    "    coord_frame=\"meg\",\n",
    ")\n",
    "view_kwargs = dict(azimuth=45, elevation=90, distance=0.6, focalpoint=(0.0, 0.0, 0.0))\n",
    "\n",
    "#     surfaces=\"head-dense\"\n"
   ]
  },
  {
   "cell_type": "code",
   "execution_count": 24,
   "metadata": {},
   "outputs": [
    {
     "data": {
      "text/plain": [
       "list"
      ]
     },
     "execution_count": 24,
     "metadata": {},
     "output_type": "execute_result"
    }
   ],
   "source": [
    "type(fiducials[0])"
   ]
  },
  {
   "cell_type": "code",
   "execution_count": 14,
   "metadata": {},
   "outputs": [
    {
     "data": {
      "text/plain": [
       "[<DigPoint |        LPA : (-56.7, 0.0, 0.0) mm      : head frame>,\n",
       " <DigPoint |     Nasion : (-0.0, 96.3, 0.0) mm      : head frame>,\n",
       " <DigPoint |        RPA : (72.7, 0.0, 0.0) mm       : head frame>,\n",
       " <DigPoint |     HPI #1 : (52.6, 83.9, 53.2) mm     : head frame>,\n",
       " <DigPoint |     HPI #2 : (77.6, -20.6, 11.0) mm    : head frame>,\n",
       " <DigPoint |     HPI #3 : (23.0, -81.4, 90.2) mm    : head frame>,\n",
       " <DigPoint |     HPI #4 : (-62.0, -20.7, 13.5) mm   : head frame>,\n",
       " <DigPoint |     HPI #5 : (-22.8, 96.5, 50.3) mm    : head frame>,\n",
       " <DigPoint |   Extra #1 : (-60.4, 30.8, 20.2) mm    : head frame>,\n",
       " <DigPoint |   Extra #2 : (-50.9, 62.9, 19.2) mm    : head frame>,\n",
       " <DigPoint |   Extra #3 : (-20.4, 99.7, 17.4) mm    : head frame>,\n",
       " <DigPoint |   Extra #4 : (7.8, 105.1, 16.1) mm     : head frame>,\n",
       " <DigPoint |   Extra #5 : (41.0, 92.4, 18.2) mm     : head frame>,\n",
       " <DigPoint |   Extra #6 : (58.8, 67.4, 12.4) mm     : head frame>,\n",
       " <DigPoint |   Extra #7 : (70.1, 40.2, 39.4) mm     : head frame>,\n",
       " <DigPoint |   Extra #8 : (46.6, 88.3, 35.3) mm     : head frame>,\n",
       " <DigPoint |   Extra #9 : (18.2, 102.2, 41.8) mm    : head frame>,\n",
       " <DigPoint |  Extra #10 : (-26.5, 96.0, 38.5) mm    : head frame>,\n",
       " <DigPoint |  Extra #11 : (-58.8, 55.6, 33.5) mm    : head frame>,\n",
       " <DigPoint |  Extra #12 : (-65.4, 26.6, 49.3) mm    : head frame>,\n",
       " <DigPoint |  Extra #13 : (72.7, 30.6, 40.9) mm     : head frame>,\n",
       " <DigPoint |  Extra #14 : (78.7, -9.2, 39.7) mm     : head frame>,\n",
       " <DigPoint |  Extra #15 : (72.1, -42.7, 31.4) mm    : head frame>,\n",
       " <DigPoint |  Extra #16 : (53.2, -48.3, -19.1) mm   : head frame>,\n",
       " <DigPoint |  Extra #17 : (41.5, -49.2, -60.7) mm   : head frame>,\n",
       " <DigPoint |  Extra #18 : (58.1, 56.5, 71.5) mm     : head frame>,\n",
       " <DigPoint |  Extra #19 : (66.8, 4.0, 87.8) mm      : head frame>,\n",
       " <DigPoint |  Extra #20 : (88.7, 80.2, -18.4) mm    : head frame>,\n",
       " <DigPoint |  Extra #21 : (39.5, -83.4, 40.7) mm    : head frame>,\n",
       " <DigPoint |  Extra #22 : (29.5, -82.6, 3.8) mm     : head frame>,\n",
       " <DigPoint |  Extra #23 : (21.7, -63.5, -47.0) mm   : head frame>,\n",
       " <DigPoint |  Extra #24 : (27.6, 82.1, 90.1) mm     : head frame>,\n",
       " <DigPoint |  Extra #25 : (31.6, 10.1, 120.8) mm    : head frame>,\n",
       " <DigPoint |  Extra #26 : (26.3, -41.5, 120.5) mm   : head frame>,\n",
       " <DigPoint |  Extra #27 : (20.6, -91.8, 44.9) mm    : head frame>,\n",
       " <DigPoint |  Extra #28 : (11.6, -71.9, -23.0) mm   : head frame>,\n",
       " <DigPoint |  Extra #29 : (5.0, -68.7, -66.4) mm    : head frame>,\n",
       " <DigPoint |  Extra #30 : (-13.3, 94.5, 79.6) mm    : head frame>,\n",
       " <DigPoint |  Extra #31 : (-24.8, 60.0, 104.7) mm   : head frame>,\n",
       " <DigPoint |  Extra #32 : (-26.6, 20.3, 118.0) mm   : head frame>,\n",
       " <DigPoint |  Extra #33 : (-26.0, -26.8, 122.9) mm  : head frame>,\n",
       " <DigPoint |  Extra #34 : (-18.9, -62.2, 108.4) mm  : head frame>,\n",
       " <DigPoint |  Extra #35 : (-15.3, -89.0, 74.0) mm   : head frame>,\n",
       " <DigPoint |  Extra #36 : (-21.4, -86.8, 32.1) mm   : head frame>,\n",
       " <DigPoint |  Extra #37 : (-12.4, -64.2, -27.1) mm  : head frame>,\n",
       " <DigPoint |  Extra #38 : (-12.6, -60.0, -62.7) mm  : head frame>,\n",
       " <DigPoint |  Extra #39 : (-39.9, 78.4, 62.9) mm    : head frame>,\n",
       " <DigPoint |  Extra #40 : (-53.9, 31.7, 82.0) mm    : head frame>,\n",
       " <DigPoint |  Extra #41 : (-58.9, -11.3, 91.2) mm   : head frame>,\n",
       " <DigPoint |  Extra #42 : (-57.8, -45.8, 72.5) mm   : head frame>,\n",
       " <DigPoint |  Extra #43 : (-48.7, -62.0, 32.9) mm   : head frame>,\n",
       " <DigPoint |  Extra #44 : (-24.6, -56.5, -24.5) mm  : head frame>,\n",
       " <DigPoint |  Extra #45 : (-21.8, -53.9, -59.0) mm  : head frame>,\n",
       " <DigPoint |  Extra #46 : (-60.1, 36.9, 31.7) mm    : head frame>,\n",
       " <DigPoint |  Extra #47 : (-65.4, 1.1, 38.0) mm     : head frame>,\n",
       " <DigPoint |  Extra #48 : (-61.8, -32.1, 32.0) mm   : head frame>,\n",
       " <DigPoint |  Extra #49 : (-38.5, -39.5, -27.1) mm  : head frame>,\n",
       " <DigPoint |  Extra #50 : (-29.4, -45.9, -70.0) mm  : head frame>,\n",
       " <DigPoint |  Extra #51 : (-3.7, 108.4, -31.9) mm   : head frame>,\n",
       " <DigPoint |  Extra #52 : (-2.8, 110.2, -46.2) mm   : head frame>,\n",
       " <DigPoint |  Extra #53 : (8.7, 102.9, -42.6) mm    : head frame>,\n",
       " <DigPoint |  Extra #54 : (31.9, 72.4, -48.9) mm    : head frame>,\n",
       " <DigPoint |  Extra #55 : (47.8, 57.1, -46.8) mm    : head frame>,\n",
       " <DigPoint |  Extra #56 : (-9.6, 93.0, -44.4) mm    : head frame>,\n",
       " <DigPoint |  Extra #57 : (-24.1, 62.2, -55.1) mm   : head frame>,\n",
       " <DigPoint |  Extra #58 : (-40.8, 37.0, -50.4) mm   : head frame>]"
      ]
     },
     "execution_count": 14,
     "metadata": {},
     "output_type": "execute_result"
    }
   ],
   "source": [
    "info['dig']"
   ]
  },
  {
   "cell_type": "code",
   "execution_count": 25,
   "metadata": {},
   "outputs": [
    {
     "name": "stdout",
     "output_type": "stream",
     "text": [
      "Using high resolution head model in C:\\Users\\zhouz\\mne_data\\MNE-sample-data\\subjects\\fsaverage\\bem\\fsaverage-head-dense.fif\n",
      "    Triangle neighbors and vertex normals...\n",
      "Using outer_skin.surf for head surface.\n",
      "Channel types::\tgrad: 204, mag: 102\n"
     ]
    }
   ],
   "source": [
    "# fiducials = \"estimated\"  # get fiducials from fsaverage\n",
    "coreg = Coregistration(info, subject, subjects_dir, fiducials=fiducials[0])\n",
    "fig = mne.viz.plot_alignment(info, trans=coreg.trans, **plot_kwargs)"
   ]
  },
  {
   "cell_type": "code",
   "execution_count": 26,
   "metadata": {},
   "outputs": [
    {
     "name": "stdout",
     "output_type": "stream",
     "text": [
      "Aligning using fiducials\n",
      "Start median distance:  18.81 mm\n",
      "End   median distance:  18.81 mm\n",
      "Using outer_skin.surf for head surface.\n",
      "Channel types::\tgrad: 204, mag: 102\n"
     ]
    }
   ],
   "source": [
    "coreg.fit_fiducials(verbose=True)\n",
    "fig = mne.viz.plot_alignment(info, trans=coreg.trans, **plot_kwargs)"
   ]
  },
  {
   "cell_type": "code",
   "execution_count": 27,
   "metadata": {},
   "outputs": [
    {
     "name": "stdout",
     "output_type": "stream",
     "text": [
      "Aligning using ICP\n",
      "Start     median distance:  18.81 mm\n",
      "  ICP  1  median distance:  12.50 mm\n",
      "  ICP  2  median distance:  11.11 mm\n",
      "  ICP  3  median distance:  11.29 mm\n",
      "  ICP  4  median distance:  10.55 mm\n",
      "  ICP  5  median distance:  10.05 mm\n",
      "  ICP  6  median distance:   9.73 mm\n",
      "End       median distance:   9.73 mm\n",
      "Using outer_skin.surf for head surface.\n",
      "Channel types::\tgrad: 204, mag: 102\n"
     ]
    }
   ],
   "source": [
    "coreg.fit_icp(n_iterations=6, nasion_weight=2.0, verbose=True)\n",
    "fig = mne.viz.plot_alignment(info, trans=coreg.trans, **plot_kwargs)"
   ]
  },
  {
   "cell_type": "code",
   "execution_count": 11,
   "metadata": {},
   "outputs": [
    {
     "name": "stdout",
     "output_type": "stream",
     "text": [
      "Coregistration: Excluding 46 head shape points with distance >= 0.005 m.\n"
     ]
    },
    {
     "data": {
      "text/plain": [
       "<mne.coreg.Coregistration at 0x23d70a4b1f0>"
      ]
     },
     "execution_count": 11,
     "metadata": {},
     "output_type": "execute_result"
    }
   ],
   "source": [
    "coreg.omit_head_shape_points(distance=5.0 / 1000)  # distance is in meters"
   ]
  },
  {
   "cell_type": "code",
   "execution_count": 12,
   "metadata": {},
   "outputs": [
    {
     "name": "stdout",
     "output_type": "stream",
     "text": [
      "Aligning using ICP\n",
      "Start     median distance:   3.66 mm\n",
      "  ICP  1  median distance:   6.00 mm\n",
      "  ICP  2  median distance:   7.35 mm\n",
      "  ICP  3  median distance:   6.95 mm\n",
      "  ICP  4  median distance:   6.65 mm\n",
      "  ICP  5  median distance:   6.40 mm\n",
      "  ICP  6  median distance:   6.30 mm\n",
      "  ICP  7  median distance:   6.30 mm\n",
      "  ICP  8  median distance:   6.33 mm\n",
      "  ICP  9  median distance:   6.30 mm\n",
      "  ICP 10  median distance:   6.28 mm\n",
      "End       median distance:   6.28 mm\n",
      "Channel types::\tgrad: 204, mag: 102\n",
      "Distance between HSP and MRI (mean/min/max):\n",
      "7.53 mm / 0.64 mm / 18.86 mm\n"
     ]
    }
   ],
   "source": [
    "coreg.fit_icp(n_iterations=20, nasion_weight=10.0, verbose=True)\n",
    "fig = mne.viz.plot_alignment(info, trans=coreg.trans, **plot_kwargs)\n",
    "mne.viz.set_3d_view(fig, **view_kwargs)\n",
    "\n",
    "dists = coreg.compute_dig_mri_distances() * 1e3  # in mm\n",
    "print(\n",
    "    f\"Distance between HSP and MRI (mean/min/max):\\n{np.mean(dists):.2f} mm \"\n",
    "    f\"/ {np.min(dists):.2f} mm / {np.max(dists):.2f} mm\"\n",
    ")"
   ]
  },
  {
   "cell_type": "code",
   "execution_count": 1,
   "metadata": {},
   "outputs": [
    {
     "ename": "NameError",
     "evalue": "name 'mne' is not defined",
     "output_type": "error",
     "traceback": [
      "\u001b[0;31m---------------------------------------------------------------------------\u001b[0m",
      "\u001b[0;31mNameError\u001b[0m                                 Traceback (most recent call last)",
      "Cell \u001b[0;32mIn[1], line 1\u001b[0m\n\u001b[0;32m----> 1\u001b[0m mne\u001b[39m.\u001b[39mwrite_trans(\u001b[39m'\u001b[39m\u001b[39msample_fsaverage_trans.fif\u001b[39m\u001b[39m'\u001b[39m, coreg\u001b[39m.\u001b[39mtrans)\n",
      "\u001b[0;31mNameError\u001b[0m: name 'mne' is not defined"
     ]
    }
   ],
   "source": [
    "mne.write_trans('sample_fsaverage_trans.fif', coreg.trans)"
   ]
  },
  {
   "cell_type": "code",
   "execution_count": 28,
   "metadata": {},
   "outputs": [
    {
     "name": "stdout",
     "output_type": "stream",
     "text": [
      "Using high resolution head model in C:\\Users\\zhouz\\mne_data\\MNE-sample-data\\subjects\\fsaverage\\bem\\fsaverage-head-dense.fif\n",
      "    Triangle neighbors and vertex normals...\n",
      "Using fiducials from: C:\\Users\\zhouz\\mne_data\\MNE-sample-data\\subjects\\fsaverage\\bem\\fsaverage-fiducials.fif.\n",
      "Using high resolution head model in C:\\Users\\zhouz\\mne_data\\MNE-sample-data\\subjects\\fsaverage\\bem\\fsaverage-head-dense.fif\n",
      "    Triangle neighbors and vertex normals...\n",
      "Using fiducials from: C:\\Users\\zhouz\\mne_data\\MNE-sample-data\\subjects\\fsaverage\\bem\\fsaverage-fiducials.fif.\n",
      "Loading MRI fiducials from C:\\Users\\zhouz\\mne_data\\MNE-sample-data\\subjects\\fsaverage\\bem\\fsaverage-fiducials.fif... Done!\n",
      "Using fsaverage-head-dense.fif for head surface.\n",
      "    1 BEM surfaces found\n",
      "    Reading a surface...\n",
      "[done]\n",
      "    1 BEM surfaces read\n",
      "Loading MRI fiducials from C:\\Users\\zhouz\\mne_data\\MNE-sample-data\\subjects\\fsaverage\\bem\\fsaverage-fiducials.fif... Done!\n",
      "Using fsaverage-head-dense.fif for head surface.\n",
      "    1 BEM surfaces found\n",
      "    Reading a surface...\n",
      "[done]\n",
      "    1 BEM surfaces read\n"
     ]
    },
    {
     "data": {
      "text/plain": [
       "<mne.gui._coreg.CoregistrationUI at 0x23d0ade2080>"
      ]
     },
     "execution_count": 28,
     "metadata": {},
     "output_type": "execute_result"
    }
   ],
   "source": [
    "mne.gui.coregistration(subject='fsaverage', subjects_dir=subjects_dir)"
   ]
  }
 ],
 "metadata": {
  "kernelspec": {
   "display_name": "Python 3",
   "language": "python",
   "name": "python3"
  },
  "language_info": {
   "codemirror_mode": {
    "name": "ipython",
    "version": 3
   },
   "file_extension": ".py",
   "mimetype": "text/x-python",
   "name": "python",
   "nbconvert_exporter": "python",
   "pygments_lexer": "ipython3",
   "version": "3.10.11"
  },
  "orig_nbformat": 4
 },
 "nbformat": 4,
 "nbformat_minor": 2
}
