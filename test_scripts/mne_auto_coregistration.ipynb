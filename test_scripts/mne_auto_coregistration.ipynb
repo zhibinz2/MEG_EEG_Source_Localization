{
 "cells": [
  {
   "cell_type": "code",
   "execution_count": null,
   "metadata": {},
   "outputs": [],
   "source": [
    "# https://mne.tools/stable/auto_tutorials/forward/25_automated_coreg.html\n",
    "\n",
    "\n",
    "import numpy as np\n",
    "\n",
    "import mne\n",
    "from mne.coreg import Coregistration\n",
    "from mne.io import read_info\n",
    "\n",
    "data_path = mne.datasets.sample.data_path()\n",
    "# data_path and all paths built from it are pathlib.Path objects\n",
    "subjects_dir = data_path / \"subjects\"\n",
    "subject = \"fsaverage\"\n",
    "\n",
    "# fname_raw = data_path / \"MEG\" / 'sample' / \"sample_audvis_raw.fif\"\n",
    "# fname_raw = 'C:/Users/zhouz\\Downloads/CC110033/rest/rest_raw.fif'\n",
    "# fname_raw = '/home/zhibinz2/Documents/GitHub/CAMCAN_MEG_100/CC120319/rest/rest_raw.fif'\n",
    "fname_raw = '../../CAMCAN_MEG_100/CC110033/task/task_raw.fif'\n",
    "info = read_info(fname_raw)\n",
    "fiducials = mne.io.read_fiducials(fname_raw)\n",
    "plot_kwargs = dict(\n",
    "    subject=subject,\n",
    "    subjects_dir=subjects_dir,\n",
    "    surfaces=\"head\",\n",
    "    dig=True,\n",
    "    eeg=[],\n",
    "    meg=\"sensors\",\n",
    "    show_axes=True,\n",
    "    coord_frame=\"meg\",\n",
    ")\n",
    "view_kwargs = dict(azimuth=45, elevation=90, distance=0.6, focalpoint=(0.0, 0.0, 0.0))\n",
    "\n",
    "#     surfaces=\"head-dense\"\n"
   ]
  },
  {
   "cell_type": "code",
   "execution_count": null,
   "metadata": {},
   "outputs": [],
   "source": [
    "type(fiducials[0])"
   ]
  },
  {
   "cell_type": "code",
   "execution_count": null,
   "metadata": {},
   "outputs": [],
   "source": [
    "info['dig']"
   ]
  },
  {
   "cell_type": "code",
   "execution_count": null,
   "metadata": {},
   "outputs": [],
   "source": [
    "# fiducials = \"estimated\"  # get fiducials from fsaverage\n",
    "coreg = Coregistration(info, subject, subjects_dir, fiducials=fiducials[0])\n",
    "fig = mne.viz.plot_alignment(info, trans=coreg.trans, **plot_kwargs)"
   ]
  },
  {
   "cell_type": "code",
   "execution_count": null,
   "metadata": {},
   "outputs": [],
   "source": [
    "coreg.fit_fiducials(verbose=True)\n",
    "fig = mne.viz.plot_alignment(info, trans=coreg.trans, **plot_kwargs)"
   ]
  },
  {
   "cell_type": "code",
   "execution_count": null,
   "metadata": {},
   "outputs": [],
   "source": [
    "coreg.fit_icp(n_iterations=6, nasion_weight=2.0, verbose=True)\n",
    "fig = mne.viz.plot_alignment(info, trans=coreg.trans, **plot_kwargs)"
   ]
  },
  {
   "cell_type": "code",
   "execution_count": null,
   "metadata": {},
   "outputs": [],
   "source": [
    "coreg.omit_head_shape_points(distance=5.0 / 1000)  # distance is in meters"
   ]
  },
  {
   "cell_type": "code",
   "execution_count": null,
   "metadata": {},
   "outputs": [],
   "source": [
    "coreg.fit_icp(n_iterations=20, nasion_weight=10.0, verbose=True)\n",
    "fig = mne.viz.plot_alignment(info, trans=coreg.trans, **plot_kwargs)\n",
    "mne.viz.set_3d_view(fig, **view_kwargs)\n",
    "\n",
    "dists = coreg.compute_dig_mri_distances() * 1e3  # in mm\n",
    "print(\n",
    "    f\"Distance between HSP and MRI (mean/min/max):\\n{np.mean(dists):.2f} mm \"\n",
    "    f\"/ {np.min(dists):.2f} mm / {np.max(dists):.2f} mm\"\n",
    ")"
   ]
  },
  {
   "cell_type": "code",
   "execution_count": null,
   "metadata": {},
   "outputs": [],
   "source": [
    "mne.write_trans('sample_fsaverage_trans.fif', coreg.trans)"
   ]
  },
  {
   "cell_type": "code",
   "execution_count": 1,
   "metadata": {},
   "outputs": [
    {
     "name": "stdout",
     "output_type": "stream",
     "text": [
      "Using pyvistaqt 3d backend.\n",
      "\n"
     ]
    },
    {
     "name": "stderr",
     "output_type": "stream",
     "text": [
      "qt.qpa.plugin: Could not find the Qt platform plugin \"wayland\" in \"\"\n"
     ]
    },
    {
     "name": "stdout",
     "output_type": "stream",
     "text": [
      "    Triangle neighbors and vertex normals...\n",
      "Using low resolution head model in /home/zhibinz2/mne_data/MNE-sample-data/subjects/ANTS6-0Months3T/bem/outer_skin.surf\n",
      "    Triangle neighbors and vertex normals...\n",
      "Using fiducials from: /home/zhibinz2/mne_data/MNE-sample-data/subjects/ANTS6-0Months3T/bem/ANTS6-0Months3T-fiducials.fif.\n",
      "    Triangle neighbors and vertex normals...\n",
      "Using low resolution head model in /home/zhibinz2/mne_data/MNE-sample-data/subjects/ANTS6-0Months3T/bem/outer_skin.surf\n",
      "    Triangle neighbors and vertex normals...\n",
      "Using fiducials from: /home/zhibinz2/mne_data/MNE-sample-data/subjects/ANTS6-0Months3T/bem/ANTS6-0Months3T-fiducials.fif.\n",
      "Loading MRI fiducials from /home/zhibinz2/mne_data/MNE-sample-data/subjects/ANTS6-0Months3T/bem/ANTS6-0Months3T-fiducials.fif... Done!\n",
      "Using outer_skin.surf for head surface.\n",
      "Loading MRI fiducials from /home/zhibinz2/mne_data/MNE-sample-data/subjects/ANTS6-0Months3T/bem/ANTS6-0Months3T-fiducials.fif... Done!\n",
      "Using outer_skin.surf for head surface.\n"
     ]
    },
    {
     "data": {
      "text/plain": [
       "<mne.gui._coreg.CoregistrationUI at 0x7f2bcfad99c0>"
      ]
     },
     "execution_count": 1,
     "metadata": {},
     "output_type": "execute_result"
    }
   ],
   "source": [
    "import mne\n",
    "# data_path = mne.datasets.sample.data_path()\n",
    "# subjects_dir = data_path / \"subjects\"\n",
    "# mne.gui.coregistration(subject='fsaverage', subjects_dir=subjects_dir)\n",
    "mne.gui.coregistration()"
   ]
  }
 ],
 "metadata": {
  "kernelspec": {
   "display_name": "Python 3",
   "language": "python",
   "name": "python3"
  },
  "language_info": {
   "codemirror_mode": {
    "name": "ipython",
    "version": 3
   },
   "file_extension": ".py",
   "mimetype": "text/x-python",
   "name": "python",
   "nbconvert_exporter": "python",
   "pygments_lexer": "ipython3",
   "version": "3.10.8"
  },
  "orig_nbformat": 4
 },
 "nbformat": 4,
 "nbformat_minor": 2
}
