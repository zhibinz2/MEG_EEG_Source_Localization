{
 "cells": [
  {
   "cell_type": "code",
   "execution_count": 1,
   "metadata": {},
   "outputs": [],
   "source": [
    "import numpy as np\n",
    "import mne\n",
    "\n",
    "from hdf5storage import loadmat, savemat \n",
    "from mne.minimum_norm import make_inverse_operator, apply_inverse, compute_source_psd_epochs, write_inverse_operator\n",
    "\n",
    "from matplotlib import pyplot as plt\n"
   ]
  },
  {
   "cell_type": "code",
   "execution_count": 2,
   "metadata": {},
   "outputs": [
    {
     "data": {
      "text/plain": [
       "dict_keys(['__header__', '__version__', '__globals__', 'Fs', 'ch_bad', 'ch_dubious', 'ch_labels', 'chanlocs', 'preprocessed_eeg', 'subject_ID'])"
      ]
     },
     "execution_count": 2,
     "metadata": {},
     "output_type": "execute_result"
    }
   ],
   "source": [
    "outdict=loadmat('preprocessed_eeg.mat')\n",
    "outdict.keys()"
   ]
  },
  {
   "cell_type": "code",
   "execution_count": 3,
   "metadata": {},
   "outputs": [],
   "source": [
    "preprocessed_eeg=outdict['preprocessed_eeg']*0.000001 # reduce the amplitube to be shown on MNE's plot\n",
    "sampling_freq=outdict['Fs'][0]\n",
    "ch_bad=outdict['ch_bad'][0]-1\n",
    "ch_dubious=outdict['ch_dubious'][0]-1\n",
    "subject_ID=outdict['subject_ID'][0]\n",
    "\n",
    "n_channels=np.shape(preprocessed_eeg)[0]\n",
    "ch_info_bads=np.concatenate((ch_bad, ch_dubious), axis=0)\n",
    "ch_info_bads=np.unique(ch_info_bads)"
   ]
  },
  {
   "cell_type": "code",
   "execution_count": 4,
   "metadata": {},
   "outputs": [
    {
     "name": "stdout",
     "output_type": "stream",
     "text": [
      "<Info | 9 non-empty values\n",
      " bads: []\n",
      " ch_names: E1, E2, E3, E4, E5, E6, E7, E8, E9, E10, E11, E12, E13, E14, ...\n",
      " chs: 256 EEG\n",
      " custom_ref_applied: False\n",
      " description: ESCH\n",
      " dig: 259 items (3 Cardinal, 256 EEG)\n",
      " highpass: 0.0 Hz\n",
      " lowpass: 500.0 Hz\n",
      " meas_date: unspecified\n",
      " nchan: 256\n",
      " projs: []\n",
      " sfreq: 1000.0 Hz\n",
      ">\n"
     ]
    }
   ],
   "source": [
    "ch_names = [f\"E{n}\" for n in range(1, 257)]\n",
    "ch_types = [\"eeg\"] * n_channels\n",
    "info = mne.create_info(ch_names, ch_types=ch_types, sfreq=sampling_freq)\n",
    "info.set_montage(\"GSN-HydroCel-256\",match_case=False,match_alias=False,on_missing='raise')\n",
    "info[\"description\"] = subject_ID\n",
    "print(info)"
   ]
  },
  {
   "cell_type": "code",
   "execution_count": 5,
   "metadata": {},
   "outputs": [],
   "source": [
    "outdict=loadmat('./egi_xyz.mat')\n",
    "Coordinates=outdict['Coordianates']/1000\n",
    "for ch in range(3,len(info['dig'])):\n",
    "    info['dig'][ch]['r']=Coordinates[ch-3,:]"
   ]
  },
  {
   "cell_type": "code",
   "execution_count": 6,
   "metadata": {},
   "outputs": [],
   "source": [
    "# mark the bad channels\n",
    "ch_labels_info_bads=list()\n",
    "for k in range(len(ch_info_bads)):\n",
    "    ch_labels_info_bads.append(ch_names[ch_info_bads[k]])\n",
    "\n",
    "info['bads'] = ch_labels_info_bads"
   ]
  },
  {
   "cell_type": "code",
   "execution_count": 7,
   "metadata": {},
   "outputs": [
    {
     "name": "stdout",
     "output_type": "stream",
     "text": [
      "Creating RawArray with float64 data, n_channels=256, n_times=180000\n",
      "    Range : 0 ... 179999 =      0.000 ...   179.999 secs\n",
      "Ready.\n",
      "EEG channel type selected for re-referencing\n",
      "Adding average EEG reference projection.\n",
      "1 projection items deactivated\n",
      "Average reference projection was added, but has not been applied yet. Use the apply_proj method to apply it.\n"
     ]
    },
    {
     "data": {
      "text/html": [
       "<table class=\"table table-hover table-striped table-sm table-responsive small\">\n",
       "    <tr>\n",
       "        <th>Measurement date</th>\n",
       "        \n",
       "        <td>Unknown</td>\n",
       "        \n",
       "    </tr>\n",
       "    <tr>\n",
       "        <th>Experimenter</th>\n",
       "        \n",
       "        <td>Unknown</td>\n",
       "        \n",
       "    </tr>\n",
       "        <th>Participant</th>\n",
       "        \n",
       "        <td>Unknown</td>\n",
       "        \n",
       "    </tr>\n",
       "    <tr>\n",
       "        <th>Digitized points</th>\n",
       "        \n",
       "        <td>259 points</td>\n",
       "        \n",
       "    </tr>\n",
       "    <tr>\n",
       "        <th>Good channels</th>\n",
       "        <td>256 EEG</td>\n",
       "    </tr>\n",
       "    <tr>\n",
       "        <th>Bad channels</th>\n",
       "        <td>E10, E11, E18, E19, E20, E25, E26, E27, E31, E32, E33, E34, E37, E46, E61, E67, E68, E73, E82, E91, E92, E102, E103, E111, E112, E120, E121, E133, E134, E145, E146, E156, E165, E166, E174, E175, E187, E188, E199, E200, E205, E208, E209, E213, E216, E217, E218, E219, E222, E225, E226, E227, E228, E229, E230, E231, E232, E233, E234, E235, E236, E237, E238, E239, E240, E241, E242, E243, E244, E245, E246, E247, E248, E249, E250, E251, E252, E253, E254, E255, E256</td>\n",
       "    </tr>\n",
       "    <tr>\n",
       "        <th>EOG channels</th>\n",
       "        <td>Not available</td>\n",
       "    </tr>\n",
       "    <tr>\n",
       "        <th>ECG channels</th>\n",
       "        <td>Not available</td>\n",
       "    \n",
       "    <tr>\n",
       "        <th>Sampling frequency</th>\n",
       "        <td>1000.00 Hz</td>\n",
       "    </tr>\n",
       "    \n",
       "    \n",
       "    <tr>\n",
       "        <th>Highpass</th>\n",
       "        <td>0.00 Hz</td>\n",
       "    </tr>\n",
       "    \n",
       "    \n",
       "    <tr>\n",
       "        <th>Lowpass</th>\n",
       "        <td>500.00 Hz</td>\n",
       "    </tr>\n",
       "    \n",
       "    \n",
       "    <tr>\n",
       "        <th>Projections</th>\n",
       "        <td>Average EEG reference : off</td>\n",
       "    </tr>\n",
       "    \n",
       "    \n",
       "    <tr>\n",
       "        <th>Duration</th>\n",
       "        <td>00:02:60 (HH:MM:SS)</td>\n",
       "    </tr>\n",
       "</table>"
      ],
      "text/plain": [
       "<RawArray | 256 x 180000 (180.0 s), ~351.9 MB, data loaded>"
      ]
     },
     "execution_count": 7,
     "metadata": {},
     "output_type": "execute_result"
    }
   ],
   "source": [
    "raw = mne.io.RawArray(preprocessed_eeg, info)\n",
    "raw.set_eeg_reference('average', projection=True)\n",
    "# raw.plot(show_scrollbars=False, show_scalebars=False)"
   ]
  },
  {
   "cell_type": "code",
   "execution_count": 8,
   "metadata": {},
   "outputs": [
    {
     "name": "stdout",
     "output_type": "stream",
     "text": [
      "Overwriting existing file.\n",
      "Writing /home/zhibinz2/Documents/GitHub/MEG_EEG_Source_Localization/EEG_spacing_ESCH/raw.fif\n",
      "Closing /home/zhibinz2/Documents/GitHub/MEG_EEG_Source_Localization/EEG_spacing_ESCH/raw.fif\n",
      "[done]\n"
     ]
    }
   ],
   "source": [
    "raw.save(\"raw.fif\",overwrite=True)"
   ]
  },
  {
   "attachments": {},
   "cell_type": "markdown",
   "metadata": {},
   "source": [
    "forward solution"
   ]
  },
  {
   "cell_type": "code",
   "execution_count": 9,
   "metadata": {},
   "outputs": [
    {
     "name": "stdout",
     "output_type": "stream",
     "text": [
      "Setting up the source space with the following parameters:\n",
      "\n",
      "SUBJECTS_DIR = /home/zhibinz2/Documents/GitHub/MEG_EEG_Source_Localization/EEG_spacing_ESCH/../../archive/subjects\n",
      "Subject      = fsaverage\n",
      "Surface      = white\n",
      "Icosahedron subdivision grade 2\n",
      "\n",
      ">>> 1. Creating the source space...\n",
      "\n",
      "Doing the icosahedral vertex picking...\n",
      "Loading /home/zhibinz2/Documents/GitHub/MEG_EEG_Source_Localization/EEG_spacing_ESCH/../../archive/subjects/fsaverage/surf/lh.white...\n",
      "Mapping lh fsaverage -> ico (2) ...\n",
      "    Warning: zero size triangles: [3 4]\n",
      "    Triangle neighbors and vertex normals...\n",
      "Loading geometry from /home/zhibinz2/Documents/GitHub/MEG_EEG_Source_Localization/EEG_spacing_ESCH/../../archive/subjects/fsaverage/surf/lh.sphere...\n",
      "Setting up the triangulation for the decimated surface...\n",
      "loaded lh.white 162/163842 selected to source space (ico = 2)\n",
      "\n",
      "Loading /home/zhibinz2/Documents/GitHub/MEG_EEG_Source_Localization/EEG_spacing_ESCH/../../archive/subjects/fsaverage/surf/rh.white...\n",
      "Mapping rh fsaverage -> ico (2) ...\n",
      "    Warning: zero size triangles: [3 4]\n",
      "    Triangle neighbors and vertex normals...\n",
      "Loading geometry from /home/zhibinz2/Documents/GitHub/MEG_EEG_Source_Localization/EEG_spacing_ESCH/../../archive/subjects/fsaverage/surf/rh.sphere...\n",
      "Setting up the triangulation for the decimated surface...\n",
      "loaded rh.white 162/163842 selected to source space (ico = 2)\n",
      "\n",
      "Calculating patch information (limit=0.0 mm)...\n",
      "    Computing patch statistics...\n",
      "    Patch information added...\n",
      "    Computing patch statistics...\n",
      "    Patch information added...\n",
      "You are now one step closer to computing the gain matrix\n",
      "Creating the BEM geometry...\n",
      "Going from 5th to 2th subdivision of an icosahedron (n_tri: 20480 -> 320)\n",
      "Going from 5th to 2th subdivision of an icosahedron (n_tri: 20480 -> 320)\n",
      "Going from 5th to 2th subdivision of an icosahedron (n_tri: 20480 -> 320)\n",
      "outer skin  CM is  -0.23 -19.38  -0.25 mm\n",
      "outer skull CM is  -0.19 -19.35  -0.51 mm\n",
      "inner skull CM is  -0.55 -21.08   6.19 mm\n",
      "Checking that surface outer skull is inside surface outer skin  ...\n",
      "Checking that surface inner skull is inside surface outer skull ...\n",
      "Checking distance between outer skin  and outer skull surfaces...\n",
      "Minimum distance between the outer skin  and outer skull surfaces is approximately    1.6 mm\n",
      "Checking distance between outer skull and inner skull surfaces...\n",
      "Minimum distance between the outer skull and inner skull surfaces is approximately    6.0 mm\n",
      "Surfaces passed the basic topology checks.\n",
      "Complete.\n",
      "\n",
      "Three-layer model surfaces loaded.\n",
      "Computing the linear collocation solution...\n",
      "    Matrix coefficients...\n",
      "        outer skin  (162) -> outer skin  (162) ...\n",
      "        outer skin  (162) -> outer skull (162) ...\n",
      "        outer skin  (162) -> inner skull (162) ...\n",
      "        outer skull (162) -> outer skin  (162) ...\n",
      "        outer skull (162) -> outer skull (162) ...\n",
      "        outer skull (162) -> inner skull (162) ...\n",
      "        inner skull (162) -> outer skin  (162) ...\n",
      "        inner skull (162) -> outer skull (162) ...\n",
      "        inner skull (162) -> inner skull (162) ...\n",
      "    Inverting the coefficient matrix...\n",
      "IP approach required...\n",
      "    Matrix coefficients (homog)...\n",
      "        inner skull (162) -> inner skull (162) ...\n",
      "    Inverting the coefficient matrix (homog)...\n",
      "    Modify the original solution to incorporate IP approach...\n",
      "        Combining...\n",
      "        Scaling...\n",
      "Solution ready.\n",
      "BEM geometry computations complete.\n",
      "Source space          : <SourceSpaces: [<surface (lh), n_vertices=163842, n_used=162>, <surface (rh), n_vertices=163842, n_used=162>] MRI (surface RAS) coords, subject 'fsaverage', ~30.1 MB>\n",
      "MRI -> head transform : ./egi_trans.fif\n",
      "Measurement data      : raw.fif\n",
      "Conductor model   : instance of ConductorModel\n",
      "Accurate field computations\n",
      "Do computations in head coordinates\n",
      "Free source orientations\n",
      "\n",
      "Read 2 source spaces a total of 324 active source locations\n",
      "\n",
      "Coordinate transformation: MRI (surface RAS) -> head\n",
      "     1.000000  0.000000  0.000000       0.00 mm\n",
      "     0.000000  1.000000  0.000000      14.00 mm\n",
      "     0.000000  0.000000  1.000000      34.00 mm\n",
      "     0.000000  0.000000  0.000000       1.00\n",
      "\n",
      "Read 256 EEG channels from info\n",
      "Head coordinate coil definitions created.\n",
      "Source spaces are now in head coordinates.\n",
      "\n",
      "Employing the head->MRI coordinate transform with the BEM model.\n",
      "BEM model instance of ConductorModel is now set up\n",
      "\n",
      "Source spaces are in head coordinates.\n",
      "Checking that the sources are inside the surface and at least    5.0 mm away (will take a few...)\n",
      "Checking surface interior status for 162 points...\n",
      "    Found  40/162 points inside  an interior sphere of radius   48.9 mm\n",
      "    Found   0/162 points outside an exterior sphere of radius   97.8 mm\n",
      "    Found   0/122 points outside using surface Qhull\n"
     ]
    },
    {
     "name": "stderr",
     "output_type": "stream",
     "text": [
      "[Parallel(n_jobs=2)]: Using backend LokyBackend with 2 concurrent workers.\n"
     ]
    },
    {
     "name": "stdout",
     "output_type": "stream",
     "text": [
      "    Found   0/122 points outside using solid angles\n",
      "    Total 162/162 points inside the surface\n",
      "Interior check completed in 15751.3 ms\n",
      "Checking surface interior status for 162 points...\n",
      "    Found  38/162 points inside  an interior sphere of radius   48.9 mm\n",
      "    Found   0/162 points outside an exterior sphere of radius   97.8 mm\n",
      "    Found   0/124 points outside using surface Qhull\n",
      "    Found   0/124 points outside using solid angles\n",
      "    Total 162/162 points inside the surface\n",
      "Interior check completed in 27.2 ms\n",
      "\n",
      "Setting up for EEG...\n"
     ]
    },
    {
     "name": "stderr",
     "output_type": "stream",
     "text": [
      "[Parallel(n_jobs=2)]: Done   2 out of   2 | elapsed:   15.7s remaining:    0.0s\n",
      "[Parallel(n_jobs=2)]: Done   2 out of   2 | elapsed:   15.7s finished\n",
      "[Parallel(n_jobs=2)]: Using backend LokyBackend with 2 concurrent workers.\n",
      "[Parallel(n_jobs=2)]: Done   2 out of   2 | elapsed:    0.0s remaining:    0.0s\n",
      "[Parallel(n_jobs=2)]: Done   2 out of   2 | elapsed:    0.0s finished\n"
     ]
    },
    {
     "name": "stdout",
     "output_type": "stream",
     "text": [
      "Computing EEG at 324 source locations (free orientations)...\n",
      "\n",
      "Finished.\n",
      "<Forward | MEG channels: 0 | EEG channels: 256 | Source space: Surface with 324 vertices | Source orientation: Free>\n"
     ]
    },
    {
     "name": "stderr",
     "output_type": "stream",
     "text": [
      "[Parallel(n_jobs=2)]: Using backend LokyBackend with 2 concurrent workers.\n",
      "[Parallel(n_jobs=2)]: Done   2 out of   2 | elapsed:    0.2s remaining:    0.0s\n",
      "[Parallel(n_jobs=2)]: Done   2 out of   2 | elapsed:    0.2s finished\n"
     ]
    }
   ],
   "source": [
    "# the raw file containing the channel location + types\n",
    "raw_fname = './raw.fif'\n",
    "\n",
    "# The paths to Freesurfer reconstructions\n",
    "subjects_dir ='../../archive/subjects/'\n",
    "subject = 'fsaverage' # change it to use freesurfer's bem\n",
    "\n",
    "# Compute Source Space (surface)\n",
    "# ico = 2 #**************************************************************\n",
    "spacing='ico'+str(ico) \n",
    "src = mne.setup_source_space(subject, spacing=spacing, add_dist='patch',\n",
    "                             subjects_dir=subjects_dir)\n",
    "\n",
    "conductivity = (0.3, 0.0075, 0.3)  #  three layers for EEG (MNE default  (0.3 0.006 0.3) )\n",
    "model = mne.make_bem_model(subject=subject, ico=ico,\n",
    "                           conductivity=conductivity,\n",
    "                           subjects_dir=subjects_dir)\n",
    "bem = mne.make_bem_solution(model)\n",
    "\n",
    "trans = './egi_trans.fif'\n",
    "\n",
    "fwd = mne.make_forward_solution(raw_fname, trans=trans, src=src, bem=bem,\n",
    "                                meg=False, eeg=True, mindist=5.0, n_jobs=2,\n",
    "                                verbose=True)\n",
    "print(fwd)\n"
   ]
  },
  {
   "cell_type": "code",
   "execution_count": 10,
   "metadata": {},
   "outputs": [
    {
     "data": {
      "text/plain": [
       "<SourceSpaces: [<surface (lh), n_vertices=163842, n_used=162>, <surface (rh), n_vertices=163842, n_used=162>] MRI (surface RAS) coords, subject 'fsaverage', ~30.1 MB>"
      ]
     },
     "execution_count": 10,
     "metadata": {},
     "output_type": "execute_result"
    }
   ],
   "source": [
    "src"
   ]
  },
  {
   "cell_type": "code",
   "execution_count": null,
   "metadata": {},
   "outputs": [],
   "source": [
    "fwd_fixed = mne.convert_forward_solution(fwd, surf_ori=True, force_fixed=True,\n",
    "                                         use_cps=True)\n",
    "leadfield = fwd_fixed['sol']['data']\n",
    "source_rr=fwd_fixed['source_rr']\n",
    "print(\"Leadfield size : %d sensors x %d dipoles\" % leadfield.shape)"
   ]
  },
  {
   "cell_type": "code",
   "execution_count": null,
   "metadata": {},
   "outputs": [],
   "source": [
    "mne.write_forward_solution('fwd.fif', fwd_fixed, overwrite=True, verbose=None)"
   ]
  },
  {
   "attachments": {},
   "cell_type": "markdown",
   "metadata": {},
   "source": [
    "inv"
   ]
  },
  {
   "cell_type": "code",
   "execution_count": null,
   "metadata": {},
   "outputs": [],
   "source": [
    "# use the entire data as empty room noise\n",
    "noise_cov = mne.compute_raw_covariance(raw)\n",
    "noise_cov_mat=noise_cov['data']# it only included the good chans\n",
    "# compute the average of the diagonal\n",
    "# construct the scale of the noise cov\n",
    "# scale=0.05 # 1% 5% 10% 30% 50% *******************************************************************************\n",
    "scale_ave=np.mean(noise_cov_mat.diagonal())*scale\n",
    "sim_cov_mat=np.zeros((np.shape(noise_cov_mat)))\n",
    "for i in range(np.shape(sim_cov_mat)[0]):\n",
    "       sim_cov_mat[i,i]=scale_ave\n"
   ]
  },
  {
   "cell_type": "code",
   "execution_count": null,
   "metadata": {},
   "outputs": [],
   "source": [
    "# plt.imshow(noise_cov_mat,vmin=-1.5e-10, vmax=1.5e-10, cmap='jet')\n",
    "# plt.colorbar()\n",
    "# np.mean(noise_cov_mat.diagonal())"
   ]
  },
  {
   "cell_type": "code",
   "execution_count": null,
   "metadata": {},
   "outputs": [],
   "source": [
    "sim_cov=noise_cov.copy()\n",
    "sim_cov['data']=sim_cov_mat\n",
    "# mne.write_cov('sim_cov.fif', sim_cov, overwrite=True, verbose=None)"
   ]
  },
  {
   "cell_type": "code",
   "execution_count": null,
   "metadata": {},
   "outputs": [],
   "source": [
    "nepochs=int(np.floor(np.shape(preprocessed_eeg)[1]/sampling_freq))\n",
    "epochs_mat = np.column_stack(\n",
    "    (\n",
    "        np.arange(0, np.shape(preprocessed_eeg)[1], sampling_freq),\n",
    "        np.zeros(nepochs, dtype=int),\n",
    "        np.array([1]*nepochs),\n",
    "    )\n",
    ")\n",
    "\n",
    "epoch_dict = dict(resting=1)\n",
    "epochs = mne.Epochs(raw, epochs_mat, tmin=0, tmax=0.999, event_id=epoch_dict, preload=True, baseline=(None, None))\n",
    "\n",
    "evoked = epochs[\"resting\"].average()\n",
    "mne.write_evokeds('resting_ave.fif', evoked, on_mismatch='raise', overwrite=True, verbose=None)\n",
    "evokeds = mne.read_evokeds('./resting_ave.fif')\n",
    "resting = evokeds[0]"
   ]
  },
  {
   "cell_type": "code",
   "execution_count": null,
   "metadata": {},
   "outputs": [],
   "source": [
    "# fwd = mne.read_forward_solution('fwd.fif')\n",
    "mne.convert_forward_solution(fwd, surf_ori=True, copy=False)"
   ]
  },
  {
   "cell_type": "code",
   "execution_count": null,
   "metadata": {},
   "outputs": [],
   "source": [
    "# Compute the source estimate (Fixed dipole orientations)\n",
    "# depth=0.8 # 0.8 1 2 4 ***************************************************************************************\n",
    "inverse_operator = make_inverse_operator(resting.info, fwd, sim_cov, depth=depth, fixed=True)\n",
    "# save the inverse operator and the inverse matrix\n",
    "# write_inverse_operator('inv.fif', inverse_operator,overwrite=True)"
   ]
  },
  {
   "cell_type": "code",
   "execution_count": null,
   "metadata": {},
   "outputs": [],
   "source": [
    "%run extract_invmat.ipynb # run this script to load the functions needed to extract inverse matrix"
   ]
  },
  {
   "cell_type": "code",
   "execution_count": null,
   "metadata": {},
   "outputs": [],
   "source": [
    "method = \"MNE\"  # (could also be dSPM or sLORETA)\n",
    "invmat=_get_matrix_from_inverse_operator(inverse_operator,fwd,method=method,lambda2=1.0/9.0)\n",
    "np.shape(invmat)"
   ]
  },
  {
   "attachments": {},
   "cell_type": "markdown",
   "metadata": {},
   "source": [
    "Correlation"
   ]
  },
  {
   "cell_type": "code",
   "execution_count": null,
   "metadata": {},
   "outputs": [],
   "source": [
    "# remove bad channels from the original eeg\n",
    "original_eeg=np.delete(preprocessed_eeg,ch_info_bads,0)"
   ]
  },
  {
   "cell_type": "code",
   "execution_count": null,
   "metadata": {},
   "outputs": [],
   "source": [
    "# reconstruct eeg using invmat and leadfield matrix\n",
    "source_data=np.matmul(invmat,original_eeg)\n",
    "EEG_recon=np.matmul(leadfield,source_data)"
   ]
  },
  {
   "cell_type": "code",
   "execution_count": null,
   "metadata": {},
   "outputs": [],
   "source": [
    "# remove bad channels from the reconstructed eeg\n",
    "EEG_recon=np.delete(EEG_recon,ch_info_bads,0)"
   ]
  },
  {
   "cell_type": "code",
   "execution_count": null,
   "metadata": {},
   "outputs": [],
   "source": [
    "# plt.plot(np.arange(0,np.shape(EEG_recon)[1],1),EEG_recon.transpose())\n",
    "# plt.title('reconstructed EEG - all chan')\n",
    "# plt.ylim([-2e-5,2e-5])\n",
    "# # 16 s"
   ]
  },
  {
   "cell_type": "code",
   "execution_count": null,
   "metadata": {},
   "outputs": [],
   "source": [
    "# plt.plot(np.arange(0,np.shape(EEG_recon)[1],1),EEG_recon[ch_dubious,:].transpose())\n",
    "# plt.title('reconstructed EEG - dubious chan')\n",
    "# plt.ylim([-2e-5,2e-5])"
   ]
  },
  {
   "cell_type": "code",
   "execution_count": null,
   "metadata": {},
   "outputs": [],
   "source": [
    "# plt.plot(np.arange(0,np.shape(EEG_recon)[1],1),EEG_recon[ch_bad,:].transpose())\n",
    "# plt.title('reconstructed EEG - bad chan')\n",
    "# plt.ylim([-2e-5,2e-5])"
   ]
  },
  {
   "cell_type": "code",
   "execution_count": null,
   "metadata": {},
   "outputs": [],
   "source": [
    "# compute correlation\n",
    "corr = np.corrcoef(EEG_recon, original_eeg, rowvar=True)"
   ]
  },
  {
   "cell_type": "code",
   "execution_count": null,
   "metadata": {},
   "outputs": [],
   "source": [
    "# np.arange(0,np.shape(EEG_recon)[0],1)+194"
   ]
  },
  {
   "cell_type": "code",
   "execution_count": null,
   "metadata": {},
   "outputs": [],
   "source": [
    "# corr=corr[np.arange(0,np.shape(EEG_recon)[0],1)]"
   ]
  },
  {
   "cell_type": "code",
   "execution_count": null,
   "metadata": {},
   "outputs": [],
   "source": [
    "# np.shape(corr)"
   ]
  },
  {
   "cell_type": "code",
   "execution_count": null,
   "metadata": {},
   "outputs": [],
   "source": [
    "# corr=corr[:,np.arange(194,388,1)]"
   ]
  },
  {
   "cell_type": "code",
   "execution_count": null,
   "metadata": {},
   "outputs": [],
   "source": [
    "# plt.imshow(corr,cmap='jet',vmin=-1,vmax=1)\n",
    "# plt.ylabel('reconstructed EEG (194 good channels)')\n",
    "# plt.xlabel('original EEG (194 good channels)')\n",
    "# plt.title('correlation')\n",
    "# plt.colorbar()"
   ]
  },
  {
   "cell_type": "code",
   "execution_count": null,
   "metadata": {},
   "outputs": [],
   "source": [
    "plt.imshow(corr,cmap='jet',vmin=-1,vmax=1)\n",
    "plt.colorbar()\n",
    "plt.title('corrceof: ico' + str(ico) + ' scale ' +str(scale) +' depth '+ str(depth))"
   ]
  },
  {
   "cell_type": "code",
   "execution_count": null,
   "metadata": {},
   "outputs": [],
   "source": [
    "corrcoef_diag=np.zeros((np.shape(EEG_recon)[0]))\n",
    "for i in range(np.shape(EEG_recon)[0]):\n",
    "    corrcoef_diag[i]=corr[i,np.shape(EEG_recon)[0]+i]\n",
    "plt.plot(np.arange(0, np.shape(EEG_recon)[0],1) ,corrcoef_diag, 'r.')\n",
    "plt.title('corrceof: ico' + str(ico) + ' scale ' +str(scale) +' depth '+ str(depth))\n",
    "plt.xlabel('good channels')\n",
    "plt.ylabel('corrcoef')"
   ]
  },
  {
   "cell_type": "code",
   "execution_count": null,
   "metadata": {},
   "outputs": [],
   "source": [
    "# # save outputs all in one mat file. \n",
    "# outdict=dict()\n",
    "# outdict['leadfield']=leadfield # leadfield matrix\n",
    "# outdict['invmat']=invmat #  inverse matrix\n",
    "# outdict['source_rr']=source_rr # the source location AND labels (matlab)\n",
    "# outdict['sim_cov_mat']=sim_cov_mat # noise covariance\n",
    "# outdict['scale']=scale # scale\n",
    "# outdict['depth']=depth # depth\n",
    "# outdict['conductivity']=conductivity # 3 layrs conductivity\n",
    "\n",
    "\n",
    "# outdict['ch_bad']=ch_bad #  inverse matrix\n",
    "# outdict['ch_dubious']=ch_dubious # \n",
    "# outdict['ch_names']=ch_names #  \n",
    "# outdict['Coordinates']=Coordinates #  \n",
    "# outdict['corrcoef_diag']=corrcoef_diag #  \n",
    "# outdict['subject_ID']=subject_ID #  \n",
    "\n",
    "# savemat(subject_ID+'_scale_'+str(scale)+'_depth_'+str(depth),outdict)"
   ]
  }
 ],
 "metadata": {
  "kernelspec": {
   "display_name": "mne",
   "language": "python",
   "name": "python3"
  },
  "language_info": {
   "codemirror_mode": {
    "name": "ipython",
    "version": 3
   },
   "file_extension": ".py",
   "mimetype": "text/x-python",
   "name": "python",
   "nbconvert_exporter": "python",
   "pygments_lexer": "ipython3",
   "version": "3.10.8"
  },
  "orig_nbformat": 4
 },
 "nbformat": 4,
 "nbformat_minor": 2
}
